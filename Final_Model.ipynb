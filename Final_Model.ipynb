{
 "cells": [
  {
   "cell_type": "code",
   "execution_count": 1,
   "id": "d33044a2-8931-48b7-92a2-e7816d4dbaca",
   "metadata": {
    "collapsed": true,
    "jupyter": {
     "outputs_hidden": true
    },
    "tags": []
   },
   "outputs": [
    {
     "name": "stdout",
     "output_type": "stream",
     "text": [
      "Requirement already satisfied: google-cloud-aiplatform in /opt/conda/lib/python3.10/site-packages (1.39.0)\n",
      "Requirement already satisfied: google-api-core!=2.0.*,!=2.1.*,!=2.2.*,!=2.3.*,!=2.4.*,!=2.5.*,!=2.6.*,!=2.7.*,<3.0.0dev,>=1.32.0 in /opt/conda/lib/python3.10/site-packages (from google-api-core[grpc]!=2.0.*,!=2.1.*,!=2.2.*,!=2.3.*,!=2.4.*,!=2.5.*,!=2.6.*,!=2.7.*,<3.0.0dev,>=1.32.0->google-cloud-aiplatform) (1.34.0)\n",
      "Requirement already satisfied: proto-plus<2.0.0dev,>=1.22.0 in /opt/conda/lib/python3.10/site-packages (from google-cloud-aiplatform) (1.23.0)\n",
      "Requirement already satisfied: protobuf!=3.20.0,!=3.20.1,!=4.21.0,!=4.21.1,!=4.21.2,!=4.21.3,!=4.21.4,!=4.21.5,<5.0.0dev,>=3.19.5 in /opt/conda/lib/python3.10/site-packages (from google-cloud-aiplatform) (3.20.3)\n",
      "Requirement already satisfied: packaging>=14.3 in /opt/conda/lib/python3.10/site-packages (from google-cloud-aiplatform) (23.2)\n",
      "Requirement already satisfied: google-cloud-storage<3.0.0dev,>=1.32.0 in /opt/conda/lib/python3.10/site-packages (from google-cloud-aiplatform) (2.14.0)\n",
      "Requirement already satisfied: google-cloud-bigquery<4.0.0dev,>=1.15.0 in ./.local/lib/python3.10/site-packages (from google-cloud-aiplatform) (3.17.2)\n",
      "Requirement already satisfied: google-cloud-resource-manager<3.0.0dev,>=1.3.3 in /opt/conda/lib/python3.10/site-packages (from google-cloud-aiplatform) (1.11.0)\n",
      "Requirement already satisfied: shapely<3.0.0dev in /opt/conda/lib/python3.10/site-packages (from google-cloud-aiplatform) (2.0.2)\n",
      "Requirement already satisfied: googleapis-common-protos<2.0dev,>=1.56.2 in /opt/conda/lib/python3.10/site-packages (from google-api-core!=2.0.*,!=2.1.*,!=2.2.*,!=2.3.*,!=2.4.*,!=2.5.*,!=2.6.*,!=2.7.*,<3.0.0dev,>=1.32.0->google-api-core[grpc]!=2.0.*,!=2.1.*,!=2.2.*,!=2.3.*,!=2.4.*,!=2.5.*,!=2.6.*,!=2.7.*,<3.0.0dev,>=1.32.0->google-cloud-aiplatform) (1.62.0)\n",
      "Requirement already satisfied: google-auth<3.0dev,>=1.25.0 in /opt/conda/lib/python3.10/site-packages (from google-api-core!=2.0.*,!=2.1.*,!=2.2.*,!=2.3.*,!=2.4.*,!=2.5.*,!=2.6.*,!=2.7.*,<3.0.0dev,>=1.32.0->google-api-core[grpc]!=2.0.*,!=2.1.*,!=2.2.*,!=2.3.*,!=2.4.*,!=2.5.*,!=2.6.*,!=2.7.*,<3.0.0dev,>=1.32.0->google-cloud-aiplatform) (2.26.2)\n",
      "Requirement already satisfied: requests<3.0.0dev,>=2.18.0 in /opt/conda/lib/python3.10/site-packages (from google-api-core!=2.0.*,!=2.1.*,!=2.2.*,!=2.3.*,!=2.4.*,!=2.5.*,!=2.6.*,!=2.7.*,<3.0.0dev,>=1.32.0->google-api-core[grpc]!=2.0.*,!=2.1.*,!=2.2.*,!=2.3.*,!=2.4.*,!=2.5.*,!=2.6.*,!=2.7.*,<3.0.0dev,>=1.32.0->google-cloud-aiplatform) (2.31.0)\n",
      "Requirement already satisfied: grpcio<2.0dev,>=1.33.2 in /opt/conda/lib/python3.10/site-packages (from google-api-core[grpc]!=2.0.*,!=2.1.*,!=2.2.*,!=2.3.*,!=2.4.*,!=2.5.*,!=2.6.*,!=2.7.*,<3.0.0dev,>=1.32.0->google-cloud-aiplatform) (1.60.0)\n",
      "Requirement already satisfied: grpcio-status<2.0dev,>=1.33.2 in /opt/conda/lib/python3.10/site-packages (from google-api-core[grpc]!=2.0.*,!=2.1.*,!=2.2.*,!=2.3.*,!=2.4.*,!=2.5.*,!=2.6.*,!=2.7.*,<3.0.0dev,>=1.32.0->google-cloud-aiplatform) (1.48.2)\n",
      "Requirement already satisfied: google-cloud-core<3.0.0dev,>=1.6.0 in /opt/conda/lib/python3.10/site-packages (from google-cloud-bigquery<4.0.0dev,>=1.15.0->google-cloud-aiplatform) (2.4.1)\n",
      "Requirement already satisfied: google-resumable-media<3.0dev,>=0.6.0 in /opt/conda/lib/python3.10/site-packages (from google-cloud-bigquery<4.0.0dev,>=1.15.0->google-cloud-aiplatform) (2.7.0)\n",
      "Requirement already satisfied: python-dateutil<3.0dev,>=2.7.2 in /opt/conda/lib/python3.10/site-packages (from google-cloud-bigquery<4.0.0dev,>=1.15.0->google-cloud-aiplatform) (2.8.2)\n",
      "Requirement already satisfied: grpc-google-iam-v1<1.0.0dev,>=0.12.4 in /opt/conda/lib/python3.10/site-packages (from google-cloud-resource-manager<3.0.0dev,>=1.3.3->google-cloud-aiplatform) (0.13.0)\n",
      "Requirement already satisfied: google-crc32c<2.0dev,>=1.0 in /opt/conda/lib/python3.10/site-packages (from google-cloud-storage<3.0.0dev,>=1.32.0->google-cloud-aiplatform) (1.5.0)\n",
      "Requirement already satisfied: numpy>=1.14 in /opt/conda/lib/python3.10/site-packages (from shapely<3.0.0dev->google-cloud-aiplatform) (1.25.2)\n",
      "Requirement already satisfied: cachetools<6.0,>=2.0.0 in /opt/conda/lib/python3.10/site-packages (from google-auth<3.0dev,>=1.25.0->google-api-core!=2.0.*,!=2.1.*,!=2.2.*,!=2.3.*,!=2.4.*,!=2.5.*,!=2.6.*,!=2.7.*,<3.0.0dev,>=1.32.0->google-api-core[grpc]!=2.0.*,!=2.1.*,!=2.2.*,!=2.3.*,!=2.4.*,!=2.5.*,!=2.6.*,!=2.7.*,<3.0.0dev,>=1.32.0->google-cloud-aiplatform) (5.3.2)\n",
      "Requirement already satisfied: pyasn1-modules>=0.2.1 in /opt/conda/lib/python3.10/site-packages (from google-auth<3.0dev,>=1.25.0->google-api-core!=2.0.*,!=2.1.*,!=2.2.*,!=2.3.*,!=2.4.*,!=2.5.*,!=2.6.*,!=2.7.*,<3.0.0dev,>=1.32.0->google-api-core[grpc]!=2.0.*,!=2.1.*,!=2.2.*,!=2.3.*,!=2.4.*,!=2.5.*,!=2.6.*,!=2.7.*,<3.0.0dev,>=1.32.0->google-cloud-aiplatform) (0.3.0)\n",
      "Requirement already satisfied: rsa<5,>=3.1.4 in /opt/conda/lib/python3.10/site-packages (from google-auth<3.0dev,>=1.25.0->google-api-core!=2.0.*,!=2.1.*,!=2.2.*,!=2.3.*,!=2.4.*,!=2.5.*,!=2.6.*,!=2.7.*,<3.0.0dev,>=1.32.0->google-api-core[grpc]!=2.0.*,!=2.1.*,!=2.2.*,!=2.3.*,!=2.4.*,!=2.5.*,!=2.6.*,!=2.7.*,<3.0.0dev,>=1.32.0->google-cloud-aiplatform) (4.9)\n",
      "Requirement already satisfied: six>=1.5 in /opt/conda/lib/python3.10/site-packages (from python-dateutil<3.0dev,>=2.7.2->google-cloud-bigquery<4.0.0dev,>=1.15.0->google-cloud-aiplatform) (1.16.0)\n",
      "Requirement already satisfied: charset-normalizer<4,>=2 in /opt/conda/lib/python3.10/site-packages (from requests<3.0.0dev,>=2.18.0->google-api-core!=2.0.*,!=2.1.*,!=2.2.*,!=2.3.*,!=2.4.*,!=2.5.*,!=2.6.*,!=2.7.*,<3.0.0dev,>=1.32.0->google-api-core[grpc]!=2.0.*,!=2.1.*,!=2.2.*,!=2.3.*,!=2.4.*,!=2.5.*,!=2.6.*,!=2.7.*,<3.0.0dev,>=1.32.0->google-cloud-aiplatform) (3.3.2)\n",
      "Requirement already satisfied: idna<4,>=2.5 in /opt/conda/lib/python3.10/site-packages (from requests<3.0.0dev,>=2.18.0->google-api-core!=2.0.*,!=2.1.*,!=2.2.*,!=2.3.*,!=2.4.*,!=2.5.*,!=2.6.*,!=2.7.*,<3.0.0dev,>=1.32.0->google-api-core[grpc]!=2.0.*,!=2.1.*,!=2.2.*,!=2.3.*,!=2.4.*,!=2.5.*,!=2.6.*,!=2.7.*,<3.0.0dev,>=1.32.0->google-cloud-aiplatform) (3.6)\n",
      "Requirement already satisfied: urllib3<3,>=1.21.1 in /opt/conda/lib/python3.10/site-packages (from requests<3.0.0dev,>=2.18.0->google-api-core!=2.0.*,!=2.1.*,!=2.2.*,!=2.3.*,!=2.4.*,!=2.5.*,!=2.6.*,!=2.7.*,<3.0.0dev,>=1.32.0->google-api-core[grpc]!=2.0.*,!=2.1.*,!=2.2.*,!=2.3.*,!=2.4.*,!=2.5.*,!=2.6.*,!=2.7.*,<3.0.0dev,>=1.32.0->google-cloud-aiplatform) (1.26.18)\n",
      "Requirement already satisfied: certifi>=2017.4.17 in /opt/conda/lib/python3.10/site-packages (from requests<3.0.0dev,>=2.18.0->google-api-core!=2.0.*,!=2.1.*,!=2.2.*,!=2.3.*,!=2.4.*,!=2.5.*,!=2.6.*,!=2.7.*,<3.0.0dev,>=1.32.0->google-api-core[grpc]!=2.0.*,!=2.1.*,!=2.2.*,!=2.3.*,!=2.4.*,!=2.5.*,!=2.6.*,!=2.7.*,<3.0.0dev,>=1.32.0->google-cloud-aiplatform) (2023.11.17)\n",
      "Requirement already satisfied: pyasn1<0.6.0,>=0.4.6 in /opt/conda/lib/python3.10/site-packages (from pyasn1-modules>=0.2.1->google-auth<3.0dev,>=1.25.0->google-api-core!=2.0.*,!=2.1.*,!=2.2.*,!=2.3.*,!=2.4.*,!=2.5.*,!=2.6.*,!=2.7.*,<3.0.0dev,>=1.32.0->google-api-core[grpc]!=2.0.*,!=2.1.*,!=2.2.*,!=2.3.*,!=2.4.*,!=2.5.*,!=2.6.*,!=2.7.*,<3.0.0dev,>=1.32.0->google-cloud-aiplatform) (0.5.1)\n",
      "Requirement already satisfied: pyarrow==11.0.0 in ./.local/lib/python3.10/site-packages (11.0.0)\n",
      "Requirement already satisfied: numpy>=1.16.6 in /opt/conda/lib/python3.10/site-packages (from pyarrow==11.0.0) (1.25.2)\n",
      "Requirement already satisfied: google-cloud-bigquery in ./.local/lib/python3.10/site-packages (3.17.2)\n",
      "Requirement already satisfied: google-api-core!=2.0.*,!=2.1.*,!=2.2.*,!=2.3.0,<3.0.0dev,>=1.31.5 in /opt/conda/lib/python3.10/site-packages (from google-cloud-bigquery) (1.34.0)\n",
      "Requirement already satisfied: google-cloud-core<3.0.0dev,>=1.6.0 in /opt/conda/lib/python3.10/site-packages (from google-cloud-bigquery) (2.4.1)\n",
      "Requirement already satisfied: google-resumable-media<3.0dev,>=0.6.0 in /opt/conda/lib/python3.10/site-packages (from google-cloud-bigquery) (2.7.0)\n",
      "Requirement already satisfied: packaging>=20.0.0 in /opt/conda/lib/python3.10/site-packages (from google-cloud-bigquery) (23.2)\n",
      "Requirement already satisfied: python-dateutil<3.0dev,>=2.7.2 in /opt/conda/lib/python3.10/site-packages (from google-cloud-bigquery) (2.8.2)\n",
      "Requirement already satisfied: requests<3.0.0dev,>=2.21.0 in /opt/conda/lib/python3.10/site-packages (from google-cloud-bigquery) (2.31.0)\n",
      "Requirement already satisfied: googleapis-common-protos<2.0dev,>=1.56.2 in /opt/conda/lib/python3.10/site-packages (from google-api-core!=2.0.*,!=2.1.*,!=2.2.*,!=2.3.0,<3.0.0dev,>=1.31.5->google-cloud-bigquery) (1.62.0)\n",
      "Requirement already satisfied: protobuf!=3.20.0,!=3.20.1,!=4.21.0,!=4.21.1,!=4.21.2,!=4.21.3,!=4.21.4,!=4.21.5,<4.0.0dev,>=3.19.5 in /opt/conda/lib/python3.10/site-packages (from google-api-core!=2.0.*,!=2.1.*,!=2.2.*,!=2.3.0,<3.0.0dev,>=1.31.5->google-cloud-bigquery) (3.20.3)\n",
      "Requirement already satisfied: google-auth<3.0dev,>=1.25.0 in /opt/conda/lib/python3.10/site-packages (from google-api-core!=2.0.*,!=2.1.*,!=2.2.*,!=2.3.0,<3.0.0dev,>=1.31.5->google-cloud-bigquery) (2.26.2)\n",
      "Requirement already satisfied: google-crc32c<2.0dev,>=1.0 in /opt/conda/lib/python3.10/site-packages (from google-resumable-media<3.0dev,>=0.6.0->google-cloud-bigquery) (1.5.0)\n",
      "Requirement already satisfied: six>=1.5 in /opt/conda/lib/python3.10/site-packages (from python-dateutil<3.0dev,>=2.7.2->google-cloud-bigquery) (1.16.0)\n",
      "Requirement already satisfied: charset-normalizer<4,>=2 in /opt/conda/lib/python3.10/site-packages (from requests<3.0.0dev,>=2.21.0->google-cloud-bigquery) (3.3.2)\n",
      "Requirement already satisfied: idna<4,>=2.5 in /opt/conda/lib/python3.10/site-packages (from requests<3.0.0dev,>=2.21.0->google-cloud-bigquery) (3.6)\n",
      "Requirement already satisfied: urllib3<3,>=1.21.1 in /opt/conda/lib/python3.10/site-packages (from requests<3.0.0dev,>=2.21.0->google-cloud-bigquery) (1.26.18)\n",
      "Requirement already satisfied: certifi>=2017.4.17 in /opt/conda/lib/python3.10/site-packages (from requests<3.0.0dev,>=2.21.0->google-cloud-bigquery) (2023.11.17)\n",
      "Requirement already satisfied: cachetools<6.0,>=2.0.0 in /opt/conda/lib/python3.10/site-packages (from google-auth<3.0dev,>=1.25.0->google-api-core!=2.0.*,!=2.1.*,!=2.2.*,!=2.3.0,<3.0.0dev,>=1.31.5->google-cloud-bigquery) (5.3.2)\n",
      "Requirement already satisfied: pyasn1-modules>=0.2.1 in /opt/conda/lib/python3.10/site-packages (from google-auth<3.0dev,>=1.25.0->google-api-core!=2.0.*,!=2.1.*,!=2.2.*,!=2.3.0,<3.0.0dev,>=1.31.5->google-cloud-bigquery) (0.3.0)\n",
      "Requirement already satisfied: rsa<5,>=3.1.4 in /opt/conda/lib/python3.10/site-packages (from google-auth<3.0dev,>=1.25.0->google-api-core!=2.0.*,!=2.1.*,!=2.2.*,!=2.3.0,<3.0.0dev,>=1.31.5->google-cloud-bigquery) (4.9)\n",
      "Requirement already satisfied: pyasn1<0.6.0,>=0.4.6 in /opt/conda/lib/python3.10/site-packages (from pyasn1-modules>=0.2.1->google-auth<3.0dev,>=1.25.0->google-api-core!=2.0.*,!=2.1.*,!=2.2.*,!=2.3.0,<3.0.0dev,>=1.31.5->google-cloud-bigquery) (0.5.1)\n",
      "Requirement already satisfied: google-cloud-bigquery-storage in /opt/conda/lib/python3.10/site-packages (2.24.0)\n",
      "Requirement already satisfied: google-api-core!=2.0.*,!=2.1.*,!=2.10.*,!=2.2.*,!=2.3.*,!=2.4.*,!=2.5.*,!=2.6.*,!=2.7.*,!=2.8.*,!=2.9.*,<3.0.0dev,>=1.34.0 in /opt/conda/lib/python3.10/site-packages (from google-api-core[grpc]!=2.0.*,!=2.1.*,!=2.10.*,!=2.2.*,!=2.3.*,!=2.4.*,!=2.5.*,!=2.6.*,!=2.7.*,!=2.8.*,!=2.9.*,<3.0.0dev,>=1.34.0->google-cloud-bigquery-storage) (1.34.0)\n",
      "Requirement already satisfied: proto-plus<2.0.0dev,>=1.22.0 in /opt/conda/lib/python3.10/site-packages (from google-cloud-bigquery-storage) (1.23.0)\n",
      "Requirement already satisfied: protobuf!=3.20.0,!=3.20.1,!=4.21.0,!=4.21.1,!=4.21.2,!=4.21.3,!=4.21.4,!=4.21.5,<5.0.0dev,>=3.19.5 in /opt/conda/lib/python3.10/site-packages (from google-cloud-bigquery-storage) (3.20.3)\n",
      "Requirement already satisfied: googleapis-common-protos<2.0dev,>=1.56.2 in /opt/conda/lib/python3.10/site-packages (from google-api-core!=2.0.*,!=2.1.*,!=2.10.*,!=2.2.*,!=2.3.*,!=2.4.*,!=2.5.*,!=2.6.*,!=2.7.*,!=2.8.*,!=2.9.*,<3.0.0dev,>=1.34.0->google-api-core[grpc]!=2.0.*,!=2.1.*,!=2.10.*,!=2.2.*,!=2.3.*,!=2.4.*,!=2.5.*,!=2.6.*,!=2.7.*,!=2.8.*,!=2.9.*,<3.0.0dev,>=1.34.0->google-cloud-bigquery-storage) (1.62.0)\n",
      "Requirement already satisfied: google-auth<3.0dev,>=1.25.0 in /opt/conda/lib/python3.10/site-packages (from google-api-core!=2.0.*,!=2.1.*,!=2.10.*,!=2.2.*,!=2.3.*,!=2.4.*,!=2.5.*,!=2.6.*,!=2.7.*,!=2.8.*,!=2.9.*,<3.0.0dev,>=1.34.0->google-api-core[grpc]!=2.0.*,!=2.1.*,!=2.10.*,!=2.2.*,!=2.3.*,!=2.4.*,!=2.5.*,!=2.6.*,!=2.7.*,!=2.8.*,!=2.9.*,<3.0.0dev,>=1.34.0->google-cloud-bigquery-storage) (2.26.2)\n",
      "Requirement already satisfied: requests<3.0.0dev,>=2.18.0 in /opt/conda/lib/python3.10/site-packages (from google-api-core!=2.0.*,!=2.1.*,!=2.10.*,!=2.2.*,!=2.3.*,!=2.4.*,!=2.5.*,!=2.6.*,!=2.7.*,!=2.8.*,!=2.9.*,<3.0.0dev,>=1.34.0->google-api-core[grpc]!=2.0.*,!=2.1.*,!=2.10.*,!=2.2.*,!=2.3.*,!=2.4.*,!=2.5.*,!=2.6.*,!=2.7.*,!=2.8.*,!=2.9.*,<3.0.0dev,>=1.34.0->google-cloud-bigquery-storage) (2.31.0)\n",
      "Requirement already satisfied: grpcio<2.0dev,>=1.33.2 in /opt/conda/lib/python3.10/site-packages (from google-api-core[grpc]!=2.0.*,!=2.1.*,!=2.10.*,!=2.2.*,!=2.3.*,!=2.4.*,!=2.5.*,!=2.6.*,!=2.7.*,!=2.8.*,!=2.9.*,<3.0.0dev,>=1.34.0->google-cloud-bigquery-storage) (1.60.0)\n",
      "Requirement already satisfied: grpcio-status<2.0dev,>=1.33.2 in /opt/conda/lib/python3.10/site-packages (from google-api-core[grpc]!=2.0.*,!=2.1.*,!=2.10.*,!=2.2.*,!=2.3.*,!=2.4.*,!=2.5.*,!=2.6.*,!=2.7.*,!=2.8.*,!=2.9.*,<3.0.0dev,>=1.34.0->google-cloud-bigquery-storage) (1.48.2)\n",
      "Requirement already satisfied: cachetools<6.0,>=2.0.0 in /opt/conda/lib/python3.10/site-packages (from google-auth<3.0dev,>=1.25.0->google-api-core!=2.0.*,!=2.1.*,!=2.10.*,!=2.2.*,!=2.3.*,!=2.4.*,!=2.5.*,!=2.6.*,!=2.7.*,!=2.8.*,!=2.9.*,<3.0.0dev,>=1.34.0->google-api-core[grpc]!=2.0.*,!=2.1.*,!=2.10.*,!=2.2.*,!=2.3.*,!=2.4.*,!=2.5.*,!=2.6.*,!=2.7.*,!=2.8.*,!=2.9.*,<3.0.0dev,>=1.34.0->google-cloud-bigquery-storage) (5.3.2)\n",
      "Requirement already satisfied: pyasn1-modules>=0.2.1 in /opt/conda/lib/python3.10/site-packages (from google-auth<3.0dev,>=1.25.0->google-api-core!=2.0.*,!=2.1.*,!=2.10.*,!=2.2.*,!=2.3.*,!=2.4.*,!=2.5.*,!=2.6.*,!=2.7.*,!=2.8.*,!=2.9.*,<3.0.0dev,>=1.34.0->google-api-core[grpc]!=2.0.*,!=2.1.*,!=2.10.*,!=2.2.*,!=2.3.*,!=2.4.*,!=2.5.*,!=2.6.*,!=2.7.*,!=2.8.*,!=2.9.*,<3.0.0dev,>=1.34.0->google-cloud-bigquery-storage) (0.3.0)\n",
      "Requirement already satisfied: rsa<5,>=3.1.4 in /opt/conda/lib/python3.10/site-packages (from google-auth<3.0dev,>=1.25.0->google-api-core!=2.0.*,!=2.1.*,!=2.10.*,!=2.2.*,!=2.3.*,!=2.4.*,!=2.5.*,!=2.6.*,!=2.7.*,!=2.8.*,!=2.9.*,<3.0.0dev,>=1.34.0->google-api-core[grpc]!=2.0.*,!=2.1.*,!=2.10.*,!=2.2.*,!=2.3.*,!=2.4.*,!=2.5.*,!=2.6.*,!=2.7.*,!=2.8.*,!=2.9.*,<3.0.0dev,>=1.34.0->google-cloud-bigquery-storage) (4.9)\n",
      "Requirement already satisfied: charset-normalizer<4,>=2 in /opt/conda/lib/python3.10/site-packages (from requests<3.0.0dev,>=2.18.0->google-api-core!=2.0.*,!=2.1.*,!=2.10.*,!=2.2.*,!=2.3.*,!=2.4.*,!=2.5.*,!=2.6.*,!=2.7.*,!=2.8.*,!=2.9.*,<3.0.0dev,>=1.34.0->google-api-core[grpc]!=2.0.*,!=2.1.*,!=2.10.*,!=2.2.*,!=2.3.*,!=2.4.*,!=2.5.*,!=2.6.*,!=2.7.*,!=2.8.*,!=2.9.*,<3.0.0dev,>=1.34.0->google-cloud-bigquery-storage) (3.3.2)\n",
      "Requirement already satisfied: idna<4,>=2.5 in /opt/conda/lib/python3.10/site-packages (from requests<3.0.0dev,>=2.18.0->google-api-core!=2.0.*,!=2.1.*,!=2.10.*,!=2.2.*,!=2.3.*,!=2.4.*,!=2.5.*,!=2.6.*,!=2.7.*,!=2.8.*,!=2.9.*,<3.0.0dev,>=1.34.0->google-api-core[grpc]!=2.0.*,!=2.1.*,!=2.10.*,!=2.2.*,!=2.3.*,!=2.4.*,!=2.5.*,!=2.6.*,!=2.7.*,!=2.8.*,!=2.9.*,<3.0.0dev,>=1.34.0->google-cloud-bigquery-storage) (3.6)\n",
      "Requirement already satisfied: urllib3<3,>=1.21.1 in /opt/conda/lib/python3.10/site-packages (from requests<3.0.0dev,>=2.18.0->google-api-core!=2.0.*,!=2.1.*,!=2.10.*,!=2.2.*,!=2.3.*,!=2.4.*,!=2.5.*,!=2.6.*,!=2.7.*,!=2.8.*,!=2.9.*,<3.0.0dev,>=1.34.0->google-api-core[grpc]!=2.0.*,!=2.1.*,!=2.10.*,!=2.2.*,!=2.3.*,!=2.4.*,!=2.5.*,!=2.6.*,!=2.7.*,!=2.8.*,!=2.9.*,<3.0.0dev,>=1.34.0->google-cloud-bigquery-storage) (1.26.18)\n",
      "Requirement already satisfied: certifi>=2017.4.17 in /opt/conda/lib/python3.10/site-packages (from requests<3.0.0dev,>=2.18.0->google-api-core!=2.0.*,!=2.1.*,!=2.10.*,!=2.2.*,!=2.3.*,!=2.4.*,!=2.5.*,!=2.6.*,!=2.7.*,!=2.8.*,!=2.9.*,<3.0.0dev,>=1.34.0->google-api-core[grpc]!=2.0.*,!=2.1.*,!=2.10.*,!=2.2.*,!=2.3.*,!=2.4.*,!=2.5.*,!=2.6.*,!=2.7.*,!=2.8.*,!=2.9.*,<3.0.0dev,>=1.34.0->google-cloud-bigquery-storage) (2023.11.17)\n",
      "Requirement already satisfied: pyasn1<0.6.0,>=0.4.6 in /opt/conda/lib/python3.10/site-packages (from pyasn1-modules>=0.2.1->google-auth<3.0dev,>=1.25.0->google-api-core!=2.0.*,!=2.1.*,!=2.10.*,!=2.2.*,!=2.3.*,!=2.4.*,!=2.5.*,!=2.6.*,!=2.7.*,!=2.8.*,!=2.9.*,<3.0.0dev,>=1.34.0->google-api-core[grpc]!=2.0.*,!=2.1.*,!=2.10.*,!=2.2.*,!=2.3.*,!=2.4.*,!=2.5.*,!=2.6.*,!=2.7.*,!=2.8.*,!=2.9.*,<3.0.0dev,>=1.34.0->google-cloud-bigquery-storage) (0.5.1)\n",
      "Requirement already satisfied: google-cloud-storage in /opt/conda/lib/python3.10/site-packages (2.14.0)\n",
      "Requirement already satisfied: google-auth<3.0dev,>=2.23.3 in /opt/conda/lib/python3.10/site-packages (from google-cloud-storage) (2.26.2)\n",
      "Requirement already satisfied: google-api-core!=2.0.*,!=2.1.*,!=2.2.*,!=2.3.0,<3.0.0dev,>=1.31.5 in /opt/conda/lib/python3.10/site-packages (from google-cloud-storage) (1.34.0)\n",
      "Requirement already satisfied: google-cloud-core<3.0dev,>=2.3.0 in /opt/conda/lib/python3.10/site-packages (from google-cloud-storage) (2.4.1)\n",
      "Requirement already satisfied: google-resumable-media>=2.6.0 in /opt/conda/lib/python3.10/site-packages (from google-cloud-storage) (2.7.0)\n",
      "Requirement already satisfied: requests<3.0.0dev,>=2.18.0 in /opt/conda/lib/python3.10/site-packages (from google-cloud-storage) (2.31.0)\n",
      "Requirement already satisfied: google-crc32c<2.0dev,>=1.0 in /opt/conda/lib/python3.10/site-packages (from google-cloud-storage) (1.5.0)\n",
      "Requirement already satisfied: googleapis-common-protos<2.0dev,>=1.56.2 in /opt/conda/lib/python3.10/site-packages (from google-api-core!=2.0.*,!=2.1.*,!=2.2.*,!=2.3.0,<3.0.0dev,>=1.31.5->google-cloud-storage) (1.62.0)\n",
      "Requirement already satisfied: protobuf!=3.20.0,!=3.20.1,!=4.21.0,!=4.21.1,!=4.21.2,!=4.21.3,!=4.21.4,!=4.21.5,<4.0.0dev,>=3.19.5 in /opt/conda/lib/python3.10/site-packages (from google-api-core!=2.0.*,!=2.1.*,!=2.2.*,!=2.3.0,<3.0.0dev,>=1.31.5->google-cloud-storage) (3.20.3)\n",
      "Requirement already satisfied: cachetools<6.0,>=2.0.0 in /opt/conda/lib/python3.10/site-packages (from google-auth<3.0dev,>=2.23.3->google-cloud-storage) (5.3.2)\n",
      "Requirement already satisfied: pyasn1-modules>=0.2.1 in /opt/conda/lib/python3.10/site-packages (from google-auth<3.0dev,>=2.23.3->google-cloud-storage) (0.3.0)\n",
      "Requirement already satisfied: rsa<5,>=3.1.4 in /opt/conda/lib/python3.10/site-packages (from google-auth<3.0dev,>=2.23.3->google-cloud-storage) (4.9)\n",
      "Requirement already satisfied: charset-normalizer<4,>=2 in /opt/conda/lib/python3.10/site-packages (from requests<3.0.0dev,>=2.18.0->google-cloud-storage) (3.3.2)\n",
      "Requirement already satisfied: idna<4,>=2.5 in /opt/conda/lib/python3.10/site-packages (from requests<3.0.0dev,>=2.18.0->google-cloud-storage) (3.6)\n",
      "Requirement already satisfied: urllib3<3,>=1.21.1 in /opt/conda/lib/python3.10/site-packages (from requests<3.0.0dev,>=2.18.0->google-cloud-storage) (1.26.18)\n",
      "Requirement already satisfied: certifi>=2017.4.17 in /opt/conda/lib/python3.10/site-packages (from requests<3.0.0dev,>=2.18.0->google-cloud-storage) (2023.11.17)\n",
      "Requirement already satisfied: pyasn1<0.6.0,>=0.4.6 in /opt/conda/lib/python3.10/site-packages (from pyasn1-modules>=0.2.1->google-auth<3.0dev,>=2.23.3->google-cloud-storage) (0.5.1)\n",
      "Requirement already satisfied: db-dtypes in /opt/conda/lib/python3.10/site-packages (1.2.0)\n",
      "Requirement already satisfied: packaging>=17.0 in /opt/conda/lib/python3.10/site-packages (from db-dtypes) (23.2)\n",
      "Requirement already satisfied: pandas>=0.24.2 in /opt/conda/lib/python3.10/site-packages (from db-dtypes) (2.1.4)\n",
      "Requirement already satisfied: pyarrow>=3.0.0 in ./.local/lib/python3.10/site-packages (from db-dtypes) (11.0.0)\n",
      "Requirement already satisfied: numpy>=1.16.6 in /opt/conda/lib/python3.10/site-packages (from db-dtypes) (1.25.2)\n",
      "Requirement already satisfied: python-dateutil>=2.8.2 in /opt/conda/lib/python3.10/site-packages (from pandas>=0.24.2->db-dtypes) (2.8.2)\n",
      "Requirement already satisfied: pytz>=2020.1 in /opt/conda/lib/python3.10/site-packages (from pandas>=0.24.2->db-dtypes) (2023.3.post1)\n",
      "Requirement already satisfied: tzdata>=2022.1 in /opt/conda/lib/python3.10/site-packages (from pandas>=0.24.2->db-dtypes) (2023.4)\n",
      "Requirement already satisfied: six>=1.5 in /opt/conda/lib/python3.10/site-packages (from python-dateutil>=2.8.2->pandas>=0.24.2->db-dtypes) (1.16.0)\n"
     ]
    }
   ],
   "source": [
    "!pip3 install google-cloud-aiplatform --user\n",
    "!pip3 install pyarrow==11.0.0 --user\n",
    "!pip3 install --upgrade google-cloud-bigquery --user\n",
    "!pip3 install --upgrade google-cloud-bigquery-storage --user\n",
    "!pip3 install --upgrade google-cloud-storage --user\n",
    "!pip install db-dtypes"
   ]
  },
  {
   "cell_type": "code",
   "execution_count": 2,
   "id": "fc81afe5-7bfa-41ee-af8c-97f0352b5972",
   "metadata": {},
   "outputs": [],
   "source": [
    "# Retrieve and set PROJECT_ID and REGION environment variables.\n",
    "PROJECT_ID = !(gcloud config get-value core/project)\n",
    "PROJECT_ID = PROJECT_ID[0]\n",
    "BQ_LOCATION = 'US'\n",
    "REGION = 'us-west3'"
   ]
  },
  {
   "cell_type": "code",
   "execution_count": 3,
   "id": "e9b2197d-f377-45bd-917f-4836c731ddea",
   "metadata": {},
   "outputs": [],
   "source": [
    "from google.cloud import bigquery\n",
    "from google.cloud import aiplatform as vertexai\n",
    "import numpy as np\n",
    "import pandas as pd"
   ]
  },
  {
   "cell_type": "code",
   "execution_count": 4,
   "id": "62d79ff8-02c6-4206-9425-5f1338e8be09",
   "metadata": {},
   "outputs": [],
   "source": [
    "GCS_BUCKET = f\"{PROJECT_ID}-lukes_capstone\"\n",
    "#Make Bucket command, only needs to be run once\n",
    "# !gsutil mb -l $REGION gs://$GCS_BUCKET     #Make Bucket command, only needs to be run once"
   ]
  },
  {
   "cell_type": "code",
   "execution_count": 5,
   "id": "117e0013-c372-4439-81e2-bc4596294473",
   "metadata": {},
   "outputs": [],
   "source": [
    "BQ_DATASET = f\"{PROJECT_ID}:luke_cap_data\"\n",
    "#Make Dataset command, only needs to be run once\n",
    "# !bq mk --location={BQ_LOCATION} --dataset {BQ_DATASET}"
   ]
  },
  {
   "cell_type": "code",
   "execution_count": 6,
   "id": "e05078f7-b901-44db-9049-0990cbfd01ef",
   "metadata": {},
   "outputs": [],
   "source": [
    "vertexai.init(project=PROJECT_ID, location=REGION, staging_bucket=f\"gs://{GCS_BUCKET}\")"
   ]
  },
  {
   "cell_type": "markdown",
   "id": "bb465727-7b96-40f5-97a3-ca5ba3769ec0",
   "metadata": {},
   "source": [
    "# Pull in MAIN QUERY HERE"
   ]
  },
  {
   "cell_type": "markdown",
   "id": "e17fc856-9a9e-429a-b597-3af46ce8853f",
   "metadata": {},
   "source": [
    "## Creat ML_Features Table"
   ]
  },
  {
   "cell_type": "markdown",
   "id": "f972dbf8-d51d-4e3e-bab7-16022c68fe7d",
   "metadata": {},
   "source": [
    "#### Try this, with nulls cast to 0 or \"Unknown\", and set model option class weight = auto"
   ]
  },
  {
   "cell_type": "code",
   "execution_count": 7,
   "id": "6cfbc682-7162-4b9d-b098-f8785747478f",
   "metadata": {},
   "outputs": [
    {
     "data": {
      "application/vnd.jupyter.widget-view+json": {
       "model_id": "3adafb21cad6414e9cb2d102f6668430",
       "version_major": 2,
       "version_minor": 0
      },
      "text/plain": [
       "Query is running:   0%|          |"
      ]
     },
     "metadata": {},
     "output_type": "display_data"
    },
    {
     "data": {
      "text/html": [
       "<div>\n",
       "<style scoped>\n",
       "    .dataframe tbody tr th:only-of-type {\n",
       "        vertical-align: middle;\n",
       "    }\n",
       "\n",
       "    .dataframe tbody tr th {\n",
       "        vertical-align: top;\n",
       "    }\n",
       "\n",
       "    .dataframe thead th {\n",
       "        text-align: right;\n",
       "    }\n",
       "</style>\n",
       "<table border=\"1\" class=\"dataframe\">\n",
       "  <thead>\n",
       "    <tr style=\"text-align: right;\">\n",
       "      <th></th>\n",
       "    </tr>\n",
       "  </thead>\n",
       "  <tbody>\n",
       "  </tbody>\n",
       "</table>\n",
       "</div>"
      ],
      "text/plain": [
       "Empty DataFrame\n",
       "Columns: []\n",
       "Index: []"
      ]
     },
     "execution_count": 7,
     "metadata": {},
     "output_type": "execute_result"
    }
   ],
   "source": [
    "%%bigquery --project $PROJECT_ID\n",
    "\n",
    "CREATE OR REPLACE VIEW luke_cap_data.final_features AS (\n",
    "\n",
    "SELECT \n",
    "    DISTINCT(CONCAT(fullVisitorId,visitId,hits.hitNumber)) AS User_session,\n",
    "    IFNULL(trafficSource.source,\"Unknown\") AS source, \n",
    "    IFNULL(trafficSource.medium,\"Unknown\") AS medium, \n",
    "    IFNULL(device.browser,\"Unknown\") AS browser, \n",
    "    IFNULL(device.operatingSystem,\"Unknown\") AS os, \n",
    "    IFNULL(device.deviceCategory,\"Unknown\") AS deviceType,\n",
    "    IFNULL(geoNetwork.country,\"Unknown\") AS country, \n",
    "    IFNULL(IF(geoNetwork.region='not available in demo dataset',NULL,geoNetwork.region),\"Unknown\") AS region, \n",
    "    IFNULL(IF(geoNetwork.metro='not available in demo dataset',NULL,geoNetwork.metro),\"Unknown\") AS metro, \n",
    "    IFNULL(IF(geoNetwork.city='not available in demo dataset',NULL,geoNetwork.city),\"Unknown\") AS city, \n",
    "    IFNULL(geoNetwork.networkDomain,\"Unknown\") AS domain,\n",
    "    IFNULL(hits.type,\"Unknown\") AS hitType,\n",
    "    IFNULL(product.v2ProductCategory,\"Unknown\") AS productCategory,\n",
    "    IFNULL(channelGrouping,\"Unknown\") AS channelGrouping,\n",
    "    IFNULL(visitNumber,0) AS visitNumber,\n",
    "    IFNULL(totals.pageviews,0) AS pageviews, \n",
    "    IFNULL(totals.timeOnSite,0) AS timeOnSite, \n",
    "    IFNULL(hits.hitNumber,0) AS hitNumber, \n",
    "    IFNULL(hits.time,0) AS time, \n",
    "    IFNULL(hits.hour,0) AS hour, \n",
    "    # if(hits.eventInfo.eventAction = 'Add to cart',1,0) AS Target\n",
    "    if(hits.eCommerceAction.action_type = '3',1,0) AS Target,\n",
    "\n",
    "\n",
    "    CASE\n",
    "      WHEN ABS(MOD(FARM_FINGERPRINT((CONCAT(fullVisitorId,visitId,hits.hitNumber))), 10)) <= 7\n",
    "        THEN 'TRAIN'\n",
    "      WHEN ABS(MOD(FARM_FINGERPRINT((CONCAT(fullVisitorId,visitId,hits.hitNumber))), 10)) = 8\n",
    "        THEN 'EVAL'\n",
    "      WHEN ABS(MOD(FARM_FINGERPRINT((CONCAT(fullVisitorId,visitId,hits.hitNumber))), 10)) = 9\n",
    "        THEN 'TEST'    \n",
    "          ELSE '' END AS data_split\n",
    "    \n",
    "FROM `bigquery-public-data.google_analytics_sample.ga_sessions_201702*` final, \n",
    "UNNEST(hits) AS hits LEFT JOIN UNNEST(hits.product) AS product\n",
    "WHERE hits.eCommerceAction.action_type != '0'\n",
    "\n",
    ");"
   ]
  },
  {
   "cell_type": "markdown",
   "id": "4cbe9aa1-392f-49fa-90cf-38c46248eed1",
   "metadata": {},
   "source": [
    "### CHECK DATA SPLITS"
   ]
  },
  {
   "cell_type": "code",
   "execution_count": 8,
   "id": "358bfcf0-36fe-49a7-9b96-4dbe0fe9aa16",
   "metadata": {},
   "outputs": [
    {
     "data": {
      "application/vnd.jupyter.widget-view+json": {
       "model_id": "fefef07cee3d4654bb57e9a4748166b2",
       "version_major": 2,
       "version_minor": 0
      },
      "text/plain": [
       "Query is running:   0%|          |"
      ]
     },
     "metadata": {},
     "output_type": "display_data"
    },
    {
     "data": {
      "application/vnd.jupyter.widget-view+json": {
       "model_id": "cdfccf2459224bde8ed8d4a24f032fa2",
       "version_major": 2,
       "version_minor": 0
      },
      "text/plain": [
       "Downloading:   0%|          |"
      ]
     },
     "metadata": {},
     "output_type": "display_data"
    },
    {
     "data": {
      "text/html": [
       "<div>\n",
       "<style scoped>\n",
       "    .dataframe tbody tr th:only-of-type {\n",
       "        vertical-align: middle;\n",
       "    }\n",
       "\n",
       "    .dataframe tbody tr th {\n",
       "        vertical-align: top;\n",
       "    }\n",
       "\n",
       "    .dataframe thead th {\n",
       "        text-align: right;\n",
       "    }\n",
       "</style>\n",
       "<table border=\"1\" class=\"dataframe\">\n",
       "  <thead>\n",
       "    <tr style=\"text-align: right;\">\n",
       "      <th></th>\n",
       "      <th>data_split</th>\n",
       "      <th>n_examples</th>\n",
       "    </tr>\n",
       "  </thead>\n",
       "  <tbody>\n",
       "    <tr>\n",
       "      <th>0</th>\n",
       "      <td>EVAL</td>\n",
       "      <td>6556</td>\n",
       "    </tr>\n",
       "    <tr>\n",
       "      <th>1</th>\n",
       "      <td>TRAIN</td>\n",
       "      <td>53166</td>\n",
       "    </tr>\n",
       "    <tr>\n",
       "      <th>2</th>\n",
       "      <td>TEST</td>\n",
       "      <td>6755</td>\n",
       "    </tr>\n",
       "  </tbody>\n",
       "</table>\n",
       "</div>"
      ],
      "text/plain": [
       "  data_split  n_examples\n",
       "0       EVAL        6556\n",
       "1      TRAIN       53166\n",
       "2       TEST        6755"
      ]
     },
     "execution_count": 8,
     "metadata": {},
     "output_type": "execute_result"
    }
   ],
   "source": [
    "%%bigquery --project $PROJECT_ID\n",
    "\n",
    "SELECT\n",
    "  data_split,\n",
    "  COUNT(*) AS n_examples\n",
    "FROM luke_cap_data.final_features\n",
    "GROUP BY data_split"
   ]
  },
  {
   "cell_type": "markdown",
   "id": "f5026740-8449-463e-afaf-73b1bf9eb894",
   "metadata": {
    "tags": []
   },
   "source": [
    "# BUILD/TRAIN MODEL\n",
    "## XGBoost:  Boosted Tree Model"
   ]
  },
  {
   "cell_type": "code",
   "execution_count": 9,
   "id": "b4ad8f8a-60af-456d-be47-5801c5c12441",
   "metadata": {},
   "outputs": [],
   "source": [
    "MODEL_NAME=\"Luke_cap\""
   ]
  },
  {
   "cell_type": "code",
   "execution_count": 10,
   "id": "d2ab3bca-5b4f-401d-99ab-0773411eeda5",
   "metadata": {
    "tags": []
   },
   "outputs": [
    {
     "data": {
      "application/vnd.jupyter.widget-view+json": {
       "model_id": "b027f82d65134afd82dbd7e794ac8d27",
       "version_major": 2,
       "version_minor": 0
      },
      "text/plain": [
       "Query is running:   0%|          |"
      ]
     },
     "metadata": {},
     "output_type": "display_data"
    },
    {
     "data": {
      "text/html": [
       "<div>\n",
       "<style scoped>\n",
       "    .dataframe tbody tr th:only-of-type {\n",
       "        vertical-align: middle;\n",
       "    }\n",
       "\n",
       "    .dataframe tbody tr th {\n",
       "        vertical-align: top;\n",
       "    }\n",
       "\n",
       "    .dataframe thead th {\n",
       "        text-align: right;\n",
       "    }\n",
       "</style>\n",
       "<table border=\"1\" class=\"dataframe\">\n",
       "  <thead>\n",
       "    <tr style=\"text-align: right;\">\n",
       "      <th></th>\n",
       "    </tr>\n",
       "  </thead>\n",
       "  <tbody>\n",
       "  </tbody>\n",
       "</table>\n",
       "</div>"
      ],
      "text/plain": [
       "Empty DataFrame\n",
       "Columns: []\n",
       "Index: []"
      ]
     },
     "execution_count": 10,
     "metadata": {},
     "output_type": "execute_result"
    }
   ],
   "source": [
    "%%bigquery --project $PROJECT_ID\n",
    "\n",
    "CREATE OR REPLACE MODEL luke_cap_data.Luke_cap\n",
    "\n",
    "OPTIONS(\n",
    "  MODEL_TYPE=\"BOOSTED_TREE_CLASSIFIER\",\n",
    "  # Declare label column.\n",
    "  INPUT_LABEL_COLS=[\"Target\"],\n",
    "  # Specify custom data splitting using the `data_split` column.\n",
    "  DATA_SPLIT_METHOD=\"CUSTOM\",\n",
    "  DATA_SPLIT_COL=\"data_split\",\n",
    "  AUTO_CLASS_WEIGHTS = True,\n",
    "  # Enable Vertex Explainable AI aggregated feature attributions.\n",
    "  ENABLE_GLOBAL_EXPLAIN=True,\n",
    "  # Hyperparameter tuning arguments.\n",
    "  num_trials=8,\n",
    "  max_parallel_trials=4,\n",
    "  HPARAM_TUNING_OBJECTIVES=[\"roc_auc\"],\n",
    "  EARLY_STOP=True,\n",
    "  # Hyperpameter search space.\n",
    "  LEARN_RATE=HPARAM_RANGE(0.01, 0.1),\n",
    "  MIN_TREE_CHILD_WEIGHT = HPARAM_RANGE(0, 5),\n",
    "  COLSAMPLE_BYTREE = HPARAM_RANGE(0.7, 1.0),\n",
    "  MAX_TREE_DEPTH=HPARAM_CANDIDATES([4,5,6,7])\n",
    ") AS\n",
    "\n",
    "SELECT\n",
    "  * EXCEPT(User_session)\n",
    "FROM\n",
    "  luke_cap_data.final_features"
   ]
  },
  {
   "cell_type": "markdown",
   "id": "28f32490-ed6f-45b5-a5d6-6ad6b53bebc4",
   "metadata": {},
   "source": [
    "### Display model trial results"
   ]
  },
  {
   "cell_type": "code",
   "execution_count": 11,
   "id": "75587dff-8b94-4482-897c-fcdd88086866",
   "metadata": {},
   "outputs": [
    {
     "data": {
      "application/vnd.jupyter.widget-view+json": {
       "model_id": "497ed259b1ff4eaea4f2092301826802",
       "version_major": 2,
       "version_minor": 0
      },
      "text/plain": [
       "Query is running:   0%|          |"
      ]
     },
     "metadata": {},
     "output_type": "display_data"
    },
    {
     "data": {
      "application/vnd.jupyter.widget-view+json": {
       "model_id": "d4cff58211264f47a5296de2c51aa810",
       "version_major": 2,
       "version_minor": 0
      },
      "text/plain": [
       "Downloading:   0%|          |"
      ]
     },
     "metadata": {},
     "output_type": "display_data"
    },
    {
     "data": {
      "text/html": [
       "<div>\n",
       "<style scoped>\n",
       "    .dataframe tbody tr th:only-of-type {\n",
       "        vertical-align: middle;\n",
       "    }\n",
       "\n",
       "    .dataframe tbody tr th {\n",
       "        vertical-align: top;\n",
       "    }\n",
       "\n",
       "    .dataframe thead th {\n",
       "        text-align: right;\n",
       "    }\n",
       "</style>\n",
       "<table border=\"1\" class=\"dataframe\">\n",
       "  <thead>\n",
       "    <tr style=\"text-align: right;\">\n",
       "      <th></th>\n",
       "      <th>trial_id</th>\n",
       "      <th>hyperparameters</th>\n",
       "      <th>hparam_tuning_evaluation_metrics</th>\n",
       "      <th>training_loss</th>\n",
       "      <th>eval_loss</th>\n",
       "      <th>status</th>\n",
       "      <th>error_message</th>\n",
       "      <th>is_optimal</th>\n",
       "    </tr>\n",
       "  </thead>\n",
       "  <tbody>\n",
       "    <tr>\n",
       "      <th>0</th>\n",
       "      <td>1</td>\n",
       "      <td>{'learn_rate': 0.1, 'max_tree_depth': 6, 'min_...</td>\n",
       "      <td>{'roc_auc': 0.902090909090909}</td>\n",
       "      <td>0.379296</td>\n",
       "      <td>0.386203</td>\n",
       "      <td>SUCCEEDED</td>\n",
       "      <td>None</td>\n",
       "      <td>False</td>\n",
       "    </tr>\n",
       "    <tr>\n",
       "      <th>1</th>\n",
       "      <td>2</td>\n",
       "      <td>{'learn_rate': 0.0813994538610966, 'max_tree_d...</td>\n",
       "      <td>{'roc_auc': 0.9025884115884116}</td>\n",
       "      <td>0.395991</td>\n",
       "      <td>0.402062</td>\n",
       "      <td>SUCCEEDED</td>\n",
       "      <td>None</td>\n",
       "      <td>False</td>\n",
       "    </tr>\n",
       "    <tr>\n",
       "      <th>2</th>\n",
       "      <td>3</td>\n",
       "      <td>{'learn_rate': 0.08024079102257872, 'max_tree_...</td>\n",
       "      <td>{'roc_auc': 0.8952547452547452}</td>\n",
       "      <td>0.404637</td>\n",
       "      <td>0.408472</td>\n",
       "      <td>SUCCEEDED</td>\n",
       "      <td>None</td>\n",
       "      <td>False</td>\n",
       "    </tr>\n",
       "    <tr>\n",
       "      <th>3</th>\n",
       "      <td>4</td>\n",
       "      <td>{'learn_rate': 0.06024888978366152, 'max_tree_...</td>\n",
       "      <td>{'roc_auc': 0.9028591408591409}</td>\n",
       "      <td>0.425134</td>\n",
       "      <td>0.432442</td>\n",
       "      <td>SUCCEEDED</td>\n",
       "      <td>None</td>\n",
       "      <td>False</td>\n",
       "    </tr>\n",
       "    <tr>\n",
       "      <th>4</th>\n",
       "      <td>5</td>\n",
       "      <td>{'learn_rate': 0.037929616988277945, 'max_tree...</td>\n",
       "      <td>{'roc_auc': 0.8901918081918082}</td>\n",
       "      <td>0.478586</td>\n",
       "      <td>0.481775</td>\n",
       "      <td>SUCCEEDED</td>\n",
       "      <td>None</td>\n",
       "      <td>False</td>\n",
       "    </tr>\n",
       "    <tr>\n",
       "      <th>5</th>\n",
       "      <td>6</td>\n",
       "      <td>{'learn_rate': 0.1, 'max_tree_depth': 6, 'min_...</td>\n",
       "      <td>{'roc_auc': 0.9032797202797203}</td>\n",
       "      <td>0.379926</td>\n",
       "      <td>0.387528</td>\n",
       "      <td>SUCCEEDED</td>\n",
       "      <td>None</td>\n",
       "      <td>False</td>\n",
       "    </tr>\n",
       "    <tr>\n",
       "      <th>6</th>\n",
       "      <td>7</td>\n",
       "      <td>{'learn_rate': 0.0358017398433325, 'max_tree_d...</td>\n",
       "      <td>{'roc_auc': 0.902008991008991}</td>\n",
       "      <td>0.491083</td>\n",
       "      <td>0.496878</td>\n",
       "      <td>SUCCEEDED</td>\n",
       "      <td>None</td>\n",
       "      <td>False</td>\n",
       "    </tr>\n",
       "    <tr>\n",
       "      <th>7</th>\n",
       "      <td>8</td>\n",
       "      <td>{'learn_rate': 0.06132854493292612, 'max_tree_...</td>\n",
       "      <td>{'roc_auc': 0.9062657342657343}</td>\n",
       "      <td>0.434571</td>\n",
       "      <td>0.443349</td>\n",
       "      <td>SUCCEEDED</td>\n",
       "      <td>None</td>\n",
       "      <td>True</td>\n",
       "    </tr>\n",
       "  </tbody>\n",
       "</table>\n",
       "</div>"
      ],
      "text/plain": [
       "   trial_id                                    hyperparameters  \\\n",
       "0         1  {'learn_rate': 0.1, 'max_tree_depth': 6, 'min_...   \n",
       "1         2  {'learn_rate': 0.0813994538610966, 'max_tree_d...   \n",
       "2         3  {'learn_rate': 0.08024079102257872, 'max_tree_...   \n",
       "3         4  {'learn_rate': 0.06024888978366152, 'max_tree_...   \n",
       "4         5  {'learn_rate': 0.037929616988277945, 'max_tree...   \n",
       "5         6  {'learn_rate': 0.1, 'max_tree_depth': 6, 'min_...   \n",
       "6         7  {'learn_rate': 0.0358017398433325, 'max_tree_d...   \n",
       "7         8  {'learn_rate': 0.06132854493292612, 'max_tree_...   \n",
       "\n",
       "  hparam_tuning_evaluation_metrics  training_loss  eval_loss     status  \\\n",
       "0   {'roc_auc': 0.902090909090909}       0.379296   0.386203  SUCCEEDED   \n",
       "1  {'roc_auc': 0.9025884115884116}       0.395991   0.402062  SUCCEEDED   \n",
       "2  {'roc_auc': 0.8952547452547452}       0.404637   0.408472  SUCCEEDED   \n",
       "3  {'roc_auc': 0.9028591408591409}       0.425134   0.432442  SUCCEEDED   \n",
       "4  {'roc_auc': 0.8901918081918082}       0.478586   0.481775  SUCCEEDED   \n",
       "5  {'roc_auc': 0.9032797202797203}       0.379926   0.387528  SUCCEEDED   \n",
       "6   {'roc_auc': 0.902008991008991}       0.491083   0.496878  SUCCEEDED   \n",
       "7  {'roc_auc': 0.9062657342657343}       0.434571   0.443349  SUCCEEDED   \n",
       "\n",
       "  error_message  is_optimal  \n",
       "0          None       False  \n",
       "1          None       False  \n",
       "2          None       False  \n",
       "3          None       False  \n",
       "4          None       False  \n",
       "5          None       False  \n",
       "6          None       False  \n",
       "7          None        True  "
      ]
     },
     "execution_count": 11,
     "metadata": {},
     "output_type": "execute_result"
    }
   ],
   "source": [
    "%%bigquery --project $PROJECT_ID\n",
    "\n",
    "SELECT *\n",
    "FROM\n",
    "  ML.TRIAL_INFO(MODEL `luke_cap_data.Luke_cap`);"
   ]
  },
  {
   "cell_type": "markdown",
   "id": "1564e806-5cbd-41ce-8704-d1711d048d06",
   "metadata": {},
   "source": [
    "## EVALUATE MODEL PERFORMANCE"
   ]
  },
  {
   "cell_type": "markdown",
   "id": "0b4ec267-ed76-4b0d-974f-9cbbe2483b96",
   "metadata": {},
   "source": [
    "### BEST MODEL PERFORMANCE for 8th trial"
   ]
  },
  {
   "cell_type": "code",
   "execution_count": 12,
   "id": "f18eb5e1-da98-4237-b7b6-49caa7770356",
   "metadata": {},
   "outputs": [
    {
     "data": {
      "application/vnd.jupyter.widget-view+json": {
       "model_id": "326bb6b64cf94ac1a3497167ba591fd9",
       "version_major": 2,
       "version_minor": 0
      },
      "text/plain": [
       "Query is running:   0%|          |"
      ]
     },
     "metadata": {},
     "output_type": "display_data"
    },
    {
     "data": {
      "application/vnd.jupyter.widget-view+json": {
       "model_id": "64e825293c56453c84d3b82d693584ff",
       "version_major": 2,
       "version_minor": 0
      },
      "text/plain": [
       "Downloading:   0%|          |"
      ]
     },
     "metadata": {},
     "output_type": "display_data"
    },
    {
     "data": {
      "text/html": [
       "<div>\n",
       "<style scoped>\n",
       "    .dataframe tbody tr th:only-of-type {\n",
       "        vertical-align: middle;\n",
       "    }\n",
       "\n",
       "    .dataframe tbody tr th {\n",
       "        vertical-align: top;\n",
       "    }\n",
       "\n",
       "    .dataframe thead th {\n",
       "        text-align: right;\n",
       "    }\n",
       "</style>\n",
       "<table border=\"1\" class=\"dataframe\">\n",
       "  <thead>\n",
       "    <tr style=\"text-align: right;\">\n",
       "      <th></th>\n",
       "      <th>trial_id</th>\n",
       "      <th>precision</th>\n",
       "      <th>recall</th>\n",
       "      <th>accuracy</th>\n",
       "      <th>f1_score</th>\n",
       "      <th>log_loss</th>\n",
       "      <th>roc_auc</th>\n",
       "    </tr>\n",
       "  </thead>\n",
       "  <tbody>\n",
       "    <tr>\n",
       "      <th>0</th>\n",
       "      <td>8</td>\n",
       "      <td>0.272411</td>\n",
       "      <td>0.971074</td>\n",
       "      <td>0.718135</td>\n",
       "      <td>0.425468</td>\n",
       "      <td>0.450165</td>\n",
       "      <td>0.914231</td>\n",
       "    </tr>\n",
       "  </tbody>\n",
       "</table>\n",
       "</div>"
      ],
      "text/plain": [
       "   trial_id  precision    recall  accuracy  f1_score  log_loss   roc_auc\n",
       "0         8   0.272411  0.971074  0.718135  0.425468  0.450165  0.914231"
      ]
     },
     "execution_count": 12,
     "metadata": {},
     "output_type": "execute_result"
    }
   ],
   "source": [
    "%%bigquery --project $PROJECT_ID\n",
    "\n",
    "SELECT\n",
    "  *\n",
    "FROM\n",
    "  ML.EVALUATE(MODEL luke_cap_data.Luke_cap)\n",
    "WHERE trial_id=8;"
   ]
  },
  {
   "cell_type": "markdown",
   "id": "0d1bf01e-cbf3-41e6-a7f9-c7a95d3af795",
   "metadata": {},
   "source": [
    "### CREATE CONFUSION MATRIX"
   ]
  },
  {
   "cell_type": "code",
   "execution_count": 18,
   "id": "fcb56df1-6ba7-42a6-8004-55e0097f1ca5",
   "metadata": {},
   "outputs": [
    {
     "data": {
      "application/vnd.jupyter.widget-view+json": {
       "model_id": "bd9ce44cc7ba44599d517e468b2eec1e",
       "version_major": 2,
       "version_minor": 0
      },
      "text/plain": [
       "Query is running:   0%|          |"
      ]
     },
     "metadata": {},
     "output_type": "display_data"
    },
    {
     "data": {
      "application/vnd.jupyter.widget-view+json": {
       "model_id": "a7a3589c6e0545c5bda74ca76677cf51",
       "version_major": 2,
       "version_minor": 0
      },
      "text/plain": [
       "Downloading:   0%|          |"
      ]
     },
     "metadata": {},
     "output_type": "display_data"
    },
    {
     "data": {
      "text/html": [
       "<div>\n",
       "<style scoped>\n",
       "    .dataframe tbody tr th:only-of-type {\n",
       "        vertical-align: middle;\n",
       "    }\n",
       "\n",
       "    .dataframe tbody tr th {\n",
       "        vertical-align: top;\n",
       "    }\n",
       "\n",
       "    .dataframe thead th {\n",
       "        text-align: right;\n",
       "    }\n",
       "</style>\n",
       "<table border=\"1\" class=\"dataframe\">\n",
       "  <thead>\n",
       "    <tr style=\"text-align: right;\">\n",
       "      <th></th>\n",
       "      <th>expected_label</th>\n",
       "      <th>predicted_0</th>\n",
       "      <th>predicted_1</th>\n",
       "    </tr>\n",
       "  </thead>\n",
       "  <tbody>\n",
       "    <tr>\n",
       "      <th>0</th>\n",
       "      <td>0</td>\n",
       "      <td>4146</td>\n",
       "      <td>1883</td>\n",
       "    </tr>\n",
       "    <tr>\n",
       "      <th>1</th>\n",
       "      <td>1</td>\n",
       "      <td>21</td>\n",
       "      <td>705</td>\n",
       "    </tr>\n",
       "  </tbody>\n",
       "</table>\n",
       "</div>"
      ],
      "text/plain": [
       "  expected_label  predicted_0  predicted_1\n",
       "0              0         4146         1883\n",
       "1              1           21          705"
      ]
     },
     "execution_count": 18,
     "metadata": {},
     "output_type": "execute_result"
    }
   ],
   "source": [
    "%%bigquery --project $PROJECT_ID\n",
    "\n",
    "SELECT\n",
    "  expected_label,\n",
    "  _0 AS predicted_0,\n",
    "  _1 AS predicted_1\n",
    "FROM\n",
    "  ML.CONFUSION_MATRIX(MODEL luke_cap_data.Luke_cap)\n",
    "WHERE trial_id=8;"
   ]
  },
  {
   "cell_type": "markdown",
   "id": "c596273d-6c3d-4486-a2ac-10d71221deb4",
   "metadata": {},
   "source": [
    "### ROC CURVE: Create Dataframe (df_roc) to plot ROC Curve"
   ]
  },
  {
   "cell_type": "code",
   "execution_count": 14,
   "id": "9d52d8c8-a6f0-441e-88a5-ff07baa75855",
   "metadata": {},
   "outputs": [
    {
     "data": {
      "application/vnd.jupyter.widget-view+json": {
       "model_id": "46edd9feb50d4840abcf7ca8cdf11d5a",
       "version_major": 2,
       "version_minor": 0
      },
      "text/plain": [
       "Query is running:   0%|          |"
      ]
     },
     "metadata": {},
     "output_type": "display_data"
    },
    {
     "data": {
      "application/vnd.jupyter.widget-view+json": {
       "model_id": "12661f1189ee478abccec09d8f992769",
       "version_major": 2,
       "version_minor": 0
      },
      "text/plain": [
       "Downloading:   0%|          |"
      ]
     },
     "metadata": {},
     "output_type": "display_data"
    }
   ],
   "source": [
    "%%bigquery df_roc --project $PROJECT_ID\n",
    "\n",
    "SELECT * FROM ML.ROC_CURVE(MODEL luke_cap_data.Luke_cap)"
   ]
  },
  {
   "cell_type": "markdown",
   "id": "c1866225-8723-4e5c-9bc5-95963d56d861",
   "metadata": {},
   "source": [
    "### PLOT ROC Curve"
   ]
  },
  {
   "cell_type": "code",
   "execution_count": 15,
   "id": "f3318574-cc62-4040-aaf9-dbefe071d4cf",
   "metadata": {},
   "outputs": [
    {
     "data": {
      "text/plain": [
       "<Axes: title={'center': 'AUC-ROC curve'}, xlabel='false_positive_rate'>"
      ]
     },
     "execution_count": 15,
     "metadata": {},
     "output_type": "execute_result"
    },
    {
     "data": {
      "image/png": "[encoded data removed]",
      "text/plain": [
       "<Figure size 640x480 with 1 Axes>"
      ]
     },
     "metadata": {},
     "output_type": "display_data"
    }
   ],
   "source": [
    "df_roc.plot(x=\"false_positive_rate\", y=\"recall\", title=\"AUC-ROC curve\")"
   ]
  },
  {
   "cell_type": "markdown",
   "id": "aa6cc594-d589-42ff-a841-d745073f1e0e",
   "metadata": {},
   "source": [
    "### CHECK GLOBAL FEATURE CONTRIBUTIONS"
   ]
  },
  {
   "cell_type": "code",
   "execution_count": 16,
   "id": "bc1dac8d-c33e-4c3f-86bc-f5856ebf94be",
   "metadata": {},
   "outputs": [
    {
     "data": {
      "application/vnd.jupyter.widget-view+json": {
       "model_id": "71abe92b9bb64a6e870f74cf83ae7a19",
       "version_major": 2,
       "version_minor": 0
      },
      "text/plain": [
       "Query is running:   0%|          |"
      ]
     },
     "metadata": {},
     "output_type": "display_data"
    },
    {
     "data": {
      "application/vnd.jupyter.widget-view+json": {
       "model_id": "69502482589e4b5f9948ec9a95cfaf8a",
       "version_major": 2,
       "version_minor": 0
      },
      "text/plain": [
       "Downloading:   0%|          |"
      ]
     },
     "metadata": {},
     "output_type": "display_data"
    },
    {
     "data": {
      "text/html": [
       "<div>\n",
       "<style scoped>\n",
       "    .dataframe tbody tr th:only-of-type {\n",
       "        vertical-align: middle;\n",
       "    }\n",
       "\n",
       "    .dataframe tbody tr th {\n",
       "        vertical-align: top;\n",
       "    }\n",
       "\n",
       "    .dataframe thead th {\n",
       "        text-align: right;\n",
       "    }\n",
       "</style>\n",
       "<table border=\"1\" class=\"dataframe\">\n",
       "  <thead>\n",
       "    <tr style=\"text-align: right;\">\n",
       "      <th></th>\n",
       "      <th>trial_id</th>\n",
       "      <th>feature</th>\n",
       "      <th>attribution</th>\n",
       "    </tr>\n",
       "  </thead>\n",
       "  <tbody>\n",
       "    <tr>\n",
       "      <th>0</th>\n",
       "      <td>8</td>\n",
       "      <td>hitType</td>\n",
       "      <td>0.409846</td>\n",
       "    </tr>\n",
       "    <tr>\n",
       "      <th>1</th>\n",
       "      <td>8</td>\n",
       "      <td>productCategory</td>\n",
       "      <td>0.139229</td>\n",
       "    </tr>\n",
       "    <tr>\n",
       "      <th>2</th>\n",
       "      <td>8</td>\n",
       "      <td>hitNumber</td>\n",
       "      <td>0.047257</td>\n",
       "    </tr>\n",
       "    <tr>\n",
       "      <th>3</th>\n",
       "      <td>8</td>\n",
       "      <td>pageviews</td>\n",
       "      <td>0.035154</td>\n",
       "    </tr>\n",
       "    <tr>\n",
       "      <th>4</th>\n",
       "      <td>8</td>\n",
       "      <td>visitNumber</td>\n",
       "      <td>0.020921</td>\n",
       "    </tr>\n",
       "    <tr>\n",
       "      <th>5</th>\n",
       "      <td>8</td>\n",
       "      <td>timeOnSite</td>\n",
       "      <td>0.019009</td>\n",
       "    </tr>\n",
       "    <tr>\n",
       "      <th>6</th>\n",
       "      <td>8</td>\n",
       "      <td>channelGrouping</td>\n",
       "      <td>0.013919</td>\n",
       "    </tr>\n",
       "    <tr>\n",
       "      <th>7</th>\n",
       "      <td>8</td>\n",
       "      <td>country</td>\n",
       "      <td>0.010992</td>\n",
       "    </tr>\n",
       "    <tr>\n",
       "      <th>8</th>\n",
       "      <td>8</td>\n",
       "      <td>time</td>\n",
       "      <td>0.006358</td>\n",
       "    </tr>\n",
       "    <tr>\n",
       "      <th>9</th>\n",
       "      <td>8</td>\n",
       "      <td>deviceType</td>\n",
       "      <td>0.006013</td>\n",
       "    </tr>\n",
       "    <tr>\n",
       "      <th>10</th>\n",
       "      <td>8</td>\n",
       "      <td>source</td>\n",
       "      <td>0.004373</td>\n",
       "    </tr>\n",
       "    <tr>\n",
       "      <th>11</th>\n",
       "      <td>8</td>\n",
       "      <td>os</td>\n",
       "      <td>0.003604</td>\n",
       "    </tr>\n",
       "    <tr>\n",
       "      <th>12</th>\n",
       "      <td>8</td>\n",
       "      <td>metro</td>\n",
       "      <td>0.003315</td>\n",
       "    </tr>\n",
       "    <tr>\n",
       "      <th>13</th>\n",
       "      <td>8</td>\n",
       "      <td>domain</td>\n",
       "      <td>0.002601</td>\n",
       "    </tr>\n",
       "    <tr>\n",
       "      <th>14</th>\n",
       "      <td>8</td>\n",
       "      <td>hour</td>\n",
       "      <td>0.002296</td>\n",
       "    </tr>\n",
       "    <tr>\n",
       "      <th>15</th>\n",
       "      <td>8</td>\n",
       "      <td>browser</td>\n",
       "      <td>0.002130</td>\n",
       "    </tr>\n",
       "    <tr>\n",
       "      <th>16</th>\n",
       "      <td>8</td>\n",
       "      <td>city</td>\n",
       "      <td>0.001749</td>\n",
       "    </tr>\n",
       "    <tr>\n",
       "      <th>17</th>\n",
       "      <td>8</td>\n",
       "      <td>region</td>\n",
       "      <td>0.001221</td>\n",
       "    </tr>\n",
       "    <tr>\n",
       "      <th>18</th>\n",
       "      <td>8</td>\n",
       "      <td>medium</td>\n",
       "      <td>0.000662</td>\n",
       "    </tr>\n",
       "  </tbody>\n",
       "</table>\n",
       "</div>"
      ],
      "text/plain": [
       "    trial_id          feature  attribution\n",
       "0          8          hitType     0.409846\n",
       "1          8  productCategory     0.139229\n",
       "2          8        hitNumber     0.047257\n",
       "3          8        pageviews     0.035154\n",
       "4          8      visitNumber     0.020921\n",
       "5          8       timeOnSite     0.019009\n",
       "6          8  channelGrouping     0.013919\n",
       "7          8          country     0.010992\n",
       "8          8             time     0.006358\n",
       "9          8       deviceType     0.006013\n",
       "10         8           source     0.004373\n",
       "11         8               os     0.003604\n",
       "12         8            metro     0.003315\n",
       "13         8           domain     0.002601\n",
       "14         8             hour     0.002296\n",
       "15         8          browser     0.002130\n",
       "16         8             city     0.001749\n",
       "17         8           region     0.001221\n",
       "18         8           medium     0.000662"
      ]
     },
     "execution_count": 16,
     "metadata": {},
     "output_type": "execute_result"
    }
   ],
   "source": [
    "%%bigquery --project $PROJECT_ID\n",
    "\n",
    "SELECT\n",
    "  *\n",
    "FROM\n",
    "  ML.GLOBAL_EXPLAIN(MODEL luke_cap_data.Luke_cap)\n",
    "ORDER BY\n",
    "  attribution DESC;"
   ]
  },
  {
   "cell_type": "markdown",
   "id": "4143cadc-2c4f-4835-a86b-4ef5c34a89da",
   "metadata": {},
   "source": [
    "#### SOME SAMPLE TEST SET PREDICTIONS"
   ]
  },
  {
   "cell_type": "code",
   "execution_count": 17,
   "id": "4576040c-76e4-40ca-9531-25e4c30848a4",
   "metadata": {},
   "outputs": [
    {
     "data": {
      "application/vnd.jupyter.widget-view+json": {
       "model_id": "7f8101082b5d4384a87d8e83c2798bd2",
       "version_major": 2,
       "version_minor": 0
      },
      "text/plain": [
       "Query is running:   0%|          |"
      ]
     },
     "metadata": {},
     "output_type": "display_data"
    },
    {
     "data": {
      "application/vnd.jupyter.widget-view+json": {
       "model_id": "8ef4fe4d8cde4c9b8b96f45abaa9dca1",
       "version_major": 2,
       "version_minor": 0
      },
      "text/plain": [
       "Downloading:   0%|          |"
      ]
     },
     "metadata": {},
     "output_type": "display_data"
    },
    {
     "data": {
      "text/html": [
       "<div>\n",
       "<style scoped>\n",
       "    .dataframe tbody tr th:only-of-type {\n",
       "        vertical-align: middle;\n",
       "    }\n",
       "\n",
       "    .dataframe tbody tr th {\n",
       "        vertical-align: top;\n",
       "    }\n",
       "\n",
       "    .dataframe thead th {\n",
       "        text-align: right;\n",
       "    }\n",
       "</style>\n",
       "<table border=\"1\" class=\"dataframe\">\n",
       "  <thead>\n",
       "    <tr style=\"text-align: right;\">\n",
       "      <th></th>\n",
       "      <th>trial_id</th>\n",
       "      <th>predicted_Target</th>\n",
       "      <th>predicted_Target_probs</th>\n",
       "      <th>User_session</th>\n",
       "      <th>source</th>\n",
       "      <th>medium</th>\n",
       "      <th>browser</th>\n",
       "      <th>os</th>\n",
       "      <th>deviceType</th>\n",
       "      <th>country</th>\n",
       "      <th>...</th>\n",
       "      <th>productCategory</th>\n",
       "      <th>channelGrouping</th>\n",
       "      <th>visitNumber</th>\n",
       "      <th>pageviews</th>\n",
       "      <th>timeOnSite</th>\n",
       "      <th>hitNumber</th>\n",
       "      <th>time</th>\n",
       "      <th>hour</th>\n",
       "      <th>Target</th>\n",
       "      <th>data_split</th>\n",
       "    </tr>\n",
       "  </thead>\n",
       "  <tbody>\n",
       "    <tr>\n",
       "      <th>0</th>\n",
       "      <td>8</td>\n",
       "      <td>0</td>\n",
       "      <td>[{'label': 1, 'prob': 0.21103814244270325}, {'...</td>\n",
       "      <td>762304050806321885714866722183</td>\n",
       "      <td>google</td>\n",
       "      <td>cpc</td>\n",
       "      <td>Chrome</td>\n",
       "      <td>Chrome OS</td>\n",
       "      <td>desktop</td>\n",
       "      <td>United States</td>\n",
       "      <td>...</td>\n",
       "      <td>Home/Bags/Backpacks/</td>\n",
       "      <td>Paid Search</td>\n",
       "      <td>1</td>\n",
       "      <td>4</td>\n",
       "      <td>45</td>\n",
       "      <td>3</td>\n",
       "      <td>30748</td>\n",
       "      <td>12</td>\n",
       "      <td>0</td>\n",
       "      <td>TEST</td>\n",
       "    </tr>\n",
       "    <tr>\n",
       "      <th>1</th>\n",
       "      <td>8</td>\n",
       "      <td>1</td>\n",
       "      <td>[{'label': 1, 'prob': 0.562504231929779}, {'la...</td>\n",
       "      <td>572321380260428269114866639134</td>\n",
       "      <td>(direct)</td>\n",
       "      <td>(none)</td>\n",
       "      <td>Chrome</td>\n",
       "      <td>Macintosh</td>\n",
       "      <td>desktop</td>\n",
       "      <td>United States</td>\n",
       "      <td>...</td>\n",
       "      <td>Home/Apparel/Kid's/Kid's-Infant/</td>\n",
       "      <td>Direct</td>\n",
       "      <td>2</td>\n",
       "      <td>3</td>\n",
       "      <td>25</td>\n",
       "      <td>4</td>\n",
       "      <td>24961</td>\n",
       "      <td>10</td>\n",
       "      <td>0</td>\n",
       "      <td>TEST</td>\n",
       "    </tr>\n",
       "    <tr>\n",
       "      <th>2</th>\n",
       "      <td>8</td>\n",
       "      <td>0</td>\n",
       "      <td>[{'label': 1, 'prob': 0.18027454614639282}, {'...</td>\n",
       "      <td>675548896210347275114866797634</td>\n",
       "      <td>(direct)</td>\n",
       "      <td>(none)</td>\n",
       "      <td>Chrome</td>\n",
       "      <td>Macintosh</td>\n",
       "      <td>desktop</td>\n",
       "      <td>United States</td>\n",
       "      <td>...</td>\n",
       "      <td>Home/Apparel/Women's/Women's-Performance Wear/</td>\n",
       "      <td>Referral</td>\n",
       "      <td>5</td>\n",
       "      <td>4</td>\n",
       "      <td>124</td>\n",
       "      <td>4</td>\n",
       "      <td>124032</td>\n",
       "      <td>14</td>\n",
       "      <td>0</td>\n",
       "      <td>TEST</td>\n",
       "    </tr>\n",
       "    <tr>\n",
       "      <th>3</th>\n",
       "      <td>8</td>\n",
       "      <td>0</td>\n",
       "      <td>[{'label': 1, 'prob': 0.44307541847229004}, {'...</td>\n",
       "      <td>419032739446526298814866509884</td>\n",
       "      <td>qiita.com</td>\n",
       "      <td>referral</td>\n",
       "      <td>Safari</td>\n",
       "      <td>iOS</td>\n",
       "      <td>mobile</td>\n",
       "      <td>Japan</td>\n",
       "      <td>...</td>\n",
       "      <td>Home/Apparel/Men's/</td>\n",
       "      <td>Referral</td>\n",
       "      <td>1</td>\n",
       "      <td>4</td>\n",
       "      <td>69</td>\n",
       "      <td>4</td>\n",
       "      <td>55928</td>\n",
       "      <td>6</td>\n",
       "      <td>0</td>\n",
       "      <td>TEST</td>\n",
       "    </tr>\n",
       "    <tr>\n",
       "      <th>4</th>\n",
       "      <td>8</td>\n",
       "      <td>0</td>\n",
       "      <td>[{'label': 1, 'prob': 0.46201953291893005}, {'...</td>\n",
       "      <td>419032739446526298814866509885</td>\n",
       "      <td>qiita.com</td>\n",
       "      <td>referral</td>\n",
       "      <td>Safari</td>\n",
       "      <td>iOS</td>\n",
       "      <td>mobile</td>\n",
       "      <td>Japan</td>\n",
       "      <td>...</td>\n",
       "      <td>Home/Apparel/Men's/</td>\n",
       "      <td>Referral</td>\n",
       "      <td>1</td>\n",
       "      <td>4</td>\n",
       "      <td>69</td>\n",
       "      <td>5</td>\n",
       "      <td>68615</td>\n",
       "      <td>6</td>\n",
       "      <td>0</td>\n",
       "      <td>TEST</td>\n",
       "    </tr>\n",
       "  </tbody>\n",
       "</table>\n",
       "<p>5 rows × 25 columns</p>\n",
       "</div>"
      ],
      "text/plain": [
       "   trial_id  predicted_Target  \\\n",
       "0         8                 0   \n",
       "1         8                 1   \n",
       "2         8                 0   \n",
       "3         8                 0   \n",
       "4         8                 0   \n",
       "\n",
       "                              predicted_Target_probs  \\\n",
       "0  [{'label': 1, 'prob': 0.21103814244270325}, {'...   \n",
       "1  [{'label': 1, 'prob': 0.562504231929779}, {'la...   \n",
       "2  [{'label': 1, 'prob': 0.18027454614639282}, {'...   \n",
       "3  [{'label': 1, 'prob': 0.44307541847229004}, {'...   \n",
       "4  [{'label': 1, 'prob': 0.46201953291893005}, {'...   \n",
       "\n",
       "                     User_session     source    medium browser         os  \\\n",
       "0  762304050806321885714866722183     google       cpc  Chrome  Chrome OS   \n",
       "1  572321380260428269114866639134   (direct)    (none)  Chrome  Macintosh   \n",
       "2  675548896210347275114866797634   (direct)    (none)  Chrome  Macintosh   \n",
       "3  419032739446526298814866509884  qiita.com  referral  Safari        iOS   \n",
       "4  419032739446526298814866509885  qiita.com  referral  Safari        iOS   \n",
       "\n",
       "  deviceType        country  ...  \\\n",
       "0    desktop  United States  ...   \n",
       "1    desktop  United States  ...   \n",
       "2    desktop  United States  ...   \n",
       "3     mobile          Japan  ...   \n",
       "4     mobile          Japan  ...   \n",
       "\n",
       "                                  productCategory channelGrouping visitNumber  \\\n",
       "0                            Home/Bags/Backpacks/     Paid Search           1   \n",
       "1                Home/Apparel/Kid's/Kid's-Infant/          Direct           2   \n",
       "2  Home/Apparel/Women's/Women's-Performance Wear/        Referral           5   \n",
       "3                             Home/Apparel/Men's/        Referral           1   \n",
       "4                             Home/Apparel/Men's/        Referral           1   \n",
       "\n",
       "  pageviews timeOnSite hitNumber    time  hour  Target  data_split  \n",
       "0         4         45         3   30748    12       0        TEST  \n",
       "1         3         25         4   24961    10       0        TEST  \n",
       "2         4        124         4  124032    14       0        TEST  \n",
       "3         4         69         4   55928     6       0        TEST  \n",
       "4         4         69         5   68615     6       0        TEST  \n",
       "\n",
       "[5 rows x 25 columns]"
      ]
     },
     "execution_count": 17,
     "metadata": {},
     "output_type": "execute_result"
    }
   ],
   "source": [
    "%%bigquery --project $PROJECT_ID\n",
    "\n",
    "SELECT\n",
    "  *\n",
    "FROM\n",
    "  ML.PREDICT(MODEL luke_cap_data.Luke_cap,\n",
    "  (SELECT * FROM luke_cap_data.final_features WHERE data_split = \"TEST\" LIMIT 5))"
   ]
  },
  {
   "cell_type": "markdown",
   "id": "27acca1e-06b4-49e0-aa11-ca2cdd511e41",
   "metadata": {},
   "source": [
    "#### Create a dataframe of model predictions for entire set"
   ]
  },
  {
   "cell_type": "code",
   "execution_count": 19,
   "id": "947fa3fc-471e-4a3c-96c4-8797d3628d54",
   "metadata": {
    "tags": []
   },
   "outputs": [
    {
     "data": {
      "application/vnd.jupyter.widget-view+json": {
       "model_id": "16fd2607188a40f089fb2f3152c74289",
       "version_major": 2,
       "version_minor": 0
      },
      "text/plain": [
       "Query is running:   0%|          |"
      ]
     },
     "metadata": {},
     "output_type": "display_data"
    },
    {
     "data": {
      "application/vnd.jupyter.widget-view+json": {
       "model_id": "de1fa56ff7e8471db11f0a21a745145f",
       "version_major": 2,
       "version_minor": 0
      },
      "text/plain": [
       "Downloading:   0%|          |"
      ]
     },
     "metadata": {},
     "output_type": "display_data"
    }
   ],
   "source": [
    "%%bigquery df_test_preds --project $PROJECT_ID\n",
    "\n",
    "SELECT \n",
    "  User_session,\n",
    "  Target,\n",
    "  predicted_Target,\n",
    "  predicted_Target_probs as probability_Target\n",
    "FROM\n",
    "  ML.PREDICT(MODEL luke_cap_data.Luke_cap,\n",
    "  (SELECT * FROM luke_cap_data.final_features))"
   ]
  },
  {
   "cell_type": "code",
   "execution_count": 20,
   "id": "193e7175-b1be-41eb-98e8-9f23326e0158",
   "metadata": {
    "tags": []
   },
   "outputs": [
    {
     "name": "stdout",
     "output_type": "stream",
     "text": [
      "Actual: Target\n",
      "0    59117\n",
      "1     7360\n",
      "Name: count, dtype: Int64\n",
      "Predicted: predicted_Target\n",
      "0    41085\n",
      "1    25392\n",
      "Name: count, dtype: Int64\n"
     ]
    }
   ],
   "source": [
    "print(\"Actual:\", df_test_preds['Target'].value_counts())\n",
    "print(\"Predicted:\", df_test_preds['predicted_Target'].value_counts())"
   ]
  },
  {
   "cell_type": "code",
   "execution_count": 21,
   "id": "79745370-872b-4971-92be-a1cf87283246",
   "metadata": {
    "tags": []
   },
   "outputs": [
    {
     "data": {
      "text/html": [
       "<div>\n",
       "<style scoped>\n",
       "    .dataframe tbody tr th:only-of-type {\n",
       "        vertical-align: middle;\n",
       "    }\n",
       "\n",
       "    .dataframe tbody tr th {\n",
       "        vertical-align: top;\n",
       "    }\n",
       "\n",
       "    .dataframe thead th {\n",
       "        text-align: right;\n",
       "    }\n",
       "</style>\n",
       "<table border=\"1\" class=\"dataframe\">\n",
       "  <thead>\n",
       "    <tr style=\"text-align: right;\">\n",
       "      <th></th>\n",
       "      <th>User_session</th>\n",
       "      <th>Target</th>\n",
       "      <th>predicted_Target</th>\n",
       "      <th>probability_Target</th>\n",
       "    </tr>\n",
       "  </thead>\n",
       "  <tbody>\n",
       "    <tr>\n",
       "      <th>0</th>\n",
       "      <td>623906203994416221514872354522</td>\n",
       "      <td>0</td>\n",
       "      <td>0</td>\n",
       "      <td>[{'label': 1, 'prob': 0.15593446791172028}, {'...</td>\n",
       "    </tr>\n",
       "    <tr>\n",
       "      <th>1</th>\n",
       "      <td>807713746149558367714872399552</td>\n",
       "      <td>0</td>\n",
       "      <td>0</td>\n",
       "      <td>[{'label': 1, 'prob': 0.198360413312912}, {'la...</td>\n",
       "    </tr>\n",
       "    <tr>\n",
       "      <th>2</th>\n",
       "      <td>961553193622849742214872530822</td>\n",
       "      <td>0</td>\n",
       "      <td>0</td>\n",
       "      <td>[{'label': 1, 'prob': 0.2139234095811844}, {'l...</td>\n",
       "    </tr>\n",
       "    <tr>\n",
       "      <th>3</th>\n",
       "      <td>022764266190713996814872761732</td>\n",
       "      <td>0</td>\n",
       "      <td>0</td>\n",
       "      <td>[{'label': 1, 'prob': 0.18765099346637726}, {'...</td>\n",
       "    </tr>\n",
       "    <tr>\n",
       "      <th>4</th>\n",
       "      <td>239904212929804264414872509702</td>\n",
       "      <td>0</td>\n",
       "      <td>0</td>\n",
       "      <td>[{'label': 1, 'prob': 0.214144766330719}, {'la...</td>\n",
       "    </tr>\n",
       "  </tbody>\n",
       "</table>\n",
       "</div>"
      ],
      "text/plain": [
       "                     User_session  Target  predicted_Target  \\\n",
       "0  623906203994416221514872354522       0                 0   \n",
       "1  807713746149558367714872399552       0                 0   \n",
       "2  961553193622849742214872530822       0                 0   \n",
       "3  022764266190713996814872761732       0                 0   \n",
       "4  239904212929804264414872509702       0                 0   \n",
       "\n",
       "                                  probability_Target  \n",
       "0  [{'label': 1, 'prob': 0.15593446791172028}, {'...  \n",
       "1  [{'label': 1, 'prob': 0.198360413312912}, {'la...  \n",
       "2  [{'label': 1, 'prob': 0.2139234095811844}, {'l...  \n",
       "3  [{'label': 1, 'prob': 0.18765099346637726}, {'...  \n",
       "4  [{'label': 1, 'prob': 0.214144766330719}, {'la...  "
      ]
     },
     "execution_count": 21,
     "metadata": {},
     "output_type": "execute_result"
    }
   ],
   "source": [
    "df_test_preds.head()"
   ]
  },
  {
   "cell_type": "markdown",
   "id": "841e05fb-0645-4bda-9c2d-bf15bce56272",
   "metadata": {},
   "source": [
    "#### Calculate True Positives, True Negatives, False Positives, False Negatives for entire dataset"
   ]
  },
  {
   "cell_type": "code",
   "execution_count": 22,
   "id": "fd034dbe-df38-479f-8909-6f059e7e0b89",
   "metadata": {
    "tags": []
   },
   "outputs": [],
   "source": [
    "TP = 0\n",
    "FP = 0\n",
    "TN = 0\n",
    "FN = 0\n",
    "\n",
    "for index, row in df_test_preds.iterrows():\n",
    "    if row[\"Target\"] == 1 and row[\"predicted_Target\"] == 1:\n",
    "        TP += 1\n",
    "    elif row[\"Target\"] == 0 and row[\"predicted_Target\"] == 1:\n",
    "        FP += 1\n",
    "    elif row[\"Target\"] == 0 and row[\"predicted_Target\"] == 0:\n",
    "        TN += 1\n",
    "    else:\n",
    "        FN += 1"
   ]
  },
  {
   "cell_type": "code",
   "execution_count": 23,
   "id": "6494325d-0378-43d1-b7b2-3413e5e87c5b",
   "metadata": {
    "tags": []
   },
   "outputs": [
    {
     "name": "stdout",
     "output_type": "stream",
     "text": [
      "RECALL:  0.9642663043478261\n",
      "PRECISION:  0.27949747952110904\n",
      "True Positives: : 7097\n",
      "True Negatives: : 40822\n",
      "False Positives: : 18295\n",
      "False Negatives: : 263\n"
     ]
    }
   ],
   "source": [
    "print(\"RECALL: \",TP/(TP+FN))\n",
    "print(\"PRECISION: \",TP/(TP+FP))\n",
    "print(\"True Positives: :\", TP)\n",
    "print(\"True Negatives: :\", TN)\n",
    "print(\"False Positives: :\", FP)\n",
    "print(\"False Negatives: :\", FN)"
   ]
  },
  {
   "cell_type": "markdown",
   "id": "37cc7a18-1967-4be9-9567-2d4266472ba5",
   "metadata": {},
   "source": [
    "#### Precision is poor, but recall is very strong.  Model is doing a good job of capturing positive value for target class but also mislabeling some 0's as 1's (False positives)."
   ]
  },
  {
   "cell_type": "markdown",
   "id": "0c6132a8-7b80-4fa3-9bf5-dcf6bb2faf1e",
   "metadata": {},
   "source": [
    "#### Create table view of test set prediction results (df_test_results)"
   ]
  },
  {
   "cell_type": "code",
   "execution_count": 24,
   "id": "0d8f157b-8cd1-42cb-98a8-33068b3d38dd",
   "metadata": {},
   "outputs": [
    {
     "data": {
      "application/vnd.jupyter.widget-view+json": {
       "model_id": "e8eaedde8b44458eb0884a726d255df7",
       "version_major": 2,
       "version_minor": 0
      },
      "text/plain": [
       "Query is running:   0%|          |"
      ]
     },
     "metadata": {},
     "output_type": "display_data"
    },
    {
     "data": {
      "text/html": [
       "<div>\n",
       "<style scoped>\n",
       "    .dataframe tbody tr th:only-of-type {\n",
       "        vertical-align: middle;\n",
       "    }\n",
       "\n",
       "    .dataframe tbody tr th {\n",
       "        vertical-align: top;\n",
       "    }\n",
       "\n",
       "    .dataframe thead th {\n",
       "        text-align: right;\n",
       "    }\n",
       "</style>\n",
       "<table border=\"1\" class=\"dataframe\">\n",
       "  <thead>\n",
       "    <tr style=\"text-align: right;\">\n",
       "      <th></th>\n",
       "    </tr>\n",
       "  </thead>\n",
       "  <tbody>\n",
       "  </tbody>\n",
       "</table>\n",
       "</div>"
      ],
      "text/plain": [
       "Empty DataFrame\n",
       "Columns: []\n",
       "Index: []"
      ]
     },
     "execution_count": 24,
     "metadata": {},
     "output_type": "execute_result"
    }
   ],
   "source": [
    "%%bigquery --project $PROJECT_ID\n",
    "\n",
    "CREATE OR REPLACE TABLE luke_cap_data.Luke_cap_preds AS (\n",
    "SELECT \n",
    "  User_session,\n",
    "  Target,\n",
    "  predicted_Target,\n",
    "  predicted_Target_probs as probability_Target\n",
    "FROM\n",
    "  ML.PREDICT(MODEL luke_cap_data.Luke_cap,\n",
    "  (SELECT * FROM luke_cap_data.final_features))\n",
    ");\n",
    "\n"
   ]
  },
  {
   "cell_type": "markdown",
   "id": "b6305109-e687-4faa-b48d-04e28e2c2204",
   "metadata": {
    "tags": []
   },
   "source": [
    "# SEND TO VERTEX AI ENDPOINT\n",
    "\n",
    "#### Assign Name of Model & Export Path"
   ]
  },
  {
   "cell_type": "code",
   "execution_count": 25,
   "id": "087f5219-a69b-45a5-9a25-e3f8efaab55c",
   "metadata": {},
   "outputs": [],
   "source": [
    "BQ_MODEL = f\"{BQ_DATASET}.{MODEL_NAME}\"\n",
    "BQ_MODEL_EXPORT_DIR = f\"gs://{GCS_BUCKET}/{MODEL_NAME}\""
   ]
  },
  {
   "cell_type": "markdown",
   "id": "9f48c148-1ab0-4930-897e-675402e3f8b3",
   "metadata": {},
   "source": [
    "#### Export model to bucket"
   ]
  },
  {
   "cell_type": "code",
   "execution_count": 26,
   "id": "4ad46f97-e415-4482-9977-9630c0b598bf",
   "metadata": {},
   "outputs": [
    {
     "name": "stdout",
     "output_type": "stream",
     "text": [
      "Waiting on bqjob_r414efa3dd21a0710_0000018dc4c9e980_1 ... (5s) Current status: DONE   \n"
     ]
    }
   ],
   "source": [
    "!bq --location=$BQ_LOCATION extract \\\n",
    "--destination_format ML_XGBOOST_BOOSTER \\\n",
    "--model $BQ_MODEL \\\n",
    "$BQ_MODEL_EXPORT_DIR"
   ]
  },
  {
   "cell_type": "markdown",
   "id": "4c9eb114-ec57-493b-adea-6c5f877c8dae",
   "metadata": {},
   "source": [
    "#### Send Model from BUCKET to VERTEX AI"
   ]
  },
  {
   "cell_type": "markdown",
   "id": "6613bc66-f107-4e59-a039-1dcba93812c4",
   "metadata": {},
   "source": [
    "#### Create latest pre-built VERTEX XBGOOST prediction container"
   ]
  },
  {
   "cell_type": "code",
   "execution_count": 27,
   "id": "bb340090-221c-4f8f-bd3c-2a86da2e7e86",
   "metadata": {},
   "outputs": [],
   "source": [
    "IMAGE_URI='us-docker.pkg.dev/vertex-ai/prediction/xgboost-cpu.1-4:latest'"
   ]
  },
  {
   "cell_type": "markdown",
   "id": "499b8602-e366-4d8c-b9bb-0da9ac1a4ca1",
   "metadata": {},
   "source": [
    "#### Send model to container"
   ]
  },
  {
   "cell_type": "code",
   "execution_count": 28,
   "id": "be17f6bf-0cd4-4b1a-b5ed-b1cb7cc62d8f",
   "metadata": {},
   "outputs": [
    {
     "name": "stdout",
     "output_type": "stream",
     "text": [
      "Creating Model\n",
      "Create Model backing LRO: projects/319407066227/locations/us-west3/models/8794492133277958144/operations/3241595574171992064\n",
      "Model created. Resource name: projects/319407066227/locations/us-west3/models/8794492133277958144@1\n",
      "To use this Model in another session:\n",
      "model = aiplatform.Model('projects/319407066227/locations/us-west3/models/8794492133277958144@1')\n"
     ]
    }
   ],
   "source": [
    "model = vertexai.Model.upload(\n",
    "    display_name=MODEL_NAME,\n",
    "    artifact_uri=BQ_MODEL_EXPORT_DIR,\n",
    "    serving_container_image_uri=IMAGE_URI,\n",
    ")"
   ]
  },
  {
   "cell_type": "markdown",
   "id": "ca6f5d3b-422c-4637-8e86-ed74a9bc3a39",
   "metadata": {},
   "source": [
    "#### DEPLOY VERTEX AI EndPoint"
   ]
  },
  {
   "cell_type": "code",
   "execution_count": 29,
   "id": "c05ba3e2-7d3f-43ca-b529-c34062dbbce5",
   "metadata": {},
   "outputs": [
    {
     "name": "stdout",
     "output_type": "stream",
     "text": [
      "Creating Endpoint\n",
      "Create Endpoint backing LRO: projects/319407066227/locations/us-west3/endpoints/7151373160636481536/operations/7853281592599379968\n",
      "Endpoint created. Resource name: projects/319407066227/locations/us-west3/endpoints/7151373160636481536\n",
      "To use this Endpoint in another session:\n",
      "endpoint = aiplatform.Endpoint('projects/319407066227/locations/us-west3/endpoints/7151373160636481536')\n",
      "Deploying model to Endpoint : projects/319407066227/locations/us-west3/endpoints/7151373160636481536\n",
      "Deploy Endpoint model backing LRO: projects/319407066227/locations/us-west3/endpoints/7151373160636481536/operations/2162420513463336960\n",
      "Endpoint model deployed. Resource name: projects/319407066227/locations/us-west3/endpoints/7151373160636481536\n"
     ]
    }
   ],
   "source": [
    "endpoint = model.deploy(\n",
    "    traffic_split={\"0\": 100},\n",
    "    machine_type=\"e2-standard-2\",\n",
    ")"
   ]
  },
  {
   "cell_type": "markdown",
   "id": "b51dcdb7-28a3-499c-bc42-9398ea96570f",
   "metadata": {},
   "source": [
    "#### MAP ENCODINGS Learned by Model to user input features for Online Predictions"
   ]
  },
  {
   "cell_type": "code",
   "execution_count": 30,
   "id": "1d0a0a46-3885-41c9-b59c-faf765b2046c",
   "metadata": {
    "tags": []
   },
   "outputs": [
    {
     "data": {
      "application/vnd.jupyter.widget-view+json": {
       "model_id": "115ebb5cc6d54087a5c81fb932ccd3a0",
       "version_major": 2,
       "version_minor": 0
      },
      "text/plain": [
       "Query is running:   0%|          |"
      ]
     },
     "metadata": {},
     "output_type": "display_data"
    },
    {
     "data": {
      "application/vnd.jupyter.widget-view+json": {
       "model_id": "a0a13342154e4e5fb904a52ceb28dd8a",
       "version_major": 2,
       "version_minor": 0
      },
      "text/plain": [
       "Downloading:   0%|          |"
      ]
     },
     "metadata": {},
     "output_type": "display_data"
    }
   ],
   "source": [
    "%%bigquery df_cat_features --project $PROJECT_ID\n",
    "\n",
    "SELECT * \n",
    "FROM luke_cap_data.final_features"
   ]
  },
  {
   "cell_type": "code",
   "execution_count": 31,
   "id": "b61f89fe-0c0f-4236-9259-c109e94ca2d6",
   "metadata": {
    "tags": []
   },
   "outputs": [
    {
     "name": "stdout",
     "output_type": "stream",
     "text": [
      "User_session : object\n",
      "source : object\n",
      "medium : object\n",
      "browser : object\n",
      "os : object\n",
      "deviceType : object\n",
      "country : object\n",
      "region : object\n",
      "metro : object\n",
      "city : object\n",
      "domain : object\n",
      "hitType : object\n",
      "productCategory : object\n",
      "channelGrouping : object\n",
      "visitNumber : Int64\n",
      "pageviews : Int64\n",
      "timeOnSite : Int64\n",
      "hitNumber : Int64\n",
      "time : Int64\n",
      "hour : Int64\n",
      "Target : Int64\n",
      "data_split : object\n"
     ]
    }
   ],
   "source": [
    "for col in df_cat_features.columns:\n",
    "    print(col,\":\",df_cat_features[col].dtype)"
   ]
  },
  {
   "cell_type": "markdown",
   "id": "1d591646-e274-4e93-9389-8c5213565b48",
   "metadata": {},
   "source": [
    "#### Choose all categorical features except User_session and data_split"
   ]
  },
  {
   "cell_type": "code",
   "execution_count": 32,
   "id": "6484e4b9-133d-45cd-9ef5-17f6f6a012cf",
   "metadata": {},
   "outputs": [
    {
     "data": {
      "text/plain": [
       "['source',\n",
       " 'medium',\n",
       " 'browser',\n",
       " 'os',\n",
       " 'deviceType',\n",
       " 'country',\n",
       " 'region',\n",
       " 'metro',\n",
       " 'city',\n",
       " 'domain',\n",
       " 'hitType',\n",
       " 'productCategory',\n",
       " 'channelGrouping']"
      ]
     },
     "execution_count": 32,
     "metadata": {},
     "output_type": "execute_result"
    }
   ],
   "source": [
    "CAT_FEATURES = [col for col in df_cat_features.columns if (df_cat_features[col].dtype==object and col!= \"User_session\" and col!= \"data_split\")]\n",
    "CAT_FEATURES"
   ]
  },
  {
   "cell_type": "code",
   "execution_count": 33,
   "id": "cfb41af5-12aa-4532-8720-0e98f6c8249b",
   "metadata": {},
   "outputs": [],
   "source": [
    "from sklearn.preprocessing import OrdinalEncoder"
   ]
  },
  {
   "cell_type": "markdown",
   "id": "75b08024-f2b3-4682-b24f-842d58162a6a",
   "metadata": {},
   "source": [
    "# Map Features from model to User inputs for Online Predictions"
   ]
  },
  {
   "cell_type": "markdown",
   "id": "feba550c-7fd9-46c2-80cf-4deb67fdc281",
   "metadata": {},
   "source": [
    "#### Create a list of paths pointing to each encoded categorical feature stored by the model"
   ]
  },
  {
   "cell_type": "code",
   "execution_count": 34,
   "id": "2a1e32ae-98d4-49df-aa2b-6dc6cf938d45",
   "metadata": {
    "tags": []
   },
   "outputs": [
    {
     "name": "stdout",
     "output_type": "stream",
     "text": [
      "['gs://york-bb-cohort-lukes_capstone/Luke_cap/assets/0_categorical_label.txt', 'gs://york-bb-cohort-lukes_capstone/Luke_cap/assets/1_categorical_label.txt', 'gs://york-bb-cohort-lukes_capstone/Luke_cap/assets/2_categorical_label.txt', 'gs://york-bb-cohort-lukes_capstone/Luke_cap/assets/3_categorical_label.txt', 'gs://york-bb-cohort-lukes_capstone/Luke_cap/assets/4_categorical_label.txt', 'gs://york-bb-cohort-lukes_capstone/Luke_cap/assets/5_categorical_label.txt', 'gs://york-bb-cohort-lukes_capstone/Luke_cap/assets/6_categorical_label.txt', 'gs://york-bb-cohort-lukes_capstone/Luke_cap/assets/7_categorical_label.txt', 'gs://york-bb-cohort-lukes_capstone/Luke_cap/assets/8_categorical_label.txt', 'gs://york-bb-cohort-lukes_capstone/Luke_cap/assets/9_categorical_label.txt', 'gs://york-bb-cohort-lukes_capstone/Luke_cap/assets/10_categorical_label.txt', 'gs://york-bb-cohort-lukes_capstone/Luke_cap/assets/11_categorical_label.txt', 'gs://york-bb-cohort-lukes_capstone/Luke_cap/assets/12_categorical_label.txt']\n"
     ]
    }
   ],
   "source": [
    "CATEGORICAL_FEATURES = []\n",
    "for idx, feature in enumerate(CAT_FEATURES):\n",
    "    feature_vocab_file = f\"gs://{GCS_BUCKET}/{MODEL_NAME}/assets/{idx}_categorical_label.txt\"\n",
    "    CATEGORICAL_FEATURES.append(feature_vocab_file)\n",
    "print(CATEGORICAL_FEATURES)"
   ]
  },
  {
   "cell_type": "code",
   "execution_count": 35,
   "id": "a68f6259-1434-4fc5-a62e-f60f463944f2",
   "metadata": {
    "tags": []
   },
   "outputs": [
    {
     "data": {
      "text/plain": [
       "{'source': OrdinalEncoder(handle_unknown='use_encoded_value', unknown_value=-1),\n",
       " 'medium': OrdinalEncoder(handle_unknown='use_encoded_value', unknown_value=-1),\n",
       " 'browser': OrdinalEncoder(handle_unknown='use_encoded_value', unknown_value=-1),\n",
       " 'os': OrdinalEncoder(handle_unknown='use_encoded_value', unknown_value=-1),\n",
       " 'deviceType': OrdinalEncoder(handle_unknown='use_encoded_value', unknown_value=-1),\n",
       " 'country': OrdinalEncoder(handle_unknown='use_encoded_value', unknown_value=-1),\n",
       " 'region': OrdinalEncoder(handle_unknown='use_encoded_value', unknown_value=-1),\n",
       " 'metro': OrdinalEncoder(handle_unknown='use_encoded_value', unknown_value=-1),\n",
       " 'city': OrdinalEncoder(handle_unknown='use_encoded_value', unknown_value=-1),\n",
       " 'domain': OrdinalEncoder(handle_unknown='use_encoded_value', unknown_value=-1),\n",
       " 'hitType': OrdinalEncoder(handle_unknown='use_encoded_value', unknown_value=-1),\n",
       " 'productCategory': OrdinalEncoder(handle_unknown='use_encoded_value', unknown_value=-1),\n",
       " 'channelGrouping': OrdinalEncoder(handle_unknown='use_encoded_value', unknown_value=-1)}"
      ]
     },
     "execution_count": 35,
     "metadata": {},
     "output_type": "execute_result"
    }
   ],
   "source": [
    " # Build categorical feature encoders for mapping text to integers for XGBoost inference. \n",
    " #    Input a list of strings (CATEGORICAL_FEATURES) that point to encoded feature files store by the model\n",
    " #     na_value (str): default is 'Unknown'. String value to replace any vocab NaN values prior to encoding.\n",
    " #    Outputs a dictionary of encoders for each categorical feature in the model to prep user input data for the model \n",
    " #     to make online predictions.\n",
    "    \n",
    "\n",
    "feature_encoders = {}\n",
    "    \n",
    "for feat in CATEGORICAL_FEATURES:\n",
    "    for f in CAT_FEATURES:\n",
    "        feature_encoder = OrdinalEncoder(handle_unknown=\"use_encoded_value\", unknown_value=-1)\n",
    "        feature_vocab_df = pd.read_csv(feat, delimiter = \"\\t\", header=None).fillna('Unknown')\n",
    "        feature_encoder.fit(feature_vocab_df.values)\n",
    "        feature_encoders[f] = feature_encoder\n",
    "feature_encoders  \n"
   ]
  },
  {
   "cell_type": "code",
   "execution_count": 41,
   "id": "46c21340-f97b-44da-900d-36e8ffae9eb5",
   "metadata": {
    "tags": []
   },
   "outputs": [],
   "source": [
    "# Transform instances to numerical values for inference.\n",
    "    # Inputs a dictionary of test inputs, the original data set's categorical features and their encoders\n",
    "    # Outputs a list of lists of transformed categorical features in numerical form the model can handle\n",
    "\n",
    "def preprocess_xgboost(instances, cat_feature_list, feature_encoders):    \n",
    "    transformed_instances = []\n",
    "    for instance in instances:\n",
    "        for feature in cat_feature_list:\n",
    "            feature_int = feature_encoders[feature].transform([[instance[feature]]]).item()\n",
    "            instance[feature] = feature_int\n",
    "            instance_list = list(instance.values())\n",
    "        transformed_instances.append(instance_list)\n",
    "    return transformed_instances"
   ]
  },
  {
   "cell_type": "markdown",
   "id": "7ebad014-88e1-4eb4-a16e-36ed708f749c",
   "metadata": {},
   "source": [
    "#### Generate some test data for online predictions"
   ]
  },
  {
   "cell_type": "code",
   "execution_count": 42,
   "id": "73202493-b2ce-4d60-9663-b9447bb0fe8f",
   "metadata": {},
   "outputs": [
    {
     "data": {
      "application/vnd.jupyter.widget-view+json": {
       "model_id": "5defb08f59a3493cb07cf00c12da5a8d",
       "version_major": 2,
       "version_minor": 0
      },
      "text/plain": [
       "Query is running:   0%|          |"
      ]
     },
     "metadata": {},
     "output_type": "display_data"
    },
    {
     "data": {
      "application/vnd.jupyter.widget-view+json": {
       "model_id": "ce58298b472b4d08b1044f3f7cdc20d0",
       "version_major": 2,
       "version_minor": 0
      },
      "text/plain": [
       "Downloading:   0%|          |"
      ]
     },
     "metadata": {},
     "output_type": "display_data"
    }
   ],
   "source": [
    "%%bigquery test_df --project $PROJECT_ID \n",
    "\n",
    "SELECT* EXCEPT (User_session, Target, data_split)\n",
    "FROM luke_cap_data.final_features\n",
    "WHERE data_split=\"TEST\"\n",
    "LIMIT 5;"
   ]
  },
  {
   "cell_type": "code",
   "execution_count": 43,
   "id": "aeb53629-2927-475c-b22a-e8655500acaa",
   "metadata": {},
   "outputs": [],
   "source": [
    "# Convert dataframe records to feature dictionaries for preprocessing by feature name.\n",
    "test_instances = test_df.astype(str).to_dict(orient='records')"
   ]
  },
  {
   "cell_type": "code",
   "execution_count": 44,
   "id": "a257ccfb-7ceb-47d6-8ea1-db4e6490f99b",
   "metadata": {},
   "outputs": [],
   "source": [
    "# Apply preprocessing to transform categorical features and return numerical instances for prediction.\n",
    "transformed_test_instances = preprocess_xgboost(test_instances, CAT_FEATURES, feature_encoders)"
   ]
  },
  {
   "cell_type": "code",
   "execution_count": 45,
   "id": "c6e60335-f390-4c5b-b710-6792bfa3d28c",
   "metadata": {},
   "outputs": [],
   "source": [
    "# Generate predictions from model deployed to Vertex AI Endpoint.\n",
    "predictions = endpoint.predict(instances=transformed_test_instances)"
   ]
  },
  {
   "cell_type": "code",
   "execution_count": 46,
   "id": "19416070-d283-49bf-99e0-754231e267ce",
   "metadata": {},
   "outputs": [
    {
     "name": "stdout",
     "output_type": "stream",
     "text": [
      "Prediction: Customer 0 - Added [0.7322972416877747, 0.267702728509903]\n",
      "{\"source\":\"(direct)\",\"medium\":\"(none)\",\"browser\":\"Chrome\",\"os\":\"Windows\",\"deviceType\":\"desktop\",\"country\":\"United States\",\"region\":\"Unknown\",\"metro\":\"Unknown\",\"city\":\"Unknown\",\"domain\":\"mckinneyisd.net\",\"hitType\":\"EVENT\",\"productCategory\":\"Home\\/Office\\/Office Other\\/\",\"channelGrouping\":\"Direct\",\"visitNumber\":\"1\",\"pageviews\":\"14\",\"timeOnSite\":\"1795\",\"hitNumber\":\"13\",\"time\":\"579397\",\"hour\":\"7\"}\n",
      "\n",
      "Prediction: Customer 1 - Added [0.7188335657119751, 0.2811664640903473]\n",
      "{\"source\":\"dfa\",\"medium\":\"cpm\",\"browser\":\"Chrome\",\"os\":\"Chrome OS\",\"deviceType\":\"desktop\",\"country\":\"United States\",\"region\":\"New York\",\"metro\":\"New York NY\",\"city\":\"New York\",\"domain\":\"(not set)\",\"hitType\":\"EVENT\",\"productCategory\":\"Home\\/Office\\/Notebooks & Journals\\/\",\"channelGrouping\":\"Display\",\"visitNumber\":\"10\",\"pageviews\":\"14\",\"timeOnSite\":\"167\",\"hitNumber\":\"6\",\"time\":\"61102\",\"hour\":\"6\"}\n",
      "\n",
      "Prediction: Customer 2 - Added [0.720758855342865, 0.279241144657135]\n",
      "{\"source\":\"(direct)\",\"medium\":\"(none)\",\"browser\":\"Safari\",\"os\":\"Macintosh\",\"deviceType\":\"desktop\",\"country\":\"United States\",\"region\":\"Unknown\",\"metro\":\"Unknown\",\"city\":\"Unknown\",\"domain\":\"bucknell.edu\",\"hitType\":\"EVENT\",\"productCategory\":\"Home\\/Apparel\\/Men's\\/Men's-T-Shirts\\/\",\"channelGrouping\":\"Organic Search\",\"visitNumber\":\"1\",\"pageviews\":\"10\",\"timeOnSite\":\"41\",\"hitNumber\":\"3\",\"time\":\"7238\",\"hour\":\"19\"}\n",
      "\n",
      "Prediction: Customer 3 - Added [0.746417760848999, 0.2535822093486786]\n",
      "{\"source\":\"(direct)\",\"medium\":\"(none)\",\"browser\":\"Safari\",\"os\":\"Macintosh\",\"deviceType\":\"desktop\",\"country\":\"United States\",\"region\":\"Unknown\",\"metro\":\"Unknown\",\"city\":\"Unknown\",\"domain\":\"bucknell.edu\",\"hitType\":\"PAGE\",\"productCategory\":\"Home\\/Apparel\\/Men's\\/Men's-T-Shirts\\/\",\"channelGrouping\":\"Organic Search\",\"visitNumber\":\"1\",\"pageviews\":\"10\",\"timeOnSite\":\"41\",\"hitNumber\":\"7\",\"time\":\"23044\",\"hour\":\"19\"}\n",
      "\n",
      "Prediction: Customer 4 - Added [0.7504525184631348, 0.249547466635704]\n",
      "{\"source\":\"(direct)\",\"medium\":\"(none)\",\"browser\":\"Safari\",\"os\":\"Macintosh\",\"deviceType\":\"desktop\",\"country\":\"United States\",\"region\":\"Unknown\",\"metro\":\"Unknown\",\"city\":\"Unknown\",\"domain\":\"bucknell.edu\",\"hitType\":\"EVENT\",\"productCategory\":\"Home\\/Apparel\\/Men's\\/Men's-T-Shirts\\/\",\"channelGrouping\":\"Organic Search\",\"visitNumber\":\"1\",\"pageviews\":\"10\",\"timeOnSite\":\"41\",\"hitNumber\":\"12\",\"time\":\"28623\",\"hour\":\"19\"}\n",
      "\n"
     ]
    }
   ],
   "source": [
    "for idx, prediction in enumerate(predictions.predictions):\n",
    "    # Class labels [1,0] retrieved from model_metadata.json in GCS model dir.\n",
    "    # BQML binary classification default is 0.5 with above \"Churn\" and below \"Not Churn\".\n",
    "    add2cart = \"Added\" if prediction[0] >= 0.5 else \"Not Added\"\n",
    "    print(f\"Prediction: Customer {idx} - {add2cart} {prediction}\")\n",
    "    print(test_df.iloc[idx].astype(str).to_json() + \"\\n\")"
   ]
  }
 ],
 "metadata": {
  "environment": {
   "kernel": "conda-root-py",
   "name": "workbench-notebooks.m115",
   "type": "gcloud",
   "uri": "gcr.io/deeplearning-platform-release/workbench-notebooks:m115"
  },
  "kernelspec": {
   "display_name": "Python 3 (ipykernel) (Local)",
   "language": "python",
   "name": "conda-root-py"
  },
  "language_info": {
   "codemirror_mode": {
    "name": "ipython",
    "version": 3
   },
   "file_extension": ".py",
   "mimetype": "text/x-python",
   "name": "python",
   "nbconvert_exporter": "python",
   "pygments_lexer": "ipython3",
   "version": "3.10.13"
  }
 },
 "nbformat": 4,
 "nbformat_minor": 5
}
