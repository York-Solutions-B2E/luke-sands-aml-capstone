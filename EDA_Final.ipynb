{
 "cells": [
  {
   "cell_type": "code",
   "execution_count": 1,
   "id": "25e2f3ca-39b2-4c2f-a06c-2372cbec5b3d",
   "metadata": {
    "collapsed": true,
    "jupyter": {
     "outputs_hidden": true
    },
    "tags": []
   },
   "outputs": [
    {
     "name": "stdout",
     "output_type": "stream",
     "text": [
      "Requirement already satisfied: google-cloud-aiplatform in /opt/conda/lib/python3.10/site-packages (1.39.0)\n",
      "Requirement already satisfied: google-api-core!=2.0.*,!=2.1.*,!=2.2.*,!=2.3.*,!=2.4.*,!=2.5.*,!=2.6.*,!=2.7.*,<3.0.0dev,>=1.32.0 in /opt/conda/lib/python3.10/site-packages (from google-api-core[grpc]!=2.0.*,!=2.1.*,!=2.2.*,!=2.3.*,!=2.4.*,!=2.5.*,!=2.6.*,!=2.7.*,<3.0.0dev,>=1.32.0->google-cloud-aiplatform) (1.34.0)\n",
      "Requirement already satisfied: proto-plus<2.0.0dev,>=1.22.0 in /opt/conda/lib/python3.10/site-packages (from google-cloud-aiplatform) (1.23.0)\n",
      "Requirement already satisfied: protobuf!=3.20.0,!=3.20.1,!=4.21.0,!=4.21.1,!=4.21.2,!=4.21.3,!=4.21.4,!=4.21.5,<5.0.0dev,>=3.19.5 in /opt/conda/lib/python3.10/site-packages (from google-cloud-aiplatform) (3.20.3)\n",
      "Requirement already satisfied: packaging>=14.3 in /opt/conda/lib/python3.10/site-packages (from google-cloud-aiplatform) (23.2)\n",
      "Requirement already satisfied: google-cloud-storage<3.0.0dev,>=1.32.0 in /opt/conda/lib/python3.10/site-packages (from google-cloud-aiplatform) (2.14.0)\n",
      "Requirement already satisfied: google-cloud-bigquery<4.0.0dev,>=1.15.0 in ./.local/lib/python3.10/site-packages (from google-cloud-aiplatform) (3.17.2)\n",
      "Requirement already satisfied: google-cloud-resource-manager<3.0.0dev,>=1.3.3 in /opt/conda/lib/python3.10/site-packages (from google-cloud-aiplatform) (1.11.0)\n",
      "Requirement already satisfied: shapely<3.0.0dev in /opt/conda/lib/python3.10/site-packages (from google-cloud-aiplatform) (2.0.2)\n",
      "Requirement already satisfied: googleapis-common-protos<2.0dev,>=1.56.2 in /opt/conda/lib/python3.10/site-packages (from google-api-core!=2.0.*,!=2.1.*,!=2.2.*,!=2.3.*,!=2.4.*,!=2.5.*,!=2.6.*,!=2.7.*,<3.0.0dev,>=1.32.0->google-api-core[grpc]!=2.0.*,!=2.1.*,!=2.2.*,!=2.3.*,!=2.4.*,!=2.5.*,!=2.6.*,!=2.7.*,<3.0.0dev,>=1.32.0->google-cloud-aiplatform) (1.62.0)\n",
      "Requirement already satisfied: google-auth<3.0dev,>=1.25.0 in /opt/conda/lib/python3.10/site-packages (from google-api-core!=2.0.*,!=2.1.*,!=2.2.*,!=2.3.*,!=2.4.*,!=2.5.*,!=2.6.*,!=2.7.*,<3.0.0dev,>=1.32.0->google-api-core[grpc]!=2.0.*,!=2.1.*,!=2.2.*,!=2.3.*,!=2.4.*,!=2.5.*,!=2.6.*,!=2.7.*,<3.0.0dev,>=1.32.0->google-cloud-aiplatform) (2.26.2)\n",
      "Requirement already satisfied: requests<3.0.0dev,>=2.18.0 in /opt/conda/lib/python3.10/site-packages (from google-api-core!=2.0.*,!=2.1.*,!=2.2.*,!=2.3.*,!=2.4.*,!=2.5.*,!=2.6.*,!=2.7.*,<3.0.0dev,>=1.32.0->google-api-core[grpc]!=2.0.*,!=2.1.*,!=2.2.*,!=2.3.*,!=2.4.*,!=2.5.*,!=2.6.*,!=2.7.*,<3.0.0dev,>=1.32.0->google-cloud-aiplatform) (2.31.0)\n",
      "Requirement already satisfied: grpcio<2.0dev,>=1.33.2 in /opt/conda/lib/python3.10/site-packages (from google-api-core[grpc]!=2.0.*,!=2.1.*,!=2.2.*,!=2.3.*,!=2.4.*,!=2.5.*,!=2.6.*,!=2.7.*,<3.0.0dev,>=1.32.0->google-cloud-aiplatform) (1.60.0)\n",
      "Requirement already satisfied: grpcio-status<2.0dev,>=1.33.2 in /opt/conda/lib/python3.10/site-packages (from google-api-core[grpc]!=2.0.*,!=2.1.*,!=2.2.*,!=2.3.*,!=2.4.*,!=2.5.*,!=2.6.*,!=2.7.*,<3.0.0dev,>=1.32.0->google-cloud-aiplatform) (1.48.2)\n",
      "Requirement already satisfied: google-cloud-core<3.0.0dev,>=1.6.0 in /opt/conda/lib/python3.10/site-packages (from google-cloud-bigquery<4.0.0dev,>=1.15.0->google-cloud-aiplatform) (2.4.1)\n",
      "Requirement already satisfied: google-resumable-media<3.0dev,>=0.6.0 in /opt/conda/lib/python3.10/site-packages (from google-cloud-bigquery<4.0.0dev,>=1.15.0->google-cloud-aiplatform) (2.7.0)\n",
      "Requirement already satisfied: python-dateutil<3.0dev,>=2.7.2 in /opt/conda/lib/python3.10/site-packages (from google-cloud-bigquery<4.0.0dev,>=1.15.0->google-cloud-aiplatform) (2.8.2)\n",
      "Requirement already satisfied: grpc-google-iam-v1<1.0.0dev,>=0.12.4 in /opt/conda/lib/python3.10/site-packages (from google-cloud-resource-manager<3.0.0dev,>=1.3.3->google-cloud-aiplatform) (0.13.0)\n",
      "Requirement already satisfied: google-crc32c<2.0dev,>=1.0 in /opt/conda/lib/python3.10/site-packages (from google-cloud-storage<3.0.0dev,>=1.32.0->google-cloud-aiplatform) (1.5.0)\n",
      "Requirement already satisfied: numpy>=1.14 in /opt/conda/lib/python3.10/site-packages (from shapely<3.0.0dev->google-cloud-aiplatform) (1.25.2)\n",
      "Requirement already satisfied: cachetools<6.0,>=2.0.0 in /opt/conda/lib/python3.10/site-packages (from google-auth<3.0dev,>=1.25.0->google-api-core!=2.0.*,!=2.1.*,!=2.2.*,!=2.3.*,!=2.4.*,!=2.5.*,!=2.6.*,!=2.7.*,<3.0.0dev,>=1.32.0->google-api-core[grpc]!=2.0.*,!=2.1.*,!=2.2.*,!=2.3.*,!=2.4.*,!=2.5.*,!=2.6.*,!=2.7.*,<3.0.0dev,>=1.32.0->google-cloud-aiplatform) (5.3.2)\n",
      "Requirement already satisfied: pyasn1-modules>=0.2.1 in /opt/conda/lib/python3.10/site-packages (from google-auth<3.0dev,>=1.25.0->google-api-core!=2.0.*,!=2.1.*,!=2.2.*,!=2.3.*,!=2.4.*,!=2.5.*,!=2.6.*,!=2.7.*,<3.0.0dev,>=1.32.0->google-api-core[grpc]!=2.0.*,!=2.1.*,!=2.2.*,!=2.3.*,!=2.4.*,!=2.5.*,!=2.6.*,!=2.7.*,<3.0.0dev,>=1.32.0->google-cloud-aiplatform) (0.3.0)\n",
      "Requirement already satisfied: rsa<5,>=3.1.4 in /opt/conda/lib/python3.10/site-packages (from google-auth<3.0dev,>=1.25.0->google-api-core!=2.0.*,!=2.1.*,!=2.2.*,!=2.3.*,!=2.4.*,!=2.5.*,!=2.6.*,!=2.7.*,<3.0.0dev,>=1.32.0->google-api-core[grpc]!=2.0.*,!=2.1.*,!=2.2.*,!=2.3.*,!=2.4.*,!=2.5.*,!=2.6.*,!=2.7.*,<3.0.0dev,>=1.32.0->google-cloud-aiplatform) (4.9)\n",
      "Requirement already satisfied: six>=1.5 in /opt/conda/lib/python3.10/site-packages (from python-dateutil<3.0dev,>=2.7.2->google-cloud-bigquery<4.0.0dev,>=1.15.0->google-cloud-aiplatform) (1.16.0)\n",
      "Requirement already satisfied: charset-normalizer<4,>=2 in /opt/conda/lib/python3.10/site-packages (from requests<3.0.0dev,>=2.18.0->google-api-core!=2.0.*,!=2.1.*,!=2.2.*,!=2.3.*,!=2.4.*,!=2.5.*,!=2.6.*,!=2.7.*,<3.0.0dev,>=1.32.0->google-api-core[grpc]!=2.0.*,!=2.1.*,!=2.2.*,!=2.3.*,!=2.4.*,!=2.5.*,!=2.6.*,!=2.7.*,<3.0.0dev,>=1.32.0->google-cloud-aiplatform) (3.3.2)\n",
      "Requirement already satisfied: idna<4,>=2.5 in /opt/conda/lib/python3.10/site-packages (from requests<3.0.0dev,>=2.18.0->google-api-core!=2.0.*,!=2.1.*,!=2.2.*,!=2.3.*,!=2.4.*,!=2.5.*,!=2.6.*,!=2.7.*,<3.0.0dev,>=1.32.0->google-api-core[grpc]!=2.0.*,!=2.1.*,!=2.2.*,!=2.3.*,!=2.4.*,!=2.5.*,!=2.6.*,!=2.7.*,<3.0.0dev,>=1.32.0->google-cloud-aiplatform) (3.6)\n",
      "Requirement already satisfied: urllib3<3,>=1.21.1 in /opt/conda/lib/python3.10/site-packages (from requests<3.0.0dev,>=2.18.0->google-api-core!=2.0.*,!=2.1.*,!=2.2.*,!=2.3.*,!=2.4.*,!=2.5.*,!=2.6.*,!=2.7.*,<3.0.0dev,>=1.32.0->google-api-core[grpc]!=2.0.*,!=2.1.*,!=2.2.*,!=2.3.*,!=2.4.*,!=2.5.*,!=2.6.*,!=2.7.*,<3.0.0dev,>=1.32.0->google-cloud-aiplatform) (1.26.18)\n",
      "Requirement already satisfied: certifi>=2017.4.17 in /opt/conda/lib/python3.10/site-packages (from requests<3.0.0dev,>=2.18.0->google-api-core!=2.0.*,!=2.1.*,!=2.2.*,!=2.3.*,!=2.4.*,!=2.5.*,!=2.6.*,!=2.7.*,<3.0.0dev,>=1.32.0->google-api-core[grpc]!=2.0.*,!=2.1.*,!=2.2.*,!=2.3.*,!=2.4.*,!=2.5.*,!=2.6.*,!=2.7.*,<3.0.0dev,>=1.32.0->google-cloud-aiplatform) (2023.11.17)\n",
      "Requirement already satisfied: pyasn1<0.6.0,>=0.4.6 in /opt/conda/lib/python3.10/site-packages (from pyasn1-modules>=0.2.1->google-auth<3.0dev,>=1.25.0->google-api-core!=2.0.*,!=2.1.*,!=2.2.*,!=2.3.*,!=2.4.*,!=2.5.*,!=2.6.*,!=2.7.*,<3.0.0dev,>=1.32.0->google-api-core[grpc]!=2.0.*,!=2.1.*,!=2.2.*,!=2.3.*,!=2.4.*,!=2.5.*,!=2.6.*,!=2.7.*,<3.0.0dev,>=1.32.0->google-cloud-aiplatform) (0.5.1)\n",
      "Requirement already satisfied: pyarrow==11.0.0 in ./.local/lib/python3.10/site-packages (11.0.0)\n",
      "Requirement already satisfied: numpy>=1.16.6 in /opt/conda/lib/python3.10/site-packages (from pyarrow==11.0.0) (1.25.2)\n",
      "Requirement already satisfied: google-cloud-bigquery in ./.local/lib/python3.10/site-packages (3.17.2)\n",
      "Requirement already satisfied: google-api-core!=2.0.*,!=2.1.*,!=2.2.*,!=2.3.0,<3.0.0dev,>=1.31.5 in /opt/conda/lib/python3.10/site-packages (from google-cloud-bigquery) (1.34.0)\n",
      "Requirement already satisfied: google-cloud-core<3.0.0dev,>=1.6.0 in /opt/conda/lib/python3.10/site-packages (from google-cloud-bigquery) (2.4.1)\n",
      "Requirement already satisfied: google-resumable-media<3.0dev,>=0.6.0 in /opt/conda/lib/python3.10/site-packages (from google-cloud-bigquery) (2.7.0)\n",
      "Requirement already satisfied: packaging>=20.0.0 in /opt/conda/lib/python3.10/site-packages (from google-cloud-bigquery) (23.2)\n",
      "Requirement already satisfied: python-dateutil<3.0dev,>=2.7.2 in /opt/conda/lib/python3.10/site-packages (from google-cloud-bigquery) (2.8.2)\n",
      "Requirement already satisfied: requests<3.0.0dev,>=2.21.0 in /opt/conda/lib/python3.10/site-packages (from google-cloud-bigquery) (2.31.0)\n",
      "Requirement already satisfied: googleapis-common-protos<2.0dev,>=1.56.2 in /opt/conda/lib/python3.10/site-packages (from google-api-core!=2.0.*,!=2.1.*,!=2.2.*,!=2.3.0,<3.0.0dev,>=1.31.5->google-cloud-bigquery) (1.62.0)\n",
      "Requirement already satisfied: protobuf!=3.20.0,!=3.20.1,!=4.21.0,!=4.21.1,!=4.21.2,!=4.21.3,!=4.21.4,!=4.21.5,<4.0.0dev,>=3.19.5 in /opt/conda/lib/python3.10/site-packages (from google-api-core!=2.0.*,!=2.1.*,!=2.2.*,!=2.3.0,<3.0.0dev,>=1.31.5->google-cloud-bigquery) (3.20.3)\n",
      "Requirement already satisfied: google-auth<3.0dev,>=1.25.0 in /opt/conda/lib/python3.10/site-packages (from google-api-core!=2.0.*,!=2.1.*,!=2.2.*,!=2.3.0,<3.0.0dev,>=1.31.5->google-cloud-bigquery) (2.26.2)\n",
      "Requirement already satisfied: google-crc32c<2.0dev,>=1.0 in /opt/conda/lib/python3.10/site-packages (from google-resumable-media<3.0dev,>=0.6.0->google-cloud-bigquery) (1.5.0)\n",
      "Requirement already satisfied: six>=1.5 in /opt/conda/lib/python3.10/site-packages (from python-dateutil<3.0dev,>=2.7.2->google-cloud-bigquery) (1.16.0)\n",
      "Requirement already satisfied: charset-normalizer<4,>=2 in /opt/conda/lib/python3.10/site-packages (from requests<3.0.0dev,>=2.21.0->google-cloud-bigquery) (3.3.2)\n",
      "Requirement already satisfied: idna<4,>=2.5 in /opt/conda/lib/python3.10/site-packages (from requests<3.0.0dev,>=2.21.0->google-cloud-bigquery) (3.6)\n",
      "Requirement already satisfied: urllib3<3,>=1.21.1 in /opt/conda/lib/python3.10/site-packages (from requests<3.0.0dev,>=2.21.0->google-cloud-bigquery) (1.26.18)\n",
      "Requirement already satisfied: certifi>=2017.4.17 in /opt/conda/lib/python3.10/site-packages (from requests<3.0.0dev,>=2.21.0->google-cloud-bigquery) (2023.11.17)\n",
      "Requirement already satisfied: cachetools<6.0,>=2.0.0 in /opt/conda/lib/python3.10/site-packages (from google-auth<3.0dev,>=1.25.0->google-api-core!=2.0.*,!=2.1.*,!=2.2.*,!=2.3.0,<3.0.0dev,>=1.31.5->google-cloud-bigquery) (5.3.2)\n",
      "Requirement already satisfied: pyasn1-modules>=0.2.1 in /opt/conda/lib/python3.10/site-packages (from google-auth<3.0dev,>=1.25.0->google-api-core!=2.0.*,!=2.1.*,!=2.2.*,!=2.3.0,<3.0.0dev,>=1.31.5->google-cloud-bigquery) (0.3.0)\n",
      "Requirement already satisfied: rsa<5,>=3.1.4 in /opt/conda/lib/python3.10/site-packages (from google-auth<3.0dev,>=1.25.0->google-api-core!=2.0.*,!=2.1.*,!=2.2.*,!=2.3.0,<3.0.0dev,>=1.31.5->google-cloud-bigquery) (4.9)\n",
      "Requirement already satisfied: pyasn1<0.6.0,>=0.4.6 in /opt/conda/lib/python3.10/site-packages (from pyasn1-modules>=0.2.1->google-auth<3.0dev,>=1.25.0->google-api-core!=2.0.*,!=2.1.*,!=2.2.*,!=2.3.0,<3.0.0dev,>=1.31.5->google-cloud-bigquery) (0.5.1)\n",
      "Requirement already satisfied: google-cloud-bigquery-storage in /opt/conda/lib/python3.10/site-packages (2.24.0)\n",
      "Requirement already satisfied: google-api-core!=2.0.*,!=2.1.*,!=2.10.*,!=2.2.*,!=2.3.*,!=2.4.*,!=2.5.*,!=2.6.*,!=2.7.*,!=2.8.*,!=2.9.*,<3.0.0dev,>=1.34.0 in /opt/conda/lib/python3.10/site-packages (from google-api-core[grpc]!=2.0.*,!=2.1.*,!=2.10.*,!=2.2.*,!=2.3.*,!=2.4.*,!=2.5.*,!=2.6.*,!=2.7.*,!=2.8.*,!=2.9.*,<3.0.0dev,>=1.34.0->google-cloud-bigquery-storage) (1.34.0)\n",
      "Requirement already satisfied: proto-plus<2.0.0dev,>=1.22.0 in /opt/conda/lib/python3.10/site-packages (from google-cloud-bigquery-storage) (1.23.0)\n",
      "Requirement already satisfied: protobuf!=3.20.0,!=3.20.1,!=4.21.0,!=4.21.1,!=4.21.2,!=4.21.3,!=4.21.4,!=4.21.5,<5.0.0dev,>=3.19.5 in /opt/conda/lib/python3.10/site-packages (from google-cloud-bigquery-storage) (3.20.3)\n",
      "Requirement already satisfied: googleapis-common-protos<2.0dev,>=1.56.2 in /opt/conda/lib/python3.10/site-packages (from google-api-core!=2.0.*,!=2.1.*,!=2.10.*,!=2.2.*,!=2.3.*,!=2.4.*,!=2.5.*,!=2.6.*,!=2.7.*,!=2.8.*,!=2.9.*,<3.0.0dev,>=1.34.0->google-api-core[grpc]!=2.0.*,!=2.1.*,!=2.10.*,!=2.2.*,!=2.3.*,!=2.4.*,!=2.5.*,!=2.6.*,!=2.7.*,!=2.8.*,!=2.9.*,<3.0.0dev,>=1.34.0->google-cloud-bigquery-storage) (1.62.0)\n",
      "Requirement already satisfied: google-auth<3.0dev,>=1.25.0 in /opt/conda/lib/python3.10/site-packages (from google-api-core!=2.0.*,!=2.1.*,!=2.10.*,!=2.2.*,!=2.3.*,!=2.4.*,!=2.5.*,!=2.6.*,!=2.7.*,!=2.8.*,!=2.9.*,<3.0.0dev,>=1.34.0->google-api-core[grpc]!=2.0.*,!=2.1.*,!=2.10.*,!=2.2.*,!=2.3.*,!=2.4.*,!=2.5.*,!=2.6.*,!=2.7.*,!=2.8.*,!=2.9.*,<3.0.0dev,>=1.34.0->google-cloud-bigquery-storage) (2.26.2)\n",
      "Requirement already satisfied: requests<3.0.0dev,>=2.18.0 in /opt/conda/lib/python3.10/site-packages (from google-api-core!=2.0.*,!=2.1.*,!=2.10.*,!=2.2.*,!=2.3.*,!=2.4.*,!=2.5.*,!=2.6.*,!=2.7.*,!=2.8.*,!=2.9.*,<3.0.0dev,>=1.34.0->google-api-core[grpc]!=2.0.*,!=2.1.*,!=2.10.*,!=2.2.*,!=2.3.*,!=2.4.*,!=2.5.*,!=2.6.*,!=2.7.*,!=2.8.*,!=2.9.*,<3.0.0dev,>=1.34.0->google-cloud-bigquery-storage) (2.31.0)\n",
      "Requirement already satisfied: grpcio<2.0dev,>=1.33.2 in /opt/conda/lib/python3.10/site-packages (from google-api-core[grpc]!=2.0.*,!=2.1.*,!=2.10.*,!=2.2.*,!=2.3.*,!=2.4.*,!=2.5.*,!=2.6.*,!=2.7.*,!=2.8.*,!=2.9.*,<3.0.0dev,>=1.34.0->google-cloud-bigquery-storage) (1.60.0)\n",
      "Requirement already satisfied: grpcio-status<2.0dev,>=1.33.2 in /opt/conda/lib/python3.10/site-packages (from google-api-core[grpc]!=2.0.*,!=2.1.*,!=2.10.*,!=2.2.*,!=2.3.*,!=2.4.*,!=2.5.*,!=2.6.*,!=2.7.*,!=2.8.*,!=2.9.*,<3.0.0dev,>=1.34.0->google-cloud-bigquery-storage) (1.48.2)\n",
      "Requirement already satisfied: cachetools<6.0,>=2.0.0 in /opt/conda/lib/python3.10/site-packages (from google-auth<3.0dev,>=1.25.0->google-api-core!=2.0.*,!=2.1.*,!=2.10.*,!=2.2.*,!=2.3.*,!=2.4.*,!=2.5.*,!=2.6.*,!=2.7.*,!=2.8.*,!=2.9.*,<3.0.0dev,>=1.34.0->google-api-core[grpc]!=2.0.*,!=2.1.*,!=2.10.*,!=2.2.*,!=2.3.*,!=2.4.*,!=2.5.*,!=2.6.*,!=2.7.*,!=2.8.*,!=2.9.*,<3.0.0dev,>=1.34.0->google-cloud-bigquery-storage) (5.3.2)\n",
      "Requirement already satisfied: pyasn1-modules>=0.2.1 in /opt/conda/lib/python3.10/site-packages (from google-auth<3.0dev,>=1.25.0->google-api-core!=2.0.*,!=2.1.*,!=2.10.*,!=2.2.*,!=2.3.*,!=2.4.*,!=2.5.*,!=2.6.*,!=2.7.*,!=2.8.*,!=2.9.*,<3.0.0dev,>=1.34.0->google-api-core[grpc]!=2.0.*,!=2.1.*,!=2.10.*,!=2.2.*,!=2.3.*,!=2.4.*,!=2.5.*,!=2.6.*,!=2.7.*,!=2.8.*,!=2.9.*,<3.0.0dev,>=1.34.0->google-cloud-bigquery-storage) (0.3.0)\n",
      "Requirement already satisfied: rsa<5,>=3.1.4 in /opt/conda/lib/python3.10/site-packages (from google-auth<3.0dev,>=1.25.0->google-api-core!=2.0.*,!=2.1.*,!=2.10.*,!=2.2.*,!=2.3.*,!=2.4.*,!=2.5.*,!=2.6.*,!=2.7.*,!=2.8.*,!=2.9.*,<3.0.0dev,>=1.34.0->google-api-core[grpc]!=2.0.*,!=2.1.*,!=2.10.*,!=2.2.*,!=2.3.*,!=2.4.*,!=2.5.*,!=2.6.*,!=2.7.*,!=2.8.*,!=2.9.*,<3.0.0dev,>=1.34.0->google-cloud-bigquery-storage) (4.9)\n",
      "Requirement already satisfied: charset-normalizer<4,>=2 in /opt/conda/lib/python3.10/site-packages (from requests<3.0.0dev,>=2.18.0->google-api-core!=2.0.*,!=2.1.*,!=2.10.*,!=2.2.*,!=2.3.*,!=2.4.*,!=2.5.*,!=2.6.*,!=2.7.*,!=2.8.*,!=2.9.*,<3.0.0dev,>=1.34.0->google-api-core[grpc]!=2.0.*,!=2.1.*,!=2.10.*,!=2.2.*,!=2.3.*,!=2.4.*,!=2.5.*,!=2.6.*,!=2.7.*,!=2.8.*,!=2.9.*,<3.0.0dev,>=1.34.0->google-cloud-bigquery-storage) (3.3.2)\n",
      "Requirement already satisfied: idna<4,>=2.5 in /opt/conda/lib/python3.10/site-packages (from requests<3.0.0dev,>=2.18.0->google-api-core!=2.0.*,!=2.1.*,!=2.10.*,!=2.2.*,!=2.3.*,!=2.4.*,!=2.5.*,!=2.6.*,!=2.7.*,!=2.8.*,!=2.9.*,<3.0.0dev,>=1.34.0->google-api-core[grpc]!=2.0.*,!=2.1.*,!=2.10.*,!=2.2.*,!=2.3.*,!=2.4.*,!=2.5.*,!=2.6.*,!=2.7.*,!=2.8.*,!=2.9.*,<3.0.0dev,>=1.34.0->google-cloud-bigquery-storage) (3.6)\n",
      "Requirement already satisfied: urllib3<3,>=1.21.1 in /opt/conda/lib/python3.10/site-packages (from requests<3.0.0dev,>=2.18.0->google-api-core!=2.0.*,!=2.1.*,!=2.10.*,!=2.2.*,!=2.3.*,!=2.4.*,!=2.5.*,!=2.6.*,!=2.7.*,!=2.8.*,!=2.9.*,<3.0.0dev,>=1.34.0->google-api-core[grpc]!=2.0.*,!=2.1.*,!=2.10.*,!=2.2.*,!=2.3.*,!=2.4.*,!=2.5.*,!=2.6.*,!=2.7.*,!=2.8.*,!=2.9.*,<3.0.0dev,>=1.34.0->google-cloud-bigquery-storage) (1.26.18)\n",
      "Requirement already satisfied: certifi>=2017.4.17 in /opt/conda/lib/python3.10/site-packages (from requests<3.0.0dev,>=2.18.0->google-api-core!=2.0.*,!=2.1.*,!=2.10.*,!=2.2.*,!=2.3.*,!=2.4.*,!=2.5.*,!=2.6.*,!=2.7.*,!=2.8.*,!=2.9.*,<3.0.0dev,>=1.34.0->google-api-core[grpc]!=2.0.*,!=2.1.*,!=2.10.*,!=2.2.*,!=2.3.*,!=2.4.*,!=2.5.*,!=2.6.*,!=2.7.*,!=2.8.*,!=2.9.*,<3.0.0dev,>=1.34.0->google-cloud-bigquery-storage) (2023.11.17)\n",
      "Requirement already satisfied: pyasn1<0.6.0,>=0.4.6 in /opt/conda/lib/python3.10/site-packages (from pyasn1-modules>=0.2.1->google-auth<3.0dev,>=1.25.0->google-api-core!=2.0.*,!=2.1.*,!=2.10.*,!=2.2.*,!=2.3.*,!=2.4.*,!=2.5.*,!=2.6.*,!=2.7.*,!=2.8.*,!=2.9.*,<3.0.0dev,>=1.34.0->google-api-core[grpc]!=2.0.*,!=2.1.*,!=2.10.*,!=2.2.*,!=2.3.*,!=2.4.*,!=2.5.*,!=2.6.*,!=2.7.*,!=2.8.*,!=2.9.*,<3.0.0dev,>=1.34.0->google-cloud-bigquery-storage) (0.5.1)\n",
      "Requirement already satisfied: google-cloud-storage in /opt/conda/lib/python3.10/site-packages (2.14.0)\n",
      "Requirement already satisfied: google-auth<3.0dev,>=2.23.3 in /opt/conda/lib/python3.10/site-packages (from google-cloud-storage) (2.26.2)\n",
      "Requirement already satisfied: google-api-core!=2.0.*,!=2.1.*,!=2.2.*,!=2.3.0,<3.0.0dev,>=1.31.5 in /opt/conda/lib/python3.10/site-packages (from google-cloud-storage) (1.34.0)\n",
      "Requirement already satisfied: google-cloud-core<3.0dev,>=2.3.0 in /opt/conda/lib/python3.10/site-packages (from google-cloud-storage) (2.4.1)\n",
      "Requirement already satisfied: google-resumable-media>=2.6.0 in /opt/conda/lib/python3.10/site-packages (from google-cloud-storage) (2.7.0)\n",
      "Requirement already satisfied: requests<3.0.0dev,>=2.18.0 in /opt/conda/lib/python3.10/site-packages (from google-cloud-storage) (2.31.0)\n",
      "Requirement already satisfied: google-crc32c<2.0dev,>=1.0 in /opt/conda/lib/python3.10/site-packages (from google-cloud-storage) (1.5.0)\n",
      "Requirement already satisfied: googleapis-common-protos<2.0dev,>=1.56.2 in /opt/conda/lib/python3.10/site-packages (from google-api-core!=2.0.*,!=2.1.*,!=2.2.*,!=2.3.0,<3.0.0dev,>=1.31.5->google-cloud-storage) (1.62.0)\n",
      "Requirement already satisfied: protobuf!=3.20.0,!=3.20.1,!=4.21.0,!=4.21.1,!=4.21.2,!=4.21.3,!=4.21.4,!=4.21.5,<4.0.0dev,>=3.19.5 in /opt/conda/lib/python3.10/site-packages (from google-api-core!=2.0.*,!=2.1.*,!=2.2.*,!=2.3.0,<3.0.0dev,>=1.31.5->google-cloud-storage) (3.20.3)\n",
      "Requirement already satisfied: cachetools<6.0,>=2.0.0 in /opt/conda/lib/python3.10/site-packages (from google-auth<3.0dev,>=2.23.3->google-cloud-storage) (5.3.2)\n",
      "Requirement already satisfied: pyasn1-modules>=0.2.1 in /opt/conda/lib/python3.10/site-packages (from google-auth<3.0dev,>=2.23.3->google-cloud-storage) (0.3.0)\n",
      "Requirement already satisfied: rsa<5,>=3.1.4 in /opt/conda/lib/python3.10/site-packages (from google-auth<3.0dev,>=2.23.3->google-cloud-storage) (4.9)\n",
      "Requirement already satisfied: charset-normalizer<4,>=2 in /opt/conda/lib/python3.10/site-packages (from requests<3.0.0dev,>=2.18.0->google-cloud-storage) (3.3.2)\n",
      "Requirement already satisfied: idna<4,>=2.5 in /opt/conda/lib/python3.10/site-packages (from requests<3.0.0dev,>=2.18.0->google-cloud-storage) (3.6)\n",
      "Requirement already satisfied: urllib3<3,>=1.21.1 in /opt/conda/lib/python3.10/site-packages (from requests<3.0.0dev,>=2.18.0->google-cloud-storage) (1.26.18)\n",
      "Requirement already satisfied: certifi>=2017.4.17 in /opt/conda/lib/python3.10/site-packages (from requests<3.0.0dev,>=2.18.0->google-cloud-storage) (2023.11.17)\n",
      "Requirement already satisfied: pyasn1<0.6.0,>=0.4.6 in /opt/conda/lib/python3.10/site-packages (from pyasn1-modules>=0.2.1->google-auth<3.0dev,>=2.23.3->google-cloud-storage) (0.5.1)\n",
      "Requirement already satisfied: db-dtypes in /opt/conda/lib/python3.10/site-packages (1.2.0)\n",
      "Requirement already satisfied: packaging>=17.0 in /opt/conda/lib/python3.10/site-packages (from db-dtypes) (23.2)\n",
      "Requirement already satisfied: pandas>=0.24.2 in /opt/conda/lib/python3.10/site-packages (from db-dtypes) (2.1.4)\n",
      "Requirement already satisfied: pyarrow>=3.0.0 in ./.local/lib/python3.10/site-packages (from db-dtypes) (11.0.0)\n",
      "Requirement already satisfied: numpy>=1.16.6 in /opt/conda/lib/python3.10/site-packages (from db-dtypes) (1.25.2)\n",
      "Requirement already satisfied: python-dateutil>=2.8.2 in /opt/conda/lib/python3.10/site-packages (from pandas>=0.24.2->db-dtypes) (2.8.2)\n",
      "Requirement already satisfied: pytz>=2020.1 in /opt/conda/lib/python3.10/site-packages (from pandas>=0.24.2->db-dtypes) (2023.3.post1)\n",
      "Requirement already satisfied: tzdata>=2022.1 in /opt/conda/lib/python3.10/site-packages (from pandas>=0.24.2->db-dtypes) (2023.4)\n",
      "Requirement already satisfied: six>=1.5 in /opt/conda/lib/python3.10/site-packages (from python-dateutil>=2.8.2->pandas>=0.24.2->db-dtypes) (1.16.0)\n"
     ]
    }
   ],
   "source": [
    "!pip3 install google-cloud-aiplatform --user\n",
    "!pip3 install pyarrow==11.0.0 --user\n",
    "!pip3 install --upgrade google-cloud-bigquery --user\n",
    "!pip3 install --upgrade google-cloud-bigquery-storage --user\n",
    "!pip3 install --upgrade google-cloud-storage --user\n",
    "!pip install db-dtypes"
   ]
  },
  {
   "cell_type": "code",
   "execution_count": 2,
   "id": "5422abdc-0a0b-40a7-a4bc-6362b451a9ff",
   "metadata": {
    "tags": []
   },
   "outputs": [],
   "source": [
    "# Retrieve and set PROJECT_ID and REGION environment variables.\n",
    "PROJECT_ID = !(gcloud config get-value core/project)\n",
    "PROJECT_ID = PROJECT_ID[0]\n",
    "BQ_LOCATION = 'US'\n",
    "REGION = 'us-west3'"
   ]
  },
  {
   "cell_type": "code",
   "execution_count": 3,
   "id": "45e250ac-fe23-4973-96d2-b808f7729c85",
   "metadata": {
    "tags": []
   },
   "outputs": [],
   "source": [
    "from google.cloud import bigquery\n",
    "from google.cloud import aiplatform as vertexai\n",
    "import numpy as np\n",
    "import pandas as pd\n",
    "import matplotlib.pyplot as plt"
   ]
  },
  {
   "cell_type": "code",
   "execution_count": 4,
   "id": "ddf269d2-2bcc-4ccf-8546-3837ce8b905a",
   "metadata": {
    "tags": []
   },
   "outputs": [],
   "source": [
    "GCS_BUCKET = f\"{PROJECT_ID}-lukes_capstone\"\n",
    "# !gsutil mb -l $REGION gs://$GCS_BUCKET"
   ]
  },
  {
   "cell_type": "code",
   "execution_count": 5,
   "id": "4b66f1bd-7e7c-4e96-9530-c29301aaff5d",
   "metadata": {
    "tags": []
   },
   "outputs": [],
   "source": [
    "BQ_DATASET = f\"{PROJECT_ID}:luke_cap_data\"\n",
    "# !bq mk --location={BQ_LOCATION} --dataset {BQ_DATASET}"
   ]
  },
  {
   "cell_type": "code",
   "execution_count": 6,
   "id": "b9cc13ac-6ab4-40c6-b596-70fdb0e0fdb0",
   "metadata": {
    "tags": []
   },
   "outputs": [],
   "source": [
    "vertexai.init(project=PROJECT_ID, location=REGION, staging_bucket=f\"gs://{GCS_BUCKET}\")"
   ]
  },
  {
   "cell_type": "markdown",
   "id": "befdf4ef-8036-4026-8892-4801b1868658",
   "metadata": {
    "tags": []
   },
   "source": [
    "## MAIN QUERY PIPELINE HERE"
   ]
  },
  {
   "cell_type": "markdown",
   "id": "b75840ee-3731-46db-97fa-76fa6c60150a",
   "metadata": {},
   "source": [
    "#### Look at target data, create table, filter out \"bounced\"?\n",
    "fullVisitorid, visitId, totals, hits (target)"
   ]
  },
  {
   "cell_type": "markdown",
   "id": "e0646754-2ce3-4c06-ab6f-c7b1ee55973c",
   "metadata": {},
   "source": [
    "### Create unique id (primary key) for each session by combining fullVisitorid and visitid to create User_Session column.  Split data into tables and include User_Session as join key."
   ]
  },
  {
   "cell_type": "markdown",
   "id": "e43e58ce-c810-464e-80e4-956cda3d91ba",
   "metadata": {},
   "source": [
    "#### Create Target Data Table"
   ]
  },
  {
   "cell_type": "code",
   "execution_count": 7,
   "id": "5c5b302f-0a74-4cd5-9bf5-6e4b943e61bb",
   "metadata": {
    "tags": []
   },
   "outputs": [
    {
     "data": {
      "application/vnd.jupyter.widget-view+json": {
       "model_id": "31b1fafbfdbb42d186f4c83fbed5660b",
       "version_major": 2,
       "version_minor": 0
      },
      "text/plain": [
       "Query is running:   0%|          |"
      ]
     },
     "metadata": {},
     "output_type": "display_data"
    },
    {
     "data": {
      "text/html": [
       "<div>\n",
       "<style scoped>\n",
       "    .dataframe tbody tr th:only-of-type {\n",
       "        vertical-align: middle;\n",
       "    }\n",
       "\n",
       "    .dataframe tbody tr th {\n",
       "        vertical-align: top;\n",
       "    }\n",
       "\n",
       "    .dataframe thead th {\n",
       "        text-align: right;\n",
       "    }\n",
       "</style>\n",
       "<table border=\"1\" class=\"dataframe\">\n",
       "  <thead>\n",
       "    <tr style=\"text-align: right;\">\n",
       "      <th></th>\n",
       "    </tr>\n",
       "  </thead>\n",
       "  <tbody>\n",
       "  </tbody>\n",
       "</table>\n",
       "</div>"
      ],
      "text/plain": [
       "Empty DataFrame\n",
       "Columns: []\n",
       "Index: []"
      ]
     },
     "execution_count": 7,
     "metadata": {},
     "output_type": "execute_result"
    }
   ],
   "source": [
    "%%bigquery --project $PROJECT_ID\n",
    "\n",
    "CREATE OR REPLACE VIEW luke_cap_data.target_data AS (\n",
    "  \n",
    "SELECT DISTINCT(CONCAT(fullVisitorId,'_',visitId,hits.hitNumber)) AS User_session,hits.eCommerceAction.action_type,if(hits.eCommerceAction.action_type = '3',1,0) AS Target \n",
    "FROM `bigquery-public-data.google_analytics_sample.ga_sessions_201702*`, \n",
    "UNNEST(hits) AS hits\n",
    ");"
   ]
  },
  {
   "cell_type": "code",
   "execution_count": 8,
   "id": "74aec121-b5f8-4c02-ba1e-eb2aab594abb",
   "metadata": {
    "tags": []
   },
   "outputs": [
    {
     "data": {
      "application/vnd.jupyter.widget-view+json": {
       "model_id": "db4b0ff0c92949bbafd57b428024e5e4",
       "version_major": 2,
       "version_minor": 0
      },
      "text/plain": [
       "Query is running:   0%|          |"
      ]
     },
     "metadata": {},
     "output_type": "display_data"
    },
    {
     "data": {
      "text/html": [
       "<div>\n",
       "<style scoped>\n",
       "    .dataframe tbody tr th:only-of-type {\n",
       "        vertical-align: middle;\n",
       "    }\n",
       "\n",
       "    .dataframe tbody tr th {\n",
       "        vertical-align: top;\n",
       "    }\n",
       "\n",
       "    .dataframe thead th {\n",
       "        text-align: right;\n",
       "    }\n",
       "</style>\n",
       "<table border=\"1\" class=\"dataframe\">\n",
       "  <thead>\n",
       "    <tr style=\"text-align: right;\">\n",
       "      <th></th>\n",
       "    </tr>\n",
       "  </thead>\n",
       "  <tbody>\n",
       "  </tbody>\n",
       "</table>\n",
       "</div>"
      ],
      "text/plain": [
       "Empty DataFrame\n",
       "Columns: []\n",
       "Index: []"
      ]
     },
     "execution_count": 8,
     "metadata": {},
     "output_type": "execute_result"
    }
   ],
   "source": [
    "%%bigquery --project $PROJECT_ID\n",
    "\n",
    "CREATE OR REPLACE VIEW luke_cap_data.target_data_clean AS (\n",
    "  \n",
    "SELECT DISTINCT(CONCAT(fullVisitorId,'_',visitId,hits.hitNumber)) AS User_session,hits.eCommerceAction.action_type,if(hits.eCommerceAction.action_type = '3',1,0) AS Target \n",
    "FROM `bigquery-public-data.google_analytics_sample.ga_sessions_201702*`, \n",
    "UNNEST(hits) AS hits\n",
    "WHERE hits.eCommerceAction.action_type != '0'\n",
    ");"
   ]
  },
  {
   "cell_type": "code",
   "execution_count": 9,
   "id": "beadad99-9714-4436-b8d3-d044434257ef",
   "metadata": {},
   "outputs": [
    {
     "data": {
      "application/vnd.jupyter.widget-view+json": {
       "model_id": "a2f082987ac346e591fa16ed9943fe64",
       "version_major": 2,
       "version_minor": 0
      },
      "text/plain": [
       "Query is running:   0%|          |"
      ]
     },
     "metadata": {},
     "output_type": "display_data"
    },
    {
     "data": {
      "text/html": [
       "<div>\n",
       "<style scoped>\n",
       "    .dataframe tbody tr th:only-of-type {\n",
       "        vertical-align: middle;\n",
       "    }\n",
       "\n",
       "    .dataframe tbody tr th {\n",
       "        vertical-align: top;\n",
       "    }\n",
       "\n",
       "    .dataframe thead th {\n",
       "        text-align: right;\n",
       "    }\n",
       "</style>\n",
       "<table border=\"1\" class=\"dataframe\">\n",
       "  <thead>\n",
       "    <tr style=\"text-align: right;\">\n",
       "      <th></th>\n",
       "    </tr>\n",
       "  </thead>\n",
       "  <tbody>\n",
       "  </tbody>\n",
       "</table>\n",
       "</div>"
      ],
      "text/plain": [
       "Empty DataFrame\n",
       "Columns: []\n",
       "Index: []"
      ]
     },
     "execution_count": 9,
     "metadata": {},
     "output_type": "execute_result"
    }
   ],
   "source": [
    "%%bigquery --project $PROJECT_ID\n",
    "\n",
    "CREATE OR REPLACE VIEW luke_cap_data.target_data_event AS (\n",
    "  \n",
    "SELECT DISTINCT(CONCAT(fullVisitorId,'_',visitId,hits.hitNumber)) AS User_session,hits.eventInfo.eventAction,if(hits.eventInfo.eventAction = 'Add to cart',1,0) AS Target \n",
    "FROM `bigquery-public-data.google_analytics_sample.ga_sessions_201702*`, \n",
    "UNNEST(hits) AS hits\n",
    ");"
   ]
  },
  {
   "cell_type": "code",
   "execution_count": 8,
   "id": "6a980664-81e0-4aa8-874a-c045f2e97141",
   "metadata": {
    "tags": []
   },
   "outputs": [
    {
     "data": {
      "application/vnd.jupyter.widget-view+json": {
       "model_id": "b19776b445a04efcae8555c7cc9a1f11",
       "version_major": 2,
       "version_minor": 0
      },
      "text/plain": [
       "Query is running:   0%|          |"
      ]
     },
     "metadata": {},
     "output_type": "display_data"
    },
    {
     "data": {
      "application/vnd.jupyter.widget-view+json": {
       "model_id": "0f888bcf14344cc1b46b6cdff268f11a",
       "version_major": 2,
       "version_minor": 0
      },
      "text/plain": [
       "Downloading:   0%|          |"
      ]
     },
     "metadata": {},
     "output_type": "display_data"
    },
    {
     "data": {
      "text/html": [
       "<div>\n",
       "<style scoped>\n",
       "    .dataframe tbody tr th:only-of-type {\n",
       "        vertical-align: middle;\n",
       "    }\n",
       "\n",
       "    .dataframe tbody tr th {\n",
       "        vertical-align: top;\n",
       "    }\n",
       "\n",
       "    .dataframe thead th {\n",
       "        text-align: right;\n",
       "    }\n",
       "</style>\n",
       "<table border=\"1\" class=\"dataframe\">\n",
       "  <thead>\n",
       "    <tr style=\"text-align: right;\">\n",
       "      <th></th>\n",
       "      <th>f0_</th>\n",
       "    </tr>\n",
       "  </thead>\n",
       "  <tbody>\n",
       "    <tr>\n",
       "      <th>0</th>\n",
       "      <td>84912</td>\n",
       "    </tr>\n",
       "  </tbody>\n",
       "</table>\n",
       "</div>"
      ],
      "text/plain": [
       "     f0_\n",
       "0  84912"
      ]
     },
     "execution_count": 8,
     "metadata": {},
     "output_type": "execute_result"
    }
   ],
   "source": [
    "# %%bigquery --project $PROJECT_ID\n",
    "\n",
    "# CREATE OR REPLACE VIEW luke_cap_data.big_target_data AS (\n",
    "  \n",
    "# SELECT DISTINCT(CONCAT(fullVisitorId,'_',visitId)) AS User_session,hits.eCommerceAction.action_type,if(hits.eCommerceAction.action_type = '3',1,0) AS Target \n",
    "# FROM `bigquery-public-data.google_analytics_sample.ga_sessions_201702*`, \n",
    "# UNNEST(hits) AS hits\n",
    "# LEFT JOIN UNNEST(product) as product\n",
    "# );"
   ]
  },
  {
   "cell_type": "code",
   "execution_count": 9,
   "id": "f2352c67-cc41-457d-8567-2334dead0608",
   "metadata": {
    "tags": []
   },
   "outputs": [],
   "source": [
    "# %%bigquery df_big_target --project $PROJECT_ID\n",
    "\n",
    "# SELECT * \n",
    "# FROM luke_cap_data.big_target_data"
   ]
  },
  {
   "cell_type": "code",
   "execution_count": 10,
   "id": "f55b3484-ffbe-4be5-9caf-c5bc5569959d",
   "metadata": {
    "tags": []
   },
   "outputs": [],
   "source": [
    "# df_big_target.info()"
   ]
  },
  {
   "cell_type": "code",
   "execution_count": 11,
   "id": "15add245-5b64-4246-b080-a3c39ea3071d",
   "metadata": {
    "tags": []
   },
   "outputs": [],
   "source": [
    "# df_big_target[\"User_session\"].nunique()"
   ]
  },
  {
   "cell_type": "code",
   "execution_count": 12,
   "id": "d9fd4bf9-11ad-44cb-b511-98024485d66c",
   "metadata": {
    "tags": []
   },
   "outputs": [],
   "source": [
    "# df_big_target[\"Target\"].value_counts()"
   ]
  },
  {
   "cell_type": "markdown",
   "id": "355f8443-8b6e-4947-854d-568f7ff12b23",
   "metadata": {},
   "source": [
    "#### Create Totals Table"
   ]
  },
  {
   "cell_type": "code",
   "execution_count": 9,
   "id": "974c7ecc-f538-4fac-b9c8-0a092f75f13a",
   "metadata": {
    "tags": []
   },
   "outputs": [
    {
     "data": {
      "application/vnd.jupyter.widget-view+json": {
       "model_id": "c20d157134f14f2186887ffce0ae6ae1",
       "version_major": 2,
       "version_minor": 0
      },
      "text/plain": [
       "Query is running:   0%|          |"
      ]
     },
     "metadata": {},
     "output_type": "display_data"
    },
    {
     "data": {
      "text/html": [
       "<div>\n",
       "<style scoped>\n",
       "    .dataframe tbody tr th:only-of-type {\n",
       "        vertical-align: middle;\n",
       "    }\n",
       "\n",
       "    .dataframe tbody tr th {\n",
       "        vertical-align: top;\n",
       "    }\n",
       "\n",
       "    .dataframe thead th {\n",
       "        text-align: right;\n",
       "    }\n",
       "</style>\n",
       "<table border=\"1\" class=\"dataframe\">\n",
       "  <thead>\n",
       "    <tr style=\"text-align: right;\">\n",
       "      <th></th>\n",
       "    </tr>\n",
       "  </thead>\n",
       "  <tbody>\n",
       "  </tbody>\n",
       "</table>\n",
       "</div>"
      ],
      "text/plain": [
       "Empty DataFrame\n",
       "Columns: []\n",
       "Index: []"
      ]
     },
     "execution_count": 9,
     "metadata": {},
     "output_type": "execute_result"
    }
   ],
   "source": [
    "%%bigquery --project $PROJECT_ID\n",
    "\n",
    "CREATE OR REPLACE VIEW luke_cap_data.totals AS (\n",
    "  \n",
    "SELECT DISTINCT(CONCAT(fullVisitorId,'_',visitId,hits.hitNumber)) AS User_session,totals.*,if(hits.eCommerceAction.action_type = '3',1,0) AS Target\n",
    "FROM `bigquery-public-data.google_analytics_sample.ga_sessions_201702*`, \n",
    "UNNEST(hits) AS hits \n",
    "\n",
    ");"
   ]
  },
  {
   "cell_type": "markdown",
   "id": "3c05f59b-5636-49bc-a9c9-8c56c1661129",
   "metadata": {},
   "source": [
    "#### Create trafficSource Table"
   ]
  },
  {
   "cell_type": "code",
   "execution_count": 10,
   "id": "371ff2d6-0669-49ad-b2ac-971b58849f49",
   "metadata": {
    "tags": []
   },
   "outputs": [
    {
     "data": {
      "application/vnd.jupyter.widget-view+json": {
       "model_id": "41d1ccc39d0c44c5a44003e41e3e4228",
       "version_major": 2,
       "version_minor": 0
      },
      "text/plain": [
       "Query is running:   0%|          |"
      ]
     },
     "metadata": {},
     "output_type": "display_data"
    },
    {
     "data": {
      "text/html": [
       "<div>\n",
       "<style scoped>\n",
       "    .dataframe tbody tr th:only-of-type {\n",
       "        vertical-align: middle;\n",
       "    }\n",
       "\n",
       "    .dataframe tbody tr th {\n",
       "        vertical-align: top;\n",
       "    }\n",
       "\n",
       "    .dataframe thead th {\n",
       "        text-align: right;\n",
       "    }\n",
       "</style>\n",
       "<table border=\"1\" class=\"dataframe\">\n",
       "  <thead>\n",
       "    <tr style=\"text-align: right;\">\n",
       "      <th></th>\n",
       "    </tr>\n",
       "  </thead>\n",
       "  <tbody>\n",
       "  </tbody>\n",
       "</table>\n",
       "</div>"
      ],
      "text/plain": [
       "Empty DataFrame\n",
       "Columns: []\n",
       "Index: []"
      ]
     },
     "execution_count": 10,
     "metadata": {},
     "output_type": "execute_result"
    }
   ],
   "source": [
    "%%bigquery --project $PROJECT_ID\n",
    "\n",
    "CREATE OR REPLACE VIEW luke_cap_data.trafficSource AS (\n",
    "  \n",
    "SELECT CONCAT(fullVisitorId,'_',visitId) AS User_session,trafficSource.*\n",
    "FROM `bigquery-public-data.google_analytics_sample.ga_sessions_201702*` \n",
    "\n",
    ");"
   ]
  },
  {
   "cell_type": "markdown",
   "id": "48046108-72c9-4c7f-af9b-e986e96a083f",
   "metadata": {},
   "source": [
    "#### Create Device Table"
   ]
  },
  {
   "cell_type": "code",
   "execution_count": 11,
   "id": "9d24540d-8f91-4e88-9ffd-3ea30da72716",
   "metadata": {
    "tags": []
   },
   "outputs": [
    {
     "data": {
      "application/vnd.jupyter.widget-view+json": {
       "model_id": "7f7b0ef0741f4066bf9d68d45d5ca1e6",
       "version_major": 2,
       "version_minor": 0
      },
      "text/plain": [
       "Query is running:   0%|          |"
      ]
     },
     "metadata": {},
     "output_type": "display_data"
    },
    {
     "data": {
      "text/html": [
       "<div>\n",
       "<style scoped>\n",
       "    .dataframe tbody tr th:only-of-type {\n",
       "        vertical-align: middle;\n",
       "    }\n",
       "\n",
       "    .dataframe tbody tr th {\n",
       "        vertical-align: top;\n",
       "    }\n",
       "\n",
       "    .dataframe thead th {\n",
       "        text-align: right;\n",
       "    }\n",
       "</style>\n",
       "<table border=\"1\" class=\"dataframe\">\n",
       "  <thead>\n",
       "    <tr style=\"text-align: right;\">\n",
       "      <th></th>\n",
       "    </tr>\n",
       "  </thead>\n",
       "  <tbody>\n",
       "  </tbody>\n",
       "</table>\n",
       "</div>"
      ],
      "text/plain": [
       "Empty DataFrame\n",
       "Columns: []\n",
       "Index: []"
      ]
     },
     "execution_count": 11,
     "metadata": {},
     "output_type": "execute_result"
    }
   ],
   "source": [
    "%%bigquery --project $PROJECT_ID\n",
    "\n",
    "CREATE OR REPLACE VIEW luke_cap_data.device AS (\n",
    "  \n",
    "SELECT DISTINCT(CONCAT(fullVisitorId,'_',visitId)) AS User_session,device.*\n",
    "FROM `bigquery-public-data.google_analytics_sample.ga_sessions_201702*`\n",
    "\n",
    ");"
   ]
  },
  {
   "cell_type": "markdown",
   "id": "b936be23-891d-4a61-8fcc-6824b03d0dd7",
   "metadata": {},
   "source": [
    "#### Create GeoNetwork Table"
   ]
  },
  {
   "cell_type": "code",
   "execution_count": 12,
   "id": "391311b3-1487-4482-a41a-83cf5ce4c5ee",
   "metadata": {
    "tags": []
   },
   "outputs": [
    {
     "data": {
      "application/vnd.jupyter.widget-view+json": {
       "model_id": "5ac483f00cae43328265b7b3a6daed76",
       "version_major": 2,
       "version_minor": 0
      },
      "text/plain": [
       "Query is running:   0%|          |"
      ]
     },
     "metadata": {},
     "output_type": "display_data"
    },
    {
     "data": {
      "text/html": [
       "<div>\n",
       "<style scoped>\n",
       "    .dataframe tbody tr th:only-of-type {\n",
       "        vertical-align: middle;\n",
       "    }\n",
       "\n",
       "    .dataframe tbody tr th {\n",
       "        vertical-align: top;\n",
       "    }\n",
       "\n",
       "    .dataframe thead th {\n",
       "        text-align: right;\n",
       "    }\n",
       "</style>\n",
       "<table border=\"1\" class=\"dataframe\">\n",
       "  <thead>\n",
       "    <tr style=\"text-align: right;\">\n",
       "      <th></th>\n",
       "    </tr>\n",
       "  </thead>\n",
       "  <tbody>\n",
       "  </tbody>\n",
       "</table>\n",
       "</div>"
      ],
      "text/plain": [
       "Empty DataFrame\n",
       "Columns: []\n",
       "Index: []"
      ]
     },
     "execution_count": 12,
     "metadata": {},
     "output_type": "execute_result"
    }
   ],
   "source": [
    "%%bigquery --project $PROJECT_ID\n",
    "\n",
    "CREATE OR REPLACE VIEW luke_cap_data.geo AS (\n",
    "  \n",
    "SELECT DISTINCT(CONCAT(fullVisitorId,'_',visitId)) AS User_session,geoNetwork.*\n",
    "FROM `bigquery-public-data.google_analytics_sample.ga_sessions_201702*`\n",
    "\n",
    ");"
   ]
  },
  {
   "cell_type": "markdown",
   "id": "6d410d33-3296-4233-8310-b352162a5256",
   "metadata": {
    "tags": []
   },
   "source": [
    "#### Create Hits Table"
   ]
  },
  {
   "cell_type": "code",
   "execution_count": 13,
   "id": "465b800f-a45e-4c6b-976b-4464ade0c052",
   "metadata": {
    "tags": []
   },
   "outputs": [
    {
     "data": {
      "application/vnd.jupyter.widget-view+json": {
       "model_id": "6fb178a00fd4441ea0da44d62649a907",
       "version_major": 2,
       "version_minor": 0
      },
      "text/plain": [
       "Query is running:   0%|          |"
      ]
     },
     "metadata": {},
     "output_type": "display_data"
    },
    {
     "data": {
      "text/html": [
       "<div>\n",
       "<style scoped>\n",
       "    .dataframe tbody tr th:only-of-type {\n",
       "        vertical-align: middle;\n",
       "    }\n",
       "\n",
       "    .dataframe tbody tr th {\n",
       "        vertical-align: top;\n",
       "    }\n",
       "\n",
       "    .dataframe thead th {\n",
       "        text-align: right;\n",
       "    }\n",
       "</style>\n",
       "<table border=\"1\" class=\"dataframe\">\n",
       "  <thead>\n",
       "    <tr style=\"text-align: right;\">\n",
       "      <th></th>\n",
       "    </tr>\n",
       "  </thead>\n",
       "  <tbody>\n",
       "  </tbody>\n",
       "</table>\n",
       "</div>"
      ],
      "text/plain": [
       "Empty DataFrame\n",
       "Columns: []\n",
       "Index: []"
      ]
     },
     "execution_count": 13,
     "metadata": {},
     "output_type": "execute_result"
    }
   ],
   "source": [
    "%%bigquery --project $PROJECT_ID\n",
    "\n",
    "CREATE OR REPLACE VIEW luke_cap_data.hits AS (\n",
    "  \n",
    "SELECT CONCAT(fullVisitorId,'_',visitId) AS User_session, hits.*, if(hits.eCommerceAction.action_type = '3',1,0) AS Target \n",
    "FROM `bigquery-public-data.google_analytics_sample.ga_sessions_201702*`, \n",
    "UNNEST(hits) AS hits\n",
    ");"
   ]
  },
  {
   "cell_type": "markdown",
   "id": "c1414ead-74ad-43fd-a887-3d4027d07f0d",
   "metadata": {},
   "source": [
    "#### Create Other Table"
   ]
  },
  {
   "cell_type": "code",
   "execution_count": 14,
   "id": "2e173d77-8b62-4394-b85b-2ce274163533",
   "metadata": {
    "tags": []
   },
   "outputs": [
    {
     "data": {
      "application/vnd.jupyter.widget-view+json": {
       "model_id": "98d6557ca46e4800b131fcf063ef2d88",
       "version_major": 2,
       "version_minor": 0
      },
      "text/plain": [
       "Query is running:   0%|          |"
      ]
     },
     "metadata": {},
     "output_type": "display_data"
    },
    {
     "data": {
      "text/html": [
       "<div>\n",
       "<style scoped>\n",
       "    .dataframe tbody tr th:only-of-type {\n",
       "        vertical-align: middle;\n",
       "    }\n",
       "\n",
       "    .dataframe tbody tr th {\n",
       "        vertical-align: top;\n",
       "    }\n",
       "\n",
       "    .dataframe thead th {\n",
       "        text-align: right;\n",
       "    }\n",
       "</style>\n",
       "<table border=\"1\" class=\"dataframe\">\n",
       "  <thead>\n",
       "    <tr style=\"text-align: right;\">\n",
       "      <th></th>\n",
       "    </tr>\n",
       "  </thead>\n",
       "  <tbody>\n",
       "  </tbody>\n",
       "</table>\n",
       "</div>"
      ],
      "text/plain": [
       "Empty DataFrame\n",
       "Columns: []\n",
       "Index: []"
      ]
     },
     "execution_count": 14,
     "metadata": {},
     "output_type": "execute_result"
    }
   ],
   "source": [
    "%%bigquery --project $PROJECT_ID\n",
    "\n",
    "CREATE OR REPLACE VIEW luke_cap_data.other AS (\n",
    "  \n",
    "SELECT \n",
    "    DISTINCT(CONCAT(fullVisitorId,'_',visitId)) AS User_session,\n",
    "    visitorId, visitNumber, visitStartTime, customDimensions.index AS cusDim_index,\n",
    "    customDimensions.value AS cusDim_value,date, userId, channelGrouping, socialEngagementType\n",
    "FROM `bigquery-public-data.google_analytics_sample.ga_sessions_201702*`, \n",
    "UNNEST(customDimensions) AS customDimensions\n",
    ");"
   ]
  },
  {
   "cell_type": "code",
   "execution_count": 15,
   "id": "fd94fe86-d3bc-4ab3-9a78-6913cce7f613",
   "metadata": {
    "tags": []
   },
   "outputs": [
    {
     "data": {
      "application/vnd.jupyter.widget-view+json": {
       "model_id": "26035398568f45ff810ee464a1a640ed",
       "version_major": 2,
       "version_minor": 0
      },
      "text/plain": [
       "Query is running:   0%|          |"
      ]
     },
     "metadata": {},
     "output_type": "display_data"
    },
    {
     "data": {
      "application/vnd.jupyter.widget-view+json": {
       "model_id": "9fde7df499554773b62ac54f73209765",
       "version_major": 2,
       "version_minor": 0
      },
      "text/plain": [
       "Downloading:   0%|          |"
      ]
     },
     "metadata": {},
     "output_type": "display_data"
    }
   ],
   "source": [
    "%%bigquery df_target --project $PROJECT_ID\n",
    "\n",
    "SELECT * \n",
    "FROM luke_cap_data.target_data"
   ]
  },
  {
   "cell_type": "code",
   "execution_count": 16,
   "id": "34123abf-ebee-48e6-8dc8-6979ed894e7d",
   "metadata": {
    "tags": []
   },
   "outputs": [
    {
     "data": {
      "application/vnd.jupyter.widget-view+json": {
       "model_id": "dc2332f4b5fc4664a052ab2b7f9cb176",
       "version_major": 2,
       "version_minor": 0
      },
      "text/plain": [
       "Query is running:   0%|          |"
      ]
     },
     "metadata": {},
     "output_type": "display_data"
    },
    {
     "data": {
      "application/vnd.jupyter.widget-view+json": {
       "model_id": "ef404abe004b44189e59a6325b2be6b5",
       "version_major": 2,
       "version_minor": 0
      },
      "text/plain": [
       "Downloading:   0%|          |"
      ]
     },
     "metadata": {},
     "output_type": "display_data"
    }
   ],
   "source": [
    "%%bigquery df_target_clean --project $PROJECT_ID\n",
    "\n",
    "SELECT * \n",
    "FROM luke_cap_data.target_data_clean"
   ]
  },
  {
   "cell_type": "code",
   "execution_count": 17,
   "id": "6c34211a-4550-476a-9747-40505d954640",
   "metadata": {
    "tags": []
   },
   "outputs": [
    {
     "data": {
      "application/vnd.jupyter.widget-view+json": {
       "model_id": "4a5fb1209eec4f5e979097de97c7e9aa",
       "version_major": 2,
       "version_minor": 0
      },
      "text/plain": [
       "Query is running:   0%|          |"
      ]
     },
     "metadata": {},
     "output_type": "display_data"
    },
    {
     "data": {
      "application/vnd.jupyter.widget-view+json": {
       "model_id": "9e481611930041b699bcf2551e6c480f",
       "version_major": 2,
       "version_minor": 0
      },
      "text/plain": [
       "Downloading:   0%|          |"
      ]
     },
     "metadata": {},
     "output_type": "display_data"
    }
   ],
   "source": [
    "%%bigquery df_totals --project $PROJECT_ID\n",
    "\n",
    "SELECT * \n",
    "FROM luke_cap_data.totals"
   ]
  },
  {
   "cell_type": "code",
   "execution_count": 18,
   "id": "eff3c688-9a2c-45e1-9ed3-035973c7197e",
   "metadata": {
    "tags": []
   },
   "outputs": [
    {
     "data": {
      "application/vnd.jupyter.widget-view+json": {
       "model_id": "5189c191359c4bbb878fcf22b7be5500",
       "version_major": 2,
       "version_minor": 0
      },
      "text/plain": [
       "Query is running:   0%|          |"
      ]
     },
     "metadata": {},
     "output_type": "display_data"
    },
    {
     "data": {
      "application/vnd.jupyter.widget-view+json": {
       "model_id": "8f907bfd3d7a4ae4aa7e96696339b3e6",
       "version_major": 2,
       "version_minor": 0
      },
      "text/plain": [
       "Downloading:   0%|          |"
      ]
     },
     "metadata": {},
     "output_type": "display_data"
    }
   ],
   "source": [
    "%%bigquery df_trafficSource --project $PROJECT_ID\n",
    "\n",
    "SELECT * \n",
    "FROM luke_cap_data.trafficSource"
   ]
  },
  {
   "cell_type": "code",
   "execution_count": 19,
   "id": "8e9dccd2-32ef-441d-b892-14fd70b2ff51",
   "metadata": {
    "tags": []
   },
   "outputs": [
    {
     "data": {
      "application/vnd.jupyter.widget-view+json": {
       "model_id": "ef5ac4557928467b8a81ac04ce67a28f",
       "version_major": 2,
       "version_minor": 0
      },
      "text/plain": [
       "Query is running:   0%|          |"
      ]
     },
     "metadata": {},
     "output_type": "display_data"
    },
    {
     "data": {
      "application/vnd.jupyter.widget-view+json": {
       "model_id": "c8db42b6f7ad4ecd8a729941a14dab49",
       "version_major": 2,
       "version_minor": 0
      },
      "text/plain": [
       "Downloading:   0%|          |"
      ]
     },
     "metadata": {},
     "output_type": "display_data"
    }
   ],
   "source": [
    "%%bigquery df_device --project $PROJECT_ID\n",
    "\n",
    "SELECT * \n",
    "FROM luke_cap_data.device"
   ]
  },
  {
   "cell_type": "code",
   "execution_count": 20,
   "id": "9fa2d77b-7517-4712-b6d2-37eb8be5d412",
   "metadata": {
    "tags": []
   },
   "outputs": [
    {
     "data": {
      "application/vnd.jupyter.widget-view+json": {
       "model_id": "1d1cdd28742543d896766e54e928800b",
       "version_major": 2,
       "version_minor": 0
      },
      "text/plain": [
       "Query is running:   0%|          |"
      ]
     },
     "metadata": {},
     "output_type": "display_data"
    },
    {
     "data": {
      "application/vnd.jupyter.widget-view+json": {
       "model_id": "ace3ce753cf24ac19bbeae834327b3ce",
       "version_major": 2,
       "version_minor": 0
      },
      "text/plain": [
       "Downloading:   0%|          |"
      ]
     },
     "metadata": {},
     "output_type": "display_data"
    }
   ],
   "source": [
    "%%bigquery df_geo --project $PROJECT_ID\n",
    "\n",
    "SELECT * \n",
    "FROM luke_cap_data.geo"
   ]
  },
  {
   "cell_type": "code",
   "execution_count": 21,
   "id": "bb685b01-31bb-4104-a26a-2265149a4c45",
   "metadata": {
    "tags": []
   },
   "outputs": [
    {
     "data": {
      "application/vnd.jupyter.widget-view+json": {
       "model_id": "3b23d85165774ac6b9a7207534fba718",
       "version_major": 2,
       "version_minor": 0
      },
      "text/plain": [
       "Query is running:   0%|          |"
      ]
     },
     "metadata": {},
     "output_type": "display_data"
    },
    {
     "data": {
      "application/vnd.jupyter.widget-view+json": {
       "model_id": "d668042ac42248bb8aadb61e97767968",
       "version_major": 2,
       "version_minor": 0
      },
      "text/plain": [
       "Downloading:   0%|          |"
      ]
     },
     "metadata": {},
     "output_type": "display_data"
    }
   ],
   "source": [
    "%%bigquery df_hits --project $PROJECT_ID\n",
    "\n",
    "SELECT * \n",
    "FROM luke_cap_data.hits"
   ]
  },
  {
   "cell_type": "code",
   "execution_count": 22,
   "id": "1d0a37ce-117f-4586-b15c-507294cc80a2",
   "metadata": {
    "tags": []
   },
   "outputs": [
    {
     "data": {
      "application/vnd.jupyter.widget-view+json": {
       "model_id": "20829d03a3a84bac84278a99234ded82",
       "version_major": 2,
       "version_minor": 0
      },
      "text/plain": [
       "Query is running:   0%|          |"
      ]
     },
     "metadata": {},
     "output_type": "display_data"
    },
    {
     "data": {
      "application/vnd.jupyter.widget-view+json": {
       "model_id": "1410f8a4abb14b02a00c19907f75a673",
       "version_major": 2,
       "version_minor": 0
      },
      "text/plain": [
       "Downloading:   0%|          |"
      ]
     },
     "metadata": {},
     "output_type": "display_data"
    }
   ],
   "source": [
    "%%bigquery df_other --project $PROJECT_ID\n",
    "\n",
    "SELECT * \n",
    "FROM luke_cap_data.other"
   ]
  },
  {
   "cell_type": "markdown",
   "id": "668a7368-eaf3-4b53-bfc0-116e7e6d9e03",
   "metadata": {
    "tags": []
   },
   "source": [
    "## SEND DATA TO CSV FOR STORAGE"
   ]
  },
  {
   "cell_type": "code",
   "execution_count": 28,
   "id": "8ee9bbc0-1db9-4678-8a5d-ff5a6cfe49dd",
   "metadata": {
    "tags": []
   },
   "outputs": [],
   "source": [
    "# import os\n",
    "# cwd = os.getcwd()\n",
    "# path = cwd + \"/df_target\"\n",
    "# df_target.to_csv(path)"
   ]
  },
  {
   "cell_type": "code",
   "execution_count": 29,
   "id": "ff5ce2e9-b872-4aef-8fa9-1c78e4db04eb",
   "metadata": {
    "tags": []
   },
   "outputs": [],
   "source": [
    "# path = cwd + \"/df_totals\"\n",
    "# df_totals.to_csv(path)"
   ]
  },
  {
   "cell_type": "code",
   "execution_count": 30,
   "id": "c5e0f89a-eae7-4747-9f62-8bf4e9de7d16",
   "metadata": {
    "tags": []
   },
   "outputs": [],
   "source": [
    "# path = cwd + \"/df_trafficSource\"\n",
    "# df_trafficSource.to_csv(path)"
   ]
  },
  {
   "cell_type": "code",
   "execution_count": 31,
   "id": "31c2adbf-0567-4cd8-a2ac-458dbd749bd6",
   "metadata": {
    "tags": []
   },
   "outputs": [],
   "source": [
    "# path = cwd + \"/df_device\"\n",
    "# df_device.to_csv(path)"
   ]
  },
  {
   "cell_type": "code",
   "execution_count": 32,
   "id": "c966a65a-61c2-4631-93c7-68f89b14cfda",
   "metadata": {
    "tags": []
   },
   "outputs": [],
   "source": [
    "# path = cwd + \"/df_geo\"\n",
    "# df_geo.to_csv(path)"
   ]
  },
  {
   "cell_type": "code",
   "execution_count": 33,
   "id": "cee6f761-0fbe-419d-a9e7-210457391b84",
   "metadata": {
    "tags": []
   },
   "outputs": [],
   "source": [
    "# path = cwd + \"/df_hits\"\n",
    "# df_hits.to_csv(path)"
   ]
  },
  {
   "cell_type": "code",
   "execution_count": 34,
   "id": "ddd324ca-87e9-4a1a-ba71-305dc14ee200",
   "metadata": {
    "tags": []
   },
   "outputs": [],
   "source": [
    "# path = cwd + \"/df_other\"\n",
    "# df_other.to_csv(path)"
   ]
  },
  {
   "cell_type": "markdown",
   "id": "6587bddf-4e6a-4938-8ea7-1707876cb8aa",
   "metadata": {},
   "source": [
    "### EXPLORE TARGET DATA"
   ]
  },
  {
   "cell_type": "code",
   "execution_count": 23,
   "id": "272a9361-184f-4133-bbb4-2bca6b6e6ab8",
   "metadata": {
    "tags": []
   },
   "outputs": [
    {
     "name": "stdout",
     "output_type": "stream",
     "text": [
      "<class 'pandas.core.frame.DataFrame'>\n",
      "RangeIndex: 270285 entries, 0 to 270284\n",
      "Data columns (total 3 columns):\n",
      " #   Column        Non-Null Count   Dtype \n",
      "---  ------        --------------   ----- \n",
      " 0   User_session  270285 non-null  object\n",
      " 1   action_type   270285 non-null  object\n",
      " 2   Target        270285 non-null  Int64 \n",
      "dtypes: Int64(1), object(2)\n",
      "memory usage: 6.4+ MB\n"
     ]
    }
   ],
   "source": [
    "df_target.info()"
   ]
  },
  {
   "cell_type": "code",
   "execution_count": 24,
   "id": "f00d207b-3100-486b-8299-3253be1f7525",
   "metadata": {
    "tags": []
   },
   "outputs": [
    {
     "data": {
      "text/plain": [
       "Target\n",
       "0    262925\n",
       "1      7360\n",
       "Name: count, dtype: Int64"
      ]
     },
     "execution_count": 24,
     "metadata": {},
     "output_type": "execute_result"
    }
   ],
   "source": [
    "df_target[\"Target\"].value_counts()"
   ]
  },
  {
   "cell_type": "code",
   "execution_count": 25,
   "id": "fe8c488a-18b2-4b5a-b372-2019f30468c5",
   "metadata": {
    "tags": []
   },
   "outputs": [
    {
     "data": {
      "text/html": [
       "<div>\n",
       "<style scoped>\n",
       "    .dataframe tbody tr th:only-of-type {\n",
       "        vertical-align: middle;\n",
       "    }\n",
       "\n",
       "    .dataframe tbody tr th {\n",
       "        vertical-align: top;\n",
       "    }\n",
       "\n",
       "    .dataframe thead th {\n",
       "        text-align: right;\n",
       "    }\n",
       "</style>\n",
       "<table border=\"1\" class=\"dataframe\">\n",
       "  <thead>\n",
       "    <tr style=\"text-align: right;\">\n",
       "      <th></th>\n",
       "      <th>action_type</th>\n",
       "      <th>count</th>\n",
       "    </tr>\n",
       "  </thead>\n",
       "  <tbody>\n",
       "    <tr>\n",
       "      <th>0</th>\n",
       "      <td>0</td>\n",
       "      <td>207912</td>\n",
       "    </tr>\n",
       "    <tr>\n",
       "      <th>1</th>\n",
       "      <td>1</td>\n",
       "      <td>25966</td>\n",
       "    </tr>\n",
       "    <tr>\n",
       "      <th>2</th>\n",
       "      <td>2</td>\n",
       "      <td>21489</td>\n",
       "    </tr>\n",
       "    <tr>\n",
       "      <th>3</th>\n",
       "      <td>3</td>\n",
       "      <td>7360</td>\n",
       "    </tr>\n",
       "    <tr>\n",
       "      <th>4</th>\n",
       "      <td>5</td>\n",
       "      <td>5253</td>\n",
       "    </tr>\n",
       "    <tr>\n",
       "      <th>5</th>\n",
       "      <td>6</td>\n",
       "      <td>1483</td>\n",
       "    </tr>\n",
       "    <tr>\n",
       "      <th>6</th>\n",
       "      <td>4</td>\n",
       "      <td>822</td>\n",
       "    </tr>\n",
       "  </tbody>\n",
       "</table>\n",
       "</div>"
      ],
      "text/plain": [
       "  action_type   count\n",
       "0           0  207912\n",
       "1           1   25966\n",
       "2           2   21489\n",
       "3           3    7360\n",
       "4           5    5253\n",
       "5           6    1483\n",
       "6           4     822"
      ]
     },
     "execution_count": 25,
     "metadata": {},
     "output_type": "execute_result"
    }
   ],
   "source": [
    "target_distribution = pd.DataFrame(df_target[\"action_type\"].value_counts()).reset_index()\n",
    "target_distribution"
   ]
  },
  {
   "cell_type": "code",
   "execution_count": 26,
   "id": "725a4c6a-4bfa-4b28-bac8-bd9a576a24f8",
   "metadata": {
    "tags": []
   },
   "outputs": [
    {
     "data": {
      "text/html": [
       "<div>\n",
       "<style scoped>\n",
       "    .dataframe tbody tr th:only-of-type {\n",
       "        vertical-align: middle;\n",
       "    }\n",
       "\n",
       "    .dataframe tbody tr th {\n",
       "        vertical-align: top;\n",
       "    }\n",
       "\n",
       "    .dataframe thead th {\n",
       "        text-align: right;\n",
       "    }\n",
       "</style>\n",
       "<table border=\"1\" class=\"dataframe\">\n",
       "  <thead>\n",
       "    <tr style=\"text-align: right;\">\n",
       "      <th></th>\n",
       "      <th>action_type</th>\n",
       "      <th>count</th>\n",
       "      <th>Percent</th>\n",
       "    </tr>\n",
       "  </thead>\n",
       "  <tbody>\n",
       "    <tr>\n",
       "      <th>0</th>\n",
       "      <td>0</td>\n",
       "      <td>207912</td>\n",
       "      <td>76.923248</td>\n",
       "    </tr>\n",
       "    <tr>\n",
       "      <th>1</th>\n",
       "      <td>1</td>\n",
       "      <td>25966</td>\n",
       "      <td>9.606896</td>\n",
       "    </tr>\n",
       "    <tr>\n",
       "      <th>2</th>\n",
       "      <td>2</td>\n",
       "      <td>21489</td>\n",
       "      <td>7.950497</td>\n",
       "    </tr>\n",
       "    <tr>\n",
       "      <th>3</th>\n",
       "      <td>3</td>\n",
       "      <td>7360</td>\n",
       "      <td>2.723052</td>\n",
       "    </tr>\n",
       "    <tr>\n",
       "      <th>4</th>\n",
       "      <td>5</td>\n",
       "      <td>5253</td>\n",
       "      <td>1.943504</td>\n",
       "    </tr>\n",
       "    <tr>\n",
       "      <th>5</th>\n",
       "      <td>6</td>\n",
       "      <td>1483</td>\n",
       "      <td>0.548680</td>\n",
       "    </tr>\n",
       "    <tr>\n",
       "      <th>6</th>\n",
       "      <td>4</td>\n",
       "      <td>822</td>\n",
       "      <td>0.304123</td>\n",
       "    </tr>\n",
       "  </tbody>\n",
       "</table>\n",
       "</div>"
      ],
      "text/plain": [
       "  action_type   count    Percent\n",
       "0           0  207912  76.923248\n",
       "1           1   25966   9.606896\n",
       "2           2   21489   7.950497\n",
       "3           3    7360   2.723052\n",
       "4           5    5253   1.943504\n",
       "5           6    1483   0.548680\n",
       "6           4     822   0.304123"
      ]
     },
     "execution_count": 26,
     "metadata": {},
     "output_type": "execute_result"
    }
   ],
   "source": [
    "# Value Counts by Percentage\n",
    "target_distribution = pd.DataFrame(df_target[\"action_type\"].value_counts()).reset_index()\n",
    "target_distribution[\"Percent\"] = target_distribution[\"count\"]*100/target_distribution[\"count\"].sum()\n",
    "target_distribution"
   ]
  },
  {
   "cell_type": "code",
   "execution_count": 27,
   "id": "a25fb098-b35f-4e83-85d7-aed370fa27eb",
   "metadata": {
    "tags": []
   },
   "outputs": [
    {
     "data": {
      "image/png": "[encoded data removed]",
      "text/plain": [
       "<Figure size 640x480 with 1 Axes>"
      ]
     },
     "metadata": {},
     "output_type": "display_data"
    }
   ],
   "source": [
    "# Highlight Target = '3' (Add_to_cart)\n",
    "index_to_highlight = 3  \n",
    "# Make other bars blue\n",
    "bars = plt.bar(target_distribution[\"action_type\"], target_distribution[\"Percent\"],color='blue')\n",
    "# Change \"Add_to_cart\" to red\n",
    "bars[index_to_highlight].set_color('red')  \n",
    "plt.show()"
   ]
  },
  {
   "cell_type": "markdown",
   "id": "55c43979-ff7e-4be5-bdae-39d09fe63db0",
   "metadata": {},
   "source": [
    "#### Label Values\n",
    "- 0: Unknown\n",
    "- 1: Product_lists Clickthrough\n",
    "- 2: Product detail views\n",
    "- 3: ADD TO CART (Target, shown in red)\n",
    "- 4: Remove product from cart\n",
    "- 5: Check out\n",
    "- 6: Completed Purchase"
   ]
  },
  {
   "cell_type": "markdown",
   "id": "e84d022b-4bfd-4246-b6ea-200848bd8de1",
   "metadata": {},
   "source": [
    "#### There are predominantly null values for the target class, so we will remove these"
   ]
  },
  {
   "cell_type": "code",
   "execution_count": 28,
   "id": "4088cbf1-1345-4485-834a-d9e3eae8254d",
   "metadata": {
    "tags": []
   },
   "outputs": [
    {
     "name": "stdout",
     "output_type": "stream",
     "text": [
      "<class 'pandas.core.frame.DataFrame'>\n",
      "RangeIndex: 62373 entries, 0 to 62372\n",
      "Data columns (total 3 columns):\n",
      " #   Column        Non-Null Count  Dtype \n",
      "---  ------        --------------  ----- \n",
      " 0   User_session  62373 non-null  object\n",
      " 1   action_type   62373 non-null  object\n",
      " 2   Target        62373 non-null  Int64 \n",
      "dtypes: Int64(1), object(2)\n",
      "memory usage: 1.5+ MB\n"
     ]
    }
   ],
   "source": [
    "df_target_clean.info()"
   ]
  },
  {
   "cell_type": "code",
   "execution_count": 29,
   "id": "083c319b-7bce-44f7-a7cb-d7ad299ca8e6",
   "metadata": {
    "tags": []
   },
   "outputs": [
    {
     "data": {
      "text/html": [
       "<div>\n",
       "<style scoped>\n",
       "    .dataframe tbody tr th:only-of-type {\n",
       "        vertical-align: middle;\n",
       "    }\n",
       "\n",
       "    .dataframe tbody tr th {\n",
       "        vertical-align: top;\n",
       "    }\n",
       "\n",
       "    .dataframe thead th {\n",
       "        text-align: right;\n",
       "    }\n",
       "</style>\n",
       "<table border=\"1\" class=\"dataframe\">\n",
       "  <thead>\n",
       "    <tr style=\"text-align: right;\">\n",
       "      <th></th>\n",
       "      <th>action_type</th>\n",
       "      <th>count</th>\n",
       "      <th>Percent</th>\n",
       "    </tr>\n",
       "  </thead>\n",
       "  <tbody>\n",
       "    <tr>\n",
       "      <th>0</th>\n",
       "      <td>1</td>\n",
       "      <td>25966</td>\n",
       "      <td>41.630193</td>\n",
       "    </tr>\n",
       "    <tr>\n",
       "      <th>1</th>\n",
       "      <td>2</td>\n",
       "      <td>21489</td>\n",
       "      <td>34.452407</td>\n",
       "    </tr>\n",
       "    <tr>\n",
       "      <th>2</th>\n",
       "      <td>3</td>\n",
       "      <td>7360</td>\n",
       "      <td>11.799978</td>\n",
       "    </tr>\n",
       "    <tr>\n",
       "      <th>3</th>\n",
       "      <td>5</td>\n",
       "      <td>5253</td>\n",
       "      <td>8.421913</td>\n",
       "    </tr>\n",
       "    <tr>\n",
       "      <th>4</th>\n",
       "      <td>6</td>\n",
       "      <td>1483</td>\n",
       "      <td>2.377631</td>\n",
       "    </tr>\n",
       "    <tr>\n",
       "      <th>5</th>\n",
       "      <td>4</td>\n",
       "      <td>822</td>\n",
       "      <td>1.317878</td>\n",
       "    </tr>\n",
       "  </tbody>\n",
       "</table>\n",
       "</div>"
      ],
      "text/plain": [
       "  action_type  count    Percent\n",
       "0           1  25966  41.630193\n",
       "1           2  21489  34.452407\n",
       "2           3   7360  11.799978\n",
       "3           5   5253   8.421913\n",
       "4           6   1483   2.377631\n",
       "5           4    822   1.317878"
      ]
     },
     "execution_count": 29,
     "metadata": {},
     "output_type": "execute_result"
    }
   ],
   "source": [
    "# Value Counts by Percentage\n",
    "target_clean = pd.DataFrame(df_target_clean[\"action_type\"].value_counts()).reset_index()\n",
    "target_clean[\"Percent\"] = target_clean[\"count\"]*100/target_clean[\"count\"].sum()\n",
    "target_clean"
   ]
  },
  {
   "cell_type": "code",
   "execution_count": 30,
   "id": "3c99fd08-1e9e-4b02-8777-fa8b27e7e5d4",
   "metadata": {
    "tags": []
   },
   "outputs": [
    {
     "data": {
      "image/png": "[encoded data removed]",
      "text/plain": [
       "<Figure size 640x480 with 1 Axes>"
      ]
     },
     "metadata": {},
     "output_type": "display_data"
    }
   ],
   "source": [
    "# Highlight Target = '3' (Add_to_cart)\n",
    "index_to_highlight = 2  \n",
    "# Make other bars blue\n",
    "bars = plt.bar(target_clean[\"action_type\"], target_clean[\"count\"],color='blue')\n",
    "# Change \"Add_to_cart\" to red\n",
    "bars[index_to_highlight].set_color('red')  \n",
    "plt.show()"
   ]
  },
  {
   "cell_type": "code",
   "execution_count": 32,
   "id": "72276ee3-2d8a-41ee-8da3-314b42695fa4",
   "metadata": {
    "tags": []
   },
   "outputs": [
    {
     "data": {
      "text/plain": [
       "['User_session', 'action_type', 'Target']"
      ]
     },
     "execution_count": 32,
     "metadata": {},
     "output_type": "execute_result"
    }
   ],
   "source": [
    "target_list = list(df_target_clean.columns)\n",
    "target_list"
   ]
  },
  {
   "cell_type": "markdown",
   "id": "5d00c8de-274d-448e-a4c0-b36f71ef838b",
   "metadata": {
    "tags": []
   },
   "source": [
    "### EXPLORE TOTALS DATA"
   ]
  },
  {
   "cell_type": "code",
   "execution_count": 35,
   "id": "a276b17d-accf-4121-b242-5b337b877cff",
   "metadata": {
    "tags": []
   },
   "outputs": [
    {
     "data": {
      "text/html": [
       "<div>\n",
       "<style scoped>\n",
       "    .dataframe tbody tr th:only-of-type {\n",
       "        vertical-align: middle;\n",
       "    }\n",
       "\n",
       "    .dataframe tbody tr th {\n",
       "        vertical-align: top;\n",
       "    }\n",
       "\n",
       "    .dataframe thead th {\n",
       "        text-align: right;\n",
       "    }\n",
       "</style>\n",
       "<table border=\"1\" class=\"dataframe\">\n",
       "  <thead>\n",
       "    <tr style=\"text-align: right;\">\n",
       "      <th></th>\n",
       "      <th>User_session</th>\n",
       "      <th>visits</th>\n",
       "      <th>hits</th>\n",
       "      <th>pageviews</th>\n",
       "      <th>timeOnSite</th>\n",
       "      <th>bounces</th>\n",
       "      <th>transactions</th>\n",
       "      <th>transactionRevenue</th>\n",
       "      <th>newVisits</th>\n",
       "      <th>screenviews</th>\n",
       "      <th>uniqueScreenviews</th>\n",
       "      <th>timeOnScreen</th>\n",
       "      <th>totalTransactionRevenue</th>\n",
       "      <th>sessionQualityDim</th>\n",
       "      <th>Target</th>\n",
       "    </tr>\n",
       "  </thead>\n",
       "  <tbody>\n",
       "    <tr>\n",
       "      <th>0</th>\n",
       "      <td>3747703994981981896_14864273071</td>\n",
       "      <td>1</td>\n",
       "      <td>1</td>\n",
       "      <td>1</td>\n",
       "      <td>&lt;NA&gt;</td>\n",
       "      <td>1</td>\n",
       "      <td>&lt;NA&gt;</td>\n",
       "      <td>&lt;NA&gt;</td>\n",
       "      <td>1</td>\n",
       "      <td>&lt;NA&gt;</td>\n",
       "      <td>&lt;NA&gt;</td>\n",
       "      <td>&lt;NA&gt;</td>\n",
       "      <td>&lt;NA&gt;</td>\n",
       "      <td>&lt;NA&gt;</td>\n",
       "      <td>0</td>\n",
       "    </tr>\n",
       "    <tr>\n",
       "      <th>1</th>\n",
       "      <td>092185348184314980_14864132501</td>\n",
       "      <td>1</td>\n",
       "      <td>1</td>\n",
       "      <td>1</td>\n",
       "      <td>&lt;NA&gt;</td>\n",
       "      <td>1</td>\n",
       "      <td>&lt;NA&gt;</td>\n",
       "      <td>&lt;NA&gt;</td>\n",
       "      <td>&lt;NA&gt;</td>\n",
       "      <td>&lt;NA&gt;</td>\n",
       "      <td>&lt;NA&gt;</td>\n",
       "      <td>&lt;NA&gt;</td>\n",
       "      <td>&lt;NA&gt;</td>\n",
       "      <td>&lt;NA&gt;</td>\n",
       "      <td>0</td>\n",
       "    </tr>\n",
       "    <tr>\n",
       "      <th>2</th>\n",
       "      <td>44992025479320911_14864143671</td>\n",
       "      <td>1</td>\n",
       "      <td>1</td>\n",
       "      <td>1</td>\n",
       "      <td>&lt;NA&gt;</td>\n",
       "      <td>1</td>\n",
       "      <td>&lt;NA&gt;</td>\n",
       "      <td>&lt;NA&gt;</td>\n",
       "      <td>1</td>\n",
       "      <td>&lt;NA&gt;</td>\n",
       "      <td>&lt;NA&gt;</td>\n",
       "      <td>&lt;NA&gt;</td>\n",
       "      <td>&lt;NA&gt;</td>\n",
       "      <td>&lt;NA&gt;</td>\n",
       "      <td>0</td>\n",
       "    </tr>\n",
       "  </tbody>\n",
       "</table>\n",
       "</div>"
      ],
      "text/plain": [
       "                      User_session  visits  hits  pageviews  timeOnSite  \\\n",
       "0  3747703994981981896_14864273071       1     1          1        <NA>   \n",
       "1   092185348184314980_14864132501       1     1          1        <NA>   \n",
       "2    44992025479320911_14864143671       1     1          1        <NA>   \n",
       "\n",
       "   bounces  transactions  transactionRevenue  newVisits  screenviews  \\\n",
       "0        1          <NA>                <NA>          1         <NA>   \n",
       "1        1          <NA>                <NA>       <NA>         <NA>   \n",
       "2        1          <NA>                <NA>          1         <NA>   \n",
       "\n",
       "   uniqueScreenviews  timeOnScreen  totalTransactionRevenue  \\\n",
       "0               <NA>          <NA>                     <NA>   \n",
       "1               <NA>          <NA>                     <NA>   \n",
       "2               <NA>          <NA>                     <NA>   \n",
       "\n",
       "   sessionQualityDim  Target  \n",
       "0               <NA>       0  \n",
       "1               <NA>       0  \n",
       "2               <NA>       0  "
      ]
     },
     "execution_count": 35,
     "metadata": {},
     "output_type": "execute_result"
    }
   ],
   "source": [
    "df_totals.head(3)"
   ]
  },
  {
   "cell_type": "code",
   "execution_count": 36,
   "id": "bcd1490f-cf35-4bdf-87c4-991f7c6f43d3",
   "metadata": {
    "tags": []
   },
   "outputs": [
    {
     "name": "stdout",
     "output_type": "stream",
     "text": [
      "<class 'pandas.core.frame.DataFrame'>\n",
      "RangeIndex: 270285 entries, 0 to 270284\n",
      "Data columns (total 15 columns):\n",
      " #   Column                   Non-Null Count   Dtype \n",
      "---  ------                   --------------   ----- \n",
      " 0   User_session             270285 non-null  object\n",
      " 1   visits                   270285 non-null  Int64 \n",
      " 2   hits                     270285 non-null  Int64 \n",
      " 3   pageviews                270274 non-null  Int64 \n",
      " 4   timeOnSite               238589 non-null  Int64 \n",
      " 5   bounces                  31564 non-null   Int64 \n",
      " 6   transactions             24035 non-null   Int64 \n",
      " 7   transactionRevenue       24035 non-null   Int64 \n",
      " 8   newVisits                185894 non-null  Int64 \n",
      " 9   screenviews              0 non-null       Int64 \n",
      " 10  uniqueScreenviews        0 non-null       Int64 \n",
      " 11  timeOnScreen             0 non-null       Int64 \n",
      " 12  totalTransactionRevenue  24035 non-null   Int64 \n",
      " 13  sessionQualityDim        0 non-null       Int64 \n",
      " 14  Target                   270285 non-null  Int64 \n",
      "dtypes: Int64(14), object(1)\n",
      "memory usage: 34.5+ MB\n"
     ]
    }
   ],
   "source": [
    "df_totals.info()"
   ]
  },
  {
   "cell_type": "markdown",
   "id": "c1281cef-47fc-4dbe-b508-56a6df6de3bd",
   "metadata": {},
   "source": [
    "#### Nulls: screenviews, uniqueScreenviews, timeOnScreen,sessionQualityDim are 100% null so we will drop them.  "
   ]
  },
  {
   "cell_type": "code",
   "execution_count": 37,
   "id": "1a1ea960-3682-4490-ae9a-1a4490afecc0",
   "metadata": {
    "tags": []
   },
   "outputs": [],
   "source": [
    "df_totals = df_totals.dropna(how='all', axis=1)"
   ]
  },
  {
   "cell_type": "markdown",
   "id": "9fa9184e-0e7e-480b-9d2e-534f807ea3f3",
   "metadata": {},
   "source": [
    "#### Transactions occur after \"Add to Cart\", so we will drop transactions, transactionRevenue, and totalTransactionRevenue to prevent Target Leakage.  Let's look at null values...  "
   ]
  },
  {
   "cell_type": "code",
   "execution_count": 38,
   "id": "1fa19e21-9856-4d31-89d9-a7509fc8012a",
   "metadata": {
    "tags": []
   },
   "outputs": [],
   "source": [
    "df_totals = df_totals.drop([\"transactions\",\"transactionRevenue\",\"totalTransactionRevenue\"], axis=1)"
   ]
  },
  {
   "cell_type": "code",
   "execution_count": 39,
   "id": "5438d530-93d0-4b68-9632-ac70bcafc601",
   "metadata": {
    "tags": []
   },
   "outputs": [
    {
     "name": "stdout",
     "output_type": "stream",
     "text": [
      "visits\n",
      "1    270285\n",
      "Name: count, dtype: Int64\n",
      "hits\n",
      "1      30999\n",
      "2      17400\n",
      "3      15600\n",
      "4      12272\n",
      "5      11450\n",
      "       ...  \n",
      "107      107\n",
      "105      105\n",
      "90        90\n",
      "85        85\n",
      "70        70\n",
      "Name: count, Length: 129, dtype: Int64\n",
      "pageviews\n",
      "1      31910\n",
      "2      18351\n",
      "3      17269\n",
      "4      14358\n",
      "5      14118\n",
      "       ...  \n",
      "108      121\n",
      "84       109\n",
      "87       100\n",
      "81        91\n",
      "60        80\n",
      "Name: count, Length: 99, dtype: Int64\n",
      "timeOnSite\n",
      "17      826\n",
      "15      819\n",
      "10      793\n",
      "16      791\n",
      "21      777\n",
      "       ... \n",
      "1326      2\n",
      "1719      2\n",
      "1228      2\n",
      "1090      2\n",
      "1404      2\n",
      "Name: count, Length: 2169, dtype: Int64\n",
      "bounces\n",
      "1    31564\n",
      "Name: count, dtype: Int64\n",
      "newVisits\n",
      "1    185894\n",
      "Name: count, dtype: Int64\n",
      "Target\n",
      "0    262925\n",
      "1      7360\n",
      "Name: count, dtype: Int64\n"
     ]
    }
   ],
   "source": [
    "for col in df_totals.columns:\n",
    "    if col != \"User_session\":\n",
    "        print(df_totals[col].value_counts())"
   ]
  },
  {
   "cell_type": "code",
   "execution_count": 40,
   "id": "2b49317d-4be7-4e7f-b2b1-c790674a8436",
   "metadata": {
    "tags": []
   },
   "outputs": [
    {
     "name": "stdout",
     "output_type": "stream",
     "text": [
      "<class 'pandas.core.frame.DataFrame'>\n",
      "RangeIndex: 270285 entries, 0 to 270284\n",
      "Data columns (total 8 columns):\n",
      " #   Column        Non-Null Count   Dtype \n",
      "---  ------        --------------   ----- \n",
      " 0   User_session  270285 non-null  object\n",
      " 1   visits        270285 non-null  Int64 \n",
      " 2   hits          270285 non-null  Int64 \n",
      " 3   pageviews     270274 non-null  Int64 \n",
      " 4   timeOnSite    238589 non-null  Int64 \n",
      " 5   bounces       31564 non-null   Int64 \n",
      " 6   newVisits     185894 non-null  Int64 \n",
      " 7   Target        270285 non-null  Int64 \n",
      "dtypes: Int64(7), object(1)\n",
      "memory usage: 18.3+ MB\n"
     ]
    }
   ],
   "source": [
    "# This leaves us with only 6 features from df_totals, aside for User_session\n",
    "df_totals.info()"
   ]
  },
  {
   "cell_type": "markdown",
   "id": "eff827a4-fc6e-4050-b821-7a770c794cb8",
   "metadata": {
    "tags": []
   },
   "source": [
    "#### timeOnSite has nulls but is informative so we will keep\n",
    "#### bounces is either 1 or null by default, \"1\" means bounced\n",
    "#### "
   ]
  },
  {
   "cell_type": "code",
   "execution_count": 41,
   "id": "c2f6a56e-77fe-4e85-ad0d-4e8ef22849e3",
   "metadata": {
    "tags": []
   },
   "outputs": [
    {
     "data": {
      "text/plain": [
       "['User_session',\n",
       " 'visits',\n",
       " 'hits',\n",
       " 'pageviews',\n",
       " 'timeOnSite',\n",
       " 'bounces',\n",
       " 'newVisits',\n",
       " 'Target']"
      ]
     },
     "execution_count": 41,
     "metadata": {},
     "output_type": "execute_result"
    }
   ],
   "source": [
    "totals_list = list(df_totals.columns)\n",
    "totals_list"
   ]
  },
  {
   "cell_type": "code",
   "execution_count": 42,
   "id": "e60284f6-0ad2-49af-8b6a-88b0e9f3fd1f",
   "metadata": {
    "tags": []
   },
   "outputs": [
    {
     "data": {
      "text/plain": [
       "bounces\n",
       "1    31564\n",
       "Name: count, dtype: Int64"
      ]
     },
     "execution_count": 42,
     "metadata": {},
     "output_type": "execute_result"
    }
   ],
   "source": [
    "df_totals[\"bounces\"].value_counts()"
   ]
  },
  {
   "cell_type": "markdown",
   "id": "e6c4e487-76af-420d-afad-34a2db83f189",
   "metadata": {},
   "source": [
    "### EXPLORE TRAFFICSOURCE"
   ]
  },
  {
   "cell_type": "code",
   "execution_count": 43,
   "id": "144cf375-37c6-4d48-afff-6ebae425db18",
   "metadata": {
    "tags": []
   },
   "outputs": [
    {
     "data": {
      "text/html": [
       "<div>\n",
       "<style scoped>\n",
       "    .dataframe tbody tr th:only-of-type {\n",
       "        vertical-align: middle;\n",
       "    }\n",
       "\n",
       "    .dataframe tbody tr th {\n",
       "        vertical-align: top;\n",
       "    }\n",
       "\n",
       "    .dataframe thead th {\n",
       "        text-align: right;\n",
       "    }\n",
       "</style>\n",
       "<table border=\"1\" class=\"dataframe\">\n",
       "  <thead>\n",
       "    <tr style=\"text-align: right;\">\n",
       "      <th></th>\n",
       "      <th>User_session</th>\n",
       "      <th>referralPath</th>\n",
       "      <th>campaign</th>\n",
       "      <th>source</th>\n",
       "      <th>medium</th>\n",
       "      <th>keyword</th>\n",
       "      <th>adContent</th>\n",
       "      <th>adwordsClickInfo</th>\n",
       "      <th>isTrueDirect</th>\n",
       "      <th>campaignCode</th>\n",
       "    </tr>\n",
       "  </thead>\n",
       "  <tbody>\n",
       "    <tr>\n",
       "      <th>0</th>\n",
       "      <td>4805174921230114482_1486492237</td>\n",
       "      <td>None</td>\n",
       "      <td>(not set)</td>\n",
       "      <td>(direct)</td>\n",
       "      <td>(none)</td>\n",
       "      <td>None</td>\n",
       "      <td>None</td>\n",
       "      <td>{'campaignId': None, 'adGroupId': None, 'creat...</td>\n",
       "      <td>True</td>\n",
       "      <td>None</td>\n",
       "    </tr>\n",
       "    <tr>\n",
       "      <th>1</th>\n",
       "      <td>2351023648042503697_1486477444</td>\n",
       "      <td>None</td>\n",
       "      <td>(not set)</td>\n",
       "      <td>(direct)</td>\n",
       "      <td>(none)</td>\n",
       "      <td>None</td>\n",
       "      <td>None</td>\n",
       "      <td>{'campaignId': None, 'adGroupId': None, 'creat...</td>\n",
       "      <td>True</td>\n",
       "      <td>None</td>\n",
       "    </tr>\n",
       "    <tr>\n",
       "      <th>2</th>\n",
       "      <td>274075099018939329_1486522353</td>\n",
       "      <td>None</td>\n",
       "      <td>(not set)</td>\n",
       "      <td>dfa</td>\n",
       "      <td>cpm</td>\n",
       "      <td>None</td>\n",
       "      <td>None</td>\n",
       "      <td>{'campaignId': None, 'adGroupId': None, 'creat...</td>\n",
       "      <td>True</td>\n",
       "      <td>None</td>\n",
       "    </tr>\n",
       "  </tbody>\n",
       "</table>\n",
       "</div>"
      ],
      "text/plain": [
       "                     User_session referralPath   campaign    source  medium  \\\n",
       "0  4805174921230114482_1486492237         None  (not set)  (direct)  (none)   \n",
       "1  2351023648042503697_1486477444         None  (not set)  (direct)  (none)   \n",
       "2   274075099018939329_1486522353         None  (not set)       dfa     cpm   \n",
       "\n",
       "  keyword adContent                                   adwordsClickInfo  \\\n",
       "0    None      None  {'campaignId': None, 'adGroupId': None, 'creat...   \n",
       "1    None      None  {'campaignId': None, 'adGroupId': None, 'creat...   \n",
       "2    None      None  {'campaignId': None, 'adGroupId': None, 'creat...   \n",
       "\n",
       "   isTrueDirect campaignCode  \n",
       "0          True         None  \n",
       "1          True         None  \n",
       "2          True         None  "
      ]
     },
     "execution_count": 43,
     "metadata": {},
     "output_type": "execute_result"
    }
   ],
   "source": [
    "df_trafficSource.head(3)"
   ]
  },
  {
   "cell_type": "code",
   "execution_count": 44,
   "id": "f534d83e-2fa6-4ab7-a052-33e0eaad8d5a",
   "metadata": {
    "tags": []
   },
   "outputs": [
    {
     "name": "stdout",
     "output_type": "stream",
     "text": [
      "<class 'pandas.core.frame.DataFrame'>\n",
      "RangeIndex: 62192 entries, 0 to 62191\n",
      "Data columns (total 10 columns):\n",
      " #   Column            Non-Null Count  Dtype  \n",
      "---  ------            --------------  -----  \n",
      " 0   User_session      62192 non-null  object \n",
      " 1   referralPath      17686 non-null  object \n",
      " 2   campaign          62192 non-null  object \n",
      " 3   source            62192 non-null  object \n",
      " 4   medium            62192 non-null  object \n",
      " 5   keyword           20093 non-null  object \n",
      " 6   adContent         1560 non-null   object \n",
      " 7   adwordsClickInfo  62192 non-null  object \n",
      " 8   isTrueDirect      19786 non-null  boolean\n",
      " 9   campaignCode      0 non-null      object \n",
      "dtypes: boolean(1), object(9)\n",
      "memory usage: 4.4+ MB\n"
     ]
    }
   ],
   "source": [
    "df_trafficSource.info()"
   ]
  },
  {
   "cell_type": "markdown",
   "id": "9c0786bc-043c-4683-afdb-876a6c308af6",
   "metadata": {},
   "source": [
    "#### adwordsClickInfo is nested so we have to look further"
   ]
  },
  {
   "cell_type": "code",
   "execution_count": 45,
   "id": "c683fa62-a26c-4338-8653-7f36791b3596",
   "metadata": {
    "tags": []
   },
   "outputs": [
    {
     "data": {
      "text/plain": [
       "{'campaignId': None,\n",
       " 'adGroupId': None,\n",
       " 'creativeId': None,\n",
       " 'criteriaId': None,\n",
       " 'page': None,\n",
       " 'slot': None,\n",
       " 'criteriaParameters': 'not available in demo dataset',\n",
       " 'gclId': None,\n",
       " 'customerId': None,\n",
       " 'adNetworkType': None,\n",
       " 'targetingCriteria': None,\n",
       " 'isVideoAd': None}"
      ]
     },
     "execution_count": 45,
     "metadata": {},
     "output_type": "execute_result"
    }
   ],
   "source": [
    "df_trafficSource[\"adwordsClickInfo\"][0]"
   ]
  },
  {
   "cell_type": "code",
   "execution_count": 46,
   "id": "a18652e6-2d93-4c95-a5ef-c69c3cca0d77",
   "metadata": {
    "tags": []
   },
   "outputs": [
    {
     "data": {
      "application/vnd.jupyter.widget-view+json": {
       "model_id": "953de9eb3e1843729a146c84485debcc",
       "version_major": 2,
       "version_minor": 0
      },
      "text/plain": [
       "Query is running:   0%|          |"
      ]
     },
     "metadata": {},
     "output_type": "display_data"
    },
    {
     "data": {
      "application/vnd.jupyter.widget-view+json": {
       "model_id": "fad39437373d40498e6a0bf1fe416651",
       "version_major": 2,
       "version_minor": 0
      },
      "text/plain": [
       "Downloading:   0%|          |"
      ]
     },
     "metadata": {},
     "output_type": "display_data"
    }
   ],
   "source": [
    "%%bigquery df_adwords --project $PROJECT_ID\n",
    "\n",
    "SELECT adwordsClickinfo.* \n",
    "FROM luke_cap_data.trafficSource"
   ]
  },
  {
   "cell_type": "code",
   "execution_count": 47,
   "id": "8a58ed13-2f5a-469f-951b-4c5bf179d75e",
   "metadata": {
    "tags": []
   },
   "outputs": [
    {
     "data": {
      "text/html": [
       "<div>\n",
       "<style scoped>\n",
       "    .dataframe tbody tr th:only-of-type {\n",
       "        vertical-align: middle;\n",
       "    }\n",
       "\n",
       "    .dataframe tbody tr th {\n",
       "        vertical-align: top;\n",
       "    }\n",
       "\n",
       "    .dataframe thead th {\n",
       "        text-align: right;\n",
       "    }\n",
       "</style>\n",
       "<table border=\"1\" class=\"dataframe\">\n",
       "  <thead>\n",
       "    <tr style=\"text-align: right;\">\n",
       "      <th></th>\n",
       "      <th>campaignId</th>\n",
       "      <th>adGroupId</th>\n",
       "      <th>creativeId</th>\n",
       "      <th>criteriaId</th>\n",
       "      <th>page</th>\n",
       "      <th>slot</th>\n",
       "      <th>criteriaParameters</th>\n",
       "      <th>gclId</th>\n",
       "      <th>customerId</th>\n",
       "      <th>adNetworkType</th>\n",
       "      <th>targetingCriteria</th>\n",
       "      <th>isVideoAd</th>\n",
       "    </tr>\n",
       "  </thead>\n",
       "  <tbody>\n",
       "    <tr>\n",
       "      <th>0</th>\n",
       "      <td>&lt;NA&gt;</td>\n",
       "      <td>&lt;NA&gt;</td>\n",
       "      <td>&lt;NA&gt;</td>\n",
       "      <td>&lt;NA&gt;</td>\n",
       "      <td>1</td>\n",
       "      <td>Top</td>\n",
       "      <td>not available in demo dataset</td>\n",
       "      <td>Cj0KEQiAzsvEBRDEluzk96e4rqABEiQAezEOoF_LgD0Twl...</td>\n",
       "      <td>&lt;NA&gt;</td>\n",
       "      <td>Google Search</td>\n",
       "      <td>None</td>\n",
       "      <td>False</td>\n",
       "    </tr>\n",
       "    <tr>\n",
       "      <th>1</th>\n",
       "      <td>&lt;NA&gt;</td>\n",
       "      <td>&lt;NA&gt;</td>\n",
       "      <td>&lt;NA&gt;</td>\n",
       "      <td>&lt;NA&gt;</td>\n",
       "      <td>&lt;NA&gt;</td>\n",
       "      <td>None</td>\n",
       "      <td>not available in demo dataset</td>\n",
       "      <td>None</td>\n",
       "      <td>&lt;NA&gt;</td>\n",
       "      <td>None</td>\n",
       "      <td>None</td>\n",
       "      <td>&lt;NA&gt;</td>\n",
       "    </tr>\n",
       "    <tr>\n",
       "      <th>2</th>\n",
       "      <td>&lt;NA&gt;</td>\n",
       "      <td>&lt;NA&gt;</td>\n",
       "      <td>&lt;NA&gt;</td>\n",
       "      <td>&lt;NA&gt;</td>\n",
       "      <td>&lt;NA&gt;</td>\n",
       "      <td>None</td>\n",
       "      <td>not available in demo dataset</td>\n",
       "      <td>None</td>\n",
       "      <td>&lt;NA&gt;</td>\n",
       "      <td>None</td>\n",
       "      <td>None</td>\n",
       "      <td>&lt;NA&gt;</td>\n",
       "    </tr>\n",
       "  </tbody>\n",
       "</table>\n",
       "</div>"
      ],
      "text/plain": [
       "   campaignId  adGroupId  creativeId  criteriaId  page  slot  \\\n",
       "0        <NA>       <NA>        <NA>        <NA>     1   Top   \n",
       "1        <NA>       <NA>        <NA>        <NA>  <NA>  None   \n",
       "2        <NA>       <NA>        <NA>        <NA>  <NA>  None   \n",
       "\n",
       "              criteriaParameters  \\\n",
       "0  not available in demo dataset   \n",
       "1  not available in demo dataset   \n",
       "2  not available in demo dataset   \n",
       "\n",
       "                                               gclId  customerId  \\\n",
       "0  Cj0KEQiAzsvEBRDEluzk96e4rqABEiQAezEOoF_LgD0Twl...        <NA>   \n",
       "1                                               None        <NA>   \n",
       "2                                               None        <NA>   \n",
       "\n",
       "   adNetworkType targetingCriteria  isVideoAd  \n",
       "0  Google Search              None      False  \n",
       "1           None              None       <NA>  \n",
       "2           None              None       <NA>  "
      ]
     },
     "execution_count": 47,
     "metadata": {},
     "output_type": "execute_result"
    }
   ],
   "source": [
    "df_adwords.head(3)"
   ]
  },
  {
   "cell_type": "code",
   "execution_count": 48,
   "id": "93e58de8-00fb-4bbe-9b44-77fc39221f09",
   "metadata": {
    "tags": []
   },
   "outputs": [
    {
     "name": "stdout",
     "output_type": "stream",
     "text": [
      "<class 'pandas.core.frame.DataFrame'>\n",
      "RangeIndex: 62192 entries, 0 to 62191\n",
      "Data columns (total 7 columns):\n",
      " #   Column              Non-Null Count  Dtype  \n",
      "---  ------              --------------  -----  \n",
      " 0   page                1550 non-null   Int64  \n",
      " 1   slot                1550 non-null   object \n",
      " 2   criteriaParameters  62192 non-null  object \n",
      " 3   gclId               1550 non-null   object \n",
      " 4   adNetworkType       1550 non-null   object \n",
      " 5   targetingCriteria   88 non-null     object \n",
      " 6   isVideoAd           1550 non-null   boolean\n",
      "dtypes: Int64(1), boolean(1), object(5)\n",
      "memory usage: 3.0+ MB\n"
     ]
    }
   ],
   "source": [
    "# After dropping columns with 100% nulls\n",
    "df_adwords = df_adwords.dropna(how='all',axis=1)\n",
    "df_adwords.info()"
   ]
  },
  {
   "cell_type": "code",
   "execution_count": 49,
   "id": "dc312f6f-74a7-4181-ac65-efef821aad1a",
   "metadata": {
    "tags": []
   },
   "outputs": [
    {
     "name": "stdout",
     "output_type": "stream",
     "text": [
      "page : page\n",
      "1    1542\n",
      "2       8\n",
      "Name: count, dtype: Int64\n",
      "slot : slot\n",
      "Top    1514\n",
      "RHS      36\n",
      "Name: count, dtype: int64\n",
      "criteriaParameters : criteriaParameters\n",
      "not available in demo dataset    62192\n",
      "Name: count, dtype: int64\n",
      "gclId : gclId\n",
      "Cj0KEQiAw_DEBRChnYiQ_562gsEBEiQA4LcssmB_RWgvpPnltzlzj5rGwqx5lk87wC5CjfcqzneNZewaAiAp8P8HAQ    27\n",
      "Cj0KEQiAtqHEBRCNrdC6rYq9_oYBEiQAejvRlydKqhjz1oz3BhBTfMjjueAO4Cx4no5mJL6u3XbzFHAaAlL-8P8HAQ    13\n",
      "Cj0KEQiA0L_FBRDMmaCTw5nxm-ABEiQABn-VqYPBjHllWA_2v3yH9ygg977T-iJQptfHa4lhzyd60bkaAqAS8P8HAQ    10\n",
      "Cj0KEQiAw_DEBRChnYiQ_562gsEBEiQA4LcssliGTDKOC0uPw5dv8Gxwumt1uF9_yliW0eF6ch5r4twaApUq8P8HAQ     9\n",
      "CjwKEAiArIDFBRCe_9DJi6Or0UcSJAAK1nFvAPkyO9c3vWDnAFK5OCr3WvpwsijDIrzw1205Ok2p7xoCEMTw_wcB       8\n",
      "                                                                                              ..\n",
      "Cj0KEQiAw_DEBRChnYiQ_562gsEBEiQA4Lcssi5kztG2LtiyPodNG0qVqv5zpiRbF5xDkz0zzD2m3k8aAp1l8P8HAQ     1\n",
      "CLfVkfOKhNICFUWVfgodRSMAdA                                                                     1\n",
      "Cj0KEQiAw_DEBRChnYiQ_562gsEBEiQA4LcsskyYmx9-q-RpEmq1eItnD3guQbFaX-zUIOM4mdiCa4EaAj1_8P8HAQ     1\n",
      "CMmm69WPg9ICFQWKaQodUdwFyA                                                                     1\n",
      "CjwKEAiArbrFBRDL4Oiz97GP2nISJAAmJMFa6wKi7lvQ7W_5h-295em03M4RMgzrmKxbBA7Ncr70FBoCv_Tw_wcB       1\n",
      "Name: count, Length: 1314, dtype: int64\n",
      "adNetworkType : adNetworkType\n",
      "Google Search    1550\n",
      "Name: count, dtype: int64\n",
      "targetingCriteria : targetingCriteria\n",
      "{'boomUserlistId': None}    88\n",
      "Name: count, dtype: int64\n",
      "isVideoAd : isVideoAd\n",
      "False    1550\n",
      "Name: count, dtype: Int64\n"
     ]
    }
   ],
   "source": [
    "for col in df_adwords.columns:\n",
    "    print(col,\":\",df_adwords[col].value_counts())"
   ]
  },
  {
   "cell_type": "markdown",
   "id": "625555bc-ba75-4463-a58d-808a8c9e3f91",
   "metadata": {
    "tags": []
   },
   "source": [
    "#### Most of these nested fields contain high null values.  Since only a small percentage of rows have values for any of these nested fields the entire adwords.ClickInfo field will be dropped."
   ]
  },
  {
   "cell_type": "code",
   "execution_count": 50,
   "id": "9b4fb590-7af7-4e25-a082-7877d15d6010",
   "metadata": {
    "tags": []
   },
   "outputs": [],
   "source": [
    "df_trafficSource = df_trafficSource.drop(\"adwordsClickInfo\", axis=1)"
   ]
  },
  {
   "cell_type": "code",
   "execution_count": 51,
   "id": "0cb29000-d4bb-4378-a178-099759d4f2f8",
   "metadata": {
    "tags": []
   },
   "outputs": [
    {
     "name": "stdout",
     "output_type": "stream",
     "text": [
      "<class 'pandas.core.frame.DataFrame'>\n",
      "RangeIndex: 62192 entries, 0 to 62191\n",
      "Data columns (total 9 columns):\n",
      " #   Column        Non-Null Count  Dtype  \n",
      "---  ------        --------------  -----  \n",
      " 0   User_session  62192 non-null  object \n",
      " 1   referralPath  17686 non-null  object \n",
      " 2   campaign      62192 non-null  object \n",
      " 3   source        62192 non-null  object \n",
      " 4   medium        62192 non-null  object \n",
      " 5   keyword       20093 non-null  object \n",
      " 6   adContent     1560 non-null   object \n",
      " 7   isTrueDirect  19786 non-null  boolean\n",
      " 8   campaignCode  0 non-null      object \n",
      "dtypes: boolean(1), object(8)\n",
      "memory usage: 3.9+ MB\n"
     ]
    }
   ],
   "source": [
    "df_trafficSource.info()"
   ]
  },
  {
   "cell_type": "markdown",
   "id": "89346a2a-479f-4ce7-96e3-17dc1304fe13",
   "metadata": {},
   "source": [
    "#### campaignCode completely null, so we will drop it."
   ]
  },
  {
   "cell_type": "code",
   "execution_count": 52,
   "id": "69cdb830-1d41-438e-9f87-5a2c090bce0b",
   "metadata": {
    "tags": []
   },
   "outputs": [],
   "source": [
    "df_trafficSource = df_trafficSource.dropna(how='all', axis=1)"
   ]
  },
  {
   "cell_type": "code",
   "execution_count": 53,
   "id": "e494468e-fed1-4ca4-a408-f8acc4d2266c",
   "metadata": {
    "tags": []
   },
   "outputs": [
    {
     "name": "stdout",
     "output_type": "stream",
     "text": [
      "(62192, 8)\n"
     ]
    },
    {
     "data": {
      "text/plain": [
       "User_session        0\n",
       "referralPath    44506\n",
       "campaign            0\n",
       "source              0\n",
       "medium              0\n",
       "keyword         42099\n",
       "adContent       60632\n",
       "isTrueDirect    42406\n",
       "dtype: int64"
      ]
     },
     "execution_count": 53,
     "metadata": {},
     "output_type": "execute_result"
    }
   ],
   "source": [
    "print(df_trafficSource.shape)\n",
    "df_trafficSource.isnull().sum()"
   ]
  },
  {
   "cell_type": "code",
   "execution_count": 54,
   "id": "f32e5850-8a02-4b9a-9e0a-9f52ba6a314f",
   "metadata": {
    "tags": []
   },
   "outputs": [
    {
     "data": {
      "text/html": [
       "<div>\n",
       "<style scoped>\n",
       "    .dataframe tbody tr th:only-of-type {\n",
       "        vertical-align: middle;\n",
       "    }\n",
       "\n",
       "    .dataframe tbody tr th {\n",
       "        vertical-align: top;\n",
       "    }\n",
       "\n",
       "    .dataframe thead th {\n",
       "        text-align: right;\n",
       "    }\n",
       "</style>\n",
       "<table border=\"1\" class=\"dataframe\">\n",
       "  <thead>\n",
       "    <tr style=\"text-align: right;\">\n",
       "      <th></th>\n",
       "      <th>User_session</th>\n",
       "      <th>referralPath</th>\n",
       "      <th>campaign</th>\n",
       "      <th>source</th>\n",
       "      <th>medium</th>\n",
       "      <th>keyword</th>\n",
       "      <th>adContent</th>\n",
       "      <th>isTrueDirect</th>\n",
       "    </tr>\n",
       "  </thead>\n",
       "  <tbody>\n",
       "    <tr>\n",
       "      <th>0</th>\n",
       "      <td>4805174921230114482_1486492237</td>\n",
       "      <td>None</td>\n",
       "      <td>(not set)</td>\n",
       "      <td>(direct)</td>\n",
       "      <td>(none)</td>\n",
       "      <td>None</td>\n",
       "      <td>None</td>\n",
       "      <td>True</td>\n",
       "    </tr>\n",
       "    <tr>\n",
       "      <th>1</th>\n",
       "      <td>2351023648042503697_1486477444</td>\n",
       "      <td>None</td>\n",
       "      <td>(not set)</td>\n",
       "      <td>(direct)</td>\n",
       "      <td>(none)</td>\n",
       "      <td>None</td>\n",
       "      <td>None</td>\n",
       "      <td>True</td>\n",
       "    </tr>\n",
       "    <tr>\n",
       "      <th>2</th>\n",
       "      <td>274075099018939329_1486522353</td>\n",
       "      <td>None</td>\n",
       "      <td>(not set)</td>\n",
       "      <td>dfa</td>\n",
       "      <td>cpm</td>\n",
       "      <td>None</td>\n",
       "      <td>None</td>\n",
       "      <td>True</td>\n",
       "    </tr>\n",
       "  </tbody>\n",
       "</table>\n",
       "</div>"
      ],
      "text/plain": [
       "                     User_session referralPath   campaign    source  medium  \\\n",
       "0  4805174921230114482_1486492237         None  (not set)  (direct)  (none)   \n",
       "1  2351023648042503697_1486477444         None  (not set)  (direct)  (none)   \n",
       "2   274075099018939329_1486522353         None  (not set)       dfa     cpm   \n",
       "\n",
       "  keyword adContent  isTrueDirect  \n",
       "0    None      None          True  \n",
       "1    None      None          True  \n",
       "2    None      None          True  "
      ]
     },
     "execution_count": 54,
     "metadata": {},
     "output_type": "execute_result"
    }
   ],
   "source": [
    "df_trafficSource.head(3)"
   ]
  },
  {
   "cell_type": "code",
   "execution_count": 55,
   "id": "59f1f89e-d6fa-4a7e-925b-d44fbe2eac42",
   "metadata": {
    "tags": []
   },
   "outputs": [
    {
     "name": "stdout",
     "output_type": "stream",
     "text": [
      "referralPath 'None': 0\n",
      "campaign 'None': 0\n",
      "source 'None': 0\n",
      "medium 'None': 0\n",
      "keyword 'None': 0\n",
      "adContent 'None': 0\n",
      "isTrueDirect 'None': 0\n",
      "---------------------------------------------------------------------------\n",
      "referralPath 'not set': 0\n",
      "campaign 'not set': 59940\n",
      "source 'not set': 0\n",
      "medium 'not set': 0\n",
      "keyword 'not set': 0\n",
      "adContent 'not set': 0\n",
      "isTrueDirect 'not set': 0\n",
      "---------------------------------------------------------------------------\n",
      "referralPath '<NA>': 0\n",
      "campaign '<NA>': 0\n",
      "source '<NA>': 0\n",
      "medium '<NA>': 0\n",
      "keyword '<NA>': 0\n",
      "adContent '<NA>': 0\n",
      "isTrueDirect '<NA>': 0\n",
      "---------------------------------------------------------------------------\n",
      "referralPath '(none)': 0\n",
      "campaign '(none)': 0\n",
      "source '(none)': 0\n",
      "medium '(none)': 26549\n",
      "keyword '(none)': 0\n",
      "adContent '(none)': 0\n",
      "isTrueDirect '(none)': 0\n"
     ]
    }
   ],
   "source": [
    "for col in df_trafficSource.columns:\n",
    "    if col != \"User_session\":\n",
    "        print(col,\"'None':\",len(df_trafficSource[df_trafficSource[col]==None]))\n",
    "print('-'*75)\n",
    "for col in df_trafficSource.columns:\n",
    "    if col != \"User_session\":\n",
    "        print(col,\"'not set':\",len(df_trafficSource[df_trafficSource[col]=='(not set)']))\n",
    "print('-'*75)\n",
    "for col in df_trafficSource.columns:\n",
    "    if col != \"User_session\":\n",
    "        print(col,\"'<NA>':\",len(df_trafficSource[df_trafficSource[col]=='<NA>']))\n",
    "print('-'*75)\n",
    "for col in df_trafficSource.columns:\n",
    "    if col != \"User_session\":\n",
    "        print(col,\"'(none)':\",len(df_trafficSource[df_trafficSource[col]=='(none)']))        "
   ]
  },
  {
   "cell_type": "markdown",
   "id": "e70372fc-a9c1-490a-ad6c-830dea64291f",
   "metadata": {},
   "source": [
    "#### Because 'campaign' is 'not set' for almost all rows we will drop it and also \"adContent\" because is almost all null."
   ]
  },
  {
   "cell_type": "code",
   "execution_count": 56,
   "id": "a3817ac4-6b68-4218-a61e-95d3e175382a",
   "metadata": {
    "tags": []
   },
   "outputs": [],
   "source": [
    "df_trafficSource = df_trafficSource.drop([\"campaign\", \"adContent\"], axis=1)"
   ]
  },
  {
   "cell_type": "code",
   "execution_count": 57,
   "id": "7a8556f0-995c-43ef-b8cf-88859a704184",
   "metadata": {
    "tags": []
   },
   "outputs": [
    {
     "name": "stdout",
     "output_type": "stream",
     "text": [
      "<class 'pandas.core.frame.DataFrame'>\n",
      "RangeIndex: 62192 entries, 0 to 62191\n",
      "Data columns (total 6 columns):\n",
      " #   Column        Non-Null Count  Dtype  \n",
      "---  ------        --------------  -----  \n",
      " 0   User_session  62192 non-null  object \n",
      " 1   referralPath  17686 non-null  object \n",
      " 2   source        62192 non-null  object \n",
      " 3   medium        62192 non-null  object \n",
      " 4   keyword       20093 non-null  object \n",
      " 5   isTrueDirect  19786 non-null  boolean\n",
      "dtypes: boolean(1), object(5)\n",
      "memory usage: 2.5+ MB\n"
     ]
    }
   ],
   "source": [
    "df_trafficSource.info()"
   ]
  },
  {
   "cell_type": "markdown",
   "id": "8b641be9-9f94-4d15-af5d-7bd2659a8aa4",
   "metadata": {
    "tags": []
   },
   "source": [
    "#### 'referralPath' and 'keyword' features are missing over 50% of their values and may be dropped later."
   ]
  },
  {
   "cell_type": "code",
   "execution_count": 58,
   "id": "fe82eff0-e184-490b-b08e-b293c8b41110",
   "metadata": {
    "tags": []
   },
   "outputs": [
    {
     "data": {
      "text/plain": [
       "referralPath\n",
       "/                                           5002\n",
       "/yt/about/                                  2728\n",
       "/analytics/web/                             1070\n",
       "/yt/about/ru/                                928\n",
       "/yt/about/es-419/                            496\n",
       "                                            ... \n",
       "/pin/299911656420971465/                       1\n",
       "/yt/about/eu/                                  1\n",
       "/safeframe/1-0-5/html/container.html           1\n",
       "/c/u/0/                                        1\n",
       "/N4061/adi/com.ytsrc.indus/manufacturing       1\n",
       "Name: count, Length: 283, dtype: int64"
      ]
     },
     "execution_count": 58,
     "metadata": {},
     "output_type": "execute_result"
    }
   ],
   "source": [
    "df_trafficSource[\"referralPath\"].value_counts()"
   ]
  },
  {
   "cell_type": "code",
   "execution_count": 59,
   "id": "0aa89080-d7f1-4c0b-afed-b528a65f9628",
   "metadata": {
    "tags": []
   },
   "outputs": [
    {
     "data": {
      "text/html": [
       "<div>\n",
       "<style scoped>\n",
       "    .dataframe tbody tr th:only-of-type {\n",
       "        vertical-align: middle;\n",
       "    }\n",
       "\n",
       "    .dataframe tbody tr th {\n",
       "        vertical-align: top;\n",
       "    }\n",
       "\n",
       "    .dataframe thead th {\n",
       "        text-align: right;\n",
       "    }\n",
       "</style>\n",
       "<table border=\"1\" class=\"dataframe\">\n",
       "  <thead>\n",
       "    <tr style=\"text-align: right;\">\n",
       "      <th></th>\n",
       "      <th>User_session</th>\n",
       "      <th>referralPath</th>\n",
       "      <th>source</th>\n",
       "      <th>medium</th>\n",
       "      <th>keyword</th>\n",
       "      <th>isTrueDirect</th>\n",
       "    </tr>\n",
       "  </thead>\n",
       "  <tbody>\n",
       "    <tr>\n",
       "      <th>0</th>\n",
       "      <td>4805174921230114482_1486492237</td>\n",
       "      <td>None</td>\n",
       "      <td>(direct)</td>\n",
       "      <td>(none)</td>\n",
       "      <td>None</td>\n",
       "      <td>True</td>\n",
       "    </tr>\n",
       "    <tr>\n",
       "      <th>1</th>\n",
       "      <td>2351023648042503697_1486477444</td>\n",
       "      <td>None</td>\n",
       "      <td>(direct)</td>\n",
       "      <td>(none)</td>\n",
       "      <td>None</td>\n",
       "      <td>True</td>\n",
       "    </tr>\n",
       "    <tr>\n",
       "      <th>2</th>\n",
       "      <td>274075099018939329_1486522353</td>\n",
       "      <td>None</td>\n",
       "      <td>dfa</td>\n",
       "      <td>cpm</td>\n",
       "      <td>None</td>\n",
       "      <td>True</td>\n",
       "    </tr>\n",
       "  </tbody>\n",
       "</table>\n",
       "</div>"
      ],
      "text/plain": [
       "                     User_session referralPath    source  medium keyword  \\\n",
       "0  4805174921230114482_1486492237         None  (direct)  (none)    None   \n",
       "1  2351023648042503697_1486477444         None  (direct)  (none)    None   \n",
       "2   274075099018939329_1486522353         None       dfa     cpm    None   \n",
       "\n",
       "   isTrueDirect  \n",
       "0          True  \n",
       "1          True  \n",
       "2          True  "
      ]
     },
     "execution_count": 59,
     "metadata": {},
     "output_type": "execute_result"
    }
   ],
   "source": [
    "df_trafficSource.head(3)"
   ]
  },
  {
   "cell_type": "code",
   "execution_count": 60,
   "id": "676767a3-ceca-4eef-a3e4-90d39bf45f15",
   "metadata": {
    "tags": []
   },
   "outputs": [
    {
     "data": {
      "text/plain": [
       "['User_session', 'referralPath', 'source', 'medium', 'keyword', 'isTrueDirect']"
      ]
     },
     "execution_count": 60,
     "metadata": {},
     "output_type": "execute_result"
    }
   ],
   "source": [
    "trafficSource_list = list(df_trafficSource.columns)\n",
    "trafficSource_list"
   ]
  },
  {
   "cell_type": "markdown",
   "id": "01529401-1a64-46b4-bfdc-9b92c1ce1f92",
   "metadata": {},
   "source": [
    "### EXPLORE DEVICE"
   ]
  },
  {
   "cell_type": "code",
   "execution_count": 61,
   "id": "f6dc3aad-4d1a-4da2-92dd-00f7f6d2a7dd",
   "metadata": {
    "tags": []
   },
   "outputs": [
    {
     "data": {
      "text/html": [
       "<div>\n",
       "<style scoped>\n",
       "    .dataframe tbody tr th:only-of-type {\n",
       "        vertical-align: middle;\n",
       "    }\n",
       "\n",
       "    .dataframe tbody tr th {\n",
       "        vertical-align: top;\n",
       "    }\n",
       "\n",
       "    .dataframe thead th {\n",
       "        text-align: right;\n",
       "    }\n",
       "</style>\n",
       "<table border=\"1\" class=\"dataframe\">\n",
       "  <thead>\n",
       "    <tr style=\"text-align: right;\">\n",
       "      <th></th>\n",
       "      <th>User_session</th>\n",
       "      <th>browser</th>\n",
       "      <th>browserVersion</th>\n",
       "      <th>browserSize</th>\n",
       "      <th>operatingSystem</th>\n",
       "      <th>operatingSystemVersion</th>\n",
       "      <th>isMobile</th>\n",
       "      <th>mobileDeviceBranding</th>\n",
       "      <th>mobileDeviceModel</th>\n",
       "      <th>mobileInputSelector</th>\n",
       "      <th>mobileDeviceInfo</th>\n",
       "      <th>mobileDeviceMarketingName</th>\n",
       "      <th>flashVersion</th>\n",
       "      <th>javaEnabled</th>\n",
       "      <th>language</th>\n",
       "      <th>screenColors</th>\n",
       "      <th>screenResolution</th>\n",
       "      <th>deviceCategory</th>\n",
       "    </tr>\n",
       "  </thead>\n",
       "  <tbody>\n",
       "    <tr>\n",
       "      <th>0</th>\n",
       "      <td>471818995011932337_1485984141</td>\n",
       "      <td>Firefox</td>\n",
       "      <td>not available in demo dataset</td>\n",
       "      <td>not available in demo dataset</td>\n",
       "      <td>Firefox OS</td>\n",
       "      <td>not available in demo dataset</td>\n",
       "      <td>True</td>\n",
       "      <td>not available in demo dataset</td>\n",
       "      <td>not available in demo dataset</td>\n",
       "      <td>not available in demo dataset</td>\n",
       "      <td>not available in demo dataset</td>\n",
       "      <td>not available in demo dataset</td>\n",
       "      <td>not available in demo dataset</td>\n",
       "      <td>&lt;NA&gt;</td>\n",
       "      <td>not available in demo dataset</td>\n",
       "      <td>not available in demo dataset</td>\n",
       "      <td>not available in demo dataset</td>\n",
       "      <td>mobile</td>\n",
       "    </tr>\n",
       "    <tr>\n",
       "      <th>1</th>\n",
       "      <td>2515062163693201911_1485970928</td>\n",
       "      <td>Safari</td>\n",
       "      <td>not available in demo dataset</td>\n",
       "      <td>not available in demo dataset</td>\n",
       "      <td>Windows Phone</td>\n",
       "      <td>not available in demo dataset</td>\n",
       "      <td>True</td>\n",
       "      <td>not available in demo dataset</td>\n",
       "      <td>not available in demo dataset</td>\n",
       "      <td>not available in demo dataset</td>\n",
       "      <td>not available in demo dataset</td>\n",
       "      <td>not available in demo dataset</td>\n",
       "      <td>not available in demo dataset</td>\n",
       "      <td>&lt;NA&gt;</td>\n",
       "      <td>not available in demo dataset</td>\n",
       "      <td>not available in demo dataset</td>\n",
       "      <td>not available in demo dataset</td>\n",
       "      <td>mobile</td>\n",
       "    </tr>\n",
       "    <tr>\n",
       "      <th>2</th>\n",
       "      <td>1969919178914253329_1485975403</td>\n",
       "      <td>Opera Mini</td>\n",
       "      <td>not available in demo dataset</td>\n",
       "      <td>not available in demo dataset</td>\n",
       "      <td>Windows Phone</td>\n",
       "      <td>not available in demo dataset</td>\n",
       "      <td>True</td>\n",
       "      <td>not available in demo dataset</td>\n",
       "      <td>not available in demo dataset</td>\n",
       "      <td>not available in demo dataset</td>\n",
       "      <td>not available in demo dataset</td>\n",
       "      <td>not available in demo dataset</td>\n",
       "      <td>not available in demo dataset</td>\n",
       "      <td>&lt;NA&gt;</td>\n",
       "      <td>not available in demo dataset</td>\n",
       "      <td>not available in demo dataset</td>\n",
       "      <td>not available in demo dataset</td>\n",
       "      <td>mobile</td>\n",
       "    </tr>\n",
       "  </tbody>\n",
       "</table>\n",
       "</div>"
      ],
      "text/plain": [
       "                     User_session     browser                 browserVersion  \\\n",
       "0   471818995011932337_1485984141     Firefox  not available in demo dataset   \n",
       "1  2515062163693201911_1485970928      Safari  not available in demo dataset   \n",
       "2  1969919178914253329_1485975403  Opera Mini  not available in demo dataset   \n",
       "\n",
       "                     browserSize operatingSystem  \\\n",
       "0  not available in demo dataset      Firefox OS   \n",
       "1  not available in demo dataset   Windows Phone   \n",
       "2  not available in demo dataset   Windows Phone   \n",
       "\n",
       "          operatingSystemVersion  isMobile           mobileDeviceBranding  \\\n",
       "0  not available in demo dataset      True  not available in demo dataset   \n",
       "1  not available in demo dataset      True  not available in demo dataset   \n",
       "2  not available in demo dataset      True  not available in demo dataset   \n",
       "\n",
       "               mobileDeviceModel            mobileInputSelector  \\\n",
       "0  not available in demo dataset  not available in demo dataset   \n",
       "1  not available in demo dataset  not available in demo dataset   \n",
       "2  not available in demo dataset  not available in demo dataset   \n",
       "\n",
       "                mobileDeviceInfo      mobileDeviceMarketingName  \\\n",
       "0  not available in demo dataset  not available in demo dataset   \n",
       "1  not available in demo dataset  not available in demo dataset   \n",
       "2  not available in demo dataset  not available in demo dataset   \n",
       "\n",
       "                    flashVersion  javaEnabled                       language  \\\n",
       "0  not available in demo dataset         <NA>  not available in demo dataset   \n",
       "1  not available in demo dataset         <NA>  not available in demo dataset   \n",
       "2  not available in demo dataset         <NA>  not available in demo dataset   \n",
       "\n",
       "                    screenColors               screenResolution deviceCategory  \n",
       "0  not available in demo dataset  not available in demo dataset         mobile  \n",
       "1  not available in demo dataset  not available in demo dataset         mobile  \n",
       "2  not available in demo dataset  not available in demo dataset         mobile  "
      ]
     },
     "execution_count": 61,
     "metadata": {},
     "output_type": "execute_result"
    }
   ],
   "source": [
    "df_device.head(3)"
   ]
  },
  {
   "cell_type": "code",
   "execution_count": 62,
   "id": "2ba92aaa-58f3-4ec2-a906-8e27839eeba1",
   "metadata": {
    "tags": []
   },
   "outputs": [
    {
     "name": "stdout",
     "output_type": "stream",
     "text": [
      "<class 'pandas.core.frame.DataFrame'>\n",
      "RangeIndex: 62150 entries, 0 to 62149\n",
      "Data columns (total 18 columns):\n",
      " #   Column                     Non-Null Count  Dtype  \n",
      "---  ------                     --------------  -----  \n",
      " 0   User_session               62150 non-null  object \n",
      " 1   browser                    62150 non-null  object \n",
      " 2   browserVersion             62150 non-null  object \n",
      " 3   browserSize                62150 non-null  object \n",
      " 4   operatingSystem            62150 non-null  object \n",
      " 5   operatingSystemVersion     62150 non-null  object \n",
      " 6   isMobile                   62150 non-null  boolean\n",
      " 7   mobileDeviceBranding       62150 non-null  object \n",
      " 8   mobileDeviceModel          62150 non-null  object \n",
      " 9   mobileInputSelector        62150 non-null  object \n",
      " 10  mobileDeviceInfo           62150 non-null  object \n",
      " 11  mobileDeviceMarketingName  62150 non-null  object \n",
      " 12  flashVersion               62150 non-null  object \n",
      " 13  javaEnabled                0 non-null      boolean\n",
      " 14  language                   62150 non-null  object \n",
      " 15  screenColors               62150 non-null  object \n",
      " 16  screenResolution           62150 non-null  object \n",
      " 17  deviceCategory             62150 non-null  object \n",
      "dtypes: boolean(2), object(16)\n",
      "memory usage: 7.8+ MB\n"
     ]
    }
   ],
   "source": [
    "df_device.info()"
   ]
  },
  {
   "cell_type": "markdown",
   "id": "d5d63831-076b-40ad-a176-5a778e6502f1",
   "metadata": {
    "tags": []
   },
   "source": [
    "#### Make a list (keep) of columns that do not have \"not available in demo dataset\" for every row"
   ]
  },
  {
   "cell_type": "code",
   "execution_count": 63,
   "id": "2b4266b8-ade9-4ff7-ac0f-1bcc22ea4f04",
   "metadata": {
    "tags": []
   },
   "outputs": [
    {
     "name": "stdout",
     "output_type": "stream",
     "text": [
      "['User_session', 'browser', 'operatingSystem', 'isMobile', 'javaEnabled', 'deviceCategory']\n"
     ]
    }
   ],
   "source": [
    "keep=[]\n",
    "for col in df_device.columns:\n",
    "        if len(df_device[df_device[col]=='not available in demo dataset']) != df_device.shape[0]:\n",
    "            keep.append(col)\n",
    "print(keep)"
   ]
  },
  {
   "cell_type": "markdown",
   "id": "d6b3fe6f-5bf1-41fd-8eba-62df2dc0331d",
   "metadata": {},
   "source": [
    "#### Look at how many rows had 'not available in demo dataset' values for each column"
   ]
  },
  {
   "cell_type": "code",
   "execution_count": 64,
   "id": "0d04e50d-cd10-4c09-9654-963926d35e5f",
   "metadata": {
    "tags": []
   },
   "outputs": [
    {
     "name": "stdout",
     "output_type": "stream",
     "text": [
      "browser : 0\n",
      "browserVersion : 62150\n",
      "browserSize : 62150\n",
      "operatingSystem : 0\n",
      "operatingSystemVersion : 62150\n",
      "isMobile : 0\n",
      "mobileDeviceBranding : 62150\n",
      "mobileDeviceModel : 62150\n",
      "mobileInputSelector : 62150\n",
      "mobileDeviceInfo : 62150\n",
      "mobileDeviceMarketingName : 62150\n",
      "flashVersion : 62150\n",
      "javaEnabled : 0\n",
      "language : 62150\n",
      "screenColors : 62150\n",
      "screenResolution : 62150\n",
      "deviceCategory : 0\n"
     ]
    }
   ],
   "source": [
    "for col in df_device.columns:\n",
    "    if col != \"User_session\":\n",
    "        print(col,\":\",len(df_device[df_device[col]=='not available in demo dataset']))"
   ]
  },
  {
   "cell_type": "markdown",
   "id": "488b67b3-bcfd-4dac-8e58-8071af9a096d",
   "metadata": {},
   "source": [
    "#### Most of these are 100% \"not available in demo dataset\", or null.  We will drop these."
   ]
  },
  {
   "cell_type": "code",
   "execution_count": 65,
   "id": "22008bee-a401-4b1f-a201-248641e3d378",
   "metadata": {
    "tags": []
   },
   "outputs": [],
   "source": [
    "df_device = df_device[keep]"
   ]
  },
  {
   "cell_type": "code",
   "execution_count": 66,
   "id": "75942315-c71f-49e0-aed6-378a48a0050d",
   "metadata": {
    "tags": []
   },
   "outputs": [
    {
     "data": {
      "text/html": [
       "<div>\n",
       "<style scoped>\n",
       "    .dataframe tbody tr th:only-of-type {\n",
       "        vertical-align: middle;\n",
       "    }\n",
       "\n",
       "    .dataframe tbody tr th {\n",
       "        vertical-align: top;\n",
       "    }\n",
       "\n",
       "    .dataframe thead th {\n",
       "        text-align: right;\n",
       "    }\n",
       "</style>\n",
       "<table border=\"1\" class=\"dataframe\">\n",
       "  <thead>\n",
       "    <tr style=\"text-align: right;\">\n",
       "      <th></th>\n",
       "      <th>User_session</th>\n",
       "      <th>browser</th>\n",
       "      <th>operatingSystem</th>\n",
       "      <th>isMobile</th>\n",
       "      <th>javaEnabled</th>\n",
       "      <th>deviceCategory</th>\n",
       "    </tr>\n",
       "  </thead>\n",
       "  <tbody>\n",
       "    <tr>\n",
       "      <th>0</th>\n",
       "      <td>471818995011932337_1485984141</td>\n",
       "      <td>Firefox</td>\n",
       "      <td>Firefox OS</td>\n",
       "      <td>True</td>\n",
       "      <td>&lt;NA&gt;</td>\n",
       "      <td>mobile</td>\n",
       "    </tr>\n",
       "    <tr>\n",
       "      <th>1</th>\n",
       "      <td>2515062163693201911_1485970928</td>\n",
       "      <td>Safari</td>\n",
       "      <td>Windows Phone</td>\n",
       "      <td>True</td>\n",
       "      <td>&lt;NA&gt;</td>\n",
       "      <td>mobile</td>\n",
       "    </tr>\n",
       "    <tr>\n",
       "      <th>2</th>\n",
       "      <td>1969919178914253329_1485975403</td>\n",
       "      <td>Opera Mini</td>\n",
       "      <td>Windows Phone</td>\n",
       "      <td>True</td>\n",
       "      <td>&lt;NA&gt;</td>\n",
       "      <td>mobile</td>\n",
       "    </tr>\n",
       "  </tbody>\n",
       "</table>\n",
       "</div>"
      ],
      "text/plain": [
       "                     User_session     browser operatingSystem  isMobile  \\\n",
       "0   471818995011932337_1485984141     Firefox      Firefox OS      True   \n",
       "1  2515062163693201911_1485970928      Safari   Windows Phone      True   \n",
       "2  1969919178914253329_1485975403  Opera Mini   Windows Phone      True   \n",
       "\n",
       "   javaEnabled deviceCategory  \n",
       "0         <NA>         mobile  \n",
       "1         <NA>         mobile  \n",
       "2         <NA>         mobile  "
      ]
     },
     "execution_count": 66,
     "metadata": {},
     "output_type": "execute_result"
    }
   ],
   "source": [
    "df_device.head(3)"
   ]
  },
  {
   "cell_type": "code",
   "execution_count": 67,
   "id": "1c9f5b7e-5c56-4d13-92c7-75c035a09ec0",
   "metadata": {
    "tags": []
   },
   "outputs": [
    {
     "name": "stdout",
     "output_type": "stream",
     "text": [
      "browser : browser\n",
      "Chrome                      43757\n",
      "Safari                       9690\n",
      "Firefox                      3006\n",
      "Internet Explorer            1729\n",
      "Android Webview               975\n",
      "Edge                          925\n",
      "Opera Mini                    512\n",
      "Safari (in-app)               475\n",
      "Opera                         329\n",
      "YaBrowser                     294\n",
      "UC Browser                    179\n",
      "Coc Coc                        65\n",
      "Android Browser                39\n",
      "Amazon Silk                    38\n",
      "Mozilla Compatible Agent       27\n",
      "BlackBerry                     24\n",
      "Maxthon                        23\n",
      "Puffin                         20\n",
      "MRCHROME                       19\n",
      "Nintendo Browser               13\n",
      "Nokia Browser                   6\n",
      "LYF_LS_4002_12                  2\n",
      "osee2unifiedRelease             1\n",
      "Mozilla                         1\n",
      "SeaMonkey                       1\n",
      "Name: count, dtype: int64\n",
      "operatingSystem : operatingSystem\n",
      "Windows          24253\n",
      "Macintosh        14841\n",
      "Android           9868\n",
      "iOS               8359\n",
      "Linux             2257\n",
      "Chrome OS         2022\n",
      "(not set)          370\n",
      "Windows Phone      108\n",
      "BlackBerry          26\n",
      "Samsung             20\n",
      "Nintendo Wii        13\n",
      "Firefox OS          10\n",
      "Xbox                 2\n",
      "FreeBSD              1\n",
      "Name: count, dtype: int64\n",
      "isMobile : isMobile\n",
      "False    43295\n",
      "True     18855\n",
      "Name: count, dtype: Int64\n",
      "javaEnabled : Series([], Name: count, dtype: Int64)\n",
      "deviceCategory : deviceCategory\n",
      "desktop    43296\n",
      "mobile     16455\n",
      "tablet      2399\n",
      "Name: count, dtype: int64\n"
     ]
    }
   ],
   "source": [
    "for col in df_device.columns:\n",
    "    if col != \"User_session\":\n",
    "        print(col,\":\",df_device[col].value_counts())"
   ]
  },
  {
   "cell_type": "code",
   "execution_count": 68,
   "id": "26a0fd9d-b53e-4426-aadf-411cd8edd68c",
   "metadata": {
    "tags": []
   },
   "outputs": [
    {
     "data": {
      "text/plain": [
       "62150"
      ]
     },
     "execution_count": 68,
     "metadata": {},
     "output_type": "execute_result"
    }
   ],
   "source": [
    "len(df_device[\"javaEnabled\"]=='<NA>')"
   ]
  },
  {
   "cell_type": "markdown",
   "id": "550c6563-ec7c-42dc-8882-0b18241d14e7",
   "metadata": {},
   "source": [
    "#### We will drop javaEnabled as they are all null."
   ]
  },
  {
   "cell_type": "code",
   "execution_count": 69,
   "id": "82f06788-9536-404a-81a3-da5415dd091d",
   "metadata": {
    "tags": []
   },
   "outputs": [
    {
     "data": {
      "text/html": [
       "<div>\n",
       "<style scoped>\n",
       "    .dataframe tbody tr th:only-of-type {\n",
       "        vertical-align: middle;\n",
       "    }\n",
       "\n",
       "    .dataframe tbody tr th {\n",
       "        vertical-align: top;\n",
       "    }\n",
       "\n",
       "    .dataframe thead th {\n",
       "        text-align: right;\n",
       "    }\n",
       "</style>\n",
       "<table border=\"1\" class=\"dataframe\">\n",
       "  <thead>\n",
       "    <tr style=\"text-align: right;\">\n",
       "      <th></th>\n",
       "      <th>User_session</th>\n",
       "      <th>browser</th>\n",
       "      <th>operatingSystem</th>\n",
       "      <th>isMobile</th>\n",
       "      <th>deviceCategory</th>\n",
       "    </tr>\n",
       "  </thead>\n",
       "  <tbody>\n",
       "    <tr>\n",
       "      <th>0</th>\n",
       "      <td>471818995011932337_1485984141</td>\n",
       "      <td>Firefox</td>\n",
       "      <td>Firefox OS</td>\n",
       "      <td>True</td>\n",
       "      <td>mobile</td>\n",
       "    </tr>\n",
       "    <tr>\n",
       "      <th>1</th>\n",
       "      <td>2515062163693201911_1485970928</td>\n",
       "      <td>Safari</td>\n",
       "      <td>Windows Phone</td>\n",
       "      <td>True</td>\n",
       "      <td>mobile</td>\n",
       "    </tr>\n",
       "    <tr>\n",
       "      <th>2</th>\n",
       "      <td>1969919178914253329_1485975403</td>\n",
       "      <td>Opera Mini</td>\n",
       "      <td>Windows Phone</td>\n",
       "      <td>True</td>\n",
       "      <td>mobile</td>\n",
       "    </tr>\n",
       "  </tbody>\n",
       "</table>\n",
       "</div>"
      ],
      "text/plain": [
       "                     User_session     browser operatingSystem  isMobile  \\\n",
       "0   471818995011932337_1485984141     Firefox      Firefox OS      True   \n",
       "1  2515062163693201911_1485970928      Safari   Windows Phone      True   \n",
       "2  1969919178914253329_1485975403  Opera Mini   Windows Phone      True   \n",
       "\n",
       "  deviceCategory  \n",
       "0         mobile  \n",
       "1         mobile  \n",
       "2         mobile  "
      ]
     },
     "execution_count": 69,
     "metadata": {},
     "output_type": "execute_result"
    }
   ],
   "source": [
    "df_device = df_device.drop(\"javaEnabled\", axis=1)\n",
    "df_device.head(3)"
   ]
  },
  {
   "cell_type": "code",
   "execution_count": 70,
   "id": "410696f1-28fb-4708-b83d-af40656f6600",
   "metadata": {
    "tags": []
   },
   "outputs": [
    {
     "data": {
      "text/plain": [
       "['User_session', 'browser', 'operatingSystem', 'isMobile', 'deviceCategory']"
      ]
     },
     "execution_count": 70,
     "metadata": {},
     "output_type": "execute_result"
    }
   ],
   "source": [
    "device_list = list(df_device.columns)\n",
    "device_list"
   ]
  },
  {
   "cell_type": "markdown",
   "id": "c62a7cd8-a245-4109-af7f-17717a5323b6",
   "metadata": {},
   "source": [
    "#### EXPLORE GEONETWORK"
   ]
  },
  {
   "cell_type": "code",
   "execution_count": 71,
   "id": "c081de04-5bcf-4b6b-910b-869169cdaa83",
   "metadata": {
    "tags": []
   },
   "outputs": [
    {
     "data": {
      "text/html": [
       "<div>\n",
       "<style scoped>\n",
       "    .dataframe tbody tr th:only-of-type {\n",
       "        vertical-align: middle;\n",
       "    }\n",
       "\n",
       "    .dataframe tbody tr th {\n",
       "        vertical-align: top;\n",
       "    }\n",
       "\n",
       "    .dataframe thead th {\n",
       "        text-align: right;\n",
       "    }\n",
       "</style>\n",
       "<table border=\"1\" class=\"dataframe\">\n",
       "  <thead>\n",
       "    <tr style=\"text-align: right;\">\n",
       "      <th></th>\n",
       "      <th>User_session</th>\n",
       "      <th>continent</th>\n",
       "      <th>subContinent</th>\n",
       "      <th>country</th>\n",
       "      <th>region</th>\n",
       "      <th>metro</th>\n",
       "      <th>city</th>\n",
       "      <th>cityId</th>\n",
       "      <th>networkDomain</th>\n",
       "      <th>latitude</th>\n",
       "      <th>longitude</th>\n",
       "      <th>networkLocation</th>\n",
       "    </tr>\n",
       "  </thead>\n",
       "  <tbody>\n",
       "    <tr>\n",
       "      <th>0</th>\n",
       "      <td>5670595757879027537_1488176681</td>\n",
       "      <td>Asia</td>\n",
       "      <td>Western Asia</td>\n",
       "      <td>United Arab Emirates</td>\n",
       "      <td>not available in demo dataset</td>\n",
       "      <td>not available in demo dataset</td>\n",
       "      <td>not available in demo dataset</td>\n",
       "      <td>not available in demo dataset</td>\n",
       "      <td>alshamil.net.ae</td>\n",
       "      <td>not available in demo dataset</td>\n",
       "      <td>not available in demo dataset</td>\n",
       "      <td>not available in demo dataset</td>\n",
       "    </tr>\n",
       "    <tr>\n",
       "      <th>1</th>\n",
       "      <td>2110254820900687300_1488155222</td>\n",
       "      <td>Americas</td>\n",
       "      <td>Caribbean</td>\n",
       "      <td>Martinique</td>\n",
       "      <td>not available in demo dataset</td>\n",
       "      <td>not available in demo dataset</td>\n",
       "      <td>not available in demo dataset</td>\n",
       "      <td>not available in demo dataset</td>\n",
       "      <td>wanadoo.fr</td>\n",
       "      <td>not available in demo dataset</td>\n",
       "      <td>not available in demo dataset</td>\n",
       "      <td>not available in demo dataset</td>\n",
       "    </tr>\n",
       "    <tr>\n",
       "      <th>2</th>\n",
       "      <td>6043269937786527062_1488112760</td>\n",
       "      <td>Europe</td>\n",
       "      <td>Northern Europe</td>\n",
       "      <td>Denmark</td>\n",
       "      <td>not available in demo dataset</td>\n",
       "      <td>not available in demo dataset</td>\n",
       "      <td>not available in demo dataset</td>\n",
       "      <td>not available in demo dataset</td>\n",
       "      <td>tdc.net</td>\n",
       "      <td>not available in demo dataset</td>\n",
       "      <td>not available in demo dataset</td>\n",
       "      <td>not available in demo dataset</td>\n",
       "    </tr>\n",
       "  </tbody>\n",
       "</table>\n",
       "</div>"
      ],
      "text/plain": [
       "                     User_session continent     subContinent  \\\n",
       "0  5670595757879027537_1488176681      Asia     Western Asia   \n",
       "1  2110254820900687300_1488155222  Americas        Caribbean   \n",
       "2  6043269937786527062_1488112760    Europe  Northern Europe   \n",
       "\n",
       "                country                         region  \\\n",
       "0  United Arab Emirates  not available in demo dataset   \n",
       "1            Martinique  not available in demo dataset   \n",
       "2               Denmark  not available in demo dataset   \n",
       "\n",
       "                           metro                           city  \\\n",
       "0  not available in demo dataset  not available in demo dataset   \n",
       "1  not available in demo dataset  not available in demo dataset   \n",
       "2  not available in demo dataset  not available in demo dataset   \n",
       "\n",
       "                          cityId    networkDomain  \\\n",
       "0  not available in demo dataset  alshamil.net.ae   \n",
       "1  not available in demo dataset       wanadoo.fr   \n",
       "2  not available in demo dataset          tdc.net   \n",
       "\n",
       "                        latitude                      longitude  \\\n",
       "0  not available in demo dataset  not available in demo dataset   \n",
       "1  not available in demo dataset  not available in demo dataset   \n",
       "2  not available in demo dataset  not available in demo dataset   \n",
       "\n",
       "                 networkLocation  \n",
       "0  not available in demo dataset  \n",
       "1  not available in demo dataset  \n",
       "2  not available in demo dataset  "
      ]
     },
     "execution_count": 71,
     "metadata": {},
     "output_type": "execute_result"
    }
   ],
   "source": [
    "df_geo.head(3)"
   ]
  },
  {
   "cell_type": "code",
   "execution_count": 72,
   "id": "75dbcdf0-af5f-460c-8b72-2830d6e8d3c2",
   "metadata": {
    "tags": []
   },
   "outputs": [
    {
     "name": "stdout",
     "output_type": "stream",
     "text": [
      "<class 'pandas.core.frame.DataFrame'>\n",
      "RangeIndex: 62152 entries, 0 to 62151\n",
      "Data columns (total 12 columns):\n",
      " #   Column           Non-Null Count  Dtype \n",
      "---  ------           --------------  ----- \n",
      " 0   User_session     62152 non-null  object\n",
      " 1   continent        62152 non-null  object\n",
      " 2   subContinent     62152 non-null  object\n",
      " 3   country          62152 non-null  object\n",
      " 4   region           62152 non-null  object\n",
      " 5   metro            62152 non-null  object\n",
      " 6   city             62152 non-null  object\n",
      " 7   cityId           62152 non-null  object\n",
      " 8   networkDomain    62152 non-null  object\n",
      " 9   latitude         62152 non-null  object\n",
      " 10  longitude        62152 non-null  object\n",
      " 11  networkLocation  62152 non-null  object\n",
      "dtypes: object(12)\n",
      "memory usage: 5.7+ MB\n"
     ]
    }
   ],
   "source": [
    "df_geo.info()"
   ]
  },
  {
   "cell_type": "code",
   "execution_count": 73,
   "id": "26913db2-cf73-49ab-a00d-3b6248b861f1",
   "metadata": {
    "tags": []
   },
   "outputs": [
    {
     "name": "stdout",
     "output_type": "stream",
     "text": [
      "continent 'not available': 0\n",
      "subContinent 'not available': 0\n",
      "country 'not available': 0\n",
      "region 'not available': 37857\n",
      "metro 'not available': 37857\n",
      "city 'not available': 37857\n",
      "cityId 'not available': 62152\n",
      "networkDomain 'not available': 0\n",
      "latitude 'not available': 62152\n",
      "longitude 'not available': 62152\n",
      "networkLocation 'not available': 62152\n",
      "---------------------------------------------------------------------------\n",
      "continent 'not set': 70\n",
      "subContinent 'not set': 70\n",
      "country 'not set': 70\n",
      "region 'not set': 1696\n",
      "metro 'not set': 11006\n",
      "city 'not set': 1875\n",
      "cityId 'not set': 0\n",
      "networkDomain 'not set': 17611\n",
      "latitude 'not set': 0\n",
      "longitude 'not set': 0\n",
      "networkLocation 'not set': 0\n"
     ]
    }
   ],
   "source": [
    "for col in df_geo.columns:\n",
    "    if col != \"User_session\":\n",
    "        print(col,\"'not available':\",len(df_geo[df_geo[col]=='not available in demo dataset']))\n",
    "print('-'*75)\n",
    "for col in df_geo.columns:\n",
    "    if col != \"User_session\":\n",
    "        print(col,\"'not set':\",len(df_geo[df_geo[col]=='(not set)']))"
   ]
  },
  {
   "cell_type": "markdown",
   "id": "d10f3d9a-e1ee-464c-bae5-9b93da2f6144",
   "metadata": {},
   "source": [
    "#### We will drop cityId, latitude, longitude, networkLocation because they have 100% null values.  Keeping continent and subcontinent is redundant, so we will drop those as well."
   ]
  },
  {
   "cell_type": "code",
   "execution_count": 74,
   "id": "9325c103-0d0c-47d3-b999-c64534dc38cf",
   "metadata": {
    "tags": []
   },
   "outputs": [
    {
     "data": {
      "text/html": [
       "<div>\n",
       "<style scoped>\n",
       "    .dataframe tbody tr th:only-of-type {\n",
       "        vertical-align: middle;\n",
       "    }\n",
       "\n",
       "    .dataframe tbody tr th {\n",
       "        vertical-align: top;\n",
       "    }\n",
       "\n",
       "    .dataframe thead th {\n",
       "        text-align: right;\n",
       "    }\n",
       "</style>\n",
       "<table border=\"1\" class=\"dataframe\">\n",
       "  <thead>\n",
       "    <tr style=\"text-align: right;\">\n",
       "      <th></th>\n",
       "      <th>User_session</th>\n",
       "      <th>country</th>\n",
       "      <th>region</th>\n",
       "      <th>metro</th>\n",
       "      <th>city</th>\n",
       "      <th>networkDomain</th>\n",
       "    </tr>\n",
       "  </thead>\n",
       "  <tbody>\n",
       "    <tr>\n",
       "      <th>0</th>\n",
       "      <td>5670595757879027537_1488176681</td>\n",
       "      <td>United Arab Emirates</td>\n",
       "      <td>not available in demo dataset</td>\n",
       "      <td>not available in demo dataset</td>\n",
       "      <td>not available in demo dataset</td>\n",
       "      <td>alshamil.net.ae</td>\n",
       "    </tr>\n",
       "    <tr>\n",
       "      <th>1</th>\n",
       "      <td>2110254820900687300_1488155222</td>\n",
       "      <td>Martinique</td>\n",
       "      <td>not available in demo dataset</td>\n",
       "      <td>not available in demo dataset</td>\n",
       "      <td>not available in demo dataset</td>\n",
       "      <td>wanadoo.fr</td>\n",
       "    </tr>\n",
       "    <tr>\n",
       "      <th>2</th>\n",
       "      <td>6043269937786527062_1488112760</td>\n",
       "      <td>Denmark</td>\n",
       "      <td>not available in demo dataset</td>\n",
       "      <td>not available in demo dataset</td>\n",
       "      <td>not available in demo dataset</td>\n",
       "      <td>tdc.net</td>\n",
       "    </tr>\n",
       "    <tr>\n",
       "      <th>3</th>\n",
       "      <td>5426664654086547893_1488143983</td>\n",
       "      <td>Azerbaijan</td>\n",
       "      <td>not available in demo dataset</td>\n",
       "      <td>not available in demo dataset</td>\n",
       "      <td>not available in demo dataset</td>\n",
       "      <td>unknown.unknown</td>\n",
       "    </tr>\n",
       "    <tr>\n",
       "      <th>4</th>\n",
       "      <td>3562136563765488594_1488098830</td>\n",
       "      <td>Cambodia</td>\n",
       "      <td>not available in demo dataset</td>\n",
       "      <td>not available in demo dataset</td>\n",
       "      <td>not available in demo dataset</td>\n",
       "      <td>unknown.unknown</td>\n",
       "    </tr>\n",
       "  </tbody>\n",
       "</table>\n",
       "</div>"
      ],
      "text/plain": [
       "                     User_session               country  \\\n",
       "0  5670595757879027537_1488176681  United Arab Emirates   \n",
       "1  2110254820900687300_1488155222            Martinique   \n",
       "2  6043269937786527062_1488112760               Denmark   \n",
       "3  5426664654086547893_1488143983            Azerbaijan   \n",
       "4  3562136563765488594_1488098830              Cambodia   \n",
       "\n",
       "                          region                          metro  \\\n",
       "0  not available in demo dataset  not available in demo dataset   \n",
       "1  not available in demo dataset  not available in demo dataset   \n",
       "2  not available in demo dataset  not available in demo dataset   \n",
       "3  not available in demo dataset  not available in demo dataset   \n",
       "4  not available in demo dataset  not available in demo dataset   \n",
       "\n",
       "                            city    networkDomain  \n",
       "0  not available in demo dataset  alshamil.net.ae  \n",
       "1  not available in demo dataset       wanadoo.fr  \n",
       "2  not available in demo dataset          tdc.net  \n",
       "3  not available in demo dataset  unknown.unknown  \n",
       "4  not available in demo dataset  unknown.unknown  "
      ]
     },
     "execution_count": 74,
     "metadata": {},
     "output_type": "execute_result"
    }
   ],
   "source": [
    "df_geo = df_geo.drop([\"cityId\", \"latitude\",\"longitude\",\"networkLocation\",\"continent\",\"subContinent\"], axis=1)\n",
    "df_geo.head(5)"
   ]
  },
  {
   "cell_type": "code",
   "execution_count": 75,
   "id": "eff81f99-291e-4e15-98f5-3722a6230bc4",
   "metadata": {
    "tags": []
   },
   "outputs": [
    {
     "name": "stdout",
     "output_type": "stream",
     "text": [
      "User_session ; 62150\n",
      "country ; 178\n",
      "region ; 126\n",
      "metro ; 42\n",
      "city ; 187\n",
      "networkDomain ; 5128\n"
     ]
    }
   ],
   "source": [
    "for col in df_geo.columns:\n",
    "    print(col,\";\",df_geo[col].nunique())"
   ]
  },
  {
   "cell_type": "code",
   "execution_count": 76,
   "id": "f419ff49-3e25-4a4f-a270-7c9353b46158",
   "metadata": {
    "tags": []
   },
   "outputs": [
    {
     "name": "stdout",
     "output_type": "stream",
     "text": [
      "country\n",
      "United States     26862\n",
      "India              3346\n",
      "United Kingdom     3180\n",
      "Canada             1923\n",
      "Germany            1654\n",
      "Japan              1523\n",
      "France             1498\n",
      "Spain              1127\n",
      "Russia             1096\n",
      "Australia          1014\n",
      "Netherlands         903\n",
      "Brazil              891\n",
      "Italy               891\n",
      "Poland              760\n",
      "Turkey              747\n",
      "Taiwan              726\n",
      "Sweden              663\n",
      "Mexico              580\n",
      "Thailand            505\n",
      "Singapore           493\n",
      "Name: count, dtype: int64\n",
      "region\n",
      "not available in demo dataset    37857\n",
      "California                        7331\n",
      "New York                          1780\n",
      "(not set)                         1696\n",
      "England                           1156\n",
      "Illinois                           651\n",
      "Texas                              547\n",
      "Community of Madrid                495\n",
      "Ile-de-France                      486\n",
      "Maharashtra                        480\n",
      "New South Wales                    407\n",
      "Washington                         380\n",
      "County Dublin                      364\n",
      "Karnataka                          337\n",
      "Ontario                            312\n",
      "Taipei City                        299\n",
      "Moscow                             283\n",
      "Bangkok                            270\n",
      "Georgia                            256\n",
      "Quebec                             256\n",
      "Name: count, dtype: int64\n",
      "metro\n",
      "not available in demo dataset        37857\n",
      "(not set)                            11006\n",
      "San Francisco-Oakland-San Jose CA     6375\n",
      "New York NY                           1852\n",
      "London                                1062\n",
      "Los Angeles CA                         848\n",
      "Chicago IL                             651\n",
      "Seattle-Tacoma WA                      380\n",
      "Austin TX                              264\n",
      "Atlanta GA                             256\n",
      "Roanoke-Lynchburg VA                   214\n",
      "Houston TX                             164\n",
      "Detroit MI                             158\n",
      "Washington DC (Hagerstown MD)          153\n",
      "Dallas-Ft. Worth TX                    119\n",
      "Philadelphia PA                        117\n",
      "Pittsburgh PA                          102\n",
      "San Diego CA                            91\n",
      "Boston MA-Manchester NH                 88\n",
      "North West                              61\n",
      "Name: count, dtype: int64\n",
      "city\n",
      "not available in demo dataset    37857\n",
      "Mountain View                     2635\n",
      "(not set)                         1875\n",
      "New York                          1780\n",
      "San Francisco                     1565\n",
      "London                            1062\n",
      "Sunnyvale                          798\n",
      "Los Angeles                        781\n",
      "San Jose                           616\n",
      "Chicago                            587\n",
      "Sydney                             407\n",
      "Paris                              406\n",
      "Dublin                             364\n",
      "Mumbai                             331\n",
      "Bengaluru                          329\n",
      "Toronto                            312\n",
      "Madrid                             303\n",
      "Seattle                            292\n",
      "Moscow                             283\n",
      "Bangkok                            270\n",
      "Name: count, dtype: int64\n",
      "networkDomain\n",
      "(not set)              17611\n",
      "unknown.unknown         9115\n",
      "comcast.net             2046\n",
      "rr.com                  1058\n",
      "verizon.net              962\n",
      "comcastbusiness.net      782\n",
      "virginm.net              528\n",
      "google.com               465\n",
      "btcentralplus.com        449\n",
      "cox.net                  429\n",
      "rima-tde.net             415\n",
      "hinet.net                396\n",
      "ttnet.com.tr             390\n",
      "sbcglobal.net            368\n",
      "ztomy.com                354\n",
      "optonline.net            353\n",
      "t-ipconnect.de           350\n",
      "att.net                  330\n",
      "telecomitalia.it         286\n",
      "bell.ca                  254\n",
      "Name: count, dtype: int64\n"
     ]
    }
   ],
   "source": [
    "for col in df_geo.columns:\n",
    "    if col != \"User_session\":\n",
    "        print(df_geo[col].value_counts().head(20))"
   ]
  },
  {
   "cell_type": "code",
   "execution_count": 77,
   "id": "3c1ca656-df1c-4d97-b206-9bc3ab9b449b",
   "metadata": {},
   "outputs": [
    {
     "name": "stdout",
     "output_type": "stream",
     "text": [
      "<class 'pandas.core.frame.DataFrame'>\n",
      "RangeIndex: 62152 entries, 0 to 62151\n",
      "Data columns (total 6 columns):\n",
      " #   Column         Non-Null Count  Dtype \n",
      "---  ------         --------------  ----- \n",
      " 0   User_session   62152 non-null  object\n",
      " 1   country        62152 non-null  object\n",
      " 2   region         62152 non-null  object\n",
      " 3   metro          62152 non-null  object\n",
      " 4   city           62152 non-null  object\n",
      " 5   networkDomain  62152 non-null  object\n",
      "dtypes: object(6)\n",
      "memory usage: 2.8+ MB\n"
     ]
    }
   ],
   "source": [
    "df_geo.info()"
   ]
  },
  {
   "cell_type": "code",
   "execution_count": 78,
   "id": "200fd7ac-07b4-45ed-b3fd-e00838fcf021",
   "metadata": {},
   "outputs": [
    {
     "data": {
      "text/html": [
       "<div>\n",
       "<style scoped>\n",
       "    .dataframe tbody tr th:only-of-type {\n",
       "        vertical-align: middle;\n",
       "    }\n",
       "\n",
       "    .dataframe tbody tr th {\n",
       "        vertical-align: top;\n",
       "    }\n",
       "\n",
       "    .dataframe thead th {\n",
       "        text-align: right;\n",
       "    }\n",
       "</style>\n",
       "<table border=\"1\" class=\"dataframe\">\n",
       "  <thead>\n",
       "    <tr style=\"text-align: right;\">\n",
       "      <th></th>\n",
       "      <th>User_session</th>\n",
       "      <th>country</th>\n",
       "      <th>region</th>\n",
       "      <th>metro</th>\n",
       "      <th>city</th>\n",
       "      <th>networkDomain</th>\n",
       "    </tr>\n",
       "  </thead>\n",
       "  <tbody>\n",
       "    <tr>\n",
       "      <th>0</th>\n",
       "      <td>5670595757879027537_1488176681</td>\n",
       "      <td>United Arab Emirates</td>\n",
       "      <td>not available in demo dataset</td>\n",
       "      <td>not available in demo dataset</td>\n",
       "      <td>not available in demo dataset</td>\n",
       "      <td>alshamil.net.ae</td>\n",
       "    </tr>\n",
       "    <tr>\n",
       "      <th>1</th>\n",
       "      <td>2110254820900687300_1488155222</td>\n",
       "      <td>Martinique</td>\n",
       "      <td>not available in demo dataset</td>\n",
       "      <td>not available in demo dataset</td>\n",
       "      <td>not available in demo dataset</td>\n",
       "      <td>wanadoo.fr</td>\n",
       "    </tr>\n",
       "    <tr>\n",
       "      <th>2</th>\n",
       "      <td>6043269937786527062_1488112760</td>\n",
       "      <td>Denmark</td>\n",
       "      <td>not available in demo dataset</td>\n",
       "      <td>not available in demo dataset</td>\n",
       "      <td>not available in demo dataset</td>\n",
       "      <td>tdc.net</td>\n",
       "    </tr>\n",
       "    <tr>\n",
       "      <th>3</th>\n",
       "      <td>5426664654086547893_1488143983</td>\n",
       "      <td>Azerbaijan</td>\n",
       "      <td>not available in demo dataset</td>\n",
       "      <td>not available in demo dataset</td>\n",
       "      <td>not available in demo dataset</td>\n",
       "      <td>unknown.unknown</td>\n",
       "    </tr>\n",
       "    <tr>\n",
       "      <th>4</th>\n",
       "      <td>3562136563765488594_1488098830</td>\n",
       "      <td>Cambodia</td>\n",
       "      <td>not available in demo dataset</td>\n",
       "      <td>not available in demo dataset</td>\n",
       "      <td>not available in demo dataset</td>\n",
       "      <td>unknown.unknown</td>\n",
       "    </tr>\n",
       "  </tbody>\n",
       "</table>\n",
       "</div>"
      ],
      "text/plain": [
       "                     User_session               country  \\\n",
       "0  5670595757879027537_1488176681  United Arab Emirates   \n",
       "1  2110254820900687300_1488155222            Martinique   \n",
       "2  6043269937786527062_1488112760               Denmark   \n",
       "3  5426664654086547893_1488143983            Azerbaijan   \n",
       "4  3562136563765488594_1488098830              Cambodia   \n",
       "\n",
       "                          region                          metro  \\\n",
       "0  not available in demo dataset  not available in demo dataset   \n",
       "1  not available in demo dataset  not available in demo dataset   \n",
       "2  not available in demo dataset  not available in demo dataset   \n",
       "3  not available in demo dataset  not available in demo dataset   \n",
       "4  not available in demo dataset  not available in demo dataset   \n",
       "\n",
       "                            city    networkDomain  \n",
       "0  not available in demo dataset  alshamil.net.ae  \n",
       "1  not available in demo dataset       wanadoo.fr  \n",
       "2  not available in demo dataset          tdc.net  \n",
       "3  not available in demo dataset  unknown.unknown  \n",
       "4  not available in demo dataset  unknown.unknown  "
      ]
     },
     "execution_count": 78,
     "metadata": {},
     "output_type": "execute_result"
    }
   ],
   "source": [
    "df_geo.head()"
   ]
  },
  {
   "cell_type": "code",
   "execution_count": 79,
   "id": "5052063b-a26a-458a-80fd-7aa27519650c",
   "metadata": {},
   "outputs": [
    {
     "data": {
      "text/plain": [
       "city\n",
       "not available in demo dataset    37857\n",
       "Mountain View                     2635\n",
       "(not set)                         1875\n",
       "New York                          1780\n",
       "San Francisco                     1565\n",
       "                                 ...  \n",
       "Makati                               6\n",
       "Izmir                                6\n",
       "Menlo Park                           5\n",
       "Birmingham                           5\n",
       "San Mateo                            3\n",
       "Name: count, Length: 187, dtype: int64"
      ]
     },
     "execution_count": 79,
     "metadata": {},
     "output_type": "execute_result"
    }
   ],
   "source": [
    "df_geo[\"city\"].value_counts()"
   ]
  },
  {
   "cell_type": "code",
   "execution_count": 80,
   "id": "e68f5c28-5f0a-4923-a378-d2f18e63c755",
   "metadata": {
    "tags": []
   },
   "outputs": [
    {
     "data": {
      "text/html": [
       "<div>\n",
       "<style scoped>\n",
       "    .dataframe tbody tr th:only-of-type {\n",
       "        vertical-align: middle;\n",
       "    }\n",
       "\n",
       "    .dataframe tbody tr th {\n",
       "        vertical-align: top;\n",
       "    }\n",
       "\n",
       "    .dataframe thead th {\n",
       "        text-align: right;\n",
       "    }\n",
       "</style>\n",
       "<table border=\"1\" class=\"dataframe\">\n",
       "  <thead>\n",
       "    <tr style=\"text-align: right;\">\n",
       "      <th></th>\n",
       "      <th>User_session</th>\n",
       "      <th>country</th>\n",
       "      <th>region</th>\n",
       "      <th>metro</th>\n",
       "      <th>city</th>\n",
       "      <th>networkDomain</th>\n",
       "    </tr>\n",
       "  </thead>\n",
       "  <tbody>\n",
       "    <tr>\n",
       "      <th>0</th>\n",
       "      <td>5670595757879027537_1488176681</td>\n",
       "      <td>United Arab Emirates</td>\n",
       "      <td>not available in demo dataset</td>\n",
       "      <td>not available in demo dataset</td>\n",
       "      <td>not available in demo dataset</td>\n",
       "      <td>alshamil.net.ae</td>\n",
       "    </tr>\n",
       "    <tr>\n",
       "      <th>1</th>\n",
       "      <td>2110254820900687300_1488155222</td>\n",
       "      <td>Martinique</td>\n",
       "      <td>not available in demo dataset</td>\n",
       "      <td>not available in demo dataset</td>\n",
       "      <td>not available in demo dataset</td>\n",
       "      <td>wanadoo.fr</td>\n",
       "    </tr>\n",
       "    <tr>\n",
       "      <th>2</th>\n",
       "      <td>6043269937786527062_1488112760</td>\n",
       "      <td>Denmark</td>\n",
       "      <td>not available in demo dataset</td>\n",
       "      <td>not available in demo dataset</td>\n",
       "      <td>not available in demo dataset</td>\n",
       "      <td>tdc.net</td>\n",
       "    </tr>\n",
       "  </tbody>\n",
       "</table>\n",
       "</div>"
      ],
      "text/plain": [
       "                     User_session               country  \\\n",
       "0  5670595757879027537_1488176681  United Arab Emirates   \n",
       "1  2110254820900687300_1488155222            Martinique   \n",
       "2  6043269937786527062_1488112760               Denmark   \n",
       "\n",
       "                          region                          metro  \\\n",
       "0  not available in demo dataset  not available in demo dataset   \n",
       "1  not available in demo dataset  not available in demo dataset   \n",
       "2  not available in demo dataset  not available in demo dataset   \n",
       "\n",
       "                            city    networkDomain  \n",
       "0  not available in demo dataset  alshamil.net.ae  \n",
       "1  not available in demo dataset       wanadoo.fr  \n",
       "2  not available in demo dataset          tdc.net  "
      ]
     },
     "execution_count": 80,
     "metadata": {},
     "output_type": "execute_result"
    }
   ],
   "source": [
    "df_geo.head(3)"
   ]
  },
  {
   "cell_type": "code",
   "execution_count": 81,
   "id": "da540767-fbd2-4b2f-9c05-135d3255fe65",
   "metadata": {},
   "outputs": [
    {
     "data": {
      "text/plain": [
       "['User_session', 'country', 'region', 'metro', 'city', 'networkDomain']"
      ]
     },
     "execution_count": 81,
     "metadata": {},
     "output_type": "execute_result"
    }
   ],
   "source": [
    "geo_list = list(df_geo.columns)\n",
    "geo_list"
   ]
  },
  {
   "cell_type": "markdown",
   "id": "e423c036-562f-442f-bdee-d7b08356e3cf",
   "metadata": {},
   "source": [
    "#### EXPLORE HITS"
   ]
  },
  {
   "cell_type": "code",
   "execution_count": 82,
   "id": "992dff70-bdf0-4948-9c75-17fe7cc3b39f",
   "metadata": {},
   "outputs": [
    {
     "data": {
      "text/html": [
       "<div>\n",
       "<style scoped>\n",
       "    .dataframe tbody tr th:only-of-type {\n",
       "        vertical-align: middle;\n",
       "    }\n",
       "\n",
       "    .dataframe tbody tr th {\n",
       "        vertical-align: top;\n",
       "    }\n",
       "\n",
       "    .dataframe thead th {\n",
       "        text-align: right;\n",
       "    }\n",
       "</style>\n",
       "<table border=\"1\" class=\"dataframe\">\n",
       "  <thead>\n",
       "    <tr style=\"text-align: right;\">\n",
       "      <th></th>\n",
       "      <th>User_session</th>\n",
       "      <th>hitNumber</th>\n",
       "      <th>time</th>\n",
       "      <th>hour</th>\n",
       "      <th>minute</th>\n",
       "      <th>isSecure</th>\n",
       "      <th>isInteraction</th>\n",
       "      <th>isEntrance</th>\n",
       "      <th>isExit</th>\n",
       "      <th>referer</th>\n",
       "      <th>...</th>\n",
       "      <th>customDimensions</th>\n",
       "      <th>customMetrics</th>\n",
       "      <th>type</th>\n",
       "      <th>social</th>\n",
       "      <th>latencyTracking</th>\n",
       "      <th>sourcePropertyInfo</th>\n",
       "      <th>contentGroup</th>\n",
       "      <th>dataSource</th>\n",
       "      <th>publisher_infos</th>\n",
       "      <th>Target</th>\n",
       "    </tr>\n",
       "  </thead>\n",
       "  <tbody>\n",
       "    <tr>\n",
       "      <th>0</th>\n",
       "      <td>4334381010732229366_1487466367</td>\n",
       "      <td>1</td>\n",
       "      <td>0</td>\n",
       "      <td>17</td>\n",
       "      <td>6</td>\n",
       "      <td>&lt;NA&gt;</td>\n",
       "      <td>True</td>\n",
       "      <td>True</td>\n",
       "      <td>&lt;NA&gt;</td>\n",
       "      <td>https://www.google.com/</td>\n",
       "      <td>...</td>\n",
       "      <td>[]</td>\n",
       "      <td>[]</td>\n",
       "      <td>PAGE</td>\n",
       "      <td>{'socialInteractionNetwork': None, 'socialInte...</td>\n",
       "      <td>None</td>\n",
       "      <td>None</td>\n",
       "      <td>{'contentGroup1': '(not set)', 'contentGroup2'...</td>\n",
       "      <td>None</td>\n",
       "      <td>[]</td>\n",
       "      <td>0</td>\n",
       "    </tr>\n",
       "    <tr>\n",
       "      <th>1</th>\n",
       "      <td>4334381010732229366_1487466367</td>\n",
       "      <td>2</td>\n",
       "      <td>10199</td>\n",
       "      <td>17</td>\n",
       "      <td>6</td>\n",
       "      <td>&lt;NA&gt;</td>\n",
       "      <td>True</td>\n",
       "      <td>&lt;NA&gt;</td>\n",
       "      <td>&lt;NA&gt;</td>\n",
       "      <td>None</td>\n",
       "      <td>...</td>\n",
       "      <td>[]</td>\n",
       "      <td>[]</td>\n",
       "      <td>PAGE</td>\n",
       "      <td>{'socialInteractionNetwork': None, 'socialInte...</td>\n",
       "      <td>None</td>\n",
       "      <td>None</td>\n",
       "      <td>{'contentGroup1': '(not set)', 'contentGroup2'...</td>\n",
       "      <td>None</td>\n",
       "      <td>[]</td>\n",
       "      <td>0</td>\n",
       "    </tr>\n",
       "    <tr>\n",
       "      <th>2</th>\n",
       "      <td>4334381010732229366_1487466367</td>\n",
       "      <td>3</td>\n",
       "      <td>58850</td>\n",
       "      <td>17</td>\n",
       "      <td>7</td>\n",
       "      <td>&lt;NA&gt;</td>\n",
       "      <td>True</td>\n",
       "      <td>&lt;NA&gt;</td>\n",
       "      <td>&lt;NA&gt;</td>\n",
       "      <td>None</td>\n",
       "      <td>...</td>\n",
       "      <td>[]</td>\n",
       "      <td>[]</td>\n",
       "      <td>EVENT</td>\n",
       "      <td>{'socialInteractionNetwork': None, 'socialInte...</td>\n",
       "      <td>None</td>\n",
       "      <td>None</td>\n",
       "      <td>{'contentGroup1': '(not set)', 'contentGroup2'...</td>\n",
       "      <td>None</td>\n",
       "      <td>[]</td>\n",
       "      <td>0</td>\n",
       "    </tr>\n",
       "  </tbody>\n",
       "</table>\n",
       "<p>3 rows × 35 columns</p>\n",
       "</div>"
      ],
      "text/plain": [
       "                     User_session  hitNumber   time  hour  minute  isSecure  \\\n",
       "0  4334381010732229366_1487466367          1      0    17       6      <NA>   \n",
       "1  4334381010732229366_1487466367          2  10199    17       6      <NA>   \n",
       "2  4334381010732229366_1487466367          3  58850    17       7      <NA>   \n",
       "\n",
       "   isInteraction  isEntrance  isExit                  referer  ...  \\\n",
       "0           True        True    <NA>  https://www.google.com/  ...   \n",
       "1           True        <NA>    <NA>                     None  ...   \n",
       "2           True        <NA>    <NA>                     None  ...   \n",
       "\n",
       "  customDimensions customMetrics   type  \\\n",
       "0               []            []   PAGE   \n",
       "1               []            []   PAGE   \n",
       "2               []            []  EVENT   \n",
       "\n",
       "                                              social latencyTracking  \\\n",
       "0  {'socialInteractionNetwork': None, 'socialInte...            None   \n",
       "1  {'socialInteractionNetwork': None, 'socialInte...            None   \n",
       "2  {'socialInteractionNetwork': None, 'socialInte...            None   \n",
       "\n",
       "  sourcePropertyInfo                                       contentGroup  \\\n",
       "0               None  {'contentGroup1': '(not set)', 'contentGroup2'...   \n",
       "1               None  {'contentGroup1': '(not set)', 'contentGroup2'...   \n",
       "2               None  {'contentGroup1': '(not set)', 'contentGroup2'...   \n",
       "\n",
       "  dataSource publisher_infos Target  \n",
       "0       None              []      0  \n",
       "1       None              []      0  \n",
       "2       None              []      0  \n",
       "\n",
       "[3 rows x 35 columns]"
      ]
     },
     "execution_count": 82,
     "metadata": {},
     "output_type": "execute_result"
    }
   ],
   "source": [
    "df_hits.head(3)"
   ]
  },
  {
   "cell_type": "code",
   "execution_count": 83,
   "id": "003e15e1-97f5-4559-b3b1-0aff4f1582a1",
   "metadata": {
    "tags": []
   },
   "outputs": [
    {
     "name": "stdout",
     "output_type": "stream",
     "text": [
      "<class 'pandas.core.frame.DataFrame'>\n",
      "RangeIndex: 270285 entries, 0 to 270284\n",
      "Data columns (total 35 columns):\n",
      " #   Column               Non-Null Count   Dtype  \n",
      "---  ------               --------------   -----  \n",
      " 0   User_session         270285 non-null  object \n",
      " 1   hitNumber            270285 non-null  Int64  \n",
      " 2   time                 270285 non-null  Int64  \n",
      " 3   hour                 270285 non-null  Int64  \n",
      " 4   minute               270285 non-null  Int64  \n",
      " 5   isSecure             0 non-null       boolean\n",
      " 6   isInteraction        270285 non-null  boolean\n",
      " 7   isEntrance           62185 non-null   boolean\n",
      " 8   isExit               62185 non-null   boolean\n",
      " 9   referer              66854 non-null   object \n",
      " 10  page                 270285 non-null  object \n",
      " 11  transaction          122965 non-null  object \n",
      " 12  item                 122965 non-null  object \n",
      " 13  contentInfo          0 non-null       object \n",
      " 14  appInfo              270285 non-null  object \n",
      " 15  exceptionInfo        270285 non-null  object \n",
      " 16  eventInfo            34577 non-null   object \n",
      " 17  product              270285 non-null  object \n",
      " 18  promotion            270285 non-null  object \n",
      " 19  promotionActionInfo  39751 non-null   object \n",
      " 20  refund               0 non-null       object \n",
      " 21  eCommerceAction      270285 non-null  object \n",
      " 22  experiment           270285 non-null  object \n",
      " 23  publisher            0 non-null       object \n",
      " 24  customVariables      270285 non-null  object \n",
      " 25  customDimensions     270285 non-null  object \n",
      " 26  customMetrics        270285 non-null  object \n",
      " 27  type                 270285 non-null  object \n",
      " 28  social               270285 non-null  object \n",
      " 29  latencyTracking      2335 non-null    object \n",
      " 30  sourcePropertyInfo   0 non-null       object \n",
      " 31  contentGroup         270285 non-null  object \n",
      " 32  dataSource           0 non-null       object \n",
      " 33  publisher_infos      270285 non-null  object \n",
      " 34  Target               270285 non-null  Int64  \n",
      "dtypes: Int64(5), boolean(4), object(26)\n",
      "memory usage: 67.3+ MB\n"
     ]
    }
   ],
   "source": [
    "df_hits.info()"
   ]
  },
  {
   "cell_type": "code",
   "execution_count": 84,
   "id": "d874624a-caef-4679-867e-0661d1a75f50",
   "metadata": {
    "tags": []
   },
   "outputs": [
    {
     "data": {
      "text/plain": [
       "{'socialInteractionNetwork': None,\n",
       " 'socialInteractionAction': None,\n",
       " 'socialInteractions': None,\n",
       " 'socialInteractionTarget': None,\n",
       " 'socialNetwork': '(not set)',\n",
       " 'uniqueSocialInteractions': None,\n",
       " 'hasSocialSourceReferral': 'No',\n",
       " 'socialInteractionNetworkAction': ' : '}"
      ]
     },
     "execution_count": 84,
     "metadata": {},
     "output_type": "execute_result"
    }
   ],
   "source": [
    "df_hits.social[0]"
   ]
  },
  {
   "cell_type": "markdown",
   "id": "4228bfa3-c3fe-4c64-ac69-0f584cfdf6a9",
   "metadata": {},
   "source": [
    "#### isInteraction is all True, so can be dropped\n",
    "#### isEntrance is all True, so can be dropped\n",
    "#### time, hour, and minute are redundant.  Minute is less useful than hour, will drop minute.\n",
    "#### isExit is also not very informative, so will drop it."
   ]
  },
  {
   "cell_type": "code",
   "execution_count": 85,
   "id": "418c1450-76a6-431d-8eb8-4bc9289b3bab",
   "metadata": {
    "tags": []
   },
   "outputs": [],
   "source": [
    "df_hits = df_hits.drop([\"isInteraction\",\"isEntrance\",\"minute\",\"isExit\"],axis=1)"
   ]
  },
  {
   "cell_type": "markdown",
   "id": "51b544aa-8b87-4941-96d3-0d5c01064483",
   "metadata": {},
   "source": [
    "#### Inspect nested columns within hits"
   ]
  },
  {
   "cell_type": "code",
   "execution_count": 86,
   "id": "8bce40f3-3c45-4236-96d4-acd11e167e69",
   "metadata": {
    "tags": []
   },
   "outputs": [
    {
     "data": {
      "application/vnd.jupyter.widget-view+json": {
       "model_id": "084464663be64d3c879882f84faca21d",
       "version_major": 2,
       "version_minor": 0
      },
      "text/plain": [
       "Query is running:   0%|          |"
      ]
     },
     "metadata": {},
     "output_type": "display_data"
    },
    {
     "data": {
      "application/vnd.jupyter.widget-view+json": {
       "model_id": "9ac89a6feeda4adb9d2a83fa0a0199a4",
       "version_major": 2,
       "version_minor": 0
      },
      "text/plain": [
       "Downloading: |          |"
      ]
     },
     "metadata": {},
     "output_type": "display_data"
    }
   ],
   "source": [
    "%%bigquery df_custDims --project $PROJECT_ID\n",
    "\n",
    "SELECT customDimensions.* \n",
    "FROM luke_cap_data.hits,\n",
    "UNNEST(customDimensions) customDimensions"
   ]
  },
  {
   "cell_type": "code",
   "execution_count": 87,
   "id": "703d0275-0dfa-4de3-8d7f-b114b21457ae",
   "metadata": {
    "tags": []
   },
   "outputs": [
    {
     "name": "stdout",
     "output_type": "stream",
     "text": [
      "<class 'pandas.core.frame.DataFrame'>\n",
      "RangeIndex: 0 entries\n",
      "Data columns (total 2 columns):\n",
      " #   Column  Non-Null Count  Dtype \n",
      "---  ------  --------------  ----- \n",
      " 0   index   0 non-null      object\n",
      " 1   value   0 non-null      object\n",
      "dtypes: object(2)\n",
      "memory usage: 124.0+ bytes\n"
     ]
    }
   ],
   "source": [
    "df_custDims.info()"
   ]
  },
  {
   "cell_type": "markdown",
   "id": "cb61765f-c668-4c2a-815c-7e5c96c17608",
   "metadata": {
    "tags": []
   },
   "source": [
    "#### 100% null, so customDimensions will drop"
   ]
  },
  {
   "cell_type": "code",
   "execution_count": 88,
   "id": "79d11469-93d4-41a3-b50e-51b26f742ce1",
   "metadata": {
    "tags": []
   },
   "outputs": [
    {
     "data": {
      "application/vnd.jupyter.widget-view+json": {
       "model_id": "d19f5c3a97cc4782ae59d1e8a616ecc1",
       "version_major": 2,
       "version_minor": 0
      },
      "text/plain": [
       "Query is running:   0%|          |"
      ]
     },
     "metadata": {},
     "output_type": "display_data"
    },
    {
     "data": {
      "application/vnd.jupyter.widget-view+json": {
       "model_id": "edf48d0f084546e39f4dfcb41f824702",
       "version_major": 2,
       "version_minor": 0
      },
      "text/plain": [
       "Downloading: |          |"
      ]
     },
     "metadata": {},
     "output_type": "display_data"
    }
   ],
   "source": [
    "%%bigquery df_custMets --project $PROJECT_ID\n",
    "\n",
    "SELECT customMetrics.* \n",
    "FROM luke_cap_data.hits,\n",
    "UNNEST(customMetrics) customMetrics"
   ]
  },
  {
   "cell_type": "code",
   "execution_count": 89,
   "id": "82f07648-edf9-4820-a1ed-56efbb3b1b1b",
   "metadata": {
    "tags": []
   },
   "outputs": [
    {
     "name": "stdout",
     "output_type": "stream",
     "text": [
      "<class 'pandas.core.frame.DataFrame'>\n",
      "RangeIndex: 0 entries\n",
      "Data columns (total 2 columns):\n",
      " #   Column  Non-Null Count  Dtype \n",
      "---  ------  --------------  ----- \n",
      " 0   index   0 non-null      object\n",
      " 1   value   0 non-null      object\n",
      "dtypes: object(2)\n",
      "memory usage: 124.0+ bytes\n"
     ]
    }
   ],
   "source": [
    "df_custMets.info()"
   ]
  },
  {
   "cell_type": "markdown",
   "id": "1bd22381-54d1-4615-a2fa-7747e7d2bb58",
   "metadata": {},
   "source": [
    "#### 100% null, so customMetrics will drop"
   ]
  },
  {
   "cell_type": "code",
   "execution_count": 90,
   "id": "c570abc7-5f93-44b3-82d5-e57f858f9b13",
   "metadata": {
    "tags": []
   },
   "outputs": [],
   "source": [
    "df_hits = df_hits.drop([\"customDimensions\",\"customMetrics\"],axis=1)"
   ]
  },
  {
   "cell_type": "code",
   "execution_count": 91,
   "id": "fb5b8dc7-e03a-4e5f-98f8-61287ef0ab52",
   "metadata": {
    "tags": []
   },
   "outputs": [
    {
     "data": {
      "application/vnd.jupyter.widget-view+json": {
       "model_id": "90e6ffa628564553967765f4803644ba",
       "version_major": 2,
       "version_minor": 0
      },
      "text/plain": [
       "Query is running:   0%|          |"
      ]
     },
     "metadata": {},
     "output_type": "display_data"
    },
    {
     "data": {
      "application/vnd.jupyter.widget-view+json": {
       "model_id": "a8d4244a5bfa48b0bffd4bf57e21ba55",
       "version_major": 2,
       "version_minor": 0
      },
      "text/plain": [
       "Downloading:   0%|          |"
      ]
     },
     "metadata": {},
     "output_type": "display_data"
    }
   ],
   "source": [
    "%%bigquery df_social --project $PROJECT_ID\n",
    "\n",
    "SELECT social.* \n",
    "FROM luke_cap_data.hits"
   ]
  },
  {
   "cell_type": "code",
   "execution_count": 92,
   "id": "7e521c48-574e-48c8-adce-d516eda495e7",
   "metadata": {
    "tags": []
   },
   "outputs": [
    {
     "name": "stdout",
     "output_type": "stream",
     "text": [
      "<class 'pandas.core.frame.DataFrame'>\n",
      "RangeIndex: 270285 entries, 0 to 270284\n",
      "Data columns (total 8 columns):\n",
      " #   Column                          Non-Null Count   Dtype \n",
      "---  ------                          --------------   ----- \n",
      " 0   socialInteractionNetwork        0 non-null       object\n",
      " 1   socialInteractionAction         0 non-null       object\n",
      " 2   socialInteractions              0 non-null       Int64 \n",
      " 3   socialInteractionTarget         0 non-null       object\n",
      " 4   socialNetwork                   270285 non-null  object\n",
      " 5   uniqueSocialInteractions        0 non-null       Int64 \n",
      " 6   hasSocialSourceReferral         270285 non-null  object\n",
      " 7   socialInteractionNetworkAction  270285 non-null  object\n",
      "dtypes: Int64(2), object(6)\n",
      "memory usage: 17.0+ MB\n"
     ]
    }
   ],
   "source": [
    "df_social.info()"
   ]
  },
  {
   "cell_type": "markdown",
   "id": "96ffbfcc-9dee-4e85-b283-8f44253a1eab",
   "metadata": {},
   "source": [
    "#### We will exclude all of the above with all nulls, which leaves socialNetwork, hasSocialSourceReferral, socialInteractionNetworkAction"
   ]
  },
  {
   "cell_type": "code",
   "execution_count": 93,
   "id": "61e38e6e-29dc-4b96-8f4f-cd9b720b6b21",
   "metadata": {
    "tags": []
   },
   "outputs": [],
   "source": [
    "hits_social = [\"socialNetwork\",\"hasSocialSourceReferral\",\"socialInteractionNetworkAction\"]"
   ]
  },
  {
   "cell_type": "code",
   "execution_count": 94,
   "id": "9a1c73bc-0cd0-4c0f-a0ca-0496aa083ba6",
   "metadata": {
    "tags": []
   },
   "outputs": [
    {
     "name": "stdout",
     "output_type": "stream",
     "text": [
      "socialNetwork : socialNetwork\n",
      "(not set)        246557\n",
      "YouTube           18849\n",
      "Facebook           2544\n",
      "Google Groups       929\n",
      "reddit              569\n",
      "Google+             409\n",
      "Quora               329\n",
      "Twitter              95\n",
      "Pinterest             2\n",
      "VKontakte             2\n",
      "Name: count, dtype: int64\n",
      "hasSocialSourceReferral : hasSocialSourceReferral\n",
      "No     246557\n",
      "Yes     23728\n",
      "Name: count, dtype: int64\n",
      "socialInteractionNetworkAction : socialInteractionNetworkAction\n",
      " :     270285\n",
      "Name: count, dtype: int64\n"
     ]
    }
   ],
   "source": [
    "for col in hits_social:\n",
    "    print(col,\":\",df_social[col].value_counts())"
   ]
  },
  {
   "cell_type": "markdown",
   "id": "8acf1427-7bda-4ef3-b00a-79bc80d913d3",
   "metadata": {
    "tags": []
   },
   "source": [
    "#### socialInteractionNetworkAction is all \":\" so we'll drop this as well"
   ]
  },
  {
   "cell_type": "code",
   "execution_count": 95,
   "id": "528e5ab5-3b9f-40c5-937b-2343382f7274",
   "metadata": {
    "tags": []
   },
   "outputs": [],
   "source": [
    "hits_social = [\"socialNetwork\",\"hasSocialSourceReferral\"]"
   ]
  },
  {
   "cell_type": "code",
   "execution_count": 96,
   "id": "df80971f-ccd6-4c29-b81d-ee35b57b79ba",
   "metadata": {
    "tags": []
   },
   "outputs": [
    {
     "data": {
      "application/vnd.jupyter.widget-view+json": {
       "model_id": "57a064e6eb89464780924bbf60319411",
       "version_major": 2,
       "version_minor": 0
      },
      "text/plain": [
       "Query is running:   0%|          |"
      ]
     },
     "metadata": {},
     "output_type": "display_data"
    },
    {
     "data": {
      "application/vnd.jupyter.widget-view+json": {
       "model_id": "4c7117660565439bab9fe38252762f51",
       "version_major": 2,
       "version_minor": 0
      },
      "text/plain": [
       "Downloading:   0%|          |"
      ]
     },
     "metadata": {},
     "output_type": "display_data"
    }
   ],
   "source": [
    "%%bigquery df_page --project $PROJECT_ID\n",
    "\n",
    "SELECT page.* \n",
    "FROM luke_cap_data.hits"
   ]
  },
  {
   "cell_type": "code",
   "execution_count": 97,
   "id": "d25c6f95-b335-46f1-8ce5-3e4020140bd6",
   "metadata": {
    "tags": []
   },
   "outputs": [
    {
     "data": {
      "text/html": [
       "<div>\n",
       "<style scoped>\n",
       "    .dataframe tbody tr th:only-of-type {\n",
       "        vertical-align: middle;\n",
       "    }\n",
       "\n",
       "    .dataframe tbody tr th {\n",
       "        vertical-align: top;\n",
       "    }\n",
       "\n",
       "    .dataframe thead th {\n",
       "        text-align: right;\n",
       "    }\n",
       "</style>\n",
       "<table border=\"1\" class=\"dataframe\">\n",
       "  <thead>\n",
       "    <tr style=\"text-align: right;\">\n",
       "      <th></th>\n",
       "      <th>pagePath</th>\n",
       "      <th>hostname</th>\n",
       "      <th>pageTitle</th>\n",
       "      <th>searchKeyword</th>\n",
       "      <th>searchCategory</th>\n",
       "      <th>pagePathLevel1</th>\n",
       "      <th>pagePathLevel2</th>\n",
       "      <th>pagePathLevel3</th>\n",
       "      <th>pagePathLevel4</th>\n",
       "    </tr>\n",
       "  </thead>\n",
       "  <tbody>\n",
       "    <tr>\n",
       "      <th>0</th>\n",
       "      <td>/store.html</td>\n",
       "      <td>shop.googlemerchandisestore.com</td>\n",
       "      <td>Waze | Google Merchandise Store</td>\n",
       "      <td>None</td>\n",
       "      <td>None</td>\n",
       "      <td>/store.html</td>\n",
       "      <td></td>\n",
       "      <td></td>\n",
       "      <td></td>\n",
       "    </tr>\n",
       "    <tr>\n",
       "      <th>1</th>\n",
       "      <td>/asearch.html</td>\n",
       "      <td>shop.googlemerchandisestore.com</td>\n",
       "      <td>Store search results</td>\n",
       "      <td>None</td>\n",
       "      <td>None</td>\n",
       "      <td>/asearch.html</td>\n",
       "      <td></td>\n",
       "      <td></td>\n",
       "      <td></td>\n",
       "    </tr>\n",
       "    <tr>\n",
       "      <th>2</th>\n",
       "      <td>/asearch.html</td>\n",
       "      <td>shop.googlemerchandisestore.com</td>\n",
       "      <td>Store search results</td>\n",
       "      <td>None</td>\n",
       "      <td>None</td>\n",
       "      <td>/asearch.html</td>\n",
       "      <td></td>\n",
       "      <td></td>\n",
       "      <td></td>\n",
       "    </tr>\n",
       "  </tbody>\n",
       "</table>\n",
       "</div>"
      ],
      "text/plain": [
       "        pagePath                         hostname  \\\n",
       "0    /store.html  shop.googlemerchandisestore.com   \n",
       "1  /asearch.html  shop.googlemerchandisestore.com   \n",
       "2  /asearch.html  shop.googlemerchandisestore.com   \n",
       "\n",
       "                         pageTitle searchKeyword searchCategory  \\\n",
       "0  Waze | Google Merchandise Store          None           None   \n",
       "1             Store search results          None           None   \n",
       "2             Store search results          None           None   \n",
       "\n",
       "  pagePathLevel1 pagePathLevel2 pagePathLevel3 pagePathLevel4  \n",
       "0    /store.html                                               \n",
       "1  /asearch.html                                               \n",
       "2  /asearch.html                                               "
      ]
     },
     "execution_count": 97,
     "metadata": {},
     "output_type": "execute_result"
    }
   ],
   "source": [
    "df_page.head(3)"
   ]
  },
  {
   "cell_type": "code",
   "execution_count": 98,
   "id": "a3feca97-7540-4506-9d56-e299b16edd03",
   "metadata": {
    "tags": []
   },
   "outputs": [
    {
     "name": "stdout",
     "output_type": "stream",
     "text": [
      "<class 'pandas.core.frame.DataFrame'>\n",
      "RangeIndex: 270285 entries, 0 to 270284\n",
      "Data columns (total 9 columns):\n",
      " #   Column          Non-Null Count   Dtype \n",
      "---  ------          --------------   ----- \n",
      " 0   pagePath        270285 non-null  object\n",
      " 1   hostname        270285 non-null  object\n",
      " 2   pageTitle       270123 non-null  object\n",
      " 3   searchKeyword   57 non-null      object\n",
      " 4   searchCategory  58 non-null      object\n",
      " 5   pagePathLevel1  270285 non-null  object\n",
      " 6   pagePathLevel2  270285 non-null  object\n",
      " 7   pagePathLevel3  270285 non-null  object\n",
      " 8   pagePathLevel4  270285 non-null  object\n",
      "dtypes: object(9)\n",
      "memory usage: 18.6+ MB\n"
     ]
    }
   ],
   "source": [
    "df_page.info()"
   ]
  },
  {
   "cell_type": "code",
   "execution_count": 99,
   "id": "586e2d35-9dd7-4b1d-a376-436e55eccc10",
   "metadata": {
    "tags": []
   },
   "outputs": [
    {
     "name": "stdout",
     "output_type": "stream",
     "text": [
      "pagePath : pagePath\n",
      "/home                                                                                   62931\n",
      "/google+redesign/shop+by+brand/youtube                                                  17122\n",
      "/basket.html                                                                            15831\n",
      "/google+redesign/apparel/men++s/men++s+t+shirts                                          8102\n",
      "/signin.html                                                                             6683\n",
      "                                                                                        ...  \n",
      "/google+redesign/apparel/men+s+t+shirts/google+mens+short+sleeve+hero+tee+xl+bla.axd        1\n",
      "/google+redesign/apparel/mans+performance+wear                                              1\n",
      "/google+redesign/apparel/men+s+google+performance+polo+gb+xl.axd                            1\n",
      "/google+redesign/apparel/men+s+t+shirts/google+mens+skater+tee+md+g.axd                     1\n",
      "/google+redesign/apparel/men+s+google+performance+dry+full+zip+jacket+lg.axd                1\n",
      "Name: count, Length: 717, dtype: int64\n",
      "hostname : hostname\n",
      "shop.googlemerchandisestore.com    244537\n",
      "www.googlemerchandisestore.com      25748\n",
      "Name: count, dtype: int64\n",
      "pageTitle : pageTitle\n",
      "Home                                                        40051\n",
      "Google Online Store                                         25738\n",
      "YouTube | Shop by Brand | Google Merchandise Store          19617\n",
      "Shopping Cart                                               15821\n",
      "Men's T-Shirts | Apparel | Google Merchandise Store          9745\n",
      "                                                            ...  \n",
      "18: Accessories | Electronics | Google Merchandise Store        1\n",
      "18: Flashlights | Electronics | Google Merchandise Store        1\n",
      "18: Mugs & Cups | Drinkware | Google Merchandise Store          1\n",
      "18: Headgear | Apparel | Google Merchandise Store               1\n",
      "13: Page Unavailable                                            1\n",
      "Name: count, Length: 521, dtype: int64\n",
      "searchKeyword : searchKeyword\n",
      "gopher     51\n",
      "ingress     5\n",
      "mug         1\n",
      "Name: count, dtype: int64\n",
      "searchCategory : searchCategory\n",
      "(not set)    58\n",
      "Name: count, dtype: int64\n",
      "pagePathLevel1 : pagePathLevel1\n",
      "/google+redesign/                           154547\n",
      "/home                                        62931\n",
      "/basket.html                                 15831\n",
      "/signin.html                                  6683\n",
      "/asearch.html                                 5874\n",
      "/store.html                                   5855\n",
      "/home-2                                       2801\n",
      "/yourinfo.html                                2465\n",
      "/payment.html                                 2073\n",
      "/store-policies/                              1613\n",
      "/ordercompleted.html                          1552\n",
      "/registersuccess.html                         1282\n",
      "/myaccount.html?mode=vieworder                1278\n",
      "/revieworder.html                             1113\n",
      "/asearch.html/                                 882\n",
      "/myaccount.html?mode=vieworderdetail           868\n",
      "/myaccount.html?mode=billingaddress            681\n",
      "/store.html/                                   553\n",
      "/storeitem.html                                432\n",
      "/register.html                                 361\n",
      "/google redesign/                              135\n",
      "/myaccount.html?mode=giftcertcodes_local       134\n",
      "/wishlist.html                                 107\n",
      "/myaccount.html?mode=activities                 86\n",
      "/myaccount.html?mode=shippingaddress            59\n",
      "/myaccount.html?mode=customerinfo               30\n",
      "/shop.axd/                                      22\n",
      "/myaccount.html?mode=changepassword             15\n",
      "/eco/                                           11\n",
      "/basket.html/                                    5\n",
      "/home-2/                                         3\n",
      "/guestregister.html                              2\n",
      "/specials/                                       1\n",
      "Name: count, dtype: int64\n",
      "pagePathLevel2 : pagePathLevel2\n",
      "                                              112513\n",
      "/apparel/                                      47872\n",
      "/shop+by+brand/                                28269\n",
      "/bags/                                         18067\n",
      "/accessories/                                  12911\n",
      "/electronics/                                  10454\n",
      "/office/                                        9901\n",
      "/drinkware/                                     5430\n",
      "/bags                                           3688\n",
      "/apparel                                        3602\n",
      "/accessories                                    3543\n",
      "/electronics                                    3296\n",
      "/drinkware                                      3020\n",
      "/office                                         2134\n",
      "/quickview                                      1437\n",
      "/lifestyle/                                      801\n",
      "/frequently-asked-questions/                     785\n",
      "/shop+by+brand                                   748\n",
      "/shipping-information/                           432\n",
      "/gift+cards                                      310\n",
      "/nest/                                           265\n",
      "/return-policy/                                  227\n",
      "/electronic/                                     119\n",
      "/terms-of-use/                                   117\n",
      "/gift+cards/                                     112\n",
      "/brands/                                          81\n",
      "/frequently-asked-questions                       52\n",
      "/bag/                                             31\n",
      "/home                                             13\n",
      "/wearables/                                       13\n",
      "/cart                                             10\n",
      "/lifestyle                                         7\n",
      "/new+2015+logo/                                    5\n",
      "/loginform                                         5\n",
      "/android+napa+perfect+bound+journal.axd            2\n",
      "/submitorder                                       1\n",
      "/homemail aplikasi                                 1\n",
      "/contactus                                         1\n",
      "/android+window+pad+notebook.axd                   1\n",
      "/fruit-games                                       1\n",
      "/resetpassword                                     1\n",
      "/youtube+organic+cotton+t-shirt+-+grey.axd         1\n",
      "/shippinginfo                                      1\n",
      "/paymentmethod                                     1\n",
      "/eco-jersey+chrome+zip+up+hoodie.axd               1\n",
      "/fun/                                              1\n",
      "/limited+supply/                                   1\n",
      "/checkout                                          1\n",
      "Name: count, dtype: int64\n",
      "pagePathLevel3 : pagePathLevel3\n",
      "                                                        134391\n",
      "/men++s/                                                 18017\n",
      "/youtube                                                 17122\n",
      "/backpacks/                                               9161\n",
      "/google                                                   5603\n",
      "                                                         ...  \n",
      "/go                                                          1\n",
      "/ usa                                                        1\n",
      "/android+lifted+mens+short+sleeve+tee+blue+sm.axd            1\n",
      "/men+s+google+weatherblock+shell+lg.axd                      1\n",
      "/men+s+google+performance+dry+full+zip+jacket+lg.axd         1\n",
      "Name: count, Length: 206, dtype: int64\n",
      "pagePathLevel4 : pagePathLevel4\n",
      "                                                              205039\n",
      "/quickview                                                     10031\n",
      "/home                                                           9325\n",
      "/men++s+t+shirts                                                8102\n",
      "/men++s+outerwear                                               6406\n",
      "                                                               ...  \n",
      "/google+mens+long+sleeve+raglan+sm+bl.axd                          1\n",
      "/google+mens+vintage+badge+tee+green+md.axd                        1\n",
      "/android+heavyweight+long+sleeve+badge+tee+black+2xl+b.axd         1\n",
      "/men+s+google+s/s+badge-performance+tee+md+n.axd                   1\n",
      "/google+mens+bike+short+tee+charcoal+sm.axd                        1\n",
      "Name: count, Length: 461, dtype: int64\n"
     ]
    }
   ],
   "source": [
    "for col in df_page.columns:\n",
    "    print(col,\":\",df_page[col].value_counts())"
   ]
  },
  {
   "cell_type": "markdown",
   "id": "c0508049-8d1c-40b6-bb8e-c9dac8032a4b",
   "metadata": {},
   "source": [
    "#### Most of these fields contain long, complex string data and have high dimensionality, or are largely null.  For simplicity the page category will be excluded."
   ]
  },
  {
   "cell_type": "code",
   "execution_count": 100,
   "id": "59eb725a-5035-47d4-8326-c36304338bdb",
   "metadata": {
    "tags": []
   },
   "outputs": [
    {
     "data": {
      "application/vnd.jupyter.widget-view+json": {
       "model_id": "fee688384b2c45beb97733cfdc4ffe70",
       "version_major": 2,
       "version_minor": 0
      },
      "text/plain": [
       "Query is running:   0%|          |"
      ]
     },
     "metadata": {},
     "output_type": "display_data"
    },
    {
     "data": {
      "application/vnd.jupyter.widget-view+json": {
       "model_id": "1d6089f6912c4c8ca28f113a782a0b09",
       "version_major": 2,
       "version_minor": 0
      },
      "text/plain": [
       "Downloading:   0%|          |"
      ]
     },
     "metadata": {},
     "output_type": "display_data"
    }
   ],
   "source": [
    "%%bigquery df_product --project $PROJECT_ID\n",
    "\n",
    "SELECT product.* \n",
    "FROM luke_cap_data.hits\n",
    "LEFT JOIN UNNEST(product) AS product"
   ]
  },
  {
   "cell_type": "code",
   "execution_count": 101,
   "id": "71ba377d-8ee7-43e6-90b9-1ec4494c5f9b",
   "metadata": {
    "tags": []
   },
   "outputs": [
    {
     "data": {
      "text/html": [
       "<div>\n",
       "<style scoped>\n",
       "    .dataframe tbody tr th:only-of-type {\n",
       "        vertical-align: middle;\n",
       "    }\n",
       "\n",
       "    .dataframe tbody tr th {\n",
       "        vertical-align: top;\n",
       "    }\n",
       "\n",
       "    .dataframe thead th {\n",
       "        text-align: right;\n",
       "    }\n",
       "</style>\n",
       "<table border=\"1\" class=\"dataframe\">\n",
       "  <thead>\n",
       "    <tr style=\"text-align: right;\">\n",
       "      <th></th>\n",
       "      <th>productSKU</th>\n",
       "      <th>v2ProductName</th>\n",
       "      <th>v2ProductCategory</th>\n",
       "      <th>productVariant</th>\n",
       "      <th>productBrand</th>\n",
       "      <th>productRevenue</th>\n",
       "      <th>localProductRevenue</th>\n",
       "      <th>productPrice</th>\n",
       "      <th>localProductPrice</th>\n",
       "      <th>productQuantity</th>\n",
       "      <th>productRefundAmount</th>\n",
       "      <th>localProductRefundAmount</th>\n",
       "      <th>isImpression</th>\n",
       "      <th>isClick</th>\n",
       "      <th>customDimensions</th>\n",
       "      <th>customMetrics</th>\n",
       "      <th>productListName</th>\n",
       "      <th>productListPosition</th>\n",
       "    </tr>\n",
       "  </thead>\n",
       "  <tbody>\n",
       "    <tr>\n",
       "      <th>0</th>\n",
       "      <td>GGOEAHPA004110</td>\n",
       "      <td>Android Wool Heather Cap Heather/Black</td>\n",
       "      <td>Home/Shop by Brand/Android/</td>\n",
       "      <td>(not set)</td>\n",
       "      <td>(not set)</td>\n",
       "      <td>&lt;NA&gt;</td>\n",
       "      <td>&lt;NA&gt;</td>\n",
       "      <td>24990000</td>\n",
       "      <td>24990000</td>\n",
       "      <td>&lt;NA&gt;</td>\n",
       "      <td>&lt;NA&gt;</td>\n",
       "      <td>&lt;NA&gt;</td>\n",
       "      <td>True</td>\n",
       "      <td>&lt;NA&gt;</td>\n",
       "      <td>[]</td>\n",
       "      <td>[]</td>\n",
       "      <td>Category</td>\n",
       "      <td>1</td>\n",
       "    </tr>\n",
       "    <tr>\n",
       "      <th>1</th>\n",
       "      <td>GGOEA0CH077599</td>\n",
       "      <td>Android Hard Cover Journal</td>\n",
       "      <td>Home/Shop by Brand/Android/</td>\n",
       "      <td>(not set)</td>\n",
       "      <td>(not set)</td>\n",
       "      <td>&lt;NA&gt;</td>\n",
       "      <td>&lt;NA&gt;</td>\n",
       "      <td>14990000</td>\n",
       "      <td>14990000</td>\n",
       "      <td>&lt;NA&gt;</td>\n",
       "      <td>&lt;NA&gt;</td>\n",
       "      <td>&lt;NA&gt;</td>\n",
       "      <td>True</td>\n",
       "      <td>&lt;NA&gt;</td>\n",
       "      <td>[]</td>\n",
       "      <td>[]</td>\n",
       "      <td>Category</td>\n",
       "      <td>6</td>\n",
       "    </tr>\n",
       "    <tr>\n",
       "      <th>2</th>\n",
       "      <td>GGOEAFKQ020599</td>\n",
       "      <td>Android Sticker Sheet Ultra Removable</td>\n",
       "      <td>Home/Shop by Brand/Android/</td>\n",
       "      <td>(not set)</td>\n",
       "      <td>(not set)</td>\n",
       "      <td>&lt;NA&gt;</td>\n",
       "      <td>&lt;NA&gt;</td>\n",
       "      <td>2990000</td>\n",
       "      <td>2990000</td>\n",
       "      <td>&lt;NA&gt;</td>\n",
       "      <td>&lt;NA&gt;</td>\n",
       "      <td>&lt;NA&gt;</td>\n",
       "      <td>True</td>\n",
       "      <td>&lt;NA&gt;</td>\n",
       "      <td>[]</td>\n",
       "      <td>[]</td>\n",
       "      <td>Category</td>\n",
       "      <td>12</td>\n",
       "    </tr>\n",
       "  </tbody>\n",
       "</table>\n",
       "</div>"
      ],
      "text/plain": [
       "       productSKU                           v2ProductName  \\\n",
       "0  GGOEAHPA004110  Android Wool Heather Cap Heather/Black   \n",
       "1  GGOEA0CH077599              Android Hard Cover Journal   \n",
       "2  GGOEAFKQ020599   Android Sticker Sheet Ultra Removable   \n",
       "\n",
       "             v2ProductCategory productVariant productBrand  productRevenue  \\\n",
       "0  Home/Shop by Brand/Android/      (not set)    (not set)            <NA>   \n",
       "1  Home/Shop by Brand/Android/      (not set)    (not set)            <NA>   \n",
       "2  Home/Shop by Brand/Android/      (not set)    (not set)            <NA>   \n",
       "\n",
       "   localProductRevenue  productPrice  localProductPrice  productQuantity  \\\n",
       "0                 <NA>      24990000           24990000             <NA>   \n",
       "1                 <NA>      14990000           14990000             <NA>   \n",
       "2                 <NA>       2990000            2990000             <NA>   \n",
       "\n",
       "   productRefundAmount  localProductRefundAmount  isImpression  isClick  \\\n",
       "0                 <NA>                      <NA>          True     <NA>   \n",
       "1                 <NA>                      <NA>          True     <NA>   \n",
       "2                 <NA>                      <NA>          True     <NA>   \n",
       "\n",
       "  customDimensions customMetrics productListName  productListPosition  \n",
       "0               []            []        Category                    1  \n",
       "1               []            []        Category                    6  \n",
       "2               []            []        Category                   12  "
      ]
     },
     "execution_count": 101,
     "metadata": {},
     "output_type": "execute_result"
    }
   ],
   "source": [
    "df_product.head(3)"
   ]
  },
  {
   "cell_type": "code",
   "execution_count": 102,
   "id": "03c1328b-82e1-4329-a534-c576f382e115",
   "metadata": {
    "tags": []
   },
   "outputs": [
    {
     "name": "stdout",
     "output_type": "stream",
     "text": [
      "<class 'pandas.core.frame.DataFrame'>\n",
      "RangeIndex: 1177272 entries, 0 to 1177271\n",
      "Data columns (total 18 columns):\n",
      " #   Column                    Non-Null Count    Dtype  \n",
      "---  ------                    --------------    -----  \n",
      " 0   productSKU                1075169 non-null  object \n",
      " 1   v2ProductName             1075169 non-null  object \n",
      " 2   v2ProductCategory         1075169 non-null  object \n",
      " 3   productVariant            1075169 non-null  object \n",
      " 4   productBrand              1075169 non-null  object \n",
      " 5   productRevenue            2060 non-null     Int64  \n",
      " 6   localProductRevenue       2060 non-null     Int64  \n",
      " 7   productPrice              1075169 non-null  Int64  \n",
      " 8   localProductPrice         1075169 non-null  Int64  \n",
      " 9   productQuantity           14318 non-null    Int64  \n",
      " 10  productRefundAmount       0 non-null        Int64  \n",
      " 11  localProductRefundAmount  0 non-null        Int64  \n",
      " 12  isImpression              1002547 non-null  boolean\n",
      " 13  isClick                   25966 non-null    boolean\n",
      " 14  customDimensions          1177272 non-null  object \n",
      " 15  customMetrics             1177272 non-null  object \n",
      " 16  productListName           1075169 non-null  object \n",
      " 17  productListPosition       1075169 non-null  Int64  \n",
      "dtypes: Int64(8), boolean(2), object(8)\n",
      "memory usage: 157.2+ MB\n"
     ]
    }
   ],
   "source": [
    "df_product.info()"
   ]
  },
  {
   "cell_type": "code",
   "execution_count": 103,
   "id": "d3e151cd-66f5-4ff7-84fc-3a530db9553b",
   "metadata": {
    "tags": []
   },
   "outputs": [
    {
     "data": {
      "text/plain": [
       "v2ProductCategory\n",
       "Home/Shop by Brand/YouTube/            171886\n",
       "Home/Apparel/Men's/Men's-T-Shirts/      75693\n",
       "(not set)                               66690\n",
       "Home/Shop by Brand/Google/              62445\n",
       "Home/Apparel/Men's/Men's-Outerwear/     57167\n",
       "                                        ...  \n",
       "Notebooks & Journals                       47\n",
       "Housewares                                 35\n",
       "Bottles/                                   33\n",
       "More Bags                                  32\n",
       "Android                                    15\n",
       "Name: count, Length: 65, dtype: int64"
      ]
     },
     "execution_count": 103,
     "metadata": {},
     "output_type": "execute_result"
    }
   ],
   "source": [
    "df_product[\"v2ProductCategory\"].value_counts()"
   ]
  },
  {
   "cell_type": "markdown",
   "id": "7827e93b-fe32-4197-9813-cdc3eec79ff7",
   "metadata": {},
   "source": [
    "#### v2ProductCategory will be kept as many others seem redundant"
   ]
  },
  {
   "cell_type": "markdown",
   "id": "6fc6ca5d-635e-4ae2-8e6a-821887d3d74a",
   "metadata": {},
   "source": [
    "#### transaction field will be dropped as it occurs after \"add to cart\", this will prevent target leakage."
   ]
  },
  {
   "cell_type": "code",
   "execution_count": 104,
   "id": "c519966b-871a-40c2-9ae7-53f43cd351be",
   "metadata": {
    "tags": []
   },
   "outputs": [],
   "source": [
    "df_hits = df_hits.drop([\"page\",\"transaction\"],axis=1)"
   ]
  },
  {
   "cell_type": "markdown",
   "id": "4f39d181-087b-45e0-bd91-ce2194287bc2",
   "metadata": {},
   "source": [
    "#### Now look at hits.item"
   ]
  },
  {
   "cell_type": "code",
   "execution_count": 105,
   "id": "b55ec8ec-3652-4219-8909-85aab77694ca",
   "metadata": {
    "tags": []
   },
   "outputs": [
    {
     "data": {
      "application/vnd.jupyter.widget-view+json": {
       "model_id": "f8a471a9ddcd475eb2b93877a9324dea",
       "version_major": 2,
       "version_minor": 0
      },
      "text/plain": [
       "Query is running:   0%|          |"
      ]
     },
     "metadata": {},
     "output_type": "display_data"
    },
    {
     "data": {
      "application/vnd.jupyter.widget-view+json": {
       "model_id": "891623a2668441cba7fb58e13da728a3",
       "version_major": 2,
       "version_minor": 0
      },
      "text/plain": [
       "Downloading:   0%|          |"
      ]
     },
     "metadata": {},
     "output_type": "display_data"
    }
   ],
   "source": [
    "%%bigquery df_promo --project $PROJECT_ID\n",
    "\n",
    "SELECT promo.* \n",
    "FROM luke_cap_data.hits\n",
    "LEFT JOIN UNNEST(hits.promotion) as promo"
   ]
  },
  {
   "cell_type": "code",
   "execution_count": 106,
   "id": "2c7cce9d-59b9-4f14-9f8a-da1ad76f8d00",
   "metadata": {
    "tags": []
   },
   "outputs": [
    {
     "name": "stdout",
     "output_type": "stream",
     "text": [
      "<class 'pandas.core.frame.DataFrame'>\n",
      "RangeIndex: 588277 entries, 0 to 588276\n",
      "Data columns (total 4 columns):\n",
      " #   Column         Non-Null Count   Dtype \n",
      "---  ------         --------------   ----- \n",
      " 0   promoId        357743 non-null  object\n",
      " 1   promoName      357743 non-null  object\n",
      " 2   promoCreative  357743 non-null  object\n",
      " 3   promoPosition  357743 non-null  object\n",
      "dtypes: object(4)\n",
      "memory usage: 18.0+ MB\n"
     ]
    }
   ],
   "source": [
    "df_promo.info()"
   ]
  },
  {
   "cell_type": "code",
   "execution_count": 124,
   "id": "02c767a0-70d9-4ac7-9de6-9c635dd27c95",
   "metadata": {
    "tags": []
   },
   "outputs": [
    {
     "data": {
      "text/plain": [
       "promoId\n",
       "YouTube Brand Row 7-2          39750\n",
       "Android Brand Row 7-3          39750\n",
       "Apparel Row 1                  39749\n",
       "Backpacks Row 2 Combo          39749\n",
       "Mens T-Shirts Row 3-1          39749\n",
       "Womens T-Shirts Row 3-2        39749\n",
       "Office Row 5 Color Combo       39749\n",
       "Drinkware Row 4 Color Combo    39749\n",
       "Google Brand Row 7-1           39749\n",
       "Name: count, dtype: int64"
      ]
     },
     "execution_count": 124,
     "metadata": {},
     "output_type": "execute_result"
    }
   ],
   "source": [
    "df_promo[\"promoId\"].value_counts()"
   ]
  },
  {
   "cell_type": "code",
   "execution_count": 125,
   "id": "54919afc-34ed-4614-8120-277d72e4d976",
   "metadata": {
    "tags": []
   },
   "outputs": [
    {
     "data": {
      "text/plain": [
       "promoName\n",
       "YouTube Brand      39750\n",
       "Andriod Brand      39750\n",
       "Apparel            39749\n",
       "Backpacks          39749\n",
       "Mens T-Shirts      39749\n",
       "Womens T-Shirts    39749\n",
       "Office             39749\n",
       "Drinkware          39749\n",
       "Google Brand       39749\n",
       "Name: count, dtype: int64"
      ]
     },
     "execution_count": 125,
     "metadata": {},
     "output_type": "execute_result"
    }
   ],
   "source": [
    "df_promo[\"promoName\"].value_counts()"
   ]
  },
  {
   "cell_type": "code",
   "execution_count": 126,
   "id": "1b3c968e-a0c6-45ac-abdd-ca4e5d6d9bfe",
   "metadata": {
    "tags": []
   },
   "outputs": [
    {
     "data": {
      "text/plain": [
       "promoCreative\n",
       "home_lower_youtube_500.jpg      39750\n",
       "home_lower_android_500.jpg      39750\n",
       "home_main_link_apparel.jpg      39749\n",
       "home_bags_google_2.jpg          39749\n",
       "mens-tshirts.jpg                39749\n",
       "womens-tshirts.jpg              39749\n",
       "green_row_link_to_office.jpg    39749\n",
       "red_row_hydrate.jpg             39749\n",
       "home_lower_google_500.jpg       39749\n",
       "Name: count, dtype: int64"
      ]
     },
     "execution_count": 126,
     "metadata": {},
     "output_type": "execute_result"
    }
   ],
   "source": [
    "df_promo[\"promoCreative\"].value_counts()"
   ]
  },
  {
   "cell_type": "code",
   "execution_count": 127,
   "id": "c8596c89-204e-447a-86ce-d8aa879dc097",
   "metadata": {
    "tags": []
   },
   "outputs": [
    {
     "data": {
      "text/plain": [
       "promoPosition\n",
       "Brand Row 7-2        39750\n",
       "Brand Row 7-3        39750\n",
       "Row 1                39749\n",
       "Row 2 Combo          39749\n",
       "Row 3-1              39749\n",
       "Row 3-2              39749\n",
       "Row 5 Color Combo    39749\n",
       "Row 4 Color Combo    39749\n",
       "Brand Row 7-1        39749\n",
       "Name: count, dtype: int64"
      ]
     },
     "execution_count": 127,
     "metadata": {},
     "output_type": "execute_result"
    }
   ],
   "source": [
    "df_promo[\"promoPosition\"].value_counts()"
   ]
  },
  {
   "cell_type": "markdown",
   "id": "30051b43-c817-4d56-9026-513cfa412a69",
   "metadata": {},
   "source": [
    "#### Keep promo name as some of these seem redundant"
   ]
  },
  {
   "cell_type": "code",
   "execution_count": 110,
   "id": "cd3a6cea-d491-4ce0-8ad4-8fbcf7c07392",
   "metadata": {},
   "outputs": [
    {
     "data": {
      "application/vnd.jupyter.widget-view+json": {
       "model_id": "0aeb04c5a3f14d0f9643ddc31145be5e",
       "version_major": 2,
       "version_minor": 0
      },
      "text/plain": [
       "Query is running:   0%|          |"
      ]
     },
     "metadata": {},
     "output_type": "display_data"
    },
    {
     "data": {
      "application/vnd.jupyter.widget-view+json": {
       "model_id": "03da464f342f4617bf1228c855166e10",
       "version_major": 2,
       "version_minor": 0
      },
      "text/plain": [
       "Downloading:   0%|          |"
      ]
     },
     "metadata": {},
     "output_type": "display_data"
    }
   ],
   "source": [
    "%%bigquery df_item --project $PROJECT_ID\n",
    "\n",
    "SELECT item.* \n",
    "FROM luke_cap_data.hits"
   ]
  },
  {
   "cell_type": "code",
   "execution_count": 111,
   "id": "c1836af9-6cc0-4674-9e16-07eac7d29d5b",
   "metadata": {
    "tags": []
   },
   "outputs": [
    {
     "data": {
      "text/html": [
       "<div>\n",
       "<style scoped>\n",
       "    .dataframe tbody tr th:only-of-type {\n",
       "        vertical-align: middle;\n",
       "    }\n",
       "\n",
       "    .dataframe tbody tr th {\n",
       "        vertical-align: top;\n",
       "    }\n",
       "\n",
       "    .dataframe thead th {\n",
       "        text-align: right;\n",
       "    }\n",
       "</style>\n",
       "<table border=\"1\" class=\"dataframe\">\n",
       "  <thead>\n",
       "    <tr style=\"text-align: right;\">\n",
       "      <th></th>\n",
       "      <th>transactionId</th>\n",
       "      <th>productName</th>\n",
       "      <th>productCategory</th>\n",
       "      <th>productSku</th>\n",
       "      <th>itemQuantity</th>\n",
       "      <th>itemRevenue</th>\n",
       "      <th>currencyCode</th>\n",
       "      <th>localItemRevenue</th>\n",
       "    </tr>\n",
       "  </thead>\n",
       "  <tbody>\n",
       "    <tr>\n",
       "      <th>0</th>\n",
       "      <td>None</td>\n",
       "      <td>None</td>\n",
       "      <td>None</td>\n",
       "      <td>None</td>\n",
       "      <td>&lt;NA&gt;</td>\n",
       "      <td>&lt;NA&gt;</td>\n",
       "      <td>None</td>\n",
       "      <td>&lt;NA&gt;</td>\n",
       "    </tr>\n",
       "    <tr>\n",
       "      <th>1</th>\n",
       "      <td>None</td>\n",
       "      <td>None</td>\n",
       "      <td>None</td>\n",
       "      <td>None</td>\n",
       "      <td>&lt;NA&gt;</td>\n",
       "      <td>&lt;NA&gt;</td>\n",
       "      <td>None</td>\n",
       "      <td>&lt;NA&gt;</td>\n",
       "    </tr>\n",
       "    <tr>\n",
       "      <th>2</th>\n",
       "      <td>None</td>\n",
       "      <td>None</td>\n",
       "      <td>None</td>\n",
       "      <td>None</td>\n",
       "      <td>&lt;NA&gt;</td>\n",
       "      <td>&lt;NA&gt;</td>\n",
       "      <td>USD</td>\n",
       "      <td>&lt;NA&gt;</td>\n",
       "    </tr>\n",
       "  </tbody>\n",
       "</table>\n",
       "</div>"
      ],
      "text/plain": [
       "  transactionId productName productCategory productSku  itemQuantity  \\\n",
       "0          None        None            None       None          <NA>   \n",
       "1          None        None            None       None          <NA>   \n",
       "2          None        None            None       None          <NA>   \n",
       "\n",
       "   itemRevenue currencyCode  localItemRevenue  \n",
       "0         <NA>         None              <NA>  \n",
       "1         <NA>         None              <NA>  \n",
       "2         <NA>          USD              <NA>  "
      ]
     },
     "execution_count": 111,
     "metadata": {},
     "output_type": "execute_result"
    }
   ],
   "source": [
    "df_item.head(3)"
   ]
  },
  {
   "cell_type": "code",
   "execution_count": 112,
   "id": "0737ce3c-36b9-419e-ab96-9f2f3c701146",
   "metadata": {
    "tags": []
   },
   "outputs": [
    {
     "name": "stdout",
     "output_type": "stream",
     "text": [
      "<class 'pandas.core.frame.DataFrame'>\n",
      "RangeIndex: 270285 entries, 0 to 270284\n",
      "Data columns (total 8 columns):\n",
      " #   Column            Non-Null Count   Dtype \n",
      "---  ------            --------------   ----- \n",
      " 0   transactionId     1483 non-null    object\n",
      " 1   productName       0 non-null       object\n",
      " 2   productCategory   0 non-null       object\n",
      " 3   productSku        0 non-null       object\n",
      " 4   itemQuantity      0 non-null       Int64 \n",
      " 5   itemRevenue       0 non-null       Int64 \n",
      " 6   currencyCode      122965 non-null  object\n",
      " 7   localItemRevenue  0 non-null       Int64 \n",
      "dtypes: Int64(3), object(5)\n",
      "memory usage: 17.3+ MB\n"
     ]
    }
   ],
   "source": [
    "df_item.info()"
   ]
  },
  {
   "cell_type": "code",
   "execution_count": 117,
   "id": "020e1fbc-28db-42d8-835e-d51290f3fc33",
   "metadata": {
    "tags": []
   },
   "outputs": [
    {
     "name": "stdout",
     "output_type": "stream",
     "text": [
      "<class 'pandas.core.frame.DataFrame'>\n",
      "RangeIndex: 270285 entries, 0 to 270284\n",
      "Data columns (total 2 columns):\n",
      " #   Column         Non-Null Count   Dtype \n",
      "---  ------         --------------   ----- \n",
      " 0   transactionId  1483 non-null    object\n",
      " 1   currencyCode   122965 non-null  object\n",
      "dtypes: object(2)\n",
      "memory usage: 4.1+ MB\n"
     ]
    }
   ],
   "source": [
    "df_item = df_item.dropna(how='all',axis=1)\n",
    "df_item.info()"
   ]
  },
  {
   "cell_type": "markdown",
   "id": "afc8c8a4-e680-40c5-841c-349dab631275",
   "metadata": {},
   "source": [
    "#### transaction id and currency code are also describing a purchased item, so item will be dropped to prevent target leakage."
   ]
  },
  {
   "cell_type": "code",
   "execution_count": 118,
   "id": "a6c4b9e1-609a-4433-b5f9-f56375d27f34",
   "metadata": {
    "tags": []
   },
   "outputs": [],
   "source": [
    "df_hits = df_hits.drop(\"item\",axis=1)"
   ]
  },
  {
   "cell_type": "code",
   "execution_count": 119,
   "id": "0acef727-f668-42cc-8229-71a301a2067f",
   "metadata": {
    "tags": []
   },
   "outputs": [
    {
     "data": {
      "application/vnd.jupyter.widget-view+json": {
       "model_id": "de449e486e7745028ac2e3d315a6bb3c",
       "version_major": 2,
       "version_minor": 0
      },
      "text/plain": [
       "Query is running:   0%|          |"
      ]
     },
     "metadata": {},
     "output_type": "display_data"
    },
    {
     "data": {
      "application/vnd.jupyter.widget-view+json": {
       "model_id": "43b85959b0e349cd976f7075ec53bc5a",
       "version_major": 2,
       "version_minor": 0
      },
      "text/plain": [
       "Downloading:   0%|          |"
      ]
     },
     "metadata": {},
     "output_type": "display_data"
    }
   ],
   "source": [
    "%%bigquery df_contentInfo --project $PROJECT_ID\n",
    "\n",
    "SELECT contentInfo.* \n",
    "FROM luke_cap_data.hits"
   ]
  },
  {
   "cell_type": "code",
   "execution_count": 120,
   "id": "dcf25ff4-9b95-4ae4-9d3d-44add70678b4",
   "metadata": {
    "tags": []
   },
   "outputs": [
    {
     "data": {
      "text/html": [
       "<div>\n",
       "<style scoped>\n",
       "    .dataframe tbody tr th:only-of-type {\n",
       "        vertical-align: middle;\n",
       "    }\n",
       "\n",
       "    .dataframe tbody tr th {\n",
       "        vertical-align: top;\n",
       "    }\n",
       "\n",
       "    .dataframe thead th {\n",
       "        text-align: right;\n",
       "    }\n",
       "</style>\n",
       "<table border=\"1\" class=\"dataframe\">\n",
       "  <thead>\n",
       "    <tr style=\"text-align: right;\">\n",
       "      <th></th>\n",
       "      <th>contentDescription</th>\n",
       "    </tr>\n",
       "  </thead>\n",
       "  <tbody>\n",
       "    <tr>\n",
       "      <th>0</th>\n",
       "      <td>None</td>\n",
       "    </tr>\n",
       "    <tr>\n",
       "      <th>1</th>\n",
       "      <td>None</td>\n",
       "    </tr>\n",
       "    <tr>\n",
       "      <th>2</th>\n",
       "      <td>None</td>\n",
       "    </tr>\n",
       "  </tbody>\n",
       "</table>\n",
       "</div>"
      ],
      "text/plain": [
       "  contentDescription\n",
       "0               None\n",
       "1               None\n",
       "2               None"
      ]
     },
     "execution_count": 120,
     "metadata": {},
     "output_type": "execute_result"
    }
   ],
   "source": [
    "df_contentInfo.head(3)"
   ]
  },
  {
   "cell_type": "code",
   "execution_count": 121,
   "id": "05c61862-ad8d-4483-bbc9-09699aace246",
   "metadata": {
    "tags": []
   },
   "outputs": [
    {
     "name": "stdout",
     "output_type": "stream",
     "text": [
      "<class 'pandas.core.frame.DataFrame'>\n",
      "RangeIndex: 270285 entries, 0 to 270284\n",
      "Data columns (total 1 columns):\n",
      " #   Column              Non-Null Count  Dtype \n",
      "---  ------              --------------  ----- \n",
      " 0   contentDescription  0 non-null      object\n",
      "dtypes: object(1)\n",
      "memory usage: 2.1+ MB\n"
     ]
    }
   ],
   "source": [
    "df_contentInfo.info()"
   ]
  },
  {
   "cell_type": "markdown",
   "id": "dafab1df-9907-48c7-925c-8b2e534eef0f",
   "metadata": {},
   "source": [
    "#### contentInfo is 100% null so will be dropped"
   ]
  },
  {
   "cell_type": "code",
   "execution_count": 122,
   "id": "d1c46254-0f93-4c7b-a540-e2430a9d58b2",
   "metadata": {
    "tags": []
   },
   "outputs": [
    {
     "data": {
      "text/html": [
       "<div>\n",
       "<style scoped>\n",
       "    .dataframe tbody tr th:only-of-type {\n",
       "        vertical-align: middle;\n",
       "    }\n",
       "\n",
       "    .dataframe tbody tr th {\n",
       "        vertical-align: top;\n",
       "    }\n",
       "\n",
       "    .dataframe thead th {\n",
       "        text-align: right;\n",
       "    }\n",
       "</style>\n",
       "<table border=\"1\" class=\"dataframe\">\n",
       "  <thead>\n",
       "    <tr style=\"text-align: right;\">\n",
       "      <th></th>\n",
       "      <th>User_session</th>\n",
       "      <th>hitNumber</th>\n",
       "      <th>time</th>\n",
       "      <th>hour</th>\n",
       "      <th>isSecure</th>\n",
       "      <th>referer</th>\n",
       "      <th>appInfo</th>\n",
       "      <th>exceptionInfo</th>\n",
       "      <th>eventInfo</th>\n",
       "      <th>product</th>\n",
       "      <th>...</th>\n",
       "      <th>publisher</th>\n",
       "      <th>customVariables</th>\n",
       "      <th>type</th>\n",
       "      <th>social</th>\n",
       "      <th>latencyTracking</th>\n",
       "      <th>sourcePropertyInfo</th>\n",
       "      <th>contentGroup</th>\n",
       "      <th>dataSource</th>\n",
       "      <th>publisher_infos</th>\n",
       "      <th>Target</th>\n",
       "    </tr>\n",
       "  </thead>\n",
       "  <tbody>\n",
       "    <tr>\n",
       "      <th>0</th>\n",
       "      <td>4334381010732229366_1487466367</td>\n",
       "      <td>1</td>\n",
       "      <td>0</td>\n",
       "      <td>17</td>\n",
       "      <td>&lt;NA&gt;</td>\n",
       "      <td>https://www.google.com/</td>\n",
       "      <td>{'name': None, 'version': None, 'id': None, 'i...</td>\n",
       "      <td>{'description': None, 'isFatal': True, 'except...</td>\n",
       "      <td>None</td>\n",
       "      <td>[]</td>\n",
       "      <td>...</td>\n",
       "      <td>None</td>\n",
       "      <td>[]</td>\n",
       "      <td>PAGE</td>\n",
       "      <td>{'socialInteractionNetwork': None, 'socialInte...</td>\n",
       "      <td>None</td>\n",
       "      <td>None</td>\n",
       "      <td>{'contentGroup1': '(not set)', 'contentGroup2'...</td>\n",
       "      <td>None</td>\n",
       "      <td>[]</td>\n",
       "      <td>0</td>\n",
       "    </tr>\n",
       "    <tr>\n",
       "      <th>1</th>\n",
       "      <td>4334381010732229366_1487466367</td>\n",
       "      <td>2</td>\n",
       "      <td>10199</td>\n",
       "      <td>17</td>\n",
       "      <td>&lt;NA&gt;</td>\n",
       "      <td>None</td>\n",
       "      <td>{'name': None, 'version': None, 'id': None, 'i...</td>\n",
       "      <td>{'description': None, 'isFatal': True, 'except...</td>\n",
       "      <td>None</td>\n",
       "      <td>[]</td>\n",
       "      <td>...</td>\n",
       "      <td>None</td>\n",
       "      <td>[]</td>\n",
       "      <td>PAGE</td>\n",
       "      <td>{'socialInteractionNetwork': None, 'socialInte...</td>\n",
       "      <td>None</td>\n",
       "      <td>None</td>\n",
       "      <td>{'contentGroup1': '(not set)', 'contentGroup2'...</td>\n",
       "      <td>None</td>\n",
       "      <td>[]</td>\n",
       "      <td>0</td>\n",
       "    </tr>\n",
       "    <tr>\n",
       "      <th>2</th>\n",
       "      <td>4334381010732229366_1487466367</td>\n",
       "      <td>3</td>\n",
       "      <td>58850</td>\n",
       "      <td>17</td>\n",
       "      <td>&lt;NA&gt;</td>\n",
       "      <td>None</td>\n",
       "      <td>{'name': None, 'version': None, 'id': None, 'i...</td>\n",
       "      <td>{'description': None, 'isFatal': True, 'except...</td>\n",
       "      <td>{'eventCategory': 'Contact Us', 'eventAction':...</td>\n",
       "      <td>[]</td>\n",
       "      <td>...</td>\n",
       "      <td>None</td>\n",
       "      <td>[]</td>\n",
       "      <td>EVENT</td>\n",
       "      <td>{'socialInteractionNetwork': None, 'socialInte...</td>\n",
       "      <td>None</td>\n",
       "      <td>None</td>\n",
       "      <td>{'contentGroup1': '(not set)', 'contentGroup2'...</td>\n",
       "      <td>None</td>\n",
       "      <td>[]</td>\n",
       "      <td>0</td>\n",
       "    </tr>\n",
       "  </tbody>\n",
       "</table>\n",
       "<p>3 rows × 25 columns</p>\n",
       "</div>"
      ],
      "text/plain": [
       "                     User_session  hitNumber   time  hour  isSecure  \\\n",
       "0  4334381010732229366_1487466367          1      0    17      <NA>   \n",
       "1  4334381010732229366_1487466367          2  10199    17      <NA>   \n",
       "2  4334381010732229366_1487466367          3  58850    17      <NA>   \n",
       "\n",
       "                   referer                                            appInfo  \\\n",
       "0  https://www.google.com/  {'name': None, 'version': None, 'id': None, 'i...   \n",
       "1                     None  {'name': None, 'version': None, 'id': None, 'i...   \n",
       "2                     None  {'name': None, 'version': None, 'id': None, 'i...   \n",
       "\n",
       "                                       exceptionInfo  \\\n",
       "0  {'description': None, 'isFatal': True, 'except...   \n",
       "1  {'description': None, 'isFatal': True, 'except...   \n",
       "2  {'description': None, 'isFatal': True, 'except...   \n",
       "\n",
       "                                           eventInfo product  ... publisher  \\\n",
       "0                                               None      []  ...      None   \n",
       "1                                               None      []  ...      None   \n",
       "2  {'eventCategory': 'Contact Us', 'eventAction':...      []  ...      None   \n",
       "\n",
       "  customVariables   type                                             social  \\\n",
       "0              []   PAGE  {'socialInteractionNetwork': None, 'socialInte...   \n",
       "1              []   PAGE  {'socialInteractionNetwork': None, 'socialInte...   \n",
       "2              []  EVENT  {'socialInteractionNetwork': None, 'socialInte...   \n",
       "\n",
       "  latencyTracking sourcePropertyInfo  \\\n",
       "0            None               None   \n",
       "1            None               None   \n",
       "2            None               None   \n",
       "\n",
       "                                        contentGroup dataSource  \\\n",
       "0  {'contentGroup1': '(not set)', 'contentGroup2'...       None   \n",
       "1  {'contentGroup1': '(not set)', 'contentGroup2'...       None   \n",
       "2  {'contentGroup1': '(not set)', 'contentGroup2'...       None   \n",
       "\n",
       "  publisher_infos Target  \n",
       "0              []      0  \n",
       "1              []      0  \n",
       "2              []      0  \n",
       "\n",
       "[3 rows x 25 columns]"
      ]
     },
     "execution_count": 122,
     "metadata": {},
     "output_type": "execute_result"
    }
   ],
   "source": [
    "df_hits = df_hits.drop(\"contentInfo\",axis=1)\n",
    "df_hits.head(3)"
   ]
  },
  {
   "cell_type": "code",
   "execution_count": 123,
   "id": "3d0543d8-49d7-4552-86c6-8433381208d9",
   "metadata": {
    "tags": []
   },
   "outputs": [
    {
     "data": {
      "text/plain": [
       "Index(['User_session', 'hitNumber', 'time', 'hour', 'isSecure', 'referer',\n",
       "       'appInfo', 'exceptionInfo', 'eventInfo', 'product', 'promotion',\n",
       "       'promotionActionInfo', 'refund', 'eCommerceAction', 'experiment',\n",
       "       'publisher', 'customVariables', 'type', 'social', 'latencyTracking',\n",
       "       'sourcePropertyInfo', 'contentGroup', 'dataSource', 'publisher_infos',\n",
       "       'Target'],\n",
       "      dtype='object')"
      ]
     },
     "execution_count": 123,
     "metadata": {},
     "output_type": "execute_result"
    }
   ],
   "source": [
    "df_hits.columns"
   ]
  },
  {
   "cell_type": "markdown",
   "id": "88864c0a-485e-4979-a3f6-b5b57aa9769e",
   "metadata": {},
   "source": [
    "#### For now, the following will be kept from hits:\n"
   ]
  },
  {
   "cell_type": "code",
   "execution_count": 115,
   "id": "ffe96761-001a-4f64-87d3-3013fd897509",
   "metadata": {
    "tags": []
   },
   "outputs": [],
   "source": [
    "hits_list = ['User_session', 'hitNumber', 'time', 'hour',\n",
    "       'type']\n",
    "hits_social = [\"socialNetwork\",\"hasSocialSourceReferral\",\"socialInteractionNetworkAction\"]\n",
    "hits_promo = [\"promoName\"]\n",
    "hits_product = [\"v2ProductCategory\"]"
   ]
  },
  {
   "cell_type": "markdown",
   "id": "05d24bb0-306a-49fa-9b60-88bab418a77e",
   "metadata": {},
   "source": [
    "#### EXPLORE \"OTHER\""
   ]
  },
  {
   "cell_type": "code",
   "execution_count": 128,
   "id": "e4a60359-3cab-4236-8771-8c755d52b717",
   "metadata": {},
   "outputs": [
    {
     "data": {
      "text/html": [
       "<div>\n",
       "<style scoped>\n",
       "    .dataframe tbody tr th:only-of-type {\n",
       "        vertical-align: middle;\n",
       "    }\n",
       "\n",
       "    .dataframe tbody tr th {\n",
       "        vertical-align: top;\n",
       "    }\n",
       "\n",
       "    .dataframe thead th {\n",
       "        text-align: right;\n",
       "    }\n",
       "</style>\n",
       "<table border=\"1\" class=\"dataframe\">\n",
       "  <thead>\n",
       "    <tr style=\"text-align: right;\">\n",
       "      <th></th>\n",
       "      <th>User_session</th>\n",
       "      <th>visitorId</th>\n",
       "      <th>visitNumber</th>\n",
       "      <th>visitStartTime</th>\n",
       "      <th>cusDim_index</th>\n",
       "      <th>cusDim_value</th>\n",
       "      <th>date</th>\n",
       "      <th>userId</th>\n",
       "      <th>channelGrouping</th>\n",
       "      <th>socialEngagementType</th>\n",
       "    </tr>\n",
       "  </thead>\n",
       "  <tbody>\n",
       "    <tr>\n",
       "      <th>0</th>\n",
       "      <td>7313705655805460829_1486637401</td>\n",
       "      <td>&lt;NA&gt;</td>\n",
       "      <td>1</td>\n",
       "      <td>1486637401</td>\n",
       "      <td>4</td>\n",
       "      <td>North America</td>\n",
       "      <td>20170209</td>\n",
       "      <td>None</td>\n",
       "      <td>Paid Search</td>\n",
       "      <td>Not Socially Engaged</td>\n",
       "    </tr>\n",
       "    <tr>\n",
       "      <th>1</th>\n",
       "      <td>7592648761180498378_1486676911</td>\n",
       "      <td>&lt;NA&gt;</td>\n",
       "      <td>1</td>\n",
       "      <td>1486676911</td>\n",
       "      <td>4</td>\n",
       "      <td>North America</td>\n",
       "      <td>20170209</td>\n",
       "      <td>None</td>\n",
       "      <td>Paid Search</td>\n",
       "      <td>Not Socially Engaged</td>\n",
       "    </tr>\n",
       "    <tr>\n",
       "      <th>2</th>\n",
       "      <td>5797787486617061133_1486658355</td>\n",
       "      <td>&lt;NA&gt;</td>\n",
       "      <td>1</td>\n",
       "      <td>1486658355</td>\n",
       "      <td>4</td>\n",
       "      <td>North America</td>\n",
       "      <td>20170209</td>\n",
       "      <td>None</td>\n",
       "      <td>Paid Search</td>\n",
       "      <td>Not Socially Engaged</td>\n",
       "    </tr>\n",
       "  </tbody>\n",
       "</table>\n",
       "</div>"
      ],
      "text/plain": [
       "                     User_session  visitorId  visitNumber  visitStartTime  \\\n",
       "0  7313705655805460829_1486637401       <NA>            1      1486637401   \n",
       "1  7592648761180498378_1486676911       <NA>            1      1486676911   \n",
       "2  5797787486617061133_1486658355       <NA>            1      1486658355   \n",
       "\n",
       "   cusDim_index   cusDim_value      date userId channelGrouping  \\\n",
       "0             4  North America  20170209   None     Paid Search   \n",
       "1             4  North America  20170209   None     Paid Search   \n",
       "2             4  North America  20170209   None     Paid Search   \n",
       "\n",
       "   socialEngagementType  \n",
       "0  Not Socially Engaged  \n",
       "1  Not Socially Engaged  \n",
       "2  Not Socially Engaged  "
      ]
     },
     "execution_count": 128,
     "metadata": {},
     "output_type": "execute_result"
    }
   ],
   "source": [
    "df_other.head(3)"
   ]
  },
  {
   "cell_type": "markdown",
   "id": "0ff3796e-0fa6-40c6-bbc8-b69773134ac5",
   "metadata": {},
   "source": [
    "##### Drill down into nested features"
   ]
  },
  {
   "cell_type": "code",
   "execution_count": 129,
   "id": "08993242-d725-45c0-8c0e-e316eee09f9e",
   "metadata": {},
   "outputs": [
    {
     "name": "stdout",
     "output_type": "stream",
     "text": [
      "<class 'pandas.core.frame.DataFrame'>\n",
      "RangeIndex: 51796 entries, 0 to 51795\n",
      "Data columns (total 10 columns):\n",
      " #   Column                Non-Null Count  Dtype \n",
      "---  ------                --------------  ----- \n",
      " 0   User_session          51796 non-null  object\n",
      " 1   visitorId             0 non-null      Int64 \n",
      " 2   visitNumber           51796 non-null  Int64 \n",
      " 3   visitStartTime        51796 non-null  Int64 \n",
      " 4   cusDim_index          51796 non-null  Int64 \n",
      " 5   cusDim_value          51796 non-null  object\n",
      " 6   date                  51796 non-null  object\n",
      " 7   userId                0 non-null      object\n",
      " 8   channelGrouping       51796 non-null  object\n",
      " 9   socialEngagementType  51796 non-null  object\n",
      "dtypes: Int64(4), object(6)\n",
      "memory usage: 4.1+ MB\n"
     ]
    }
   ],
   "source": [
    "df_other.info()"
   ]
  },
  {
   "cell_type": "markdown",
   "id": "5a5dbe8c-7836-4610-a054-d3a4e8232a78",
   "metadata": {},
   "source": [
    "#### First we will drop visitorId and userId as they is 100% null"
   ]
  },
  {
   "cell_type": "code",
   "execution_count": 130,
   "id": "c9bb1c13-fb99-4912-9ea1-bc77f3a8a17a",
   "metadata": {
    "tags": []
   },
   "outputs": [],
   "source": [
    "df_other = df_other.dropna(how='all',axis=1)"
   ]
  },
  {
   "cell_type": "code",
   "execution_count": 132,
   "id": "ddbb4395-1dc7-4122-84c4-af62cf8fed60",
   "metadata": {
    "tags": []
   },
   "outputs": [
    {
     "data": {
      "text/plain": [
       "cusDim_index\n",
       "4    51796\n",
       "Name: count, dtype: Int64"
      ]
     },
     "execution_count": 132,
     "metadata": {},
     "output_type": "execute_result"
    }
   ],
   "source": [
    "df_other[\"cusDim_index\"].value_counts()"
   ]
  },
  {
   "cell_type": "code",
   "execution_count": 133,
   "id": "08e9dabb-c9c5-4749-90ea-640532a36848",
   "metadata": {
    "tags": []
   },
   "outputs": [
    {
     "data": {
      "text/plain": [
       "cusDim_value\n",
       "North America      28805\n",
       "EMEA               13653\n",
       "APAC                7573\n",
       "South America       1185\n",
       "Central America      580\n",
       "Name: count, dtype: int64"
      ]
     },
     "execution_count": 133,
     "metadata": {},
     "output_type": "execute_result"
    }
   ],
   "source": [
    "df_other[\"cusDim_value\"].value_counts()"
   ]
  },
  {
   "cell_type": "markdown",
   "id": "7296b2f4-82b5-44b2-aa4a-1a2ed0bf17f9",
   "metadata": {},
   "source": [
    "#### customDimensions doesn't contain much information and location information is already maintained elsewhere so we will drop it."
   ]
  },
  {
   "cell_type": "code",
   "execution_count": 134,
   "id": "be2cc28f-61bb-442b-b266-099de4a6a834",
   "metadata": {},
   "outputs": [
    {
     "data": {
      "text/html": [
       "<div>\n",
       "<style scoped>\n",
       "    .dataframe tbody tr th:only-of-type {\n",
       "        vertical-align: middle;\n",
       "    }\n",
       "\n",
       "    .dataframe tbody tr th {\n",
       "        vertical-align: top;\n",
       "    }\n",
       "\n",
       "    .dataframe thead th {\n",
       "        text-align: right;\n",
       "    }\n",
       "</style>\n",
       "<table border=\"1\" class=\"dataframe\">\n",
       "  <thead>\n",
       "    <tr style=\"text-align: right;\">\n",
       "      <th></th>\n",
       "      <th>User_session</th>\n",
       "      <th>visitNumber</th>\n",
       "      <th>visitStartTime</th>\n",
       "      <th>date</th>\n",
       "      <th>channelGrouping</th>\n",
       "      <th>socialEngagementType</th>\n",
       "    </tr>\n",
       "  </thead>\n",
       "  <tbody>\n",
       "    <tr>\n",
       "      <th>0</th>\n",
       "      <td>7313705655805460829_1486637401</td>\n",
       "      <td>1</td>\n",
       "      <td>1486637401</td>\n",
       "      <td>20170209</td>\n",
       "      <td>Paid Search</td>\n",
       "      <td>Not Socially Engaged</td>\n",
       "    </tr>\n",
       "    <tr>\n",
       "      <th>1</th>\n",
       "      <td>7592648761180498378_1486676911</td>\n",
       "      <td>1</td>\n",
       "      <td>1486676911</td>\n",
       "      <td>20170209</td>\n",
       "      <td>Paid Search</td>\n",
       "      <td>Not Socially Engaged</td>\n",
       "    </tr>\n",
       "    <tr>\n",
       "      <th>2</th>\n",
       "      <td>5797787486617061133_1486658355</td>\n",
       "      <td>1</td>\n",
       "      <td>1486658355</td>\n",
       "      <td>20170209</td>\n",
       "      <td>Paid Search</td>\n",
       "      <td>Not Socially Engaged</td>\n",
       "    </tr>\n",
       "    <tr>\n",
       "      <th>3</th>\n",
       "      <td>4355131460802490782_1486627560</td>\n",
       "      <td>1</td>\n",
       "      <td>1486627560</td>\n",
       "      <td>20170209</td>\n",
       "      <td>Paid Search</td>\n",
       "      <td>Not Socially Engaged</td>\n",
       "    </tr>\n",
       "    <tr>\n",
       "      <th>4</th>\n",
       "      <td>6157112875945822455_1486658776</td>\n",
       "      <td>1</td>\n",
       "      <td>1486658776</td>\n",
       "      <td>20170209</td>\n",
       "      <td>Paid Search</td>\n",
       "      <td>Not Socially Engaged</td>\n",
       "    </tr>\n",
       "  </tbody>\n",
       "</table>\n",
       "</div>"
      ],
      "text/plain": [
       "                     User_session  visitNumber  visitStartTime      date  \\\n",
       "0  7313705655805460829_1486637401            1      1486637401  20170209   \n",
       "1  7592648761180498378_1486676911            1      1486676911  20170209   \n",
       "2  5797787486617061133_1486658355            1      1486658355  20170209   \n",
       "3  4355131460802490782_1486627560            1      1486627560  20170209   \n",
       "4  6157112875945822455_1486658776            1      1486658776  20170209   \n",
       "\n",
       "  channelGrouping  socialEngagementType  \n",
       "0     Paid Search  Not Socially Engaged  \n",
       "1     Paid Search  Not Socially Engaged  \n",
       "2     Paid Search  Not Socially Engaged  \n",
       "3     Paid Search  Not Socially Engaged  \n",
       "4     Paid Search  Not Socially Engaged  "
      ]
     },
     "execution_count": 134,
     "metadata": {},
     "output_type": "execute_result"
    }
   ],
   "source": [
    "df_other = df_other.drop([\"cusDim_index\",\"cusDim_value\"],axis=1)\n",
    "df_other.head()"
   ]
  },
  {
   "cell_type": "code",
   "execution_count": 135,
   "id": "64f12890-3786-4f84-a402-6e363c7e1fbd",
   "metadata": {
    "tags": []
   },
   "outputs": [
    {
     "data": {
      "text/plain": [
       "channelGrouping\n",
       "Organic Search    25524\n",
       "Direct             8998\n",
       "Social             7442\n",
       "Referral           6439\n",
       "Paid Search        1923\n",
       "Affiliates          953\n",
       "Display             517\n",
       "Name: count, dtype: int64"
      ]
     },
     "execution_count": 135,
     "metadata": {},
     "output_type": "execute_result"
    }
   ],
   "source": [
    "df_other[\"channelGrouping\"].value_counts()"
   ]
  },
  {
   "cell_type": "code",
   "execution_count": 136,
   "id": "3fba6df0-1219-4df7-a8a0-52fa4998a432",
   "metadata": {
    "tags": []
   },
   "outputs": [
    {
     "data": {
      "text/plain": [
       "socialEngagementType\n",
       "Not Socially Engaged    51796\n",
       "Name: count, dtype: int64"
      ]
     },
     "execution_count": 136,
     "metadata": {},
     "output_type": "execute_result"
    }
   ],
   "source": [
    "df_other[\"socialEngagementType\"].value_counts()"
   ]
  },
  {
   "cell_type": "markdown",
   "id": "ebbd9c85-102d-4a90-b661-dcdd69eb3d19",
   "metadata": {},
   "source": [
    "#### Since there is only 1 socialEngagementType category we will drop it"
   ]
  },
  {
   "cell_type": "code",
   "execution_count": 137,
   "id": "28bc5088-003b-4f9f-872b-f6dbb5ccc4ed",
   "metadata": {
    "tags": []
   },
   "outputs": [
    {
     "data": {
      "text/html": [
       "<div>\n",
       "<style scoped>\n",
       "    .dataframe tbody tr th:only-of-type {\n",
       "        vertical-align: middle;\n",
       "    }\n",
       "\n",
       "    .dataframe tbody tr th {\n",
       "        vertical-align: top;\n",
       "    }\n",
       "\n",
       "    .dataframe thead th {\n",
       "        text-align: right;\n",
       "    }\n",
       "</style>\n",
       "<table border=\"1\" class=\"dataframe\">\n",
       "  <thead>\n",
       "    <tr style=\"text-align: right;\">\n",
       "      <th></th>\n",
       "      <th>User_session</th>\n",
       "      <th>visitNumber</th>\n",
       "      <th>visitStartTime</th>\n",
       "      <th>date</th>\n",
       "      <th>channelGrouping</th>\n",
       "    </tr>\n",
       "  </thead>\n",
       "  <tbody>\n",
       "    <tr>\n",
       "      <th>0</th>\n",
       "      <td>7313705655805460829_1486637401</td>\n",
       "      <td>1</td>\n",
       "      <td>1486637401</td>\n",
       "      <td>20170209</td>\n",
       "      <td>Paid Search</td>\n",
       "    </tr>\n",
       "    <tr>\n",
       "      <th>1</th>\n",
       "      <td>7592648761180498378_1486676911</td>\n",
       "      <td>1</td>\n",
       "      <td>1486676911</td>\n",
       "      <td>20170209</td>\n",
       "      <td>Paid Search</td>\n",
       "    </tr>\n",
       "    <tr>\n",
       "      <th>2</th>\n",
       "      <td>5797787486617061133_1486658355</td>\n",
       "      <td>1</td>\n",
       "      <td>1486658355</td>\n",
       "      <td>20170209</td>\n",
       "      <td>Paid Search</td>\n",
       "    </tr>\n",
       "    <tr>\n",
       "      <th>3</th>\n",
       "      <td>4355131460802490782_1486627560</td>\n",
       "      <td>1</td>\n",
       "      <td>1486627560</td>\n",
       "      <td>20170209</td>\n",
       "      <td>Paid Search</td>\n",
       "    </tr>\n",
       "    <tr>\n",
       "      <th>4</th>\n",
       "      <td>6157112875945822455_1486658776</td>\n",
       "      <td>1</td>\n",
       "      <td>1486658776</td>\n",
       "      <td>20170209</td>\n",
       "      <td>Paid Search</td>\n",
       "    </tr>\n",
       "  </tbody>\n",
       "</table>\n",
       "</div>"
      ],
      "text/plain": [
       "                     User_session  visitNumber  visitStartTime      date  \\\n",
       "0  7313705655805460829_1486637401            1      1486637401  20170209   \n",
       "1  7592648761180498378_1486676911            1      1486676911  20170209   \n",
       "2  5797787486617061133_1486658355            1      1486658355  20170209   \n",
       "3  4355131460802490782_1486627560            1      1486627560  20170209   \n",
       "4  6157112875945822455_1486658776            1      1486658776  20170209   \n",
       "\n",
       "  channelGrouping  \n",
       "0     Paid Search  \n",
       "1     Paid Search  \n",
       "2     Paid Search  \n",
       "3     Paid Search  \n",
       "4     Paid Search  "
      ]
     },
     "execution_count": 137,
     "metadata": {},
     "output_type": "execute_result"
    }
   ],
   "source": [
    "df_other = df_other.drop(\"socialEngagementType\", axis=1)\n",
    "df_other.head()"
   ]
  },
  {
   "cell_type": "code",
   "execution_count": 138,
   "id": "1835f4bf-a21f-4db6-89c7-dedb86e25b17",
   "metadata": {
    "tags": []
   },
   "outputs": [
    {
     "data": {
      "text/plain": [
       "visitNumber\n",
       "1      38885\n",
       "2       5776\n",
       "3       2214\n",
       "4       1211\n",
       "5        737\n",
       "       ...  \n",
       "326        1\n",
       "197        1\n",
       "181        1\n",
       "329        1\n",
       "320        1\n",
       "Name: count, Length: 169, dtype: Int64"
      ]
     },
     "execution_count": 138,
     "metadata": {},
     "output_type": "execute_result"
    }
   ],
   "source": [
    "df_other[\"visitNumber\"].value_counts()"
   ]
  },
  {
   "cell_type": "code",
   "execution_count": 139,
   "id": "27b39b84-c265-49b2-9d79-765dc4ffd253",
   "metadata": {
    "tags": []
   },
   "outputs": [
    {
     "data": {
      "text/plain": [
       "['User_session', 'visitNumber', 'visitStartTime', 'date', 'channelGrouping']"
      ]
     },
     "execution_count": 139,
     "metadata": {},
     "output_type": "execute_result"
    }
   ],
   "source": [
    "other_list = list(df_other.columns)\n",
    "other_list"
   ]
  },
  {
   "cell_type": "markdown",
   "id": "67e931c5-c0cc-438a-9bd7-4d749aaf4d31",
   "metadata": {
    "jp-MarkdownHeadingCollapsed": true,
    "tags": []
   },
   "source": [
    "# EVERYTHING BELOW CAN BE IGNORED FOR NOW..."
   ]
  },
  {
   "cell_type": "markdown",
   "id": "b3591fb2-6572-4e74-9be0-be4b773cfe31",
   "metadata": {},
   "source": [
    "#### DROP visits, bounces, newVisits"
   ]
  },
  {
   "cell_type": "code",
   "execution_count": 219,
   "id": "cff07987-ea89-46a9-ab97-c552bc925c0b",
   "metadata": {
    "tags": []
   },
   "outputs": [
    {
     "data": {
      "application/vnd.jupyter.widget-view+json": {
       "model_id": "bcbb6c3e1ea24b7e8819ec218827ed66",
       "version_major": 2,
       "version_minor": 0
      },
      "text/plain": [
       "Query is running:   0%|          |"
      ]
     },
     "metadata": {},
     "output_type": "display_data"
    },
    {
     "data": {
      "application/vnd.jupyter.widget-view+json": {
       "model_id": "bb4cee934b4e4959baaaae7e5bd035a6",
       "version_major": 2,
       "version_minor": 0
      },
      "text/plain": [
       "Downloading:   0%|          |"
      ]
     },
     "metadata": {},
     "output_type": "display_data"
    },
    {
     "data": {
      "text/html": [
       "<div>\n",
       "<style scoped>\n",
       "    .dataframe tbody tr th:only-of-type {\n",
       "        vertical-align: middle;\n",
       "    }\n",
       "\n",
       "    .dataframe tbody tr th {\n",
       "        vertical-align: top;\n",
       "    }\n",
       "\n",
       "    .dataframe thead th {\n",
       "        text-align: right;\n",
       "    }\n",
       "</style>\n",
       "<table border=\"1\" class=\"dataframe\">\n",
       "  <thead>\n",
       "    <tr style=\"text-align: right;\">\n",
       "      <th></th>\n",
       "      <th>User_session</th>\n",
       "      <th>pageviews</th>\n",
       "      <th>timeOnSite</th>\n",
       "      <th>referralPath</th>\n",
       "      <th>source</th>\n",
       "      <th>medium</th>\n",
       "      <th>keyword</th>\n",
       "      <th>browser</th>\n",
       "      <th>operatingSystem</th>\n",
       "      <th>isMobile</th>\n",
       "      <th>deviceCategory</th>\n",
       "      <th>country</th>\n",
       "      <th>metro</th>\n",
       "      <th>city</th>\n",
       "      <th>networkDomain</th>\n",
       "      <th>hitNumber</th>\n",
       "      <th>time</th>\n",
       "      <th>hour</th>\n",
       "      <th>type</th>\n",
       "      <th>Target</th>\n",
       "    </tr>\n",
       "  </thead>\n",
       "  <tbody>\n",
       "    <tr>\n",
       "      <th>0</th>\n",
       "      <td>3362297518035667823_1487971167</td>\n",
       "      <td>2</td>\n",
       "      <td>191</td>\n",
       "      <td>None</td>\n",
       "      <td>(direct)</td>\n",
       "      <td>(none)</td>\n",
       "      <td>None</td>\n",
       "      <td>Chrome</td>\n",
       "      <td>Windows</td>\n",
       "      <td>False</td>\n",
       "      <td>desktop</td>\n",
       "      <td>Poland</td>\n",
       "      <td>not available in demo dataset</td>\n",
       "      <td>not available in demo dataset</td>\n",
       "      <td>vectranet.pl</td>\n",
       "      <td>1</td>\n",
       "      <td>0</td>\n",
       "      <td>13</td>\n",
       "      <td>PAGE</td>\n",
       "      <td>0</td>\n",
       "    </tr>\n",
       "    <tr>\n",
       "      <th>1</th>\n",
       "      <td>7137924127061500750_1487973917</td>\n",
       "      <td>2</td>\n",
       "      <td>155</td>\n",
       "      <td>None</td>\n",
       "      <td>(direct)</td>\n",
       "      <td>(none)</td>\n",
       "      <td>None</td>\n",
       "      <td>Safari</td>\n",
       "      <td>iOS</td>\n",
       "      <td>True</td>\n",
       "      <td>tablet</td>\n",
       "      <td>Ukraine</td>\n",
       "      <td>not available in demo dataset</td>\n",
       "      <td>not available in demo dataset</td>\n",
       "      <td>wildpark.net</td>\n",
       "      <td>2</td>\n",
       "      <td>155357</td>\n",
       "      <td>14</td>\n",
       "      <td>PAGE</td>\n",
       "      <td>0</td>\n",
       "    </tr>\n",
       "    <tr>\n",
       "      <th>2</th>\n",
       "      <td>8991518919541475006_1487964317</td>\n",
       "      <td>2</td>\n",
       "      <td>12</td>\n",
       "      <td>/</td>\n",
       "      <td>(direct)</td>\n",
       "      <td>(none)</td>\n",
       "      <td>None</td>\n",
       "      <td>Chrome</td>\n",
       "      <td>Macintosh</td>\n",
       "      <td>False</td>\n",
       "      <td>desktop</td>\n",
       "      <td>United States</td>\n",
       "      <td>San Francisco-Oakland-San Jose CA</td>\n",
       "      <td>San Jose</td>\n",
       "      <td>(not set)</td>\n",
       "      <td>2</td>\n",
       "      <td>11613</td>\n",
       "      <td>11</td>\n",
       "      <td>PAGE</td>\n",
       "      <td>0</td>\n",
       "    </tr>\n",
       "    <tr>\n",
       "      <th>3</th>\n",
       "      <td>6002089299065068862_1487964360</td>\n",
       "      <td>2</td>\n",
       "      <td>9</td>\n",
       "      <td>/</td>\n",
       "      <td>(direct)</td>\n",
       "      <td>(none)</td>\n",
       "      <td>None</td>\n",
       "      <td>Chrome</td>\n",
       "      <td>Macintosh</td>\n",
       "      <td>False</td>\n",
       "      <td>desktop</td>\n",
       "      <td>United States</td>\n",
       "      <td>Atlanta GA</td>\n",
       "      <td>Atlanta</td>\n",
       "      <td>(not set)</td>\n",
       "      <td>1</td>\n",
       "      <td>0</td>\n",
       "      <td>11</td>\n",
       "      <td>PAGE</td>\n",
       "      <td>0</td>\n",
       "    </tr>\n",
       "    <tr>\n",
       "      <th>4</th>\n",
       "      <td>6520053255964504595_1487928964</td>\n",
       "      <td>2</td>\n",
       "      <td>30</td>\n",
       "      <td>None</td>\n",
       "      <td>(direct)</td>\n",
       "      <td>(none)</td>\n",
       "      <td>None</td>\n",
       "      <td>Safari</td>\n",
       "      <td>Macintosh</td>\n",
       "      <td>False</td>\n",
       "      <td>desktop</td>\n",
       "      <td>Taiwan</td>\n",
       "      <td>not available in demo dataset</td>\n",
       "      <td>not available in demo dataset</td>\n",
       "      <td>kbronet.com.tw</td>\n",
       "      <td>2</td>\n",
       "      <td>29999</td>\n",
       "      <td>1</td>\n",
       "      <td>PAGE</td>\n",
       "      <td>0</td>\n",
       "    </tr>\n",
       "  </tbody>\n",
       "</table>\n",
       "</div>"
      ],
      "text/plain": [
       "                     User_session  pageviews  timeOnSite referralPath  \\\n",
       "0  3362297518035667823_1487971167          2         191         None   \n",
       "1  7137924127061500750_1487973917          2         155         None   \n",
       "2  8991518919541475006_1487964317          2          12            /   \n",
       "3  6002089299065068862_1487964360          2           9            /   \n",
       "4  6520053255964504595_1487928964          2          30         None   \n",
       "\n",
       "     source  medium keyword browser operatingSystem  isMobile deviceCategory  \\\n",
       "0  (direct)  (none)    None  Chrome         Windows     False        desktop   \n",
       "1  (direct)  (none)    None  Safari             iOS      True         tablet   \n",
       "2  (direct)  (none)    None  Chrome       Macintosh     False        desktop   \n",
       "3  (direct)  (none)    None  Chrome       Macintosh     False        desktop   \n",
       "4  (direct)  (none)    None  Safari       Macintosh     False        desktop   \n",
       "\n",
       "         country                              metro  \\\n",
       "0         Poland      not available in demo dataset   \n",
       "1        Ukraine      not available in demo dataset   \n",
       "2  United States  San Francisco-Oakland-San Jose CA   \n",
       "3  United States                         Atlanta GA   \n",
       "4         Taiwan      not available in demo dataset   \n",
       "\n",
       "                            city   networkDomain  hitNumber    time  hour  \\\n",
       "0  not available in demo dataset    vectranet.pl          1       0    13   \n",
       "1  not available in demo dataset    wildpark.net          2  155357    14   \n",
       "2                       San Jose       (not set)          2   11613    11   \n",
       "3                        Atlanta       (not set)          1       0    11   \n",
       "4  not available in demo dataset  kbronet.com.tw          2   29999     1   \n",
       "\n",
       "   type  Target  \n",
       "0  PAGE       0  \n",
       "1  PAGE       0  \n",
       "2  PAGE       0  \n",
       "3  PAGE       0  \n",
       "4  PAGE       0  "
      ]
     },
     "execution_count": 219,
     "metadata": {},
     "output_type": "execute_result"
    }
   ],
   "source": [
    "%%bigquery --project $PROJECT_ID\n",
    "\n",
    "CREATE OR REPLACE VIEW luke_cap_data.ML_features AS (\n",
    "  \n",
    "SELECT \n",
    "    DISTINCT(target.User_session) AS User_session, \n",
    "    # CAST(visits AS int) AS visits, \n",
    "    CAST(pageviews AS int) AS pageviews, \n",
    "    CAST(timeOnSite AS int) AS timeOnSite, \n",
    "    # CAST(IF(bounces='1',1,0) AS int) AS bounce, \n",
    "    # CAST(newVisits AS int) AS newVisits,\n",
    "    CAST(referralPath AS string) AS referralPath, \n",
    "    source, \n",
    "    medium, \n",
    "    keyword, \n",
    "    # isTrueDirect,\n",
    "    browser, \n",
    "    operatingSystem, \n",
    "    isMobile, \n",
    "    deviceCategory,\n",
    "    country, \n",
    "    # IF(region='not available in demo dataset',NULL,region) AS region, \n",
    "    metro, \n",
    "    city, \n",
    "    networkDomain,\n",
    "    hitNumber, \n",
    "    time, \n",
    "    hour, \n",
    "    type,\n",
    "    target.Target\n",
    "    \n",
    "FROM luke_cap_data.target_data AS target\n",
    "    INNER JOIN luke_cap_data.totals AS totals ON target.User_session = totals.User_session\n",
    "    INNER JOIN luke_cap_data.trafficSource AS traffic ON target.User_session = traffic.User_session\n",
    "    INNER JOIN luke_cap_data.device AS device ON target.User_session = device.User_session\n",
    "    INNER JOIN luke_cap_data.geo AS geo ON target.User_session = geo.User_session\n",
    "    INNER JOIN luke_cap_data.hits AS hits ON target.User_session = hits.User_session\n",
    "    \n",
    "\n",
    ");\n",
    "\n",
    "SELECT \n",
    "  * \n",
    "FROM \n",
    "  luke_cap_data.ML_features\n",
    "LIMIT 5;"
   ]
  },
  {
   "cell_type": "code",
   "execution_count": 220,
   "id": "f3ed9e7f-4979-46d4-889b-e5fcc4852916",
   "metadata": {
    "tags": []
   },
   "outputs": [
    {
     "data": {
      "application/vnd.jupyter.widget-view+json": {
       "model_id": "b9b16f1c469b4bee8668521e4ad3002b",
       "version_major": 2,
       "version_minor": 0
      },
      "text/plain": [
       "Query is running:   0%|          |"
      ]
     },
     "metadata": {},
     "output_type": "display_data"
    },
    {
     "data": {
      "application/vnd.jupyter.widget-view+json": {
       "model_id": "753080024b05485d9a4e5741b8ae8131",
       "version_major": 2,
       "version_minor": 0
      },
      "text/plain": [
       "Downloading:   0%|          |"
      ]
     },
     "metadata": {},
     "output_type": "display_data"
    }
   ],
   "source": [
    "%%bigquery df_ML_features --project $PROJECT_ID\n",
    "\n",
    "SELECT *\n",
    "FROM luke_cap_data.ML_features"
   ]
  },
  {
   "cell_type": "code",
   "execution_count": 221,
   "id": "4df01a54-5e3a-4834-864f-e0516816ba93",
   "metadata": {
    "tags": []
   },
   "outputs": [
    {
     "name": "stdout",
     "output_type": "stream",
     "text": [
      "pageviews : 99 Int64\n",
      "timeOnSite : 2169 Int64\n",
      "referralPath : 283 object\n",
      "source : 106 object\n",
      "medium : 6 object\n",
      "keyword : 388 object\n",
      "browser : 25 object\n",
      "operatingSystem : 14 object\n",
      "isMobile : 2 boolean\n",
      "deviceCategory : 3 object\n",
      "country : 178 object\n",
      "metro : 42 object\n",
      "city : 187 object\n",
      "networkDomain : 5128 object\n",
      "hitNumber : 278 Int64\n",
      "time : 164302 Int64\n",
      "hour : 24 Int64\n",
      "type : 2 object\n",
      "Target : 2 Int64\n"
     ]
    }
   ],
   "source": [
    "for col in df_ML_features.columns:\n",
    "    if col != \"User_session\":\n",
    "        print(col,\":\",df_ML_features[col].nunique(),df_ML_features[col].dtype)"
   ]
  },
  {
   "cell_type": "code",
   "execution_count": 222,
   "id": "d7ea59a4-9fe1-4d29-bcb7-7d5eefe76782",
   "metadata": {
    "tags": []
   },
   "outputs": [
    {
     "data": {
      "text/plain": [
       "(353307, 20)"
      ]
     },
     "execution_count": 222,
     "metadata": {},
     "output_type": "execute_result"
    }
   ],
   "source": [
    "df_ML_features.shape"
   ]
  },
  {
   "cell_type": "code",
   "execution_count": 218,
   "id": "181f99f2-cc0b-41d9-8854-1a0ad5ad1a1a",
   "metadata": {
    "tags": []
   },
   "outputs": [
    {
     "name": "stdout",
     "output_type": "stream",
     "text": [
      "(270285, 3)\n",
      "(62192, 7)\n",
      "(62192, 6)\n",
      "(62192, 5)\n",
      "(62192, 6)\n",
      "(270285, 5)\n",
      "(62192, 5)\n"
     ]
    }
   ],
   "source": [
    "print(df_target.shape)\n",
    "print(df_totals.shape)\n",
    "print(df_trafficSource.shape)\n",
    "print(df_device.shape)\n",
    "print(df_geo.shape)\n",
    "print(df_hits.shape)\n",
    "print(df_other.shape)"
   ]
  },
  {
   "cell_type": "code",
   "execution_count": 211,
   "id": "19b06534-30e1-4d7a-bc52-89f758b223a7",
   "metadata": {
    "tags": []
   },
   "outputs": [
    {
     "data": {
      "text/plain": [
       "332477"
      ]
     },
     "execution_count": 211,
     "metadata": {},
     "output_type": "execute_result"
    }
   ],
   "source": [
    "270285+62192"
   ]
  },
  {
   "cell_type": "code",
   "execution_count": 212,
   "id": "2e2cb31f-ae17-4668-8386-829aa3f3cd56",
   "metadata": {
    "tags": []
   },
   "outputs": [
    {
     "data": {
      "text/plain": [
       "(353307, 20)"
      ]
     },
     "execution_count": 212,
     "metadata": {},
     "output_type": "execute_result"
    }
   ],
   "source": [
    "df_ML_features.shape"
   ]
  },
  {
   "cell_type": "code",
   "execution_count": 224,
   "id": "5c6019a4-1d38-44be-881b-3069c4511cbd",
   "metadata": {
    "tags": []
   },
   "outputs": [
    {
     "data": {
      "text/plain": [
       "False    353307\n",
       "Name: count, dtype: int64"
      ]
     },
     "execution_count": 224,
     "metadata": {},
     "output_type": "execute_result"
    }
   ],
   "source": [
    "df_ML_features.duplicated().value_counts()"
   ]
  },
  {
   "cell_type": "code",
   "execution_count": 213,
   "id": "bf0b5fcc-94f9-4029-853f-0c2c60909e09",
   "metadata": {
    "tags": []
   },
   "outputs": [
    {
     "data": {
      "text/html": [
       "<div>\n",
       "<style scoped>\n",
       "    .dataframe tbody tr th:only-of-type {\n",
       "        vertical-align: middle;\n",
       "    }\n",
       "\n",
       "    .dataframe tbody tr th {\n",
       "        vertical-align: top;\n",
       "    }\n",
       "\n",
       "    .dataframe thead th {\n",
       "        text-align: right;\n",
       "    }\n",
       "</style>\n",
       "<table border=\"1\" class=\"dataframe\">\n",
       "  <thead>\n",
       "    <tr style=\"text-align: right;\">\n",
       "      <th></th>\n",
       "      <th>User_session</th>\n",
       "      <th>pageviews</th>\n",
       "      <th>timeOnSite</th>\n",
       "      <th>referralPath</th>\n",
       "      <th>source</th>\n",
       "      <th>medium</th>\n",
       "      <th>keyword</th>\n",
       "      <th>browser</th>\n",
       "      <th>operatingSystem</th>\n",
       "      <th>isMobile</th>\n",
       "      <th>deviceCategory</th>\n",
       "      <th>country</th>\n",
       "      <th>metro</th>\n",
       "      <th>city</th>\n",
       "      <th>networkDomain</th>\n",
       "      <th>hitNumber</th>\n",
       "      <th>time</th>\n",
       "      <th>hour</th>\n",
       "      <th>type</th>\n",
       "      <th>Target</th>\n",
       "    </tr>\n",
       "  </thead>\n",
       "  <tbody>\n",
       "    <tr>\n",
       "      <th>0</th>\n",
       "      <td>010388923969538829_1486586065</td>\n",
       "      <td>1</td>\n",
       "      <td>&lt;NA&gt;</td>\n",
       "      <td>None</td>\n",
       "      <td>(direct)</td>\n",
       "      <td>(none)</td>\n",
       "      <td>None</td>\n",
       "      <td>Safari</td>\n",
       "      <td>iOS</td>\n",
       "      <td>True</td>\n",
       "      <td>mobile</td>\n",
       "      <td>United States</td>\n",
       "      <td>Seattle-Tacoma WA</td>\n",
       "      <td>Seattle</td>\n",
       "      <td>att.net</td>\n",
       "      <td>1</td>\n",
       "      <td>0</td>\n",
       "      <td>12</td>\n",
       "      <td>PAGE</td>\n",
       "      <td>0</td>\n",
       "    </tr>\n",
       "    <tr>\n",
       "      <th>1</th>\n",
       "      <td>973267985661425945_1486549039</td>\n",
       "      <td>1</td>\n",
       "      <td>&lt;NA&gt;</td>\n",
       "      <td>None</td>\n",
       "      <td>(direct)</td>\n",
       "      <td>(none)</td>\n",
       "      <td>None</td>\n",
       "      <td>Safari</td>\n",
       "      <td>Macintosh</td>\n",
       "      <td>False</td>\n",
       "      <td>desktop</td>\n",
       "      <td>Russia</td>\n",
       "      <td>not available in demo dataset</td>\n",
       "      <td>not available in demo dataset</td>\n",
       "      <td>(not set)</td>\n",
       "      <td>1</td>\n",
       "      <td>0</td>\n",
       "      <td>2</td>\n",
       "      <td>PAGE</td>\n",
       "      <td>0</td>\n",
       "    </tr>\n",
       "    <tr>\n",
       "      <th>2</th>\n",
       "      <td>0652526355873879480_1486573261</td>\n",
       "      <td>1</td>\n",
       "      <td>&lt;NA&gt;</td>\n",
       "      <td>None</td>\n",
       "      <td>(direct)</td>\n",
       "      <td>(none)</td>\n",
       "      <td>None</td>\n",
       "      <td>Chrome</td>\n",
       "      <td>Macintosh</td>\n",
       "      <td>False</td>\n",
       "      <td>desktop</td>\n",
       "      <td>United States</td>\n",
       "      <td>not available in demo dataset</td>\n",
       "      <td>not available in demo dataset</td>\n",
       "      <td>unknown.unknown</td>\n",
       "      <td>1</td>\n",
       "      <td>0</td>\n",
       "      <td>9</td>\n",
       "      <td>PAGE</td>\n",
       "      <td>0</td>\n",
       "    </tr>\n",
       "    <tr>\n",
       "      <th>3</th>\n",
       "      <td>9625268878869160238_1486583531</td>\n",
       "      <td>1</td>\n",
       "      <td>&lt;NA&gt;</td>\n",
       "      <td>None</td>\n",
       "      <td>(direct)</td>\n",
       "      <td>(none)</td>\n",
       "      <td>None</td>\n",
       "      <td>Chrome</td>\n",
       "      <td>Windows</td>\n",
       "      <td>False</td>\n",
       "      <td>desktop</td>\n",
       "      <td>France</td>\n",
       "      <td>not available in demo dataset</td>\n",
       "      <td>not available in demo dataset</td>\n",
       "      <td>bbox.fr</td>\n",
       "      <td>1</td>\n",
       "      <td>0</td>\n",
       "      <td>11</td>\n",
       "      <td>PAGE</td>\n",
       "      <td>0</td>\n",
       "    </tr>\n",
       "    <tr>\n",
       "      <th>4</th>\n",
       "      <td>2810092680260685081_1486588469</td>\n",
       "      <td>1</td>\n",
       "      <td>&lt;NA&gt;</td>\n",
       "      <td>None</td>\n",
       "      <td>(direct)</td>\n",
       "      <td>(none)</td>\n",
       "      <td>None</td>\n",
       "      <td>Chrome</td>\n",
       "      <td>Android</td>\n",
       "      <td>True</td>\n",
       "      <td>tablet</td>\n",
       "      <td>Belgium</td>\n",
       "      <td>not available in demo dataset</td>\n",
       "      <td>not available in demo dataset</td>\n",
       "      <td>(not set)</td>\n",
       "      <td>1</td>\n",
       "      <td>0</td>\n",
       "      <td>13</td>\n",
       "      <td>PAGE</td>\n",
       "      <td>0</td>\n",
       "    </tr>\n",
       "  </tbody>\n",
       "</table>\n",
       "</div>"
      ],
      "text/plain": [
       "                     User_session  pageviews  timeOnSite referralPath  \\\n",
       "0   010388923969538829_1486586065          1        <NA>         None   \n",
       "1   973267985661425945_1486549039          1        <NA>         None   \n",
       "2  0652526355873879480_1486573261          1        <NA>         None   \n",
       "3  9625268878869160238_1486583531          1        <NA>         None   \n",
       "4  2810092680260685081_1486588469          1        <NA>         None   \n",
       "\n",
       "     source  medium keyword browser operatingSystem  isMobile deviceCategory  \\\n",
       "0  (direct)  (none)    None  Safari             iOS      True         mobile   \n",
       "1  (direct)  (none)    None  Safari       Macintosh     False        desktop   \n",
       "2  (direct)  (none)    None  Chrome       Macintosh     False        desktop   \n",
       "3  (direct)  (none)    None  Chrome         Windows     False        desktop   \n",
       "4  (direct)  (none)    None  Chrome         Android      True         tablet   \n",
       "\n",
       "         country                          metro  \\\n",
       "0  United States              Seattle-Tacoma WA   \n",
       "1         Russia  not available in demo dataset   \n",
       "2  United States  not available in demo dataset   \n",
       "3         France  not available in demo dataset   \n",
       "4        Belgium  not available in demo dataset   \n",
       "\n",
       "                            city    networkDomain  hitNumber  time  hour  \\\n",
       "0                        Seattle          att.net          1     0    12   \n",
       "1  not available in demo dataset        (not set)          1     0     2   \n",
       "2  not available in demo dataset  unknown.unknown          1     0     9   \n",
       "3  not available in demo dataset          bbox.fr          1     0    11   \n",
       "4  not available in demo dataset        (not set)          1     0    13   \n",
       "\n",
       "   type  Target  \n",
       "0  PAGE       0  \n",
       "1  PAGE       0  \n",
       "2  PAGE       0  \n",
       "3  PAGE       0  \n",
       "4  PAGE       0  "
      ]
     },
     "execution_count": 213,
     "metadata": {},
     "output_type": "execute_result"
    }
   ],
   "source": [
    "df_ML_features.head()"
   ]
  },
  {
   "cell_type": "code",
   "execution_count": 225,
   "id": "e3d5ddff-1386-4e8c-bca6-25dc7ba3627d",
   "metadata": {
    "tags": []
   },
   "outputs": [
    {
     "name": "stdout",
     "output_type": "stream",
     "text": [
      "['User_session', 'visits', 'hits', 'pageviews', 'timeOnSite', 'bounces', 'newVisits']\n",
      "['User_session', 'referralPath', 'source', 'medium', 'keyword', 'isTrueDirect']\n",
      "['User_session', 'browser', 'operatingSystem', 'isMobile', 'deviceCategory']\n",
      "['User_session', 'country', 'region', 'metro', 'city', 'networkDomain']\n",
      "['User_session', 'hitNumber', 'time', 'hour', 'type']\n",
      "['User_session', 'action_type', 'Target']\n"
     ]
    }
   ],
   "source": [
    "# Master Feature List (for now):\n",
    "print(totals_list)\n",
    "print(trafficSource_list)\n",
    "print(device_list)\n",
    "print(geo_list)\n",
    "print(hits_list)\n",
    "print(target_list)\n",
    "# ML_features = totals_list + trafficSource_list\n",
    "# print(ML_features)"
   ]
  },
  {
   "cell_type": "code",
   "execution_count": 250,
   "id": "c6459787-c4dd-4dd5-b739-8dc0d2ae9309",
   "metadata": {
    "tags": []
   },
   "outputs": [
    {
     "data": {
      "application/vnd.jupyter.widget-view+json": {
       "model_id": "12f49b57ee46411980fbf6658b718837",
       "version_major": 2,
       "version_minor": 0
      },
      "text/plain": [
       "Query is running:   0%|          |"
      ]
     },
     "metadata": {},
     "output_type": "display_data"
    },
    {
     "data": {
      "application/vnd.jupyter.widget-view+json": {
       "model_id": "a33a89232d994112be12ab1fb26104f0",
       "version_major": 2,
       "version_minor": 0
      },
      "text/plain": [
       "Downloading:   0%|          |"
      ]
     },
     "metadata": {},
     "output_type": "display_data"
    },
    {
     "data": {
      "text/html": [
       "<div>\n",
       "<style scoped>\n",
       "    .dataframe tbody tr th:only-of-type {\n",
       "        vertical-align: middle;\n",
       "    }\n",
       "\n",
       "    .dataframe tbody tr th {\n",
       "        vertical-align: top;\n",
       "    }\n",
       "\n",
       "    .dataframe thead th {\n",
       "        text-align: right;\n",
       "    }\n",
       "</style>\n",
       "<table border=\"1\" class=\"dataframe\">\n",
       "  <thead>\n",
       "    <tr style=\"text-align: right;\">\n",
       "      <th></th>\n",
       "      <th>User_session</th>\n",
       "      <th>Target</th>\n",
       "      <th>pageviews</th>\n",
       "      <th>timeOnSite</th>\n",
       "      <th>source</th>\n",
       "      <th>medium</th>\n",
       "      <th>browser</th>\n",
       "      <th>os</th>\n",
       "      <th>deviceType</th>\n",
       "      <th>country</th>\n",
       "      <th>region</th>\n",
       "      <th>metro</th>\n",
       "      <th>city</th>\n",
       "      <th>domain</th>\n",
       "      <th>hitNumber</th>\n",
       "      <th>time</th>\n",
       "      <th>hour</th>\n",
       "      <th>hitType</th>\n",
       "    </tr>\n",
       "  </thead>\n",
       "  <tbody>\n",
       "    <tr>\n",
       "      <th>0</th>\n",
       "      <td>157490598778988644114862007151</td>\n",
       "      <td>0</td>\n",
       "      <td>1</td>\n",
       "      <td>&lt;NA&gt;</td>\n",
       "      <td>(direct)</td>\n",
       "      <td>(none)</td>\n",
       "      <td>Chrome</td>\n",
       "      <td>iOS</td>\n",
       "      <td>mobile</td>\n",
       "      <td>United States</td>\n",
       "      <td>California</td>\n",
       "      <td>San Diego CA</td>\n",
       "      <td>San Diego</td>\n",
       "      <td>(not set)</td>\n",
       "      <td>1</td>\n",
       "      <td>0</td>\n",
       "      <td>1</td>\n",
       "      <td>PAGE</td>\n",
       "    </tr>\n",
       "    <tr>\n",
       "      <th>1</th>\n",
       "      <td>014891827690511687714862639251</td>\n",
       "      <td>0</td>\n",
       "      <td>1</td>\n",
       "      <td>&lt;NA&gt;</td>\n",
       "      <td>(direct)</td>\n",
       "      <td>(none)</td>\n",
       "      <td>Chrome</td>\n",
       "      <td>Windows</td>\n",
       "      <td>desktop</td>\n",
       "      <td>United States</td>\n",
       "      <td>Illinois</td>\n",
       "      <td>Chicago IL</td>\n",
       "      <td>Chicago</td>\n",
       "      <td>comcast.net</td>\n",
       "      <td>1</td>\n",
       "      <td>0</td>\n",
       "      <td>19</td>\n",
       "      <td>PAGE</td>\n",
       "    </tr>\n",
       "    <tr>\n",
       "      <th>2</th>\n",
       "      <td>28911885475056793114862289731</td>\n",
       "      <td>0</td>\n",
       "      <td>1</td>\n",
       "      <td>&lt;NA&gt;</td>\n",
       "      <td>(direct)</td>\n",
       "      <td>(none)</td>\n",
       "      <td>Safari</td>\n",
       "      <td>iOS</td>\n",
       "      <td>tablet</td>\n",
       "      <td>United States</td>\n",
       "      <td>New York</td>\n",
       "      <td>New York NY</td>\n",
       "      <td>New York</td>\n",
       "      <td>rr.com</td>\n",
       "      <td>1</td>\n",
       "      <td>0</td>\n",
       "      <td>9</td>\n",
       "      <td>PAGE</td>\n",
       "    </tr>\n",
       "    <tr>\n",
       "      <th>3</th>\n",
       "      <td>233683253100876142814861972151</td>\n",
       "      <td>0</td>\n",
       "      <td>1</td>\n",
       "      <td>&lt;NA&gt;</td>\n",
       "      <td>(direct)</td>\n",
       "      <td>(none)</td>\n",
       "      <td>Safari</td>\n",
       "      <td>Macintosh</td>\n",
       "      <td>desktop</td>\n",
       "      <td>United States</td>\n",
       "      <td>California</td>\n",
       "      <td>San Francisco-Oakland-San Jose CA</td>\n",
       "      <td>Redwood City</td>\n",
       "      <td>unknown.unknown</td>\n",
       "      <td>1</td>\n",
       "      <td>0</td>\n",
       "      <td>0</td>\n",
       "      <td>PAGE</td>\n",
       "    </tr>\n",
       "    <tr>\n",
       "      <th>4</th>\n",
       "      <td>227010627002644223514862746391</td>\n",
       "      <td>0</td>\n",
       "      <td>1</td>\n",
       "      <td>&lt;NA&gt;</td>\n",
       "      <td>(direct)</td>\n",
       "      <td>(none)</td>\n",
       "      <td>Chrome</td>\n",
       "      <td>Windows</td>\n",
       "      <td>desktop</td>\n",
       "      <td>Serbia</td>\n",
       "      <td>None</td>\n",
       "      <td>None</td>\n",
       "      <td>None</td>\n",
       "      <td>mediaworksit.net</td>\n",
       "      <td>1</td>\n",
       "      <td>0</td>\n",
       "      <td>22</td>\n",
       "      <td>PAGE</td>\n",
       "    </tr>\n",
       "  </tbody>\n",
       "</table>\n",
       "</div>"
      ],
      "text/plain": [
       "                     User_session  Target  pageviews  timeOnSite    source  \\\n",
       "0  157490598778988644114862007151       0          1        <NA>  (direct)   \n",
       "1  014891827690511687714862639251       0          1        <NA>  (direct)   \n",
       "2   28911885475056793114862289731       0          1        <NA>  (direct)   \n",
       "3  233683253100876142814861972151       0          1        <NA>  (direct)   \n",
       "4  227010627002644223514862746391       0          1        <NA>  (direct)   \n",
       "\n",
       "   medium browser         os deviceType        country      region  \\\n",
       "0  (none)  Chrome        iOS     mobile  United States  California   \n",
       "1  (none)  Chrome    Windows    desktop  United States    Illinois   \n",
       "2  (none)  Safari        iOS     tablet  United States    New York   \n",
       "3  (none)  Safari  Macintosh    desktop  United States  California   \n",
       "4  (none)  Chrome    Windows    desktop         Serbia        None   \n",
       "\n",
       "                               metro          city            domain  \\\n",
       "0                       San Diego CA     San Diego         (not set)   \n",
       "1                         Chicago IL       Chicago       comcast.net   \n",
       "2                        New York NY      New York            rr.com   \n",
       "3  San Francisco-Oakland-San Jose CA  Redwood City   unknown.unknown   \n",
       "4                               None          None  mediaworksit.net   \n",
       "\n",
       "   hitNumber  time  hour hitType  \n",
       "0          1     0     1    PAGE  \n",
       "1          1     0    19    PAGE  \n",
       "2          1     0     9    PAGE  \n",
       "3          1     0     0    PAGE  \n",
       "4          1     0    22    PAGE  "
      ]
     },
     "execution_count": 250,
     "metadata": {},
     "output_type": "execute_result"
    }
   ],
   "source": [
    "%%bigquery --project $PROJECT_ID\n",
    "\n",
    "CREATE OR REPLACE VIEW luke_cap_data.ML_final AS (\n",
    "  \n",
    " SELECT \n",
    "    DISTINCT(CONCAT(fullVisitorId,visitId,hits.hitNumber)) AS User_session,\n",
    "    if(hits.eCommerceAction.action_type = '3',1,0) AS Target,\n",
    "    CAST(totals.pageviews AS int) AS pageviews, \n",
    "    CAST(totals.timeOnSite AS int) AS timeOnSite, \n",
    "    # CAST(trafficSource.referralPath AS string) AS referralPath, \n",
    "    trafficSource.source AS source, \n",
    "    trafficSource.medium AS medium, \n",
    "    # IF(trafficSource.keyword=\"(not provided)\",NULL,trafficSource.keyword) AS keyword, \n",
    "    device.browser AS browser, \n",
    "    device.operatingSystem AS os, \n",
    "    # device.isMobile AS mobile, \n",
    "    device.deviceCategory AS deviceType,\n",
    "    geoNetwork.country AS country, \n",
    "    IF(geoNetwork.region='not available in demo dataset',NULL,geoNetwork.region) AS region, \n",
    "    IF(geoNetwork.metro='not available in demo dataset',NULL,geoNetwork.metro) AS metro, \n",
    "    IF(geoNetwork.city='not available in demo dataset',NULL,geoNetwork.city) AS city, \n",
    "    geoNetwork.networkDomain AS domain,\n",
    "    hits.hitNumber AS hitNumber, \n",
    "    hits.time AS time, \n",
    "    hits.hour AS hour, \n",
    "    hits.type AS hitType,\n",
    "\n",
    "FROM `bigquery-public-data.google_analytics_sample.ga_sessions_201702*`, \n",
    "UNNEST(hits) AS hits   \n",
    "\n",
    ");\n",
    "\n",
    "SELECT \n",
    "  * \n",
    "FROM \n",
    "  luke_cap_data.ML_final\n",
    "LIMIT 5;"
   ]
  },
  {
   "cell_type": "code",
   "execution_count": 251,
   "id": "36197d06-e3a0-42c7-9fcc-cb1b21740f70",
   "metadata": {
    "tags": []
   },
   "outputs": [
    {
     "data": {
      "application/vnd.jupyter.widget-view+json": {
       "model_id": "ef6c2cbdc7f04833b158c7d2e128b3ea",
       "version_major": 2,
       "version_minor": 0
      },
      "text/plain": [
       "Query is running:   0%|          |"
      ]
     },
     "metadata": {},
     "output_type": "display_data"
    },
    {
     "data": {
      "application/vnd.jupyter.widget-view+json": {
       "model_id": "d520716213f640eeb5800ebd87bdafc4",
       "version_major": 2,
       "version_minor": 0
      },
      "text/plain": [
       "Downloading:   0%|          |"
      ]
     },
     "metadata": {},
     "output_type": "display_data"
    }
   ],
   "source": [
    "%%bigquery df_ML_final --project $PROJECT_ID\n",
    "\n",
    "SELECT \n",
    "    DISTINCT(CONCAT(fullVisitorId,visitId,hits.hitNumber)) AS User_session,\n",
    "    if(hits.eCommerceAction.action_type = '3',1,0) AS Target,\n",
    "    CAST(totals.pageviews AS int) AS pageviews, \n",
    "    CAST(totals.timeOnSite AS int) AS timeOnSite, \n",
    "    # CAST(trafficSource.referralPath AS string) AS referralPath, \n",
    "    trafficSource.source AS source, \n",
    "    trafficSource.medium AS medium, \n",
    "    # IF(trafficSource.keyword=\"(not provided)\",NULL,trafficSource.keyword) AS keyword, \n",
    "    device.browser AS browser, \n",
    "    device.operatingSystem AS os, \n",
    "    # device.isMobile AS mobile, \n",
    "    device.deviceCategory AS deviceType,\n",
    "    geoNetwork.country AS country, \n",
    "    IF(geoNetwork.region='not available in demo dataset',NULL,geoNetwork.region) AS region, \n",
    "    IF(geoNetwork.metro='not available in demo dataset',NULL,geoNetwork.metro) AS metro, \n",
    "    IF(geoNetwork.city='not available in demo dataset',NULL,geoNetwork.city) AS city, \n",
    "    geoNetwork.networkDomain AS domain,\n",
    "    hits.hitNumber AS hitNumber, \n",
    "    hits.time AS time, \n",
    "    hits.hour AS hour, \n",
    "    hits.type AS hitType,\n",
    "\n",
    "FROM `bigquery-public-data.google_analytics_sample.ga_sessions_201702*`, \n",
    "UNNEST(hits) AS hits;"
   ]
  },
  {
   "cell_type": "code",
   "execution_count": 244,
   "id": "cd8233e3-7bc9-4562-8ec0-8ef04eef8ea2",
   "metadata": {
    "tags": []
   },
   "outputs": [
    {
     "data": {
      "text/plain": [
       "(270285, 19)"
      ]
     },
     "execution_count": 244,
     "metadata": {},
     "output_type": "execute_result"
    }
   ],
   "source": [
    "df_ML_final.shape"
   ]
  },
  {
   "cell_type": "code",
   "execution_count": 245,
   "id": "b7652469-c5b1-4ed0-8043-9cbe89463085",
   "metadata": {
    "tags": []
   },
   "outputs": [],
   "source": [
    "pd.set_option('display.max_columns', None)\n",
    "pd.set_option('display.max_rows', None)"
   ]
  },
  {
   "cell_type": "code",
   "execution_count": 239,
   "id": "e566a4ab-5e1e-4469-9d1d-aa7022cd16a2",
   "metadata": {
    "tags": []
   },
   "outputs": [
    {
     "data": {
      "text/html": [
       "<div>\n",
       "<style scoped>\n",
       "    .dataframe tbody tr th:only-of-type {\n",
       "        vertical-align: middle;\n",
       "    }\n",
       "\n",
       "    .dataframe tbody tr th {\n",
       "        vertical-align: top;\n",
       "    }\n",
       "\n",
       "    .dataframe thead th {\n",
       "        text-align: right;\n",
       "    }\n",
       "</style>\n",
       "<table border=\"1\" class=\"dataframe\">\n",
       "  <thead>\n",
       "    <tr style=\"text-align: right;\">\n",
       "      <th></th>\n",
       "      <th>User_session</th>\n",
       "      <th>action_type</th>\n",
       "      <th>Target</th>\n",
       "      <th>pageviews</th>\n",
       "      <th>timeOnSite</th>\n",
       "      <th>referralPath</th>\n",
       "      <th>source</th>\n",
       "      <th>medium</th>\n",
       "      <th>keyword</th>\n",
       "      <th>browser</th>\n",
       "      <th>os</th>\n",
       "      <th>deviceType</th>\n",
       "      <th>country</th>\n",
       "      <th>region</th>\n",
       "      <th>metro</th>\n",
       "      <th>city</th>\n",
       "      <th>domain</th>\n",
       "      <th>hitNumber</th>\n",
       "      <th>time</th>\n",
       "      <th>hour</th>\n",
       "      <th>hitType</th>\n",
       "    </tr>\n",
       "  </thead>\n",
       "  <tbody>\n",
       "    <tr>\n",
       "      <th>0</th>\n",
       "      <td>492240093037459274614879013392</td>\n",
       "      <td>0</td>\n",
       "      <td>0</td>\n",
       "      <td>16</td>\n",
       "      <td>395</td>\n",
       "      <td>None</td>\n",
       "      <td>google</td>\n",
       "      <td>organic</td>\n",
       "      <td>(not provided)</td>\n",
       "      <td>Safari</td>\n",
       "      <td>iOS</td>\n",
       "      <td>tablet</td>\n",
       "      <td>Canada</td>\n",
       "      <td>None</td>\n",
       "      <td>None</td>\n",
       "      <td>None</td>\n",
       "      <td>videotron.ca</td>\n",
       "      <td>2</td>\n",
       "      <td>12009</td>\n",
       "      <td>17</td>\n",
       "      <td>PAGE</td>\n",
       "    </tr>\n",
       "    <tr>\n",
       "      <th>1</th>\n",
       "      <td>492240093037459274614879013394</td>\n",
       "      <td>0</td>\n",
       "      <td>0</td>\n",
       "      <td>16</td>\n",
       "      <td>395</td>\n",
       "      <td>None</td>\n",
       "      <td>google</td>\n",
       "      <td>organic</td>\n",
       "      <td>(not provided)</td>\n",
       "      <td>Safari</td>\n",
       "      <td>iOS</td>\n",
       "      <td>tablet</td>\n",
       "      <td>Canada</td>\n",
       "      <td>None</td>\n",
       "      <td>None</td>\n",
       "      <td>None</td>\n",
       "      <td>videotron.ca</td>\n",
       "      <td>4</td>\n",
       "      <td>38157</td>\n",
       "      <td>17</td>\n",
       "      <td>PAGE</td>\n",
       "    </tr>\n",
       "    <tr>\n",
       "      <th>2</th>\n",
       "      <td>492240093037459274614879013395</td>\n",
       "      <td>0</td>\n",
       "      <td>0</td>\n",
       "      <td>16</td>\n",
       "      <td>395</td>\n",
       "      <td>None</td>\n",
       "      <td>google</td>\n",
       "      <td>organic</td>\n",
       "      <td>(not provided)</td>\n",
       "      <td>Safari</td>\n",
       "      <td>iOS</td>\n",
       "      <td>tablet</td>\n",
       "      <td>Canada</td>\n",
       "      <td>None</td>\n",
       "      <td>None</td>\n",
       "      <td>None</td>\n",
       "      <td>videotron.ca</td>\n",
       "      <td>5</td>\n",
       "      <td>47676</td>\n",
       "      <td>17</td>\n",
       "      <td>PAGE</td>\n",
       "    </tr>\n",
       "    <tr>\n",
       "      <th>3</th>\n",
       "      <td>492240093037459274614879013397</td>\n",
       "      <td>0</td>\n",
       "      <td>0</td>\n",
       "      <td>16</td>\n",
       "      <td>395</td>\n",
       "      <td>None</td>\n",
       "      <td>google</td>\n",
       "      <td>organic</td>\n",
       "      <td>(not provided)</td>\n",
       "      <td>Safari</td>\n",
       "      <td>iOS</td>\n",
       "      <td>tablet</td>\n",
       "      <td>Canada</td>\n",
       "      <td>None</td>\n",
       "      <td>None</td>\n",
       "      <td>None</td>\n",
       "      <td>videotron.ca</td>\n",
       "      <td>7</td>\n",
       "      <td>97176</td>\n",
       "      <td>17</td>\n",
       "      <td>PAGE</td>\n",
       "    </tr>\n",
       "    <tr>\n",
       "      <th>4</th>\n",
       "      <td>492240093037459274614879013399</td>\n",
       "      <td>2</td>\n",
       "      <td>0</td>\n",
       "      <td>16</td>\n",
       "      <td>395</td>\n",
       "      <td>None</td>\n",
       "      <td>google</td>\n",
       "      <td>organic</td>\n",
       "      <td>(not provided)</td>\n",
       "      <td>Safari</td>\n",
       "      <td>iOS</td>\n",
       "      <td>tablet</td>\n",
       "      <td>Canada</td>\n",
       "      <td>None</td>\n",
       "      <td>None</td>\n",
       "      <td>None</td>\n",
       "      <td>videotron.ca</td>\n",
       "      <td>9</td>\n",
       "      <td>112118</td>\n",
       "      <td>17</td>\n",
       "      <td>PAGE</td>\n",
       "    </tr>\n",
       "  </tbody>\n",
       "</table>\n",
       "</div>"
      ],
      "text/plain": [
       "                     User_session action_type  Target  pageviews  timeOnSite  \\\n",
       "0  492240093037459274614879013392           0       0         16         395   \n",
       "1  492240093037459274614879013394           0       0         16         395   \n",
       "2  492240093037459274614879013395           0       0         16         395   \n",
       "3  492240093037459274614879013397           0       0         16         395   \n",
       "4  492240093037459274614879013399           2       0         16         395   \n",
       "\n",
       "  referralPath  source   medium         keyword browser   os deviceType  \\\n",
       "0         None  google  organic  (not provided)  Safari  iOS     tablet   \n",
       "1         None  google  organic  (not provided)  Safari  iOS     tablet   \n",
       "2         None  google  organic  (not provided)  Safari  iOS     tablet   \n",
       "3         None  google  organic  (not provided)  Safari  iOS     tablet   \n",
       "4         None  google  organic  (not provided)  Safari  iOS     tablet   \n",
       "\n",
       "  country region metro  city        domain  hitNumber    time  hour hitType  \n",
       "0  Canada   None  None  None  videotron.ca          2   12009    17    PAGE  \n",
       "1  Canada   None  None  None  videotron.ca          4   38157    17    PAGE  \n",
       "2  Canada   None  None  None  videotron.ca          5   47676    17    PAGE  \n",
       "3  Canada   None  None  None  videotron.ca          7   97176    17    PAGE  \n",
       "4  Canada   None  None  None  videotron.ca          9  112118    17    PAGE  "
      ]
     },
     "execution_count": 239,
     "metadata": {},
     "output_type": "execute_result"
    }
   ],
   "source": [
    "df_ML_final.head()"
   ]
  },
  {
   "cell_type": "code",
   "execution_count": 246,
   "id": "4e20bfbf-177a-45bf-b115-1a7942b0e647",
   "metadata": {
    "tags": []
   },
   "outputs": [
    {
     "name": "stdout",
     "output_type": "stream",
     "text": [
      "<class 'pandas.core.frame.DataFrame'>\n",
      "RangeIndex: 270285 entries, 0 to 270284\n",
      "Data columns (total 19 columns):\n",
      " #   Column        Non-Null Count   Dtype \n",
      "---  ------        --------------   ----- \n",
      " 0   User_session  270285 non-null  object\n",
      " 1   action_type   270285 non-null  object\n",
      " 2   Target        270285 non-null  Int64 \n",
      " 3   pageviews     270274 non-null  Int64 \n",
      " 4   timeOnSite    238589 non-null  Int64 \n",
      " 5   source        270285 non-null  object\n",
      " 6   medium        270285 non-null  object\n",
      " 7   browser       270285 non-null  object\n",
      " 8   os            270285 non-null  object\n",
      " 9   deviceType    270285 non-null  object\n",
      " 10  country       270285 non-null  object\n",
      " 11  region        115810 non-null  object\n",
      " 12  metro         115810 non-null  object\n",
      " 13  city          115810 non-null  object\n",
      " 14  domain        270285 non-null  object\n",
      " 15  hitNumber     270285 non-null  Int64 \n",
      " 16  time          270285 non-null  Int64 \n",
      " 17  hour          270285 non-null  Int64 \n",
      " 18  hitType       270285 non-null  object\n",
      "dtypes: Int64(6), object(13)\n",
      "memory usage: 40.7+ MB\n"
     ]
    }
   ],
   "source": [
    "df_ML_final.info()"
   ]
  },
  {
   "cell_type": "code",
   "execution_count": 247,
   "id": "62823df6-ff1a-4fb5-aef6-c7a998a585b9",
   "metadata": {
    "tags": []
   },
   "outputs": [
    {
     "name": "stdout",
     "output_type": "stream",
     "text": [
      "action_type : 7 object\n",
      "Target : 2 Int64\n",
      "pageviews : 99 Int64\n",
      "timeOnSite : 2169 Int64\n",
      "source : 106 object\n",
      "medium : 6 object\n",
      "browser : 25 object\n",
      "os : 14 object\n",
      "deviceType : 3 object\n",
      "country : 178 object\n",
      "region : 125 object\n",
      "metro : 41 object\n",
      "city : 186 object\n",
      "domain : 5128 object\n",
      "hitNumber : 278 Int64\n",
      "time : 164302 Int64\n",
      "hour : 24 Int64\n",
      "hitType : 2 object\n"
     ]
    }
   ],
   "source": [
    "for col in df_ML_final.columns:\n",
    "    if col != \"User_session\":\n",
    "        print(col,\":\",df_ML_final[col].nunique(),df_ML_final[col].dtype)"
   ]
  },
  {
   "cell_type": "code",
   "execution_count": null,
   "id": "b602eec3-c3a3-4ea7-8a86-d0bcce7230c7",
   "metadata": {},
   "outputs": [],
   "source": [
    "# *** 2nd Model feature attempt ***"
   ]
  },
  {
   "cell_type": "code",
   "execution_count": null,
   "id": "941ecc5b-99d8-4249-b63d-fe3b19f22091",
   "metadata": {},
   "outputs": [],
   "source": [
    "%%bigquery df_ML_final --project $PROJECT_ID\n",
    "\n",
    "SELECT \n",
    "    DISTINCT(CONCAT(fullVisitorId,visitId,hits.hitNumber)) AS User_session,\n",
    "    if(hits.eCommerceAction.action_type = '3',1,0) AS Target,\n",
    "    CAST(totals.pageviews AS int) AS pageviews, \n",
    "    CAST(totals.timeOnSite AS int) AS timeOnSite, \n",
    "    # CAST(trafficSource.referralPath AS string) AS referralPath, \n",
    "    trafficSource.source AS source, \n",
    "    trafficSource.medium AS medium, \n",
    "    # IF(trafficSource.keyword=\"(not provided)\",NULL,trafficSource.keyword) AS keyword, \n",
    "    device.browser AS browser, \n",
    "    device.operatingSystem AS os, \n",
    "    # device.isMobile AS mobile, \n",
    "    device.deviceCategory AS deviceType,\n",
    "    geoNetwork.country AS country, \n",
    "    IF(geoNetwork.region='not available in demo dataset',NULL,geoNetwork.region) AS region, \n",
    "    IF(geoNetwork.metro='not available in demo dataset',NULL,geoNetwork.metro) AS metro, \n",
    "    IF(geoNetwork.city='not available in demo dataset',NULL,geoNetwork.city) AS city, \n",
    "    geoNetwork.networkDomain AS domain,\n",
    "    hits.hitNumber AS hitNumber, \n",
    "    hits.time AS time, \n",
    "    hits.hour AS hour, \n",
    "    hits.type AS hitType,\n",
    "\n",
    "FROM `bigquery-public-data.google_analytics_sample.ga_sessions_201702*`, \n",
    "UNNEST(hits) AS hits;"
   ]
  },
  {
   "cell_type": "code",
   "execution_count": null,
   "id": "d9174b94-b8a7-4451-82a8-f4b0cb39e16c",
   "metadata": {},
   "outputs": [],
   "source": [
    "%%bigquery df_Model2 --project $PROJECT_ID\n",
    "\n",
    "SELECT \n",
    "    DISTINCT(CONCAT(fullVisitorId,visitId,hits.hitNumber)) AS User_session,\n",
    "    if(hits.eCommerceAction.action_type = '3',1,0) AS Target,\n",
    "    CAST(totals.pageviews AS int) AS pageviews, \n",
    "    CAST(totals.timeOnSite AS int) AS timeOnSite, \n",
    "    # CAST(trafficSource.referralPath AS string) AS referralPath, \n",
    "    trafficSource.source AS source, \n",
    "    trafficSource.medium AS medium, \n",
    "    # IF(trafficSource.keyword=\"(not provided)\",NULL,trafficSource.keyword) AS keyword, \n",
    "    device.browser AS browser, \n",
    "    device.operatingSystem AS os, \n",
    "    # device.isMobile AS mobile, \n",
    "    device.deviceCategory AS deviceType,\n",
    "    geoNetwork.country AS country, \n",
    "    IF(geoNetwork.region='not available in demo dataset',NULL,geoNetwork.region) AS region, \n",
    "    IF(geoNetwork.metro='not available in demo dataset',NULL,geoNetwork.metro) AS metro, \n",
    "    IF(geoNetwork.city='not available in demo dataset',NULL,geoNetwork.city) AS city, \n",
    "    geoNetwork.networkDomain AS domain,\n",
    "    hits.hitNumber AS hitNumber, \n",
    "    hits.time AS time, \n",
    "    hits.hour AS hour, \n",
    "    hits.type AS hitType,\n",
    "\n",
    "FROM `bigquery-public-data.google_analytics_sample.ga_sessions_201702*`, \n",
    "UNNEST(hits) AS hits;"
   ]
  }
 ],
 "metadata": {
  "environment": {
   "kernel": "conda-root-py",
   "name": "workbench-notebooks.m115",
   "type": "gcloud",
   "uri": "gcr.io/deeplearning-platform-release/workbench-notebooks:m115"
  },
  "kernelspec": {
   "display_name": "Python 3 (ipykernel) (Local)",
   "language": "python",
   "name": "conda-root-py"
  },
  "language_info": {
   "codemirror_mode": {
    "name": "ipython",
    "version": 3
   },
   "file_extension": ".py",
   "mimetype": "text/x-python",
   "name": "python",
   "nbconvert_exporter": "python",
   "pygments_lexer": "ipython3",
   "version": "3.10.13"
  }
 },
 "nbformat": 4,
 "nbformat_minor": 5
}
